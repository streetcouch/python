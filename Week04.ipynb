{
 "cells": [
  {
   "cell_type": "code",
   "execution_count": 2,
   "metadata": {},
   "outputs": [],
   "source": [
    "import pandas as pd"
   ]
  },
  {
   "cell_type": "code",
   "execution_count": 3,
   "metadata": {},
   "outputs": [],
   "source": [
    "# load Burbank data\n",
    "burbank = pd.read_csv(\"burbank.csv\")"
   ]
  },
  {
   "cell_type": "code",
   "execution_count": 6,
   "metadata": {},
   "outputs": [
    {
     "data": {
      "text/html": [
       "<div>\n",
       "<style scoped>\n",
       "    .dataframe tbody tr th:only-of-type {\n",
       "        vertical-align: middle;\n",
       "    }\n",
       "\n",
       "    .dataframe tbody tr th {\n",
       "        vertical-align: top;\n",
       "    }\n",
       "\n",
       "    .dataframe thead th {\n",
       "        text-align: right;\n",
       "    }\n",
       "</style>\n",
       "<table border=\"1\" class=\"dataframe\">\n",
       "  <thead>\n",
       "    <tr style=\"text-align: right;\">\n",
       "      <th></th>\n",
       "      <th>ZIPcode</th>\n",
       "      <th>TaxRateArea_CITY</th>\n",
       "      <th>AIN</th>\n",
       "      <th>RollYear</th>\n",
       "      <th>TaxRateArea</th>\n",
       "      <th>AssessorID</th>\n",
       "      <th>PropertyLocation</th>\n",
       "      <th>PropertyType</th>\n",
       "      <th>PropertyUseCode</th>\n",
       "      <th>GeneralUseType</th>\n",
       "      <th>...</th>\n",
       "      <th>HouseFraction</th>\n",
       "      <th>StreetDirection</th>\n",
       "      <th>StreetName</th>\n",
       "      <th>UnitNo</th>\n",
       "      <th>City</th>\n",
       "      <th>ZIPcode5</th>\n",
       "      <th>rowID</th>\n",
       "      <th>CENTER_LAT</th>\n",
       "      <th>CENTER_LON</th>\n",
       "      <th>Location 1</th>\n",
       "    </tr>\n",
       "  </thead>\n",
       "  <tbody>\n",
       "    <tr>\n",
       "      <th>0</th>\n",
       "      <td>91501-1106</td>\n",
       "      <td>BURBANK</td>\n",
       "      <td>5608002004</td>\n",
       "      <td>2017</td>\n",
       "      <td>2530</td>\n",
       "      <td>5608-002-004</td>\n",
       "      <td>1856 AYERS WAY  BURBANK CA  91501</td>\n",
       "      <td>SFR</td>\n",
       "      <td>100</td>\n",
       "      <td>Residential</td>\n",
       "      <td>...</td>\n",
       "      <td></td>\n",
       "      <td></td>\n",
       "      <td>AYERS WAY</td>\n",
       "      <td></td>\n",
       "      <td>BURBANK CA</td>\n",
       "      <td>91501</td>\n",
       "      <td>2.017560e+13</td>\n",
       "      <td>34.195715</td>\n",
       "      <td>-118.290386</td>\n",
       "      <td>(34.19571532, -118.29038600)</td>\n",
       "    </tr>\n",
       "    <tr>\n",
       "      <th>1</th>\n",
       "      <td>91501-1106</td>\n",
       "      <td>BURBANK</td>\n",
       "      <td>5608002005</td>\n",
       "      <td>2017</td>\n",
       "      <td>2530</td>\n",
       "      <td>5608-002-005</td>\n",
       "      <td>1852 AYERS WAY  BURBANK CA  91501</td>\n",
       "      <td>SFR</td>\n",
       "      <td>100</td>\n",
       "      <td>Residential</td>\n",
       "      <td>...</td>\n",
       "      <td></td>\n",
       "      <td></td>\n",
       "      <td>AYERS WAY</td>\n",
       "      <td></td>\n",
       "      <td>BURBANK CA</td>\n",
       "      <td>91501</td>\n",
       "      <td>2.017560e+13</td>\n",
       "      <td>34.195649</td>\n",
       "      <td>-118.290577</td>\n",
       "      <td>(34.19564909, -118.29057703)</td>\n",
       "    </tr>\n",
       "    <tr>\n",
       "      <th>2</th>\n",
       "      <td>91501-1106</td>\n",
       "      <td>BURBANK</td>\n",
       "      <td>5608002006</td>\n",
       "      <td>2017</td>\n",
       "      <td>2530</td>\n",
       "      <td>5608-002-006</td>\n",
       "      <td>1848 AYERS WAY  BURBANK CA  91501</td>\n",
       "      <td>SFR</td>\n",
       "      <td>104</td>\n",
       "      <td>Residential</td>\n",
       "      <td>...</td>\n",
       "      <td></td>\n",
       "      <td></td>\n",
       "      <td>AYERS WAY</td>\n",
       "      <td></td>\n",
       "      <td>BURBANK CA</td>\n",
       "      <td>91501</td>\n",
       "      <td>2.017560e+13</td>\n",
       "      <td>34.195690</td>\n",
       "      <td>-118.290769</td>\n",
       "      <td>(34.19569006, -118.29076859)</td>\n",
       "    </tr>\n",
       "    <tr>\n",
       "      <th>3</th>\n",
       "      <td>91501-1106</td>\n",
       "      <td>BURBANK</td>\n",
       "      <td>5608002007</td>\n",
       "      <td>2017</td>\n",
       "      <td>2530</td>\n",
       "      <td>5608-002-007</td>\n",
       "      <td>1844 AYERS WAY  BURBANK CA  91501</td>\n",
       "      <td>SFR</td>\n",
       "      <td>100</td>\n",
       "      <td>Residential</td>\n",
       "      <td>...</td>\n",
       "      <td></td>\n",
       "      <td></td>\n",
       "      <td>AYERS WAY</td>\n",
       "      <td></td>\n",
       "      <td>BURBANK CA</td>\n",
       "      <td>91501</td>\n",
       "      <td>2.017560e+13</td>\n",
       "      <td>34.195873</td>\n",
       "      <td>-118.290842</td>\n",
       "      <td>(34.19587257, -118.29084221)</td>\n",
       "    </tr>\n",
       "    <tr>\n",
       "      <th>4</th>\n",
       "      <td>91501-1106</td>\n",
       "      <td>BURBANK</td>\n",
       "      <td>5608002008</td>\n",
       "      <td>2017</td>\n",
       "      <td>2530</td>\n",
       "      <td>5608-002-008</td>\n",
       "      <td>1840 AYERS WAY  BURBANK CA  91501</td>\n",
       "      <td>SFR</td>\n",
       "      <td>100</td>\n",
       "      <td>Residential</td>\n",
       "      <td>...</td>\n",
       "      <td></td>\n",
       "      <td></td>\n",
       "      <td>AYERS WAY</td>\n",
       "      <td></td>\n",
       "      <td>BURBANK CA</td>\n",
       "      <td>91501</td>\n",
       "      <td>2.017560e+13</td>\n",
       "      <td>34.195975</td>\n",
       "      <td>-118.290963</td>\n",
       "      <td>(34.19597518, -118.29096248)</td>\n",
       "    </tr>\n",
       "  </tbody>\n",
       "</table>\n",
       "<p>5 rows × 51 columns</p>\n",
       "</div>"
      ],
      "text/plain": [
       "      ZIPcode TaxRateArea_CITY         AIN  RollYear  TaxRateArea  \\\n",
       "0  91501-1106      BURBANK      5608002004      2017         2530   \n",
       "1  91501-1106      BURBANK      5608002005      2017         2530   \n",
       "2  91501-1106      BURBANK      5608002006      2017         2530   \n",
       "3  91501-1106      BURBANK      5608002007      2017         2530   \n",
       "4  91501-1106      BURBANK      5608002008      2017         2530   \n",
       "\n",
       "     AssessorID                   PropertyLocation PropertyType  \\\n",
       "0  5608-002-004  1856 AYERS WAY  BURBANK CA  91501          SFR   \n",
       "1  5608-002-005  1852 AYERS WAY  BURBANK CA  91501          SFR   \n",
       "2  5608-002-006  1848 AYERS WAY  BURBANK CA  91501          SFR   \n",
       "3  5608-002-007  1844 AYERS WAY  BURBANK CA  91501          SFR   \n",
       "4  5608-002-008  1840 AYERS WAY  BURBANK CA  91501          SFR   \n",
       "\n",
       "  PropertyUseCode GeneralUseType              ...              HouseFraction  \\\n",
       "0             100    Residential              ...                              \n",
       "1             100    Residential              ...                              \n",
       "2             104    Residential              ...                              \n",
       "3             100    Residential              ...                              \n",
       "4             100    Residential              ...                              \n",
       "\n",
       "  StreetDirection StreetName  UnitNo        City  ZIPcode5         rowID  \\\n",
       "0                  AYERS WAY          BURBANK CA     91501  2.017560e+13   \n",
       "1                  AYERS WAY          BURBANK CA     91501  2.017560e+13   \n",
       "2                  AYERS WAY          BURBANK CA     91501  2.017560e+13   \n",
       "3                  AYERS WAY          BURBANK CA     91501  2.017560e+13   \n",
       "4                  AYERS WAY          BURBANK CA     91501  2.017560e+13   \n",
       "\n",
       "   CENTER_LAT  CENTER_LON                    Location 1  \n",
       "0   34.195715 -118.290386  (34.19571532, -118.29038600)  \n",
       "1   34.195649 -118.290577  (34.19564909, -118.29057703)  \n",
       "2   34.195690 -118.290769  (34.19569006, -118.29076859)  \n",
       "3   34.195873 -118.290842  (34.19587257, -118.29084221)  \n",
       "4   34.195975 -118.290963  (34.19597518, -118.29096248)  \n",
       "\n",
       "[5 rows x 51 columns]"
      ]
     },
     "execution_count": 6,
     "metadata": {},
     "output_type": "execute_result"
    }
   ],
   "source": [
    "#print first four lines of data\n",
    "burbank.head()"
   ]
  },
  {
   "cell_type": "code",
   "execution_count": 10,
   "metadata": {},
   "outputs": [
    {
     "data": {
      "text/plain": [
       "(28072, 51)"
      ]
     },
     "execution_count": 10,
     "metadata": {},
     "output_type": "execute_result"
    }
   ],
   "source": [
    "# rows and columns\n",
    "burbank.shape"
   ]
  },
  {
   "cell_type": "markdown",
   "metadata": {},
   "source": [
    "# This is a headline"
   ]
  },
  {
   "cell_type": "markdown",
   "metadata": {},
   "source": [
    "This is a paragraph"
   ]
  },
  {
   "cell_type": "markdown",
   "metadata": {},
   "source": [
    "## This is a smaller subhead -- this and the above were done was Markdown"
   ]
  },
  {
   "cell_type": "markdown",
   "metadata": {},
   "source": [
    "### Even smaller, with three hashmarks"
   ]
  },
  {
   "cell_type": "markdown",
   "metadata": {},
   "source": [
    "###### how about six hashmarks, motherfucker?"
   ]
  },
  {
   "cell_type": "markdown",
   "metadata": {},
   "source": [
    "** Bold is two asterisks **"
   ]
  },
  {
   "cell_type": "markdown",
   "metadata": {},
   "source": [
    "![people dancing](http://keithplocek.com/img/biopic.jpg)"
   ]
  },
  {
   "cell_type": "markdown",
   "metadata": {},
   "source": [
    "This is a [link](http://keithplocek.com/bio.html)"
   ]
  },
  {
   "cell_type": "code",
   "execution_count": null,
   "metadata": {},
   "outputs": [],
   "source": []
  }
 ],
 "metadata": {
  "kernelspec": {
   "display_name": "Python 2",
   "language": "python",
   "name": "python2"
  },
  "language_info": {
   "codemirror_mode": {
    "name": "ipython",
    "version": 2
   },
   "file_extension": ".py",
   "mimetype": "text/x-python",
   "name": "python",
   "nbconvert_exporter": "python",
   "pygments_lexer": "ipython2",
   "version": "2.7.10"
  }
 },
 "nbformat": 4,
 "nbformat_minor": 2
}
