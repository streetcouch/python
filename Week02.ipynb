{
 "cells": [
  {
   "cell_type": "markdown",
   "metadata": {},
   "source": [
    "storing strings in cells"
   ]
  },
  {
   "cell_type": "code",
   "execution_count": 2,
   "metadata": {},
   "outputs": [],
   "source": [
    "name = \"Keith Plocek\""
   ]
  },
  {
   "cell_type": "code",
   "execution_count": 3,
   "metadata": {},
   "outputs": [],
   "source": [
    "age = 41"
   ]
  },
  {
   "cell_type": "code",
   "execution_count": 4,
   "metadata": {},
   "outputs": [
    {
     "name": "stdout",
     "output_type": "stream",
     "text": [
      "Keith Plocek\n"
     ]
    }
   ],
   "source": [
    "print name"
   ]
  },
  {
   "cell_type": "code",
   "execution_count": 5,
   "metadata": {},
   "outputs": [
    {
     "name": "stdout",
     "output_type": "stream",
     "text": [
      "41\n"
     ]
    }
   ],
   "source": [
    "print age"
   ]
  },
  {
   "cell_type": "code",
   "execution_count": 6,
   "metadata": {},
   "outputs": [
    {
     "name": "stdout",
     "output_type": "stream",
     "text": [
      "Keith Plocek41\n"
     ]
    }
   ],
   "source": [
    "print name + str(age)"
   ]
  },
  {
   "cell_type": "code",
   "execution_count": 7,
   "metadata": {},
   "outputs": [],
   "source": [
    "letter1 = \"H\"\n",
    "letter2 = \"E\"\n",
    "letter3 = \"L\"\n",
    "letter4 = \"L\"\n",
    "letter5 = \"O\""
   ]
  },
  {
   "cell_type": "code",
   "execution_count": 8,
   "metadata": {},
   "outputs": [
    {
     "name": "stdout",
     "output_type": "stream",
     "text": [
      "E\n"
     ]
    }
   ],
   "source": [
    "print letter2"
   ]
  },
  {
   "cell_type": "code",
   "execution_count": 9,
   "metadata": {},
   "outputs": [
    {
     "name": "stdout",
     "output_type": "stream",
     "text": [
      "HELLO\n"
     ]
    }
   ],
   "source": [
    "print letter1 + letter2 + letter3 + letter4 + letter5"
   ]
  },
  {
   "cell_type": "code",
   "execution_count": 10,
   "metadata": {},
   "outputs": [
    {
     "name": "stdout",
     "output_type": "stream",
     "text": [
      "Go to HELL\n"
     ]
    }
   ],
   "source": [
    "print \"Go to \" + letter1 + letter2 + letter3 + letter4"
   ]
  },
  {
   "cell_type": "code",
   "execution_count": 11,
   "metadata": {},
   "outputs": [],
   "source": [
    "gas = 3.90\n",
    "truck = 14"
   ]
  },
  {
   "cell_type": "code",
   "execution_count": 12,
   "metadata": {},
   "outputs": [
    {
     "name": "stdout",
     "output_type": "stream",
     "text": [
      "3.9\n"
     ]
    }
   ],
   "source": [
    "print gas"
   ]
  },
  {
   "cell_type": "code",
   "execution_count": 13,
   "metadata": {},
   "outputs": [
    {
     "name": "stdout",
     "output_type": "stream",
     "text": [
      "14\n"
     ]
    }
   ],
   "source": [
    "print truck"
   ]
  },
  {
   "cell_type": "code",
   "execution_count": 14,
   "metadata": {},
   "outputs": [
    {
     "data": {
      "text/plain": [
       "0"
      ]
     },
     "execution_count": 14,
     "metadata": {},
     "output_type": "execute_result"
    }
   ],
   "source": [
    "3/5"
   ]
  },
  {
   "cell_type": "code",
   "execution_count": 15,
   "metadata": {},
   "outputs": [
    {
     "data": {
      "text/plain": [
       "0.6"
      ]
     },
     "execution_count": 15,
     "metadata": {},
     "output_type": "execute_result"
    }
   ],
   "source": [
    "3.0 / 5.0"
   ]
  },
  {
   "cell_type": "code",
   "execution_count": 16,
   "metadata": {},
   "outputs": [
    {
     "data": {
      "text/plain": [
       "0.6666666666666666"
      ]
     },
     "execution_count": 16,
     "metadata": {},
     "output_type": "execute_result"
    }
   ],
   "source": [
    "2.0 / 3.0"
   ]
  },
  {
   "cell_type": "code",
   "execution_count": 17,
   "metadata": {},
   "outputs": [],
   "source": [
    "colors = [\"red\", \"blue\", \"green\", \"yellow\", \"pink\", \"purple\", \"blanchedalmond\"]"
   ]
  },
  {
   "cell_type": "code",
   "execution_count": 18,
   "metadata": {},
   "outputs": [
    {
     "name": "stdout",
     "output_type": "stream",
     "text": [
      "blanchedalmond\n"
     ]
    }
   ],
   "source": [
    "print colors[-1]"
   ]
  },
  {
   "cell_type": "code",
   "execution_count": 20,
   "metadata": {},
   "outputs": [
    {
     "data": {
      "text/plain": [
       "7"
      ]
     },
     "execution_count": 20,
     "metadata": {},
     "output_type": "execute_result"
    }
   ],
   "source": [
    "len(colors)"
   ]
  },
  {
   "cell_type": "code",
   "execution_count": 21,
   "metadata": {},
   "outputs": [
    {
     "name": "stdout",
     "output_type": "stream",
     "text": [
      "blanchedalmond\n"
     ]
    }
   ],
   "source": [
    "print colors[6]"
   ]
  },
  {
   "cell_type": "code",
   "execution_count": 26,
   "metadata": {},
   "outputs": [],
   "source": [
    "cars = {\"ford\":\"f150\",\"volkswagon\":\"golf\",\"audi\":\"q2\",\"mercedes\":\"smart\",\"bmw\":\"328i\",\"toyota\":\"prius\"}"
   ]
  },
  {
   "cell_type": "code",
   "execution_count": 27,
   "metadata": {},
   "outputs": [
    {
     "name": "stdout",
     "output_type": "stream",
     "text": [
      "{'toyota': 'prius', 'ford': 'f150', 'bmw': '328i', 'mercedes': 'smart', 'volkswagon': 'golf', 'audi': 'q2'}\n"
     ]
    }
   ],
   "source": [
    "print cars"
   ]
  },
  {
   "cell_type": "code",
   "execution_count": 28,
   "metadata": {},
   "outputs": [
    {
     "name": "stdout",
     "output_type": "stream",
     "text": [
      "f150\n"
     ]
    }
   ],
   "source": [
    "print cars[\"ford\"]"
   ]
  },
  {
   "cell_type": "markdown",
   "metadata": {},
   "source": [
    "Loops"
   ]
  },
  {
   "cell_type": "code",
   "execution_count": 31,
   "metadata": {},
   "outputs": [
    {
     "name": "stdout",
     "output_type": "stream",
     "text": [
      "red\n",
      "blue\n",
      "green\n",
      "yellow\n",
      "pink\n",
      "purple\n",
      "blanchedalmond\n"
     ]
    }
   ],
   "source": [
    "# let's loop through the colors\n",
    "for item in colors: \n",
    "    print item"
   ]
  },
  {
   "cell_type": "code",
   "execution_count": 32,
   "metadata": {},
   "outputs": [
    {
     "name": "stdout",
     "output_type": "stream",
     "text": [
      "blue\n",
      "green\n",
      "yellow\n",
      "pink\n",
      "purple\n",
      "blanchedalmond\n"
     ]
    }
   ],
   "source": [
    "#start after first item\n",
    "for color in colors[1:]:\n",
    "    print color"
   ]
  },
  {
   "cell_type": "code",
   "execution_count": 34,
   "metadata": {},
   "outputs": [],
   "source": [
    "building = \"annenberg\""
   ]
  },
  {
   "cell_type": "code",
   "execution_count": 35,
   "metadata": {},
   "outputs": [
    {
     "data": {
      "text/plain": [
       "'a'"
      ]
     },
     "execution_count": 35,
     "metadata": {},
     "output_type": "execute_result"
    }
   ],
   "source": [
    "building[0]"
   ]
  },
  {
   "cell_type": "code",
   "execution_count": 36,
   "metadata": {},
   "outputs": [
    {
     "data": {
      "text/plain": [
       "'b'"
      ]
     },
     "execution_count": 36,
     "metadata": {},
     "output_type": "execute_result"
    }
   ],
   "source": [
    "building[5]"
   ]
  },
  {
   "cell_type": "code",
   "execution_count": 37,
   "metadata": {},
   "outputs": [
    {
     "data": {
      "text/plain": [
       "'annen'"
      ]
     },
     "execution_count": 37,
     "metadata": {},
     "output_type": "execute_result"
    }
   ],
   "source": [
    "building[:5]"
   ]
  },
  {
   "cell_type": "code",
   "execution_count": 38,
   "metadata": {},
   "outputs": [
    {
     "data": {
      "text/plain": [
       "'berg'"
      ]
     },
     "execution_count": 38,
     "metadata": {},
     "output_type": "execute_result"
    }
   ],
   "source": [
    "building[5:]"
   ]
  },
  {
   "cell_type": "code",
   "execution_count": 39,
   "metadata": {},
   "outputs": [
    {
     "name": "stdout",
     "output_type": "stream",
     "text": [
      "a\n",
      "n\n",
      "n\n",
      "e\n",
      "n\n",
      "b\n",
      "e\n",
      "r\n",
      "g\n"
     ]
    }
   ],
   "source": [
    "for letter in building:\n",
    "    print letter"
   ]
  },
  {
   "cell_type": "code",
   "execution_count": 40,
   "metadata": {},
   "outputs": [
    {
     "name": "stdout",
     "output_type": "stream",
     "text": [
      "{'toyota': 'prius', 'ford': 'f150', 'bmw': '328i', 'mercedes': 'smart', 'volkswagon': 'golf', 'audi': 'q2'}\n"
     ]
    }
   ],
   "source": [
    "print cars"
   ]
  },
  {
   "cell_type": "code",
   "execution_count": 41,
   "metadata": {},
   "outputs": [
    {
     "name": "stdout",
     "output_type": "stream",
     "text": [
      "toyota\n",
      "ford\n",
      "bmw\n",
      "mercedes\n",
      "volkswagon\n",
      "audi\n"
     ]
    }
   ],
   "source": [
    "for car in cars:\n",
    "    print car"
   ]
  },
  {
   "cell_type": "code",
   "execution_count": 42,
   "metadata": {},
   "outputs": [
    {
     "name": "stdout",
     "output_type": "stream",
     "text": [
      "toyota prius\n",
      "ford f150\n",
      "bmw 328i\n",
      "mercedes smart\n",
      "volkswagon golf\n",
      "audi q2\n"
     ]
    }
   ],
   "source": [
    "for car in cars:\n",
    "    print car + \" \" + cars[car]"
   ]
  },
  {
   "cell_type": "code",
   "execution_count": 43,
   "metadata": {},
   "outputs": [
    {
     "name": "stdout",
     "output_type": "stream",
     "text": [
      "prius\n",
      "f150\n",
      "328i\n",
      "smart\n",
      "golf\n",
      "q2\n"
     ]
    }
   ],
   "source": [
    "for car in cars:\n",
    "    print cars[car]"
   ]
  },
  {
   "cell_type": "code",
   "execution_count": 46,
   "metadata": {},
   "outputs": [
    {
     "name": "stdout",
     "output_type": "stream",
     "text": [
      "red\n",
      "blue\n",
      "green\n",
      "yellow\n",
      "pink\n",
      "purple\n"
     ]
    }
   ],
   "source": [
    "# loop through colors and print everything that is not blanchedalmond\n",
    "for color in colors:\n",
    "    if color is not \"blanchedalmond\":\n",
    "        print color"
   ]
  },
  {
   "cell_type": "code",
   "execution_count": 45,
   "metadata": {},
   "outputs": [
    {
     "name": "stdout",
     "output_type": "stream",
     "text": [
      "volkswagon\n"
     ]
    }
   ],
   "source": [
    "for car in cars:\n",
    "    if cars[car] is \"golf\":\n",
    "        print car"
   ]
  },
  {
   "cell_type": "code",
   "execution_count": 47,
   "metadata": {},
   "outputs": [
    {
     "data": {
      "text/plain": [
       "8"
      ]
     },
     "execution_count": 47,
     "metadata": {},
     "output_type": "execute_result"
    }
   ],
   "source": [
    "5 + 3"
   ]
  },
  {
   "cell_type": "code",
   "execution_count": 48,
   "metadata": {},
   "outputs": [
    {
     "data": {
      "text/plain": [
       "2"
      ]
     },
     "execution_count": 48,
     "metadata": {},
     "output_type": "execute_result"
    }
   ],
   "source": [
    "4 - 2 "
   ]
  },
  {
   "cell_type": "code",
   "execution_count": 49,
   "metadata": {},
   "outputs": [
    {
     "data": {
      "text/plain": [
       "4"
      ]
     },
     "execution_count": 49,
     "metadata": {},
     "output_type": "execute_result"
    }
   ],
   "source": [
    "8/2"
   ]
  },
  {
   "cell_type": "code",
   "execution_count": 50,
   "metadata": {},
   "outputs": [
    {
     "data": {
      "text/plain": [
       "24"
      ]
     },
     "execution_count": 50,
     "metadata": {},
     "output_type": "execute_result"
    }
   ],
   "source": [
    "4*6"
   ]
  },
  {
   "cell_type": "code",
   "execution_count": 52,
   "metadata": {},
   "outputs": [
    {
     "data": {
      "text/plain": [
       "1"
      ]
     },
     "execution_count": 52,
     "metadata": {},
     "output_type": "execute_result"
    }
   ],
   "source": [
    "# modulo is the remainder\n",
    "5 % 2"
   ]
  },
  {
   "cell_type": "code",
   "execution_count": 53,
   "metadata": {},
   "outputs": [
    {
     "data": {
      "text/plain": [
       "2"
      ]
     },
     "execution_count": 53,
     "metadata": {},
     "output_type": "execute_result"
    }
   ],
   "source": [
    "8 % 3"
   ]
  },
  {
   "cell_type": "code",
   "execution_count": 54,
   "metadata": {},
   "outputs": [
    {
     "data": {
      "text/plain": [
       "0"
      ]
     },
     "execution_count": 54,
     "metadata": {},
     "output_type": "execute_result"
    }
   ],
   "source": [
    "100 % 1"
   ]
  },
  {
   "cell_type": "code",
   "execution_count": 55,
   "metadata": {},
   "outputs": [
    {
     "data": {
      "text/plain": [
       "True"
      ]
     },
     "execution_count": 55,
     "metadata": {},
     "output_type": "execute_result"
    }
   ],
   "source": [
    "8 > 2"
   ]
  },
  {
   "cell_type": "code",
   "execution_count": 56,
   "metadata": {},
   "outputs": [
    {
     "data": {
      "text/plain": [
       "False"
      ]
     },
     "execution_count": 56,
     "metadata": {},
     "output_type": "execute_result"
    }
   ],
   "source": [
    "8 > 10"
   ]
  },
  {
   "cell_type": "code",
   "execution_count": 57,
   "metadata": {},
   "outputs": [
    {
     "data": {
      "text/plain": [
       "True"
      ]
     },
     "execution_count": 57,
     "metadata": {},
     "output_type": "execute_result"
    }
   ],
   "source": [
    "truck >= 14"
   ]
  },
  {
   "cell_type": "code",
   "execution_count": 58,
   "metadata": {},
   "outputs": [
    {
     "name": "stdout",
     "output_type": "stream",
     "text": [
      "14\n"
     ]
    }
   ],
   "source": [
    "print truck"
   ]
  },
  {
   "cell_type": "code",
   "execution_count": 61,
   "metadata": {},
   "outputs": [
    {
     "name": "stdout",
     "output_type": "stream",
     "text": [
      "Jon said, \"Hello.\"\n"
     ]
    }
   ],
   "source": [
    "sentence = \"Jon said, \\\"Hello.\\\"\"\n",
    "print sentence"
   ]
  },
  {
   "cell_type": "code",
   "execution_count": 62,
   "metadata": {},
   "outputs": [
    {
     "name": "stdout",
     "output_type": "stream",
     "text": [
      "Keith said, \"Howdy.\"\n"
     ]
    }
   ],
   "source": [
    "sentence2 = 'Keith said, \"Howdy.\"'\n",
    "print sentence2"
   ]
  },
  {
   "cell_type": "code",
   "execution_count": 65,
   "metadata": {},
   "outputs": [
    {
     "name": "stdout",
     "output_type": "stream",
     "text": [
      "Jon said, \"Danielle said, 'Can we do single quotes?'\"\n"
     ]
    }
   ],
   "source": [
    "sentence3 = \"Jon said, \\\"Danielle said, 'Can we do single quotes?'\\\"\"\n",
    "print sentence3"
   ]
  },
  {
   "cell_type": "code",
   "execution_count": 67,
   "metadata": {},
   "outputs": [
    {
     "name": "stdout",
     "output_type": "stream",
     "text": [
      "\n",
      "This is a line.\n",
      "This is another line.\n",
      "And even one more line.\n",
      "\n"
     ]
    }
   ],
   "source": [
    "sentence4 = \"\"\"\n",
    "This is a line.\n",
    "This is another line.\n",
    "And even one more line.\n",
    "\"\"\"\n",
    "print sentence4"
   ]
  },
  {
   "cell_type": "code",
   "execution_count": 69,
   "metadata": {},
   "outputs": [],
   "source": [
    "# create a text file\n",
    "f = open(\"week2test.txt\",\"w\")"
   ]
  },
  {
   "cell_type": "code",
   "execution_count": 70,
   "metadata": {},
   "outputs": [],
   "source": [
    "f.write(sentence4)"
   ]
  },
  {
   "cell_type": "code",
   "execution_count": 71,
   "metadata": {},
   "outputs": [],
   "source": [
    "# close the file\n",
    "f.close()"
   ]
  },
  {
   "cell_type": "code",
   "execution_count": 72,
   "metadata": {},
   "outputs": [],
   "source": [
    "# if you open a file with a w, you will overwrite everything the minute you do that"
   ]
  },
  {
   "cell_type": "code",
   "execution_count": 74,
   "metadata": {},
   "outputs": [],
   "source": [
    "# open the file for reading\n",
    "f = open(\"week2test.txt\",\"r\")"
   ]
  },
  {
   "cell_type": "code",
   "execution_count": 75,
   "metadata": {},
   "outputs": [
    {
     "data": {
      "text/plain": [
       "'\\nThis is a line.\\nThis is another line.\\nAnd even one more line.\\n'"
      ]
     },
     "execution_count": 75,
     "metadata": {},
     "output_type": "execute_result"
    }
   ],
   "source": [
    "f.read()"
   ]
  },
  {
   "cell_type": "code",
   "execution_count": 76,
   "metadata": {},
   "outputs": [
    {
     "data": {
      "text/plain": [
       "[]"
      ]
     },
     "execution_count": 76,
     "metadata": {},
     "output_type": "execute_result"
    }
   ],
   "source": [
    "f.readlines()"
   ]
  },
  {
   "cell_type": "code",
   "execution_count": 77,
   "metadata": {},
   "outputs": [],
   "source": [
    "f.close()"
   ]
  },
  {
   "cell_type": "code",
   "execution_count": 78,
   "metadata": {},
   "outputs": [],
   "source": [
    "f = open(\"week2test.txt\",\"r\")"
   ]
  },
  {
   "cell_type": "code",
   "execution_count": 79,
   "metadata": {},
   "outputs": [
    {
     "data": {
      "text/plain": [
       "['\\n',\n",
       " 'This is a line.\\n',\n",
       " 'This is another line.\\n',\n",
       " 'And even one more line.\\n']"
      ]
     },
     "execution_count": 79,
     "metadata": {},
     "output_type": "execute_result"
    }
   ],
   "source": [
    "f.readlines()"
   ]
  },
  {
   "cell_type": "code",
   "execution_count": 80,
   "metadata": {},
   "outputs": [],
   "source": [
    "f.close()"
   ]
  },
  {
   "cell_type": "code",
   "execution_count": 81,
   "metadata": {},
   "outputs": [],
   "source": [
    "f = open(\"week2test.txt\", \"a\")"
   ]
  },
  {
   "cell_type": "code",
   "execution_count": 82,
   "metadata": {},
   "outputs": [],
   "source": [
    "f.write(\"I just added this line!\")"
   ]
  },
  {
   "cell_type": "code",
   "execution_count": 83,
   "metadata": {},
   "outputs": [],
   "source": [
    "f.close()"
   ]
  },
  {
   "cell_type": "code",
   "execution_count": 85,
   "metadata": {},
   "outputs": [],
   "source": [
    "# \\n is a line break, while \\t is a tab\n",
    "fruits = \"\"\"\n",
    "red\n",
    "\\t*strawberry\n",
    "\\t*cherry\n",
    "\\t*apple\n",
    "\\t*raspberry\n",
    "\"\"\"\n"
   ]
  },
  {
   "cell_type": "code",
   "execution_count": 86,
   "metadata": {},
   "outputs": [
    {
     "name": "stdout",
     "output_type": "stream",
     "text": [
      "\n",
      "red\n",
      "\t*strawberry\n",
      "\t*cherry\n",
      "\t*apple\n",
      "\t*raspberry\n",
      "\n"
     ]
    }
   ],
   "source": [
    "print fruits"
   ]
  },
  {
   "cell_type": "code",
   "execution_count": 90,
   "metadata": {},
   "outputs": [],
   "source": [
    "f = open(\"week2test.txt\", \"a\")"
   ]
  },
  {
   "cell_type": "code",
   "execution_count": 91,
   "metadata": {},
   "outputs": [],
   "source": [
    "f.write(fruits)"
   ]
  },
  {
   "cell_type": "code",
   "execution_count": 92,
   "metadata": {},
   "outputs": [],
   "source": [
    "f.close()"
   ]
  },
  {
   "cell_type": "code",
   "execution_count": 93,
   "metadata": {},
   "outputs": [],
   "source": [
    "import csv"
   ]
  },
  {
   "cell_type": "code",
   "execution_count": 95,
   "metadata": {},
   "outputs": [
    {
     "name": "stdout",
     "output_type": "stream",
     "text": [
      "['AssessorID', 'RecDate', 'transferType', 'isCurrOwner', 'OwnerName', 'OwnerOverflow', 'SecondOwner', 'SpecialName', 'SitusHouseNo', 'SitusFraction', 'SitusDirection', 'SitusStreet', 'SitusUnit', 'SitusCity', 'SitusZIP', 'MailHouseNo', 'MailFraction', 'MailDirection', 'MailStreet', 'MailUnit', 'MailCity', 'MailZIP']\n",
      "['4249-001-905', '19640102-50', 'other', 'Y', 'REGENTS OF THE UNIVERSITY', 'OF CALIF', '', '', '3302', '', '', 'SAWTELLE BLVD', '', 'LOS ANGELES CA', '90066-1603', '1111', '', '', 'FRANKLIN ST', '6TH  FLR', 'OAKLAND CA', '94607-5201']\n",
      "['4250-027-901', '19650414-50', 'other', 'Y', 'REGENTS OF THE UNIVERSITY', 'OF CALIF', '', '', '3102', '', '', 'SAWTELLE BLVD', '', 'LOS ANGELES CA', '90066-1412', '1111', '', '', 'FRANKLIN ST', '6TH  FLR', 'OAKLAND CA', '94607-5201']\n",
      "['4250-028-901', '19640102-50', 'other', 'Y', 'REGENTS OF THE UNIVERSITY', 'OF CALIF', '', '', '3148', '', '', 'SAWTELLE BLVD', '', 'LOS ANGELES CA', '90066-1412', '1111', '', '', 'FRANKLIN ST', '6TH  FLR', 'OAKLAND CA', '94607-5201']\n",
      "['4250-029-901', '19640102-50', 'other', 'Y', 'REGENTS OF THE UNIVERSITY', 'OF CALIF', '', '', '3240', '', '', 'SAWTELLE BLVD', '', 'LOS ANGELES CA', '90066-1665', '1111', '', '', 'FRANKLIN ST', '6TH  FLR', 'OAKLAND CA', '94607-5201']\n",
      "['4251-014-904', '19650414-50', 'other', 'Y', 'REGENTS OF THE UNIVERSITY', 'OF CALIF', '', '', '0', '', '', '', '', '', '', '1111', '', '', 'FRANKLIN ST', '6TH  FLR', 'OAKLAND CA', '94607-5201']\n",
      "['4251-015-903', '19650414-50', 'other', 'Y', 'REGENTS OF THE UNIVERSITY', 'OF CALIF', '', '', '0', '', '', '', '', '', '', '1111', '', '', 'FRANKLIN ST', '6TH  FLR', 'OAKLAND CA', '94607-5201']\n",
      "['4251-028-902', '19890118-51', 'nonReapp', 'Y', 'REGENTS OF THE UNIVERSITY OF CA', '', '', '', '11130', '', '', 'ROSE AVE', '', 'LOS ANGELES CA', '90034-6027', '2199', '', '', 'ADDISON ST', 'RM   615', 'BERKELEY CA', '94704-1114']\n",
      "['4251-028-903', '19880916-50', 'nonReapp', 'Y', 'REGENTS OF THE UNIVERSITY OF CA', '', '', '', '11134', '', '', 'ROSE AVE', '', 'LOS ANGELES CA', '90034-6008', '1111', '', '', 'FRANKLIN ST', '6TH  FLR', 'OAKLAND CA', '94607-5201']\n",
      "['4251-028-904', '19880916-50', 'nonReapp', 'Y', 'REGENTS OF THE UNIVERSITY OF CA', '', '', '', '11140', '', '', 'ROSE AVE', '', 'LOS ANGELES CA', '90034-6034', '1111', '', '', 'FRANKLIN ST', '6TH  FLR', 'OAKLAND CA', '94607-5201']\n",
      "['4251-028-905', '19880916-50', 'nonReapp', 'Y', 'REGENTS OF THE UNIVERSITY OF CA', '', '', '', '3400', '', 'S', 'SEPULVEDA BLVD', '', 'LOS ANGELES CA', '90034-6010', '1111', '', '', 'FRANKLIN ST', '6TH  FLR', 'OAKLAND CA', '94607-5201']\n",
      "['4267-010-042', '20151028-50', '', 'Y', '2825 SANTA MONICA LP', '', '', 'C/O GREENBERG TRAURIG LLP', '2823', '', '', 'SANTA MONICA BLVD', '', 'SANTA MONICA CA', '90404-2409', '1900', '', '', 'UNIVERSITY AVE', '5TH FL', 'PALO ALTO CA', '94303-2283']\n",
      "['4267-018-018', '19960620-50', '', 'Y', 'UNIVERSITY STREET PROPERTIES LTD', '', '', 'MARGARET A FULTON', '1443', '', '', 'YALE ST', '', 'SANTA MONICA CA', '90404-3131', '1443', '', '', 'YALE ST', 'APT 5', 'SANTA MONICA CA', '90404-3131']\n",
      "['4268-009-902', '19850716-50', 'other', 'Y', 'REGENTS OF THE UNIVERSITY OF CA', '', '', '', '0', '', '', '', '', '', '', '1111', '', '', 'FRANKLIN ST', '6TH  FLR', 'OAKLAND CA', '94607-5201']\n",
      "['4280-023-037', '19910131-50', 'PartInt', 'N', 'UNIVERSITY OF SOUTHERN', '', '', '', '713', '', '', '9TH ST', 'NO 3', 'SANTA MONICA CA', '90402-2849', '', '', '', '', '', '', '']\n",
      "['4281-004-900', '20130319-50', 'nonReapp', 'Y', 'REGENTS OF THE UNIVERSITY OF', 'CALIFORNIA', '', '', '1601', '', '', 'WILSHIRE BLVD', '', 'SANTA MONICA CA', '90403-5507', '1111', '', '', 'FRANKLIN ST', '8TH FL', 'OAKLAND CA', '94607-5200']\n",
      "['4282-002-900', '19950810-50', 'nonReapp', 'Y', 'REGENTS OF THE UNIVERSITY OF CA', '', '', '', '1214', '', '', '16TH ST', '', 'SANTA MONICA CA', '90404-1249', '1250', '', '', '16TH ST', '', 'SANTA MONICA CA', '90404-1249']\n",
      "['4282-002-901', '19950810-50', 'nonReapp', 'Y', 'REGENTS OF THE UNIVERSITY OF CA', '', '', '', '1233', '', '', '15TH ST', '', 'SANTA MONICA CA', '90404-1101', '1250', '', '', '16TH ST', '', 'SANTA MONICA CA', '90404-1249']\n",
      "['4282-002-902', '19950810-50', 'nonReapp', 'Y', 'REGENTS OF THE UNIVERSITY OF CA', '', '', '', '1213', '', '', '15TH ST', '', 'SANTA MONICA CA', '90404-1101', '1250', '', '', '16TH ST', '', 'SANTA MONICA CA', '90404-1249']\n",
      "['4282-002-903', '19990820-50', 'nonReapp', 'Y', 'REGENTS OF THE UNIVERSITY OF CA', '', '', '', '1502', '', '', 'WILSHIRE BLVD', '', 'SANTA MONICA CA', '90403-5506', '1502', '', '', 'WILSHIRE BLVD', 'NO 300', 'SANTA MONICA CA', '90403-5506']\n",
      "['4282-002-904', '19760108-50', 'other', 'Y', 'REGENTS OF THE UNIVERSITY OF CA', '', '', '', '1524', '', '', 'WILSHIRE BLVD', '', 'SANTA MONICA CA', '90403-5506', '1111', '', '', 'FRANKLIN ST', '6TH  FLR', 'OAKLAND CA', '94607-5201']\n",
      "['4282-002-905', '19760108-50', 'other', 'Y', 'REGENTS OF THE UNIVERSITY OF CA', '', '', '', '1512', '', '', 'WILSHIRE BLVD', '', 'SANTA MONICA CA', '90403-5506', '1111', '', '', 'FRANKLIN ST', '6TH  FLR', 'OAKLAND CA', '94607-5201']\n",
      "['4282-017-900', '19950810-50', 'nonReapp', 'Y', 'REGENTS OF THE UNIVERSITY OF CA', '', '', '', '1317', '', '', '15TH ST', '', 'SANTA MONICA CA', '90404-1801', '1250', '', '', '16TH ST', '', 'SANTA MONICA CA', '90404-1249']\n",
      "['4282-017-902', '19960321-50', 'nonReapp', 'Y', 'REGENTS OF THE UNIVERSITY OF CA', '', '', '', '1336', '', '', '16TH ST', '', 'SANTA MONICA CA', '90404-1804', '', '', '', '', '', '', '']\n",
      "['4282-017-903', '19960321-50', 'nonReapp', 'Y', 'REGENTS OF THE UNIVERSITY OF CA', '', '', '', '1344', '', '', '16TH ST', '', 'SANTA MONICA CA', '90404-1804', '', '', '', '', '', '', '']\n",
      "['4282-017-904', '20091208-50', 'nonReapp', 'Y', 'REGENTS OF THE UNIVERSITY OF CA', '', '', '', '1334', '', '', '16TH ST', '', 'SANTA MONICA CA', '90404-1819', '1111', '', '', 'FRANKLIN ST', '6 FLR', 'BERKELEY CA', '94706']\n",
      "['4282-017-905', '20110831-50', 'nonReapp', 'Y', 'REGENTS OF THE UNIVERSITY OF CA', '', '', 'C/O REAL ESTATE SERVICES GROUP', '1531', '', '', 'SANTA MONICA BLVD', '', 'SANTA MONICA CA', '90404-1805', '1111', '', '', 'FRANKLIN ST', '6TH FL', 'BERKELEY CA', '94706-5200']\n",
      "['4282-017-906', '20110831-50', 'nonReapp', 'Y', 'REGENTS OF THE UNIVERSITY OF CA', '', '', 'C/O REAL ESTATE SERVICES GROUP', '1525', '', '', 'SANTA MONICA BLVD', '', 'SANTA MONICA CA', '90404-1805', '1111', '', '', 'FRANKLIN ST', '6TH FL', 'BERKELEY CA', '94706-5200']\n",
      "['4282-018-900', '19950810-50', 'nonReapp', 'Y', 'REGENTS OF THE UNIVERSITY OF CA', '', '', '', '1311', '', '', '16TH ST', '', 'SANTA MONICA CA', '90404-1803', '1250', '', '', '16TH ST', '', 'SANTA MONICA CA', '90404-1249']\n",
      "['4282-018-901', '19950810-50', 'nonReapp', 'Y', 'REGENTS OF THE UNIVERSITY OF CA', '', '', '', '1301', '', '', '16TH ST', '', 'SANTA MONICA CA', '90404-1803', '1250', '', '', '16TH ST', '', 'SANTA MONICA CA', '90404-1249']\n",
      "['4282-018-902', '19960321-50', 'nonReapp', 'Y', 'REGENTS OF THE UNIVERSITY OF CA', '', '', '', '1331', '', '', '16TH ST', '', 'SANTA MONICA CA', '90404-1803', '', '', '', '', '', '', '']\n",
      "['4282-018-903', '19960321-50', 'nonReapp', 'Y', 'REGENTS OF THE UNIVERSITY OF CA', '', '', '', '1327', '', '', '16TH ST', '', 'SANTA MONICA CA', '90404-1803', '', '', '', '', '', '', '']\n",
      "['4282-018-904', '19960321-50', 'nonReapp', 'Y', 'REGENTS OF THE UNIVERSITY OF CA', '', '', '', '1325', '', '', '16TH ST', '', 'SANTA MONICA CA', '90404-1803', '', '', '', '', '', '', '']\n",
      "['4282-018-905', '19960321-50', 'nonReapp', 'Y', 'REGENTS OF THE UNIVERSITY OF CA', '', '', '', '1323', '', '', '16TH ST', '', 'SANTA MONICA CA', '90404-1803', '', '', '', '', '', '', '']\n",
      "['4282-018-906', '20110831-51', 'nonReapp', 'Y', 'REGENTS OF THE UNIVERSITY OF CA', '', '', 'C/O REAL ESTATE SERVICES GROUP', '1601', '', '', 'SANTA MONICA BLVD', '', 'SANTA MONICA CA', '90404-1807', '1111', '', '', 'FRANKLIN ST', '6TH FL', 'BERKELEY CA', '94706-5200']\n",
      "['4288-021-112', '20110224-50', '', 'Y', 'UNIVERSITY OF SOUTHERN', 'CALIFORNIA', '', 'C/O DEE JACKSON', '130', '', '', 'OCEAN PARK BLVD', 'NO 331', 'SANTA MONICA CA', '90405-3566', '620', '', 'W', 'MC CARTHY WAY', 'STE 5', 'LOS ANGELES CA', '90089-0155']\n",
      "['4291-031-053', '20040730-50', 'other', 'Y', 'COCONUT GROVE PROPERTIES LLC', '', '', '', '1361', '', '', 'PALISADES BEACH RD', '', 'SANTA MONICA CA', '90401-1015', '3260', '', '', 'UNIVERSITY BLVD', '# 210', 'WINTER PARK FL', '32792']\n",
      "['4293-003-044', '20050324-50', '', 'Y', 'CALIFORNIA REALTY LLC', '', '', '', '311', '', '', 'OCEAN AVE', 'UNIT 304', 'SANTA MONICA CA', '90402-1481', '3300', '', '', 'UNIVERSITY BLVD', 'STE 218', 'WINTER PARK FL', '32792-7435']\n",
      "['4306-014-084', '20160919-50', '', 'Y', 'UNIVERSITY PACIFIC', 'INVESTMENTS LLC', '', '', '1561', '', 'S', 'BEVERLY DR', 'NO 101', 'LOS ANGELES CA', '90035-3063', '4221', '', '', 'WILSHIRE BLVD', 'STE 410', 'LOS ANGELES CA', '90010-3548']\n",
      "['4313-003-011', '20160125-50', '', 'Y', 'UNIVERSITY OF PORTLAND', '', '', 'C/O SHARON K HOGAN', '3653', '', '', 'EMPIRE DR', '', 'LOS ANGELES CA', '90034-5089', '5000', '', 'N', 'WILLAMETTE BLVD', '', 'PORTLAND OR', '97203-5743']\n",
      "['4313-006-900', '20080728-50', 'nonReapp', 'Y', 'REGENTS OF THE UNIVERSITY', 'OF CALIFORNIA', '', 'DIRECTOR OF REAL ESTATE', '3742', '', '', 'CLARINGTON AVE', '', 'LOS ANGELES CA', '90034-5821', '1111', '', '', 'FRANKLIN ST', '6TH FLR', 'OAKLAND CA', '94607-5201']\n",
      "['4313-014-089', '20140130-50', '', 'Y', 'GHANIEAN,MOHSEN', '', '', '', '3762', '', '', 'HUGHES AVE', 'NO 104', 'LOS ANGELES CA', '90034-5190', '5333', '', '', 'UNIVERSITY DR', '', 'IRVINE CA', '92612-2938']\n",
      "['4314-002-900', '19890331-50', 'nonReapp', 'Y', 'REGENTS OF THE UNIVERSITY OF CA', '', '', '', '10525', '', '', 'VENICE BLVD', '', 'LOS ANGELES CA', '90034-6307', '1111', '', '', 'FRANKLIN ST', '6TH  FLR', 'OAKLAND CA', '94607-5201']\n",
      "['4314-016-004', '20160923-50', '', 'Y', 'UNIVERSITY OF PORTLAND CORP', '', '', 'C/O SHARON K HOGAN', '3431', '', '', 'VINTON AVE', '', 'LOS ANGELES CA', '90034-4742', '5000', '', 'N', 'WILLAMETTE BLVD', '', 'PORTLAND OR', '97203-5750']\n",
      "['4320-004-082', '20151222-50', '', 'Y', 'ASHER STUDENT FOUNDATION', 'UNIVERSITY OF CALIFORNIA', '', '', '2340', '', '', 'MALCOLM AVE', '', 'LOS ANGELES CA', '90064-2206', '', '', '', '', '', '', '']\n",
      "['4324-001-900', '19990618-50', 'nonReapp', 'Y', 'REGENTS OF THE UNIVERSITY OF CAL', '', '', '', '10920', '', '', 'WILSHIRE BLVD', '', 'LOS ANGELES CA', '90024-6502', '1111', '', '', 'FRANKLIN ST', '6    FLR', 'OAKLAND CA', '94607-5201']\n",
      "['4324-012-900', '20121227-50', 'nonReapp', 'Y', 'REGENTS OF THE UNIVERSITY OF CA', '', '', 'REAL ESTATE SERVICES GROUP', '10968', '', '', 'WILKINS AVE', '201', 'LOS ANGELES CA', '90024-5452', '1111', '', '', 'FRANKLIN ST', '6TH FL', 'OAKLAND CA', '94607-5201']\n",
      "['4324-012-901', '20121227-50', 'nonReapp', 'Y', 'REGENTS OF THE UNIVERSITY OF CA', '', '', 'REAL ESTATE SERVICES GROUP', '10968', '', '', 'WILKINS AVE', '202', 'LOS ANGELES CA', '90024-5452', '1111', '', '', 'FRANKLIN ST', '6TH FL', 'OAKLAND CA', '94607-5201']\n",
      "['4324-012-902', '20121227-50', 'nonReapp', 'Y', 'REGENTS OF THE UNIVERSITY OF CA', '', '', 'REAL ESTATE SERVICES GROUP', '10968', '', '', 'WILKINS AVE', '203', 'LOS ANGELES CA', '90024-5452', '1111', '', '', 'FRANKLIN ST', '6TH FL', 'OAKLAND CA', '94607-5201']\n",
      "['4324-012-903', '20121227-50', 'nonReapp', 'Y', 'REGENTS OF THE UNIVERSITY OF CA', '', '', 'REAL ESTATE SERVICES GROUP', '10968', '', '', 'WILKINS AVE', '204', 'LOS ANGELES CA', '90024-5452', '1111', '', '', 'FRANKLIN ST', '6TH FL', 'OAKLAND CA', '94607-5201']\n",
      "['4324-012-904', '20121227-50', 'nonReapp', 'Y', 'REGENTS OF THE UNIVERSITY OF CA', '', '', 'REAL ESTATE SERVICES GROUP', '10968', '', '', 'WILKINS AVE', '205', 'LOS ANGELES CA', '90024-5452', '1111', '', '', 'FRANKLIN ST', '6TH FL', 'OAKLAND CA', '94607-5201']\n",
      "['4324-012-905', '20121227-50', 'nonReapp', 'Y', 'REGENTS OF THE UNIVERSITY OF CA', '', '', 'REAL ESTATE SERVICES GROUP', '10968', '', '', 'WILKINS AVE', '206', 'LOS ANGELES CA', '90024-5452', '1111', '', '', 'FRANKLIN ST', '6TH FL', 'OAKLAND CA', '94607-5201']\n",
      "['4324-012-906', '20121227-50', 'nonReapp', 'Y', 'REGENTS OF THE UNIVERSITY OF CA', '', '', 'REAL ESTATE SERVICES GROUP', '10968', '', '', 'WILKINS AVE', '301', 'LOS ANGELES CA', '90024-5452', '1111', '', '', 'FRANKLIN ST', '6TH FL', 'OAKLAND CA', '94607-5201']\n",
      "['4324-012-907', '20121227-50', 'nonReapp', 'Y', 'REGENTS OF THE UNIVERSITY OF CA', '', '', 'REAL ESTATE SERVICES GROUP', '10968', '', '', 'WILKINS AVE', '302', 'LOS ANGELES CA', '90024-5452', '1111', '', '', 'FRANKLIN ST', '6TH FL', 'OAKLAND CA', '94607-5201']\n",
      "['4324-012-908', '20121227-50', 'nonReapp', 'Y', 'REGENTS OF THE UNIVERSITY OF CA', '', '', 'REAL ESTATE SERVICES GROUP', '10968', '', '', 'WILKINS AVE', '303', 'LOS ANGELES CA', '90024-5452', '1111', '', '', 'FRANKLIN ST', '6TH FL', 'OAKLAND CA', '94607-5201']\n",
      "['4324-012-909', '20121227-50', 'nonReapp', 'Y', 'REGENTS OF THE UNIVERSITY OF CA', '', '', 'REAL ESTATE SERVICES GROUP', '10968', '', '', 'WILKINS AVE', '304', 'LOS ANGELES CA', '90024-5452', '1111', '', '', 'FRANKLIN ST', '6TH FL', 'OAKLAND CA', '94607-5201']\n",
      "['4324-012-910', '20121227-50', 'nonReapp', 'Y', 'REGENTS OF THE UNIVERSITY OF CA', '', '', 'REAL ESTATE SERVICES GROUP', '0', '', '', '', '', '', '', '1111', '', '', 'FRANKLIN ST', '6TH FL', 'OAKLAND CA', '94607-5201']\n",
      "['4324-012-911', '20121227-50', 'nonReapp', 'Y', 'REGENTS OF THE UNIVERSITY OF CA', '', '', 'REAL ESTATE SERVICES GROUP', '10968', '', '', 'WILKINS AVE', '306', 'LOS ANGELES CA', '90024-5452', '1111', '', '', 'FRANKLIN ST', '6TH FL', 'OAKLAND CA', '94607-5201']\n",
      "['4324-012-912', '20121227-50', 'nonReapp', 'Y', 'REGENTS OF THE UNIVERSITY OF CA', '', '', 'REAL ESTATE SERVICES GROUP', '10968', '', '', 'WILKINS AVE', '401', 'LOS ANGELES CA', '90024-5452', '1111', '', '', 'FRANKLIN ST', '6TH FL', 'OAKLAND CA', '94607-5201']\n",
      "['4324-012-913', '20121227-50', 'nonReapp', 'Y', 'REGENTS OF THE UNIVERSITY OF CA', '', '', 'REAL ESTATE SERVICES GROUP', '10968', '', '', 'WILKINS AVE', '402', 'LOS ANGELES CA', '90024-5452', '1111', '', '', 'FRANKLIN ST', '6TH FL', 'OAKLAND CA', '94607-5201']\n",
      "['4324-012-914', '20121227-50', 'nonReapp', 'Y', 'REGENTS OF THE UNIVERSITY OF CA', '', '', 'REAL ESTATE SERVICES GROUP', '10968', '', '', 'WILKINS AVE', '403', 'LOS ANGELES CA', '90024-5452', '1111', '', '', 'FRANKLIN ST', '6TH FL', 'OAKLAND CA', '94607-5201']\n",
      "['4324-012-915', '20121227-50', 'nonReapp', 'Y', 'REGENTS OF THE UNIVERSITY OF CA', '', '', 'REAL ESTATE SERVICES GROUP', '10968', '', '', 'WILKINS AVE', '404', 'LOS ANGELES CA', '90024-5452', '1111', '', '', 'FRANKLIN ST', '6TH FL', 'OAKLAND CA', '94607-5201']\n",
      "['4324-012-916', '20121227-50', 'nonReapp', 'Y', 'REGENTS OF THE UNIVERSITY OF CA', '', '', 'REAL ESTATE SERVICES GROUP', '10968', '', '', 'WILKINS AVE', '405', 'LOS ANGELES CA', '90024-5452', '1111', '', '', 'FRANKLIN ST', '6TH FL', 'OAKLAND CA', '94607-5201']\n",
      "['4324-012-917', '20121227-50', 'nonReapp', 'Y', 'REGENTS OF THE UNIVERSITY OF CA', '', '', 'REAL ESTATE SERVICES GROUP', '10968', '', '', 'WILKINS AVE', '406', 'LOS ANGELES CA', '90024-5452', '1111', '', '', 'FRANKLIN ST', '6TH FL', 'OAKLAND CA', '94607-5201']\n",
      "['4324-012-918', '20121227-50', 'nonReapp', 'Y', 'REGENTS OF THE UNIVERSITY OF CA', '', '', 'REAL ESTATE SERVICES GROUP', '10968', '', '', 'WILKINS AVE', 'PH1', 'LOS ANGELES CA', '90024', '1111', '', '', 'FRANKLIN ST', '6TH FL', 'OAKLAND CA', '94607-5201']\n",
      "['4324-012-919', '20121227-50', 'nonReapp', 'Y', 'REGENTS OF THE UNIVERSITY OF CA', '', '', 'REAL ESTATE SERVICES GROUP', '10968', '', '', 'WILKINS AVE', 'PH2', 'LOS ANGELES CA', '90024', '1111', '', '', 'FRANKLIN ST', '6TH FL', 'OAKLAND CA', '94607-5201']\n",
      "['4324-012-920', '20121227-50', 'nonReapp', 'Y', 'REGENTS OF THE UNIVERSITY OF CA', '', '', 'REAL ESTATE SERVICES GROUP', '10968', '', '', 'WILKINS AVE', 'PH3', 'LOS ANGELES CA', '90024', '1111', '', '', 'FRANKLIN ST', '6TH FL', 'OAKLAND CA', '94607-5201']\n",
      "['4324-012-921', '20121227-50', 'nonReapp', 'Y', 'REGENTS OF THE UNIVERSITY OF CA', '', '', 'REAL ESTATE SERVICES GROUP', '10968', '', '', 'WILKINS AVE', 'PH4', 'LOS ANGELES CA', '90024', '1111', '', '', 'FRANKLIN ST', '6TH FL', 'OAKLAND CA', '94607-5201']\n",
      "['4324-012-922', '20121227-50', 'nonReapp', 'Y', 'REGENTS OF THE UNIVERSITY OF CA', '', '', 'REAL ESTATE SERVICES GROUP', '10968', '', '', 'WILKINS AVE', 'PH5', 'LOS ANGELES CA', '90024', '1111', '', '', 'FRANKLIN ST', '6TH FL', 'OAKLAND CA', '94607-5201']\n",
      "['4324-012-923', '20121227-50', 'nonReapp', 'Y', 'REGENTS OF THE UNIVERSITY OF CA', '', '', 'REAL ESTATE SERVICES GROUP', '10968', '', '', 'WILKINS AVE', 'PH6', 'LOS ANGELES CA', '90024', '1111', '', '', 'FRANKLIN ST', '6TH FL', 'OAKLAND CA', '94607-5201']\n",
      "['4324-020-002', '19900628-50', '', 'Y', 'UNIVERSITY CREDIT UNION', '', '', '', '0', '', '', '', '', '', '', '405', '', '', 'HILGARD AVE', '', 'LOS ANGELES CA', '90095-9000']\n",
      "['4324-020-016', '19900628-50', '', 'Y', 'UNIVERSITY CREDIT UNION', '', '', '', '1530', '', 'S', 'SEPULVEDA BLVD', '', 'LOS ANGELES CA', '90025-3312', '405', '', '', 'HILGARD AVE', '', 'LOS ANGELES CA', '90095-9000']\n",
      "['4324-020-037', '19900628-50', 'other', 'Y', 'UNIVERSITY CREDIT UNION', '', '', '', '1500', '', 'S', 'SEPULVEDA BLVD', '', 'LOS ANGELES CA', '90025-3312', '', '', '', '', '', '', '']\n",
      "['4324-038-158', '19890913-50', 'other', 'N', 'HOMSY,GEORGE M AND', '', '', 'DEPT OF CHEMICAL ENGINEERING', '1440', '', '', 'VETERAN AVE', 'NO 403', 'LOS ANGELES CA', '90024-4854', '0', '', '', 'STANFORD UNIVERSITY', '', 'STANFORD CA', '94305-5025']\n",
      "['4325-001-902', '19900803-50', 'nonReapp', 'Y', 'REGENTS OF THE UNIVERSITY OF CA', '', '', '', '10724', '', '', 'WILSHIRE BLVD', 'NO 203', 'LOS ANGELES CA', '90024-4453', '1111', '', '', 'FRANKLIN ST', '6TH  FLR', 'OAKLAND CA', '94607-5201']\n",
      "['4325-001-914', '19900803-50', 'nonReapp', 'Y', 'REGENTS OF THE UNIVERSITY OF CA', '', '', '', '10724', '', '', 'WILSHIRE BLVD', 'NO 403', 'LOS ANGELES CA', '90024-4461', '1111', '', '', 'FRANKLIN ST', '6TH  FLR', 'OAKLAND CA', '94607-5201']\n",
      "['4325-001-920', '19940210-50', 'nonReapp', 'Y', 'REGENTS OF THE UNIVERSITY OF CA', '', '', '', '10724', '', '', 'WILSHIRE BLVD', 'NO 201', 'LOS ANGELES CA', '90024-4453', '1111', '', '', 'FRANKLIN ST', '6TH  FLR', 'OAKLAND CA', '94607-5201']\n",
      "['4325-001-921', '19940215-50', 'nonReapp', 'Y', 'REGENTS OF THE UNIVERSITY OF CA', '', '', '', '10724', '', '', 'WILSHIRE BLVD', 'NO   413', 'LOS ANGELES CA', '90024-4461', '1111', '', '', 'FRANKLIN ST', '6TH  FLR', 'OAKLAND CA', '94607-5201']\n",
      "['4325-001-922', '19931220-50', 'other', 'Y', 'REGENTS OF THE UNIVERSITY OF CA', '', '', '', '10724', '', '', 'WILSHIRE BLVD', 'NO 313', 'LOS ANGELES CA', '90024-4453', '1111', '', '', 'FRANKLIN ST', '6TH  FLR', 'OAKLAND CA', '94607-5201']\n",
      "['4325-001-924', '19960913-50', 'nonReapp', 'Y', 'REGENTS OF THE UNIVERSITY OF CA', '', '', '', '10724', '', '', 'WILSHIRE BLVD', 'NO 412', 'LOS ANGELES CA', '90024-4461', '', '', '', '', '', '', '']\n",
      "['4325-001-925', '19970314-50', 'nonReapp', 'Y', 'REGENTS OF THE UNIVERSITY OF CA', '', '', '', '10724', '', '', 'WILSHIRE BLVD', 'NO 210', 'LOS ANGELES CA', '90024-4453', '', '', '', '', '', '', '']\n",
      "['4325-001-926', '19970711-50', 'nonReapp', 'Y', 'REGENTS OF THE UNIVERSITY OF', 'CALIFORNIA', '', '', '10724', '', '', 'WILSHIRE BLVD', 'NO 304', 'LOS ANGELES CA', '90024-4453', '', '', '', '', '', '', '']\n",
      "['4325-001-927', '19970829-50', 'nonReapp', 'Y', 'REGENTS OF THE UNIVERSITY OF CA', '', '', '', '10724', '', '', 'WILSHIRE BLVD', 'NO 204', 'LOS ANGELES CA', '90024-4453', '10920', '', '', 'WILSHIRE BLVD', 'NO   810', 'LOS ANGELES CA', '90024-6510']\n",
      "['4325-001-928', '19970826-50', 'nonReapp', 'Y', 'REGENTS OF THE UNIVERSITY OF', 'CALIFORNIA', '', '', '10724', '', '', 'WILSHIRE BLVD', 'NO 303', 'LOS ANGELES CA', '90024-4453', '10920', '', '', 'WILSHIRE BLVD', 'NO   810', 'LOS ANGELES CA', '90024-6510']\n",
      "['4325-001-929', '19931005-50', 'nonReapp', 'Y', 'REGENTS OF THE UNIVERSITY OF', 'CALIFORNIA', '', '', '10724', '', '', 'WILSHIRE BLVD', 'NO 404', 'LOS ANGELES CA', '90024-4461', '270', '', '', 'DE NEVE DR', '', 'LOS ANGELES CA', '90024-8307']\n",
      "['4325-001-930', '19970530-50', 'nonReapp', 'Y', 'REGENTS OF THE UNIVERSITY OF', 'CALIFORNIA', '', '', '10724', '', '', 'WILSHIRE BLVD', 'NO 512', 'LOS ANGELES CA', '90024-4461', '10920', '', '', 'WILSHIRE BLVD', 'NO   810', 'LOS ANGELES CA', '90024-6510']\n",
      "['4325-001-931', '19960628-50', 'nonReapp', 'Y', 'REGENTS OF THE UNIVERSITY OF CAL', '', '', '', '10724', '', '', 'WILSHIRE BLVD', 'NO 310', 'LOS ANGELES CA', '90024-4453', '270', '', '', 'DE NEVE DR', '', 'LOS ANGELES CA', '90024-8307']\n",
      "['4325-001-932', '19961015-75', 'nonReapp', 'Y', 'REGENTS OF THE UNIVERSITY OF CA', '', '', '', '10724', '', '', 'WILSHIRE BLVD', 'NO 309', 'LOS ANGELES CA', '90024-4453', '270', '', '', 'DE NEVE DR', '', 'LOS ANGELES CA', '90024-8307']\n",
      "['4325-001-933', '20050727-50', 'nonReapp', 'Y', 'REGENTS OF THE UNIVERSITY OF', 'CALIFORNIA', '', 'LINDA MACEACHEM', '10724', '', '', 'WILSHIRE BLVD', 'NO 613', 'LOS ANGELES CA', '90024-4463', '10920', '', '', 'WILSHIRE BLVD', 'STE 810', 'LOS ANGELES CA', '90024-6510']\n",
      "['4325-001-934', '20070720-50', 'nonReapp', 'Y', 'REGENTS OF THE UNIVERSITY OF CA', '', '', '', '10724', '', '', 'WILSHIRE BLVD', 'NO 212', 'LOS ANGELES CA', '90024-4453', '10920', '', '', 'WILSHIRE BLVD', '810', 'LOS ANGELES CA', '90024-6510']\n",
      "['4325-001-935', '20091208-50', 'nonReapp', 'Y', 'REGENTS OF THE UNIVERSITY OF CA', '', '', '', '10724', '', '', 'WILSHIRE BLVD', 'NO 213', 'LOS ANGELES CA', '90024-4453', '10920', '', '', 'WILSHIRE BLVD', '# 810', 'LOS ANGELES CA', '90024-6510']\n",
      "['4326-019-900', '19950428-50', 'nonReapp', 'Y', 'REGENTS OF THE UNIVERSITY OF', 'CALIF', '', '', '10475', '', '', 'KINNARD AVE', '', 'LOS ANGELES CA', '90024-6015', '1111', '', '', 'FRANKLIN ST', '6TH  FLR', 'OAKLAND CA', '94607-5201']\n",
      "['4326-035-209', '20161117-50', '', 'Y', 'PEPPERDINE UNIVERSITY', '', '', '', '10580', '', '', 'WILSHIRE BLVD', '97', 'LOS ANGELES CA', '90024-4586', '10580', '', '', 'WILSHIRE BLVD', '# 25NE', 'LOS ANGELES CA', '90024-4586']\n",
      "['4332-028-032', '20050407-50', '', 'N', 'BERMAN,ADRIENNE', '', '', '', '1250', '', 'S', 'CORNING ST', 'NO 2', 'LOS ANGELES CA', '90035-2443', '15', '', '', 'UNIVERSITY CIR', '', 'RANCHO MIRAGE CA', '92270']\n",
      "['4332-028-051', '19950517-50', 'nonReapp', 'Y', 'ROZMARYN,MENDEL AND SONIA TRS', 'M M AND S W ROZMARYN TRUST', '', '', '1240', '', 'S', 'CORNING ST', 'NO 202', 'LOS ANGELES CA', '90035-2479', '1121', '', '', 'UNIVERSITY BLVD W', '', 'SILVER SPRING MD', '20902-3365']\n",
      "['4335-012-067', '20160112-50', '', 'Y', 'VIGIL,DIANA T', '', '', '', '141', '', 'S', 'CLARK DR', '103', 'LOS ANGELES CA', '90048-3229', '2800', '', 'S', 'UNIVERSITY BLVD', 'UNIT 59', 'DENVER CO', '80210-6059']\n",
      "['4343-013-052', '20100305-50', '', 'Y', '225 CANON RESIDENTIAL LLC', '', '', 'C/O MICHAEL G MOHR', '225', '', 'N', 'CANON DR', '7C', 'BEVERLY HILLS CA', '90210-5301', '720', '', '', 'UNIVERSITY AVE', 'STE 200', 'LOS GATOS CA', '95032-7651']\n",
      "['4350-006-017', '20140711-50', '', 'Y', 'NDP HOLDINGS LLC', '', '', 'C/O GENERAL MANAGER GOODLANDS', '1116', '', '', 'CALLE VISTA DR', '', 'BEVERLY HILLS CA', '90210-2508', '250', '', '', 'UNIVERSITY AVE', 'UNIT 300', 'PALO ALTO CA', '94301-1739']\n",
      "['4350-006-026', '20050128-50', '', 'Y', 'SOCAL HOUSE HOLDINGS LLC', '', '', 'GOODLANDS MANAGEMENT', '1118', '', '', 'CALLE VISTA DR', '', 'BEVERLY HILLS CA', '90210-2508', '250', '', '', 'UNIVERSITY AVE', '# 300', 'PALO ALTO CA', '94301-1739']\n",
      "['4359-003-900', '19991112-50', 'nonReapp', 'Y', 'REGENTS OF THE UNIVERSITY OF CA', '', '', '', '372', '', '', 'HILGARD AVE', '', 'LOS ANGELES CA', '90024-2519', '1111', '', '', 'FRANKLIN ST', '6    FLR', 'OAKLAND CA', '94607-5201']\n",
      "['4359-007-028', '20130726-50', 'nonReapp', 'Y', 'ASHLEY,SUSAN W ET AL TRS', 'WEINBERGER FAMILY TRUST AND', 'UNIVERSITY OF CALIF', '', '401', '', 'S', 'BEVERLY GLEN BLVD', '', 'LOS ANGELES CA', '90024-2619', '1450', '', '', 'CALIFORNIA ST', '', 'BERKELEY CA', '94703-1023']\n",
      "['4359-007-028', '20071107-50', 'nonReapp', 'N', 'UNIVERSITY OF CALIF AND', '', '', '', '401', '', 'S', 'BEVERLY GLEN BLVD', '', 'LOS ANGELES CA', '90024-2619', '', '', '', '', '', '', '']\n",
      "['4359-007-028', '19990415-50', 'nonReapp', 'N', 'UNIVERSITY OF CALIF AND', '', '', '', '401', '', 'S', 'BEVERLY GLEN BLVD', '', 'LOS ANGELES CA', '90024-2619', '', '', '', '', '', '', '']\n",
      "['4359-023-122', '20101209-50', 'nonReapp', 'Y', 'HEWSON,GARY J AND JUDY A TRS', 'HEWSON TRUST', '', '', '875', '', '', 'COMSTOCK AVE', 'NO 16E', 'LOS ANGELES CA', '90024-7515', '4636', '', 'E', 'UNIVERSITY DR', 'STE 265', 'PHOENIX AZ', '85034']\n",
      "['4359-023-122', '19970828-50', 'other', 'N', 'HEWSON,GARY J AND JUDY A', '', '', 'HEWSON PROPERTIES', '875', '', '', 'COMSTOCK AVE', 'NO 16E', 'LOS ANGELES CA', '90024-7515', '4636', '', 'E', 'UNIVERSITY DR', 'STE  265', 'PHOENIX AZ', '85034']\n",
      "['4360-001-900', '19870220-50', 'other', 'Y', 'REGENTS OF THE UNIVERSITY OF CA', '', '', '', '0', '', '', '', '', '', '', '1111', '', '', 'FRANKLIN ST', '6TH  FLR', 'OAKLAND CA', '94607-5201']\n",
      "['4360-001-901', '19870220-50', 'other', 'Y', 'REGENTS OF THE UNIVERSITY OF CA', '', '', '', '0', '', '', '', '', '', '', '1111', '', '', 'FRANKLIN ST', '6TH  FLR', 'OAKLAND CA', '94607-5201']\n",
      "['4360-001-902', '19900329-50', 'nonReapp', 'Y', 'REGENTS OF THE UNIVERSITY OF CA', '', '', '', '10845', '', '', 'WEYBURN AVE', '', 'LOS ANGELES CA', '90024-2916', '', '', '', '', '', '', '']\n",
      "['4360-003-014', '19670245-50', 'other', 'Y', 'UNIVERSITY BIBLE CENTER', '', '', '', '10801', '', '', 'WILSHIRE BLVD', '', 'LOS ANGELES CA', '90024-4302', '', '', '', '', '', '', '']\n",
      "['4360-006-002', '20110819-50', 'nonReapp', 'Y', 'UNIVERSITY PRESBYTERIAN CHURCH', '', '', 'SOON CHUNG', '907', '', '', 'MALCOLM AVE', '', 'LOS ANGELES CA', '90024-3113', '907', '', '', 'MALCOLM AVE', '', 'LOS ANGELES CA', '90024-3113']\n",
      "['4360-007-900', '20031118-50', 'nonReapp', 'Y', 'REGENTS OF THE UNIVERSITY OF', 'CA', '', '', '824', '', '', 'HILGARD AVE', '', 'LOS ANGELES CA', '90024-3125', '1111', '', '', 'FRANKLIN ST', '', 'OAKLAND CA', '94607-5201']\n",
      "['4360-015-900', '20030515-50', 'nonReapp', 'Y', 'REGENTS OF THE UNIVERSITY OF', 'CALIFORNIA', '', '', '726', '', '', 'HILGARD AVE', '', 'LOS ANGELES CA', '90024-3200', '1111', '', '', 'FRANKLIN ST', '6TH FLR', 'OAKLAND CA', '94607-5201']\n",
      "['4360-015-901', '20040521-50', 'nonReapp', 'Y', 'REGENTS OF THE UNIVERSITY OF CA', '', '', 'DIRECTOR OF REAL ESTATE', '720', '', '', 'HILGARD AVE', '', 'LOS ANGELES CA', '90024-3298', '1111', '', '', 'FRANKLIN ST', '6TH FLR', 'OAKLAND CA', '94607-5201']\n",
      "['4362-002-900', '19641231-50', 'other', 'Y', 'REGENTS OF THE UNIVERSITY OF CA', '', '', '', '0', '', '', '', '', '', '', '1111', '', '', 'FRANKLIN ST', '6TH  FLR', 'OAKLAND CA', '94607-5201']\n",
      "['4362-002-901', '19710216-50', 'other', 'Y', 'REGENTS OF THE UNIVERSITY', 'OF CALIF', '', '', '0', '', '', '', '', '', '', '1111', '', '', 'FRANKLIN ST', '6TH  FLR', 'OAKLAND CA', '94607-5201']\n",
      "['4363-001-902', '19670245-50', 'other', 'Y', 'REGENTS OF THE UNIVERSITY', 'OF CALIF', '', '', '10833', '', '', 'LE CONTE AVE', '', 'LOS ANGELES CA', '90095-3075', '1111', '', '', 'FRANKLIN ST', '6TH  FLR', 'OAKLAND CA', '94607-5201']\n",
      "['4363-001-903', '19650000-50', 'other', 'Y', 'REGENTS OF THE UNIVERSITY', 'OF CALIF', '', '', '405', '', '', 'HILGARD AVE', '', 'LOS ANGELES CA', '90095-9000', '1111', '', '', 'FRANKLIN ST', '6TH  FLR', 'OAKLAND CA', '94607-5201']\n",
      "['4363-002-900', '19670245-50', 'other', 'Y', 'REGENTS OF THE UNIVERSITY', 'OF CALIF', '', '', '0', '', '', '', '', '', '', '1111', '', '', 'FRANKLIN ST', '6TH  FLR', 'OAKLAND CA', '94607-5201']\n",
      "['4363-005-013', '19580820-50', 'other', 'Y', 'UNIVERSITY CO OP HOUSING ASSN', '', '', '', '488', '', '', 'LANDFAIR AVE', '', 'LOS ANGELES CA', '90024-2102', '500', '', '', 'LANDFAIR AVE', '', 'LOS ANGELES CA', '90024-2104']\n",
      "['4363-005-900', '19870120-50', 'nonReapp', 'Y', 'REGENTS OF THE UNIVERSITY', 'OF CALIFORNIA', '', '', '450', '', '', 'LANDFAIR AVE', '', 'LOS ANGELES CA', '90024-2100', '1111', '', '', 'FRANKLIN ST', '6TH  FLR', 'OAKLAND CA', '94607-5201']\n",
      "['4363-005-901', '19870120-50', 'other', 'Y', 'REGENTS OF THE UNIVERSITY', 'OF CALIF', '', '', '456', '', '', 'LANDFAIR AVE', '', 'LOS ANGELES CA', '90024-2129', '1111', '', '', 'FRANKLIN ST', '6TH  FLR', 'OAKLAND CA', '94607-5201']\n",
      "['4363-005-902', '19870120-50', 'other', 'Y', 'REGENTS OF THE UNIVERSITY', 'OF CALIF', '', '', '462', '', '', 'LANDFAIR AVE', '', 'LOS ANGELES CA', '90024-2102', '1111', '', '', 'FRANKLIN ST', '6TH  FLR', 'OAKLAND CA', '94607-5201']\n",
      "['4363-005-903', '19870120-50', 'other', 'Y', 'REGENTS OF THE UNIVERSITY', 'OF CALIF', '', '', '468', '', '', 'LANDFAIR AVE', '', 'LOS ANGELES CA', '90024-2102', '1111', '', '', 'FRANKLIN ST', '6TH  FLR', 'OAKLAND CA', '94607-5201']\n",
      "['4363-005-904', '20000519-50', 'nonReapp', 'Y', 'REGENTS OF THE UNIVERSITY OF  CA', '', '', '', '565', '', '', 'GAYLEY AVE', '', 'LOS ANGELES CA', '90024-2068', '1111', '', '', 'FRANKLIN ST', '6TH FLR', 'OAKLAND CA', '94607-5201']\n",
      "['4363-005-905', '20011227-50', 'nonReapp', 'Y', 'REGENTS OF THE UNIVERSITY OF CA', '', '', '', '475', '', '', 'GAYLEY AVE', '', 'LOS ANGELES CA', '90024-2083', '1111', '', '', 'FRANKLIN ST', '# 6FL', 'OAKLAND CA', '94607-5201']\n",
      "['4363-005-906', '20130925-50', 'nonReapp', 'Y', 'REGENTS OF THE UNIVERSITY OF', 'CALIFORNIA', '', 'C/O REAL ESTATE SERVICES GROUP', '510', '', '', 'LANDFAIR AVE', '', 'LOS ANGELES CA', '90024-2152', '1111', '', '', 'FRANKLIN ST', '6TH FL', 'OAKLAND CA', '94607-5200']\n",
      "['4363-007-900', '19600624-50', 'other', 'Y', 'REGENTS OF THE UNIVERSITY', 'OF CALIF', '', '', '0', '', '', '', '', '', '', '1111', '', '', 'FRANKLIN ST', '6TH  FLR', 'OAKLAND CA', '94607-5201']\n",
      "['4363-007-901', '19870630-50', 'other', 'Y', 'REGENTS OF THE UNIVERSITY OF', 'CALIFORNIA', '', '', '715', '', '', 'GAYLEY AVE', '', 'LOS ANGELES CA', '90024-2432', '1111', '', '', 'FRANKLIN ST', '6TH  FLR', 'OAKLAND CA', '94607-5201']\n",
      "['4363-008-900', '19790529-50', 'other', 'Y', 'REGENTS OF THE UNIVERSITY', 'OF CALIF', '', '', '41', '', '', 'LANDFAIR AVE', '', 'LOS ANGELES CA', '90024', '1111', '', '', 'FRANKLIN ST', '6TH  FLR', 'OAKLAND CA', '94607-5201']\n",
      "['4363-009-001', '19670245-50', 'other', 'Y', 'UNIVERSITY CO OP HOUSING ASSN', '', '', '', '10940', '', '', 'OPHIR DR', '', 'LOS ANGELES CA', '90024-2061', '500', '', '', 'LANDFAIR AVE', '', 'LOS ANGELES CA', '90024-2104']\n",
      "['4363-009-900', '19800111-50', 'other', 'Y', 'REGENTS OF THE UNIVERSITY', 'OF CALIF', '', '', '64', '', '', 'GLENROCK AVE', '', 'LOS ANGELES CA', '90024', '1111', '', '', 'FRANKLIN ST', '6TH  FLR', 'OAKLAND CA', '94607-5201']\n",
      "['4363-010-900', '20030321-50', 'nonReapp', 'Y', 'REGENTS OF THE UNIVERSITY OF CA', '', '', '', '555', '', '', 'GLENROCK AVE', '', 'LOS ANGELES CA', '90024-2183', '1111', '', '', 'FRANKLIN ST', '', 'OAKLAND CA', '94607-5201']\n",
      "['4363-016-900', '19670245-50', 'other', 'Y', 'REGENTS OF THE UNIVERSITY', 'OF CALIF', '', '', '0', '', '', '', '', '', '', '1111', '', '', 'FRANKLIN ST', '6TH  FLR', 'OAKLAND CA', '94607-5201']\n",
      "['4363-016-903', '19890308-50', 'nonReapp', 'Y', 'REGENTS OF THE UNIVERSITY', 'OF CALIFORNIA', '', '', '0', '', '', '', '', '', '', '', '', '', '', '', '', '']\n",
      "['4363-016-904', '19900530-50', 'other', 'Y', 'REGENTS OF THE UNIVERSITY OF', 'CALIF', '', '', '0', '', '', '', '', '', '', '1111', '', '', 'FRANKLIN ST', '6TH  FLR', 'OAKLAND CA', '94607-5201']\n",
      "['4363-016-907', '19890308-50', 'nonReapp', 'Y', 'REGENTS OF THE UNIVERSITY', 'OF CALIF', '', '', '0', '', '', '', '', '', '', '1111', '', '', 'FRANKLIN ST', '6TH  FLR', 'OAKLAND CA', '94607-5201']\n",
      "['4363-016-908', '19890308-50', 'nonReapp', 'Y', 'REGENTS OF THE UNIVERSITY', 'OF CALIF', '', '', '0', '', '', '', '', '', '', '', '', '', '', '', '', '']\n",
      "['4363-016-911', '19890308-50', 'nonReapp', 'Y', 'REGENTS OF THE UNIVERSITY OF CAL', '', '', '', '0', '', '', '', '', '', '', '', '', '', '', '', '', '']\n",
      "['4363-016-912', '19890308-50', 'nonReapp', 'Y', 'REGENTS OF THE UNIVERSITY', 'OF CALIF', '', '', '0', '', '', '', '', '', '', '', '', '', '', '', '', '']\n",
      "['4363-016-915', '19890308-50', 'nonReapp', 'Y', 'REGENTS OF THE UNIVERSITY', 'OF CALIF', '', '', '0', '', '', '', '', '', '', '', '', '', '', '', '', '']\n",
      "['4363-016-925', '19890308-50', 'nonReapp', 'Y', 'REGENTS OF THE UNIVERSITY', 'OF CALIF', '', '', '0', '', '', '', '', '', '', '', '', '', '', '', '', '']\n",
      "['4363-016-935', '19890929-51', 'nonReapp', 'Y', 'REGENTS OF THE UNIVERSITY', 'OF CALIF', '', '', '923', '', '', 'LEVERING AVE', 'NO   402', 'LOS ANGELES CA', '90024-6610', '', '', '', '', '', '', '']\n",
      "['4363-016-936', '19891003-51', 'nonReapp', 'Y', 'REGENTS OF THE UNIVERSITY', 'OF CALIF', '', '', '923', '', '', 'LEVERING AVE', 'NO   501', 'LOS ANGELES CA', '90024-6610', '', '', '', '', '', '', '']\n",
      "['4363-016-938', '19891013-51', 'nonReapp', 'Y', 'REGENTS OF THE UNIVERSITY', 'OF CALIF', '', '', '919', '', '', 'LEVERING AVE', 'NO   507', 'LOS ANGELES CA', '90024-2715', '', '', '', '', '', '', '']\n",
      "['4363-016-939', '19891031-51', 'nonReapp', 'Y', 'REGENTS OF THE UNIVERSITY', 'OF CALIF', '', '', '919', '', '', 'LEVERING AVE', 'NO   105', 'LOS ANGELES CA', '90024-6615', '', '', '', '', '', '', '']\n",
      "['4363-016-940', '19891031-51', 'nonReapp', 'Y', 'REGENTS OF THE UNIVERSITY', 'OF CALIF', '', '', '919', '', '', 'LEVERING AVE', 'NO   407', 'LOS ANGELES CA', '90024-6617', '', '', '', '', '', '', '']\n",
      "['4363-016-941', '19891109-51', 'nonReapp', 'Y', 'REGENTS OF THE UNIVERSITY OF', 'CALIF', '', '', '919', '', '', 'LEVERING AVE', 'NO   307', 'LOS ANGELES CA', '90024-6616', '', '', '', '', '', '', '']\n",
      "['4363-016-942', '19891218-51', 'nonReapp', 'Y', 'REGENTS OF THE UNIVERSITY OF', 'CALIF', '', '', '923', '', '', 'LEVERING AVE', 'NO   301', 'LOS ANGELES CA', '90024-6612', '', '', '', '', '', '', '']\n",
      "['4363-016-943', '19900108-51', 'nonReapp', 'Y', 'REGENTS OF THE UNIVERSITY OF', 'CALIF', '', '', '919', '', '', 'LEVERING AVE', 'NO   207', 'LOS ANGELES CA', '90024-6616', '', '', '', '', '', '', '']\n",
      "['4363-016-944', '19900111-51', 'nonReapp', 'Y', 'REGENTS OF THE UNIVERSITY OF', 'CALIF', '', '', '919', '', '', 'LEVERING AVE', 'NO   106', 'LOS ANGELES CA', '90024-6615', '', '', '', '', '', '', '']\n",
      "['4363-016-945', '19900221-51', 'nonReapp', 'Y', 'REGENTS OF THE UNIVERSITY OF', 'CALIF', '', '', '923', '', '', 'LEVERING AVE', 'NO 202', 'LOS ANGELES CA', '90024-6612', '', '', '', '', '', '', '']\n",
      "['4363-016-946', '19900319-51', 'nonReapp', 'Y', 'REGENTS OF THE UNIVERSITY OF', 'CALIF', '', '', '923', '', '', 'LEVERING AVE', 'NO   401', 'LOS ANGELES CA', '90024-6610', '', '', '', '', '', '', '']\n",
      "['4363-016-947', '19900330-50', 'nonReapp', 'Y', 'REGENTS OF THE UNIVERSITY', 'OF CALIF', '', '', '919', '', '', 'LEVERING AVE', 'NO   308', 'LOS ANGELES CA', '90024-6617', '', '', '', '', '', '', '']\n",
      "['4363-016-948', '19900330-50', 'nonReapp', 'Y', 'REGENTS OF THE UNIVERSITY', 'OF CALIF', '', '', '919', '', '', 'LEVERING AVE', 'NO   206', 'LOS ANGELES CA', '90024-6615', '', '', '', '', '', '', '']\n",
      "['4363-016-949', '19900405-50', 'nonReapp', 'Y', 'REGENTS OF THE UNIVERSITY', 'OF CALIF', '', '', '923', '', '', 'LEVERING AVE', 'NO   302', 'LOS ANGELES CA', '90024-6612', '', '', '', '', '', '', '']\n",
      "['4363-016-950', '19900508-50', 'nonReapp', 'Y', 'REGENTS OF THE UNIVERSITY', 'OF CALIF', '', '', '923', '', '', 'LEVERING AVE', 'NO   201', 'LOS ANGELES CA', '90024-6612', '', '', '', '', '', '', '']\n",
      "['4363-016-951', '19900525-50', 'nonReapp', 'Y', 'REGENTS OF THE UNIVERSITY', 'OF CALIF', '', '', '923', '', '', 'LEVERING AVE', 'NO   303', 'LOS ANGELES CA', '90024-6610', '', '', '', '', '', '', '']\n",
      "['4363-016-952', '19900608-50', 'nonReapp', 'Y', 'REGENTS OF THE UNIVERSITY', 'OF CALIF', '', '', '919', '', '', 'LEVERING AVE', 'NO   305', 'LOS ANGELES CA', '90024-6616', '', '', '', '', '', '', '']\n",
      "['4363-016-953', '19900531-50', 'nonReapp', 'Y', 'REGENTS OF THE UNIVERSITY', 'OF CALIF', '', '', '919', '', '', 'LEVERING AVE', 'NO   306', 'LOS ANGELES CA', '90024-6616', '', '', '', '', '', '', '']\n",
      "['4363-016-954', '19900525-50', 'nonReapp', 'Y', 'REGENTS OF THE UNIVERSITY', 'OF CALIF', '', '', '919', '', '', 'LEVERING AVE', 'NO   406', 'LOS ANGELES CA', '90024-6617', '', '', '', '', '', '', '']\n",
      "['4363-016-955', '19900315-50', 'nonReapp', 'Y', 'REGENTS OF THE UNIVERSITY', 'OF CALIF', '', '', '919', '', '', 'LEVERING AVE', 'NO   408', 'LOS ANGELES CA', '90024-6617', '', '', '', '', '', '', '']\n",
      "['4363-016-956', '19900531-50', 'nonReapp', 'Y', 'REGENTS OF THE UNIVERSITY', 'OF CALIF', '', '', '919', '', '', 'LEVERING AVE', 'NO   505', 'LOS ANGELES CA', '90024-6617', '', '', '', '', '', '', '']\n",
      "['4363-016-957', '19900703-51', 'nonReapp', 'Y', 'REGENTS OF THE UNIVERSITY', 'OF CALIF', '', '', '919', '', '', 'LEVERING AVE', 'NO   506', 'LOS ANGELES CA', '90024-2715', '', '', '', '', '', '', '']\n",
      "['4363-016-958', '19920327-51', 'nonReapp', 'Y', 'REGENTS OF THE UNIVERSITY OF', 'CALIFORNIA', '', '', '923', '', '', 'LEVERING AVE', 'NO   502', 'LOS ANGELES CA', '90024-6610', '', '', '', '', '', '', '']\n",
      "['4363-019-901', '19930527-50', 'nonReapp', 'Y', 'REGENTS OF THE UNIVERSITY OF', 'CALIFORNIA', '', '', '0', '', '', '', '', '', '', '300', '', '', 'LAKESIDE DR', '17   FLR', 'OAKLAND CA', '94612-3534']\n",
      "['4363-019-903', '20120629-50', 'nonReapp', 'Y', 'REGENTS OF THE UNIVERSITY OF CA', '', '', 'C/O UCLA ASSET MANAGEMENT', '924', '', '', 'WESTWOOD BLVD', '', 'LOS ANGELES CA', '90024-2910', '10920', '', '', 'WILSHIRE BLVD', 'STE 815', 'LOS ANGELES CA', '90024-6541']\n",
      "['4363-020-001', '19980403-50', '', 'N', 'PATEL,DHANJI B AND', '', '', '', '10875', '', '', 'KINROSS AVE', '', 'LOS ANGELES CA', '90024-3409', '1480', '', '', 'UNIVERSITY AVE', '', 'SAN JOSE CA', '95126-1639']\n",
      "['4363-022-900', '20151026-50', 'nonReapp', 'Y', 'REGENTS OF THE UNIVERSITY OF CA', '', '', 'C/O UCLA ASSET MANAGEMENT', '10889', '', '', 'WILSHIRE BLVD', '', 'LOS ANGELES CA', '90024-4201', '10920', '', '', 'WILSHIRE BLVD', 'STE 815', 'LOS ANGELES CA', '90024-6541']\n",
      "['4363-026-905', '20040603-50', 'nonReapp', 'Y', 'REGENTS OF UNIVERSITY OF CALIF', '', '', '', '1100', '', '', 'VETERAN AVE', '', 'LOS ANGELES CA', '90024-2705', '1111', '', '', 'FRANKLIN ST', '6TH FLR', 'OAKLAND CA', '94607-5201']\n",
      "['4366-009-012', '20140326-50', 'nonReapp', 'Y', 'GHOBRIAL,RAFIK AND KATHERYN TRS', 'GHOBRIAL FAMILY TRUST', '', '', '211', '', '', 'ASHDALE AVE', '', 'LOS ANGELES CA', '90049-2404', '2724', '', '', 'UNIVERSITY BLVD', '', 'HOUSTON TX', '77005-3440']\n",
      "['4366-027-028', '20160616-50', '', 'Y', 'INDIANA UNIVERSITY FOUNDATION', '', '', 'C/O JOHN W WILHITE', '500', '', '', 'LEVERING AVE', '', 'LOS ANGELES CA', '90024-1912', '0', '', '', 'PO BOX 500', '', 'BLOOMINGTON IN', '47402-0500']\n",
      "['4368-016-900', '20121016-75', 'nonReapp', 'Y', 'REGENTS OF UNIVERSITY OF CA', '', '', '', '640', '', 'N', 'SEPULVEDA BLVD', '', 'LOS ANGELES CA', '90049-2108', '1111', '', '', 'FRANKLIN ST', '6TH FL', 'OAKLAND CA', '94607-5200']\n",
      "['4378-001-027', '20101118-50', 'nonReapp', 'Y', 'AMERICAN JEWISH UNIVERSITY', '', '', '', '15600', '', '', 'MULHOLLAND DR', '', 'LOS ANGELES CA', '90077-1519', '', '', '', '', '', '', '']\n",
      "['4378-001-041', '20101118-50', 'nonReapp', 'Y', 'AMERICAN JEWISH UNIVERSITY', '', '', '', '0', '', '', '', '', '', '', '15600', '', '', 'MULHOLLAND DR', '', 'LOS ANGELES CA', '90077-1519']\n",
      "['4378-001-041', '20040511-50', 'nonReapp', 'N', 'UNIVERSITY OF JUDAISM', '', '', '', '0', '', '', '', '', '', '', '15600', '', '', 'MULHOLLAND DR', '', 'LOS ANGELES CA', '90077-1519']\n",
      "['4379-036-904', '19940607-50', 'nonReapp', 'Y', 'REGENTS OF THE UNIVERSITY', 'OF CALIF', '', '', '0', '', '', '', '', '', '', '270', '', '', 'DE NEVE DR', '', 'LOS ANGELES CA', '90024-8307']\n",
      "['6126-004-001', '20090226-50', 'PartInt', 'N', 'GREENHOOD,BARBARA TR ET AL', '', '', '', '314', '', 'W', '168TH ST', '', 'CARSON CA', '90248-2733', '425', '', '', 'UNIVERSITY AVE', 'STE 210', 'SACRAMENTO CA', '95825']\n",
      "['6140-005-004', '20130220-50', 'nonReapp', 'Y', 'ROSS,TOMMY CO TR', 'TOMMY ROSS TRUST', '', '', '913', '', 'E', 'NORDBY ST', '', 'CARSON CA', '90746-1031', '603', '', 'E', 'UNIVERSITY DR', 'UNIT 210', 'CARSON CA', '90746-1031']\n",
      "['6140-005-004', '20071205-50', 'nonReapp', 'N', 'ROSS,TOMMY AND', '', '', '', '913', '', 'E', 'NORDBY ST', '', 'CARSON CA', '90746-1031', '603', '', '', 'B E UNIVERSITY DR', '210', 'CARSON CA', '90746']\n",
      "['6141-001-042', '20131223-50', 'nonReapp', 'Y', 'YAA PROPERTY MANAGEMENT LLC', '', '', '', '1924', '', 'W', 'ALONDRA BLVD', '', 'COMPTON', '90220-3537', '6530', '', '', 'UNIVERSITY WAY', '', 'BUENA PARK CA', '90620-4600']\n",
      "['6141-001-042', '20130417-50', '', 'N', 'CHUNG,YONG R', '', '', '', '1924', '', 'W', 'ALONDRA BLVD', '', 'COMPTON', '90220-3537', '6530', '', '', 'UNIVERSITY WAY', '', 'BUENA PARK CA', '90620-4600']\n",
      "['6144-014-004', '20120720-50', 'nonReapp', 'Y', 'WILSON,NATASHA TR', 'NATASHA WILSON TRUST', '', '', '1023', '', 'W', '137TH ST', '', 'COMPTON CA', '90222-3307', '603', '', '', 'UNIVERSITY DR STE B', 'PMB 260', 'CARSON CA', '90746-1971']\n",
      "['6149-019-040', '20101105-50', 'nonReapp', 'Y', 'CHARLES DREW UNIVERSITY OF', 'MEDICINE AND SCIENCE LESSOR', 'REGENTS OF UNIVERSITY CA LESSEE', 'C/O ELIZABETH GARCIA', '1748', '', 'E', '118TH ST', '', 'LOS ANGELES CA', '90059-2518', '1731', '', 'E', '120TH ST', '', 'LOS ANGELES CA', '90059-3051']\n",
      "['6149-019-040', '20100915-50', '', 'N', 'CHARLES DREW UNIVERSITY OF', '', '', 'C/O ELIZABETH GARCIA', '1748', '', 'E', '118TH ST', '', 'LOS ANGELES CA', '90059-2518', '1731', '', 'E', '120TH ST', '', 'LOS ANGELES CA', '90059-3051']\n",
      "['6149-019-911', '19810417-50', 'other', 'Y', 'REGENTS OF THE UNIVERSITY OF CAL', '', '', '', '0', '', '', '', '', '', '', '1111', '', '', 'FRANKLIN ST', '6TH  FLR', 'OAKLAND CA', '94607-5201']\n",
      "['6149-019-915', '19901228-50', 'nonReapp', 'Y', 'REGENTS OF THE UNIVERSITY OF', 'CALIFORNIA', '', '', '1672', '', 'E', '118TH ST', '', 'WILLOWBROOK CA', '90059-2516', '615', '', '', 'UNIVERSITY HALL', '', 'BERKELEY CA', '94720-1171']\n",
      "['6149-019-916', '19901228-50', 'nonReapp', 'Y', 'REGENTS OF THE UNIVERSITY OF', 'CALIFORNIA', '', '', '1674', '', 'E', '118TH ST', '', 'WILLOWBROOK', '90059-2516', '615', '', '', 'UNIVERSITY HALL', '', 'BERKELEY CA', '94720-1171']\n",
      "['6149-019-917', '19901228-50', 'nonReapp', 'Y', 'REGENTS OF THE UNIVERSITY OF', 'CALIFORNIA', '', '', '1674', '', 'E', '118TH ST', '', 'WILLOWBROOK', '90059-2516', '615', '', '', 'UNIVERSITY HALL', '', 'BERKELEY CA', '94720-1171']\n",
      "['6149-021-039', '20030612-50', '', 'Y', 'CHARLES R DREW UNIVERSITY OF', 'MEDICINE AND SCIENCE', '', '', '0', '', '', '', '', '', '', '1621', '', 'E', '120TH ST', '', 'LOS ANGELES CA', '90059-3025']\n",
      "['6149-021-040', '20030612-50', '', 'Y', 'CHARLES R DREW UNIVERSITY OF', 'MEDICINE AND SCIENCE', '', '', '1623', '', 'E', '118TH PL', '', 'LOS ANGELES CA', '90059-3055', '1621', '', 'E', '120TH ST', '', 'LOS ANGELES CA', '90059-3025']\n",
      "['6167-031-009', '20060801-50', 'nonReapp', 'Y', 'LOVE,DEBRA S', '', '', '', '1302', '', 'E', 'PECK ST', '', 'COMPTON CA', '90221-1531', '601', '', 'E', 'UNIVERSITY DR', '# 717', 'CARSON CA', '90746-1966']\n",
      "['6211-024-016', '19930622-50', 'nonReapp', 'N', 'DRACHENBERG,ROLANDO G CO TR', '', '', '', '8181', '', '', 'COMMERCIAL PL', '', 'SOUTH GATE CA', '90280-2001', '24414', '', '', 'UNIVERSITY AVE', 'SPC 130', 'LOMA LINDA CA', '92354-2627']\n",
      "['6247-006-022', '20080605-50', '', 'Y', 'UNIVERSITY BIBLE FELLOWSHIP', 'CHURCH LOS ANGELES CHAPTER', '', '', '11631', '', '', 'PARAMOUNT BLVD', '', 'DOWNEY CA', '90241-4531', '11625', '', '', 'PARAMOUNT BLVD', '', 'DOWNEY CA', '90241-4531']\n",
      "['6247-006-023', '19991112-50', '', 'Y', 'UNIVERSITY BIBLE FELLOWSHIP', '', '', '', '11625', '', '', 'PARAMOUNT BLVD', '', 'DOWNEY CA', '90241-4531', '', '', '', '', '', '', '']\n",
      "['6248-025-024', '19900914-50', '', 'Y', 'GULLAS,EDUARDO R AND NORMA S', '', '', '', '7610', '', '', 'FONTANA ST', '', 'DOWNEY CA', '90241-4730', '0', '', '', 'UNIVERSITY OF THE VISAYAS', '', 'CEBU CITY PHILIPPINES', '99999']\n",
      "['6336-009-039', '20140131-50', 'other', 'Y', 'HHI LOS ANGELES LLC', '', '', '', '0', '', '', '', '', '', '', '3452', '', '', 'UNIVERSITY AVE', '', 'RIVERSIDE CA', '92501-3327']\n",
      "['7012-017-008', '19840621-50', '', 'Y', 'LEE,IVAN', '', '', '', '12662', '', '', 'PARK ST', '', 'CERRITOS CA', '90703-1165', '2074', '', '', 'UNIVERSITY PARK DR', '', 'SACRAMENTO CA', '95825-8208']\n",
      "['4402-022-011', '20161007-50', '', 'Y', 'SEGER,BRENDA', '', '', '', '12139', '', 'W', 'SUNSET BLVD', '', 'LOS ANGELES CA', '90049-4103', '683', '', '', 'UNIVERSITY DR', '', 'JASPER IN', '47546-8454']\n",
      "['4404-017-025', '19680000-50', 'other', 'Y', 'UNIVERSITY SYNOGOGUE', '', '', '', '11960', '', 'W', 'SUNSET BLVD', '', 'LOS ANGELES CA', '90049-4228', '', '', '', '', '', '', '']\n",
      "['4411-013-009', '20070430-50', 'nonReapp', 'Y', 'YANG,CHIH KONG AND PANSY TRS', 'YANG TRUST AND', '611 TOYOPA LLC', '', '611', '', '', 'TOYOPA DR', '', 'LOS ANGELES CA', '90272-4472', '720', '', '', 'UNIVERSITY AVE', '200', 'LOS GATOS CA', '95032-7651']\n",
      "['4411-013-009', '20050706-50', '', 'N', '611 TOYOPA LLC AND', '', '', 'CFM GREG HARDESTER', '611', '', '', 'TOYOPA DR', '', 'LOS ANGELES CA', '90272-4472', '720', '', '', 'UNIVERSITY AVE', '# 200', 'LOS GATOS CA', '95032-7651']\n",
      "['4416-007-018', '19750520-50', 'other', 'Y', 'PEPPERDINE UNIVERSITY', '', '', '', '0', '', '', '', '', '', '', '24255', '', '', 'PACIFIC COAST HWY', '', 'MALIBU CA', '90263-3999']\n",
      "['4416-007-032', '19750520-50', 'other', 'Y', 'PEPPERDINE UNIVERSITY', '', '', '', '556', '', '', 'CATALONIA AVE', '', 'LOS ANGELES CA', '90272-3010', '24255', '', '', 'PACIFIC COAST HWY', '', 'MALIBU CA', '90263-3999']\n",
      "['4416-007-035', '19750520-50', 'other', 'Y', 'PEPPERDINE UNIVERSITY', '', '', '', '0', '', '', '', '', '', '', '24255', '', '', 'PACIFIC COAST HWY', '', 'MALIBU CA', '90263-3999']\n",
      "['4416-019-050', '20050923-50', '', 'Y', 'PEPPERDINE UNIVERSITY', '', '', '', '557', '', '', 'CATALONIA AVE', '', 'PACIFIC PLSDS CA', '90272-3011', '24255', '', '', 'PACIFIC COAST HWY', '', 'MALIBU CA', '90263-4109']\n",
      "['4416-019-051', '20050923-50', '', 'Y', 'PEPPERDINE UNIVERSITY', '', '', '', '0', '', '', '', '', '', '', '24255', '', '', 'PACIFIC COAST HWY', '', 'MALIBU CA', '90263-4109']\n",
      "['4416-024-037', '20070316-50', 'nonReapp', 'Y', 'YOSHITAKE,HITOMI TR', 'HITOMI YOSHITAKE TRUST', '', '', '221', '', '', 'QUADRO VECCHIO DR', '', 'LOS ANGELES CA', '90272-3113', '786', '', '', 'UNIVERSITY AVE', '', 'PALO ALTO CA', '94301-2130']\n",
      "['4419-017-014', '20030808-50', 'nonReapp', 'Y', 'WRIGHT,CYNTHIA', '', '', 'PEPPERDINE UNIVERSITY', '17054', '', '', 'BOLLINGER DR', '', 'LOS ANGELES CA', '90272-3223', '17054', '', '', 'BOLLINGER DR', '', 'PACIFIC PALISADES CA', '90272-3223']\n",
      "['4442-008-018', '19570704-50', 'other', 'N', 'RASSP,HERMAN', '', '', '', '0', '', '', '', '', '', '', '0', '', '', '631 UNIVERSITY AVE', '', 'BURBANK CALIF', '91504']\n",
      "['4442-010-003', '19570704-50', 'other', 'N', 'RASSP,HERMAN', '', '', '', '0', '', '', '', '', '', '', '0', '', '', '631 UNIVERSITY AVE', '', 'BURBANK CALIF', '91504']\n",
      "['4442-029-003', '19570704-50', 'other', 'N', 'RASSP,HERMAN', '', '', '', '0', '', '', '', '', '', '', '0', '', '', '631 UNIVERSITY AVE', '', 'BURBANK CALIF', '91504']\n",
      "['4455-024-905', '19951113-50', 'nonReapp', 'Y', 'REGENTS OF THE UNIVERSITY OF', 'CALIF', '', '', '0', '', '', '', '', '', '', '300', '', '', 'LAKESIDE DR', '9TH FL', 'OAKLAND CA', '94612-3534']\n",
      "['4457-004-051', '19810128-50', 'other', 'Y', 'PEPPERDINE UNIVERSITY', '', '', '', '0', '', '', '', '', '', '', '24255', '', '', 'PACIFIC COAST HWY', '', 'MALIBU CA', '90263-3999']\n",
      "['4457-004-052', '19810128-50', 'other', 'Y', 'PEPPERDINE UNIVERSITY', '', '', '', '0', '', '', '', '', '', '', '24255', '', '', 'PACIFIC COAST HWY', '', 'MALIBU CA', '90263-3999']\n",
      "['4457-004-053', '19810128-50', 'other', 'Y', 'PEPPERDINE UNIVERSITY', '', '', '', '0', '', '', '', '', '', '', '24255', '', '', 'PACIFIC COAST HWY', '', 'MALIBU CA', '90263-3999']\n",
      "['4457-004-054', '19830414-50', 'PartInt', 'Y', 'PEPPERDINE UNIVERSITY', '', '', '', '0', '', '', '', '', '', '', '24255', '', '', 'PACIFIC COAST HWY', '', 'MALIBU CA', '90263-3999']\n",
      "['4457-004-074', '19730301-50', 'other', 'Y', 'PEPPERDINE UNIVERSITY', '', '', '', '0', '', '', '', '', '', '', '24255', '', '', 'PACIFIC COAST HWY', '', 'MALIBU CA', '90263-3999']\n",
      "['4457-004-075', '19741101-50', 'other', 'Y', 'PEPPERDINE UNIVERSITY', '', '', '', '0', '', '', '', '', '', '', '24255', '', '', 'PACIFIC COAST HWY', '', 'MALIBU CA', '90263-3999']\n",
      "['4457-005-026', '19730301-50', 'other', 'Y', 'PEPPERDINE UNIVERSITY', '', '', '', '0', '', '', '', '', '', '', '24255', '', '', 'PACIFIC COAST HWY', '', 'MALIBU CA', '90263-3999']\n",
      "['4457-024-004', '19810128-50', 'other', 'Y', 'PEPPERDINE UNIVERSITY', '', '', '', '24255', '', '', 'PACIFIC COAST HWY', '', 'MALIBU CA', '90263-3999', '', '', '', '', '', '', '']\n",
      "['4457-024-005', '19810128-50', 'other', 'Y', 'PEPPERDINE UNIVERSITY', '', '', '', '0', '', '', '', '', '', '', '24255', '', '', 'PACIFIC COAST HWY', '', 'MALIBU CA', '90263-3999']\n",
      "['4457-024-006', '19810128-50', 'other', 'Y', 'PEPPERDINE UNIVERSITY', '', '', '', '0', '', '', '', '', '', '', '24255', '', '', 'PACIFIC COAST HWY', '', 'MALIBU CA', '90263-3999']\n",
      "['4457-024-007', '19830414-50', 'PartInt', 'Y', 'PEPPERDINE UNIVERSITY', '', '', '', '0', '', '', '', '', '', '', '24255', '', '', 'PACIFIC COAST HWY', '', 'MALIBU CA', '90263-3999']\n",
      "['4457-024-008', '19810128-50', 'other', 'Y', 'PEPPERDINE UNIVERSITY', '', '', '', '0', '', '', '', '', '', '', '24255', '', '', 'PACIFIC COAST HWY', '', 'MALIBU CA', '90263-3999']\n",
      "['4457-024-009', '19810128-50', 'other', 'Y', 'PEPPERDINE UNIVERSITY', '', '', '', '0', '', '', '', '', '', '', '24255', '', '', 'PACIFIC COAST HWY', '', 'MALIBU CA', '90263-3999']\n",
      "['4457-024-010', '19810128-50', 'other', 'Y', 'PEPPERDINE UNIVERSITY', '', '', '', '0', '', '', '', '', '', '', '24255', '', '', 'PACIFIC COAST HWY', '', 'MALIBU CA', '90263-3999']\n",
      "['4457-024-011', '19810128-50', 'other', 'Y', 'PEPPERDINE UNIVERSITY', '', '', '', '0', '', '', '', '', '', '', '24255', '', '', 'PACIFIC COAST HWY', '', 'MALIBU CA', '90263-3999']\n",
      "['4457-024-021', '19810128-50', 'other', 'Y', 'PEPPERDINE UNIVERSITY', '', '', '', '0', '', '', '', '', '', '', '24255', '', '', 'PACIFIC COAST HWY', '', 'MALIBU CA', '90263-3999']\n",
      "['4457-024-030', '19810128-50', 'other', 'Y', 'PEPPERDINE UNIVERSITY', '', '', '', '0', '', '', '', '', '', '', '24255', '', '', 'PACIFIC COAST HWY', '', 'MALIBU CA', '90263-3999']\n",
      "['4457-024-031', '19830414-50', 'PartInt', 'Y', 'PEPPERDINE UNIVERSITY', '', '', '', '0', '', '', '', '', '', '', '24255', '', '', 'PACIFIC COAST HWY', '', 'MALIBU CA', '90263-3999']\n",
      "['4457-024-032', '19810128-50', 'other', 'Y', 'PEPPERDINE UNIVERSITY', '', '', '', '0', '', '', '', '', '', '', '24255', '', '', 'PACIFIC COAST HWY', '', 'MALIBU CA', '90263-3999']\n",
      "['4457-024-033', '19830414-50', 'PartInt', 'Y', 'PEPPERDINE UNIVERSITY', '', '', '', '0', '', '', '', '', '', '', '24255', '', '', 'PACIFIC COAST HWY', '', 'MALIBU CA', '90263-3999']\n",
      "['4457-024-034', '19830414-50', 'PartInt', 'Y', 'PEPPERDINE UNIVERSITY', '', '', '', '0', '', '', '', '', '', '', '24255', '', '', 'PACIFIC COAST HWY', '', 'MALIBU CA', '90263-3999']\n",
      "['4457-024-035', '19830414-50', 'PartInt', 'Y', 'PEPPERDINE UNIVERSITY', '', '', '', '0', '', '', '', '', '', '', '24255', '', '', 'PACIFIC COAST HWY', '', 'MALIBU CA', '90263-3999']\n",
      "['4457-024-050', '20160909-50', '', 'Y', 'PEPPERDINE UNIVERSITY', '', '', 'C/O REALESTATE OPERATIONS TAC100', '24402', '', '', 'CHAPPAREL CIR', '', 'MALIBU CA', '90265', '24255', '', '', 'PACIFIC COAST HWY', '', 'MALIBU CA', '90263-0001']\n",
      "['4457-024-074', '20161014-50', '', 'Y', 'PEPPERDINE UNIVERSITY', '', '', '', '24543', '', '', 'MARIPOSA CIR', '', 'MALIBU CA', '90265-3203', '24255', '', '', 'PACIFIC COAST HWY', '', 'MALIBU CA', '90263-0001']\n",
      "['4457-024-085', '20130815-50', '', 'Y', 'PEPPERDINE UNIVERSITY', '', '', 'C/O REAL ESTATE OPERATIONS', '24561', '', '', 'VIA DE CASA', '', 'MALIBU CA', '90265-3205', '24255', '', '', 'PACIFIC COAST HWY', '', 'MALIBU CA', '90263-4109']\n",
      "['4457-024-093', '19810128-50', 'other', 'Y', 'PEPPERDINE UNIVERSITY', '', '', '', '24550', '', '', 'VIA DE CASA', '', 'MALIBU CA', '90265-3204', '24255', '', '', 'PACIFIC COAST HWY', '', 'MALIBU CA', '90263-3999']\n",
      "['4457-024-094', '19810128-50', 'other', 'Y', 'PEPPERDINE UNIVERSITY', '', '', '', '24552', '', '', 'VIA DE CASA', '', 'MALIBU CA', '90265-3204', '24255', '', '', 'PACIFIC COAST HWY', '', 'MALIBU CA', '90263-3999']\n",
      "['4457-024-100', '20090630-50', '', 'Y', 'PEPPERDINE UNIVERSITY', '', '', '', '24562', '', '', 'VIA DE CASA', '', 'MALIBU CA', '90265-3206', '24255', '', '', 'PACIFIC COAST HWY', '', 'MALIBU CA', '90263-4109']\n",
      "['4457-024-110', '20140724-50', '', 'Y', 'PEPPERDINE UNIVERSITY', '', '', 'C/O REAL ESTATE OPS TAC 100', '24565', '', '', 'VIA DE CASA', '', 'MALIBU CA', '90265-3205', '24255', '', '', 'PACIFIC COAST HWY', '', 'MALIBU CA', '90263-4109']\n",
      "['4458-030-021', '19851217-50', 'other', 'Y', 'PEPPERDINE UNIVERSITY', '', '', '', '0', '', '', '', '', '', '', '24255', '', '', 'PACIFIC COAST HWY', '', 'MALIBU CA', '90263-3999']\n",
      "['4458-030-022', '19851217-50', 'other', 'Y', 'PEPPERDINE UNIVERSITY', '', '', '', '0', '', '', '', '', '', '', '24255', '', '', 'PACIFIC COAST HWY', '', 'MALIBU CA', '90263-3999']\n",
      "['4458-030-030', '19720302-50', 'other', 'Y', 'PEPPERDINE UNIVERSITY', '', '', '', '0', '', '', '', '', '', '', '24255', '', '', 'PACIFIC COAST HWY', '', 'MALIBU CA', '90263-3999']\n",
      "['4458-030-031', '19851217-50', 'other', 'Y', 'PEPPERDINE UNIVERSITY', '', '', '', '0', '', '', '', '', '', '', '24255', '', '', 'PACIFIC COAST HWY', '', 'MALIBU CA', '90263-3999']\n",
      "['4458-030-032', '19851217-50', 'other', 'Y', 'PEPPERDINE UNIVERSITY', '', '', '', '0', '', '', '', '', '', '', '24255', '', '', 'PACIFIC COAST HWY', '', 'MALIBU CA', '90263-3999']\n",
      "['4458-030-033', '19710503-50', 'other', 'Y', 'PEPPERDINE UNIVERSITY', '', '', '', '0', '', '', '', '', '', '', '24255', '', '', 'PACIFIC COAST HWY', '', 'MALIBU CA', '90263-3999']\n",
      "['4458-030-035', '19710503-50', 'other', 'Y', 'PEPPERDINE UNIVERSITY', '', '', '', '0', '', '', '', '', '', '', '24255', '', '', 'PACIFIC COAST HWY', '', 'MALIBU CA', '90263-3999']\n",
      "['4458-030-042', '19710503-50', 'other', 'Y', 'PEPPERDINE UNIVERSITY', '', '', '', '24255', '', '', 'PACIFIC COAST HWY', '', 'MALIBU CA', '90263-3999', '', '', '', '', '', '', '']\n",
      "['4458-031-011', '19810128-50', 'other', 'Y', 'PEPPERDINE UNIVERSITY', '', '', '', '0', '', '', '', '', '', '', '24255', '', '', 'PACIFIC COAST HWY', '', 'MALIBU CA', '90263-3999']\n",
      "['4458-031-013', '19810128-50', 'other', 'Y', 'PEPPERDINE UNIVERSITY', '', '', '', '0', '', '', '', '', '', '', '24255', '', '', 'PACIFIC COAST HWY', '', 'MALIBU CA', '90263-3999']\n",
      "['4458-031-014', '19810128-50', 'other', 'Y', 'PEPPERDINE UNIVERSITY', '', '', '', '0', '', '', '', '', '', '', '24255', '', '', 'PACIFIC COAST HWY', '', 'MALIBU CA', '90263-3999']\n",
      "['4458-033-002', '20141223-50', '', 'Y', 'PEPPERDINE UNIVERSITY', '', '', 'C/O REAL ESTATE OPER TAC 100', '24539', '', '', 'VANTAGE POINT TER', '', 'MALIBU CA', '90265-4721', '24255', '', '', 'PACIFIC COAST HWY', '', 'MALIBU CA', '90263-4109']\n",
      "['4458-033-025', '19761103-50', 'other', 'Y', 'PEPPERDINE UNIVERSITY', '', '', '', '3824', '', '', 'MALIBU COUNTRY DR', '', 'MALIBU CA', '90265-4717', '24255', '', '', 'PACIFIC COAST HWY', '', 'MALIBU CA', '90263-3999']\n",
      "['4458-034-020', '20120316-50', '', 'Y', 'PEPPERDINE UNIVERSITY', '', '', 'C/O DENNIS TORRES AND C PIPPIN', '3601', '', '', 'FOREST GATE CIR', '', 'MALIBU CA', '90265-4741', '24255', '', '', 'PACIFIC COAST HWY', 'TAC 100', 'MALIBU CA', '90263-4109']\n",
      "['4458-034-023', '20150302-50', '', 'Y', 'PEPPERDINE UNIVERSITY CORP', '', '', '', '3602', '', '', 'FOREST GATE CIR', '', 'MALIBU CA', '90265-4741', '24255', '', '', 'PACIFIC COAST HWY', 'UNIT 100', 'MALIBU CA', '90263-0001']\n",
      "['4458-037-017', '19770826-50', 'other', 'Y', 'PEPPERDINE UNIVERSITY', '', '', '', '0', '', '', '', '', '', '', '24255', '', '', 'PACIFIC COAST HWY', '', 'MALIBU CA', '90263-3999']\n",
      "['4458-037-018', '19770826-50', 'other', 'Y', 'PEPPERDINE UNIVERSITY', '', '', '', '0', '', '', '', '', '', '', '24255', '', '', 'PACIFIC COAST HWY', '', 'MALIBU CA', '90263-3999']\n",
      "['4458-037-019', '19770826-50', 'other', 'Y', 'PEPPERDINE UNIVERSITY', '', '', '', '24255', '', '', 'PACIFIC COAST HWY', '', 'MALIBU CA', '90263-3999', '', '', '', '', '', '', '']\n",
      "['4458-037-020', '19770826-50', 'other', 'Y', 'PEPPERDINE UNIVERSITY', '', '', '', '24255', '', '', 'PACIFIC COAST HWY', '', 'MALIBU CA', '90263-3999', '', '', '', '', '', '', '']\n",
      "['4458-037-023', '19770826-50', 'other', 'Y', 'PEPPERDINE UNIVERSITY', '', '', '', '24255', '', '', 'PACIFIC COAST HWY', '', 'MALIBU CA', '90263-3999', '', '', '', '', '', '', '']\n",
      "['4458-037-024', '19770826-50', 'other', 'Y', 'PEPPERDINE UNIVERSITY', '', '', '', '0', '', '', '', '', '', '', '24255', '', '', 'PACIFIC COAST HWY', '', 'MALIBU CA', '90263-3999']\n",
      "['4458-037-027', '19720302-50', 'other', 'Y', 'PEPPERDINE UNIVERSITY', '', '', '', '24255', '', '', 'PACIFIC COAST HWY', '', 'MALIBU CA', '90263-3999', '', '', '', '', '', '', '']\n",
      "['4458-037-028', '19720302-50', 'other', 'Y', 'PEPPERDINE UNIVERSITY', '', '', '', '24255', '', '', 'PACIFIC COAST HWY', '', 'MALIBU CA', '90263-3999', '', '', '', '', '', '', '']\n",
      "['4458-037-029', '19720302-50', 'other', 'Y', 'PEPPERDINE UNIVERSITY', '', '', '', '24255', '', '', 'PACIFIC COAST HWY', '', 'MALIBU CA', '90263-3999', '', '', '', '', '', '', '']\n",
      "['4458-037-030', '19741101-50', 'other', 'Y', 'PEPPERDINE UNIVERSITY', '', '', '', '0', '', '', '', '', '', '', '24255', '', '', 'PACIFIC COAST HWY', '', 'MALIBU CA', '90263-3999']\n",
      "['4458-037-031', '19720302-50', 'other', 'Y', 'PEPPERDINE UNIVERSITY', '', '', '', '24255', '', '', 'PACIFIC COAST HWY', '', 'MALIBU CA', '90263-3999', '', '', '', '', '', '', '']\n",
      "['4458-037-033', '19770826-50', 'other', 'Y', 'PEPPERDINE UNIVERSITY', '', '', '', '24255', '', '', 'PACIFIC COAST HWY', '', 'MALIBU CA', '90263-3999', '', '', '', '', '', '', '']\n",
      "['4458-037-034', '19720302-50', 'other', 'Y', 'PEPPERDINE UNIVERSITY', '', '', '', '0', '', '', '', '', '', '', '24255', '', '', 'PACIFIC COAST HWY', '', 'MALIBU CA', '90263-3999']\n",
      "['4458-038-003', '19770826-50', 'other', 'Y', 'PEPPERDINE UNIVERSITY', '', '', '', '24255', '', '', 'PACIFIC COAST HWY', '', 'MALIBU CA', '90263-3999', '', '', '', '', '', '', '']\n",
      "['4458-038-004', '19770826-50', 'other', 'Y', 'PEPPERDINE UNIVERSITY', '', '', '', '24255', '', '', 'PACIFIC COAST HWY', '', 'MALIBU CA', '90263-3999', '', '', '', '', '', '', '']\n",
      "['4458-038-005', '19770826-50', 'other', 'Y', 'PEPPERDINE UNIVERSITY', '', '', '', '24255', '', '', 'PACIFIC COAST HWY', '', 'MALIBU CA', '90263-3999', '', '', '', '', '', '', '']\n",
      "['4458-038-006', '19770826-50', 'other', 'Y', 'PEPPERDINE UNIVERSITY', '', '', '', '24255', '', '', 'PACIFIC COAST HWY', '', 'MALIBU CA', '90263-3999', '', '', '', '', '', '', '']\n",
      "['4458-038-007', '19710503-50', 'other', 'Y', 'PEPPERDINE UNIVERSITY', '', '', '', '24255', '', '', 'PACIFIC COAST HWY', '', 'MALIBU CA', '90263-3999', '', '', '', '', '', '', '']\n",
      "['4458-038-008', '19770826-50', 'other', 'Y', 'PEPPERDINE UNIVERSITY', '', '', '', '0', '', '', '', '', '', '', '24255', '', '', 'PACIFIC COAST HWY', '', 'MALIBU CA', '90263-3999']\n",
      "['4458-038-009', '19770826-50', 'other', 'Y', 'PEPPERDINE UNIVERSITY', '', '', '', '0', '', '', '', '', '', '', '24255', '', '', 'PACIFIC COAST HWY', '', 'MALIBU CA', '90263-3999']\n",
      "['4458-038-010', '19770826-50', 'other', 'Y', 'PEPPERDINE UNIVERSITY', '', '', '', '24255', '', '', 'PACIFIC COAST HWY', '', 'MALIBU CA', '90263-3999', '', '', '', '', '', '', '']\n",
      "['4458-038-011', '19770826-50', 'other', 'Y', 'PEPPERDINE UNIVERSITY', '', '', '', '0', '', '', '', '', '', '', '24255', '', '', 'PACIFIC COAST HWY', '', 'MALIBU CA', '90263-3999']\n",
      "['4458-039-002', '19741101-50', 'other', 'Y', 'PEPPERDINE UNIVERSITY', '', '', '', '0', '', '', '', '', '', '', '24255', '', '', 'PACIFIC COAST HWY', '', 'MALIBU CA', '90263-3999']\n",
      "['4458-039-006', '19741101-50', 'other', 'Y', 'PEPPERDINE UNIVERSITY', '', '', '', '0', '', '', '', '', '', '', '24255', '', '', 'PACIFIC COAST HWY', '', 'MALIBU CA', '90263-3999']\n",
      "['4458-039-011', '20151026-50', '', 'Y', 'PEPPERDINE UNIVERSITY', '', '', 'C/O REAL ESTATE OPS TAC-100', '24374', '', '', 'BAXTER DR', '', 'MALIBU CA', '90265-4744', '24255', '', '', 'PACIFIC COAST HWY', '', 'MALIBU CA', '90263-0001']\n",
      "['4458-039-035', '20160525-50', '', 'Y', 'PEPPERDINE UNIVERSITY', '', '', 'C/O REAL ESTATE OPERATION TAC100', '24340', '', '', 'BAXTER DR', '', 'MALIBU CA', '90265-4742', '24255', '', '', 'PACIFIC COAST HWY', '', 'MALIBU CA', '90263-0001']\n",
      "['4458-039-046', '20150513-50', '', 'Y', 'PEPPERDINE UNIVERSITY', '', '', 'C/O REAL ESTATE OPERATIONS', '24317', '', '', 'BAXTER DR', '', 'MALIBU CA', '90265-4728', '24255', '', '', 'PACIFIC COAST HWY', 'TAC 100', 'MALIBU CA', '90263-3999']\n",
      "['4458-039-057', '20060731-50', '', 'Y', 'PEPPERDINE UNIVERSITY', '', '', 'REAL ESTATE OPERATIONS TAC 100', '24440', '', '', 'TINER CT', '', 'MALIBU CA', '90265-4705', '24255', '', '', 'PACIFIC COAST HWY', '', 'MALIBU CA', '90265-4109']\n",
      "['4458-039-078', '19741101-50', 'other', 'Y', 'PEPPERDINE UNIVERSITY', '', '', '', '0', '', '', '', '', '', '', '24255', '', '', 'PACIFIC COAST HWY', '', 'MALIBU CA', '90263-3999']\n",
      "['4458-040-002', '20160525-50', '', 'Y', 'PEPPERDINE UNIVERSITY', '', '', 'C/O REAL ESTATE OPERATIONS', '24721', '', '', 'LAUREL RIDGE DR', '', 'MALIBU CA', '90265-4756', '24255', '', '', 'PACIFIC COAST HWY', 'TAC 100', 'MALIBU CA', '90263-3999']\n",
      "['4467-013-059', '20130322-50', '', 'Y', 'BIG PARTNERS LTD LP', '', '', '', '6479', '', '', 'ZUMA VIEW PL', '111', 'MALIBU CA', '90265-4486', '191', '', '', 'UNIVERSITY BLVD', 'UNIT 338', 'DENVER CO', '80206-4613']\n",
      "['4467-032-047', '20120511-50', '', 'Y', 'SAHIN,TORAMAN AND AYSEGUL', '', '', '', '28224', '', '', 'REY DE COPAS LN', '', 'MALIBU CA', '90265-4461', '3803', '', '', 'UNIVERSITY BLVD', '', 'HOUSTON TX', '77005-2801']\n",
      "['4470-015-019', '19971223-50', '', 'Y', 'PEPPERDINE UNIVERSITY', '', '', 'REAL ESTATE OPERATIONS', '31232', '', '', 'BROAD BEACH RD', '', 'MALIBU CA', '90265-2667', '24255', '', '', 'PACIFIC COAST HWY', '', 'MALIBU CA', '90263-4109']\n",
      "['4470-015-020', '19970715-50', '', 'Y', 'PEPPERDINE UNIVERSITY', '', '', '', '31236', '', '', 'BROAD BEACH RD', '', 'MALIBU CA', '90265-2667', '24255', '', '', 'PACIFIC COAST HWY', 'TAC-4', 'MALIBU CA', '90263-3999']\n",
      "['2786-001-034', '20050124-50', 'nonReapp', 'Y', 'MULLIN,TERRY TR', 'TERRY AND SHARON MULLIN TRUST', '', 'NATHAN BESSIN', '18300', '', '', 'PARTHENIA ST', '', 'LOS ANGELES CA', '91325-3306', '3717', '', 'S', 'UNIVERSITY DR', '', 'FORT WORTH TX', '76109-3719']\n",
      "['2786-016-013', '19991015-50', 'nonReapp', 'Y', 'TANNENBAUM,WILLIAM Z ET AL', '', 'ADLER,MARTHA M', '', '8354', '', '', 'ETIWANDA AVE', '', 'LOS ANGELES CA', '91325-3740', '840', '', '', 'LIONSGATE DRIVE', '', 'UNIVERSITY CITY MO', '63130']\n",
      "['2818-004-035', '19640203-50', 'other', 'N', 'RASSP,HERMAN', '', '', '', '0', '', '', '', '', '', '', '0', '', '', '631 UNIVERSITY AVE', '', 'BURBANK CALIF', '91504']\n",
      "['2818-004-047', '19640203-50', 'other', 'N', 'RASSP,HERMAN', '', '', '', '0', '', '', '', '', '', '', '0', '', '', '631 UNIVERSITY AVE', '', 'BURBANK CALIF', '91504']\n",
      "['2818-008-006', '19640203-50', 'other', 'N', 'RASSP,HERMAN', '', '', '', '0', '', '', '', '', '', '', '0', '', '', '631 UNIVERSITY AVE', '', 'BURBANK CALIF', '91504']\n",
      "['2818-008-013', '19640203-50', 'other', 'N', 'RASSP,HERMAN', '', '', '', '0', '', '', '', '', '', '', '0', '', '', '631 UNIVERSITY AVE', '', 'BURBANK CALIF', '91504']\n",
      "['2818-009-007', '19670245-50', 'other', 'N', 'RASSP HERMAN', '', '', '', '0', '', '', '', '', '', '', '0', '', '', '631 UNIVERSITY AVE', '', 'BURBANK CALIF', '91504']\n",
      "['2821-016-025', '19670245-50', 'other', 'N', 'RASSP,HERMAN', '', '', '', '0', '', '', '', '', '', '', '0', '', '', '631 UNIVERSITY AVE', '', 'BURBANK CALIF', '91504']\n",
      "['2821-016-026', '19670245-50', 'other', 'N', 'RASSP HERMAN', '', '', '', '0', '', '', '', '', '', '', '0', '', '', '631 UNIVERSITY AVE', '', 'BURBANK CALIF', '91504']\n",
      "['2821-017-004', '19670245-50', 'other', 'N', 'RASSP HERMAN', '', '', '', '0', '', '', '', '', '', '', '0', '', '', '631 UNIVERSITY AVE', '', 'BURBANK CALIF', '91504']\n",
      "['2821-017-015', '19670245-50', 'other', 'N', 'RASSP,HERMAN', '', '', '', '0', '', '', '', '', '', '', '0', '', '', '631 UNIVERSITY AVE', '', 'BURBANK CALIF', '91504']\n",
      "['2821-017-017', '19670245-50', 'other', 'N', 'RASSP HERMAN', '', '', '', '0', '', '', '', '', '', '', '0', '', '', '631 UNIVERSITY AVE', '', 'BURBANK CALIF', '91504']\n",
      "['2821-017-034', '19670245-50', 'other', 'N', 'RASSP HERMAN', '', '', '', '0', '', '', '', '', '', '', '0', '', '', '631 UNIVERSITY AVE', '', 'BURBANK CALIF', '91504']\n",
      "['2821-018-010', '19670245-50', 'other', 'N', 'RASSP HERMAN', '', '', '', '0', '', '', '', '', '', '', '0', '', '', '631 UNIVERSITY AVE', '', 'BURBANK CALIF', '91504']\n",
      "['2821-018-015', '19670245-50', 'other', 'N', 'RASSP HERMAN', '', '', '', '0', '', '', '', '', '', '', '0', '', '', '631 UNIVERSITY AVE', '', 'BURBANK CALIF', '91504']\n",
      "['2821-018-034', '19670245-50', 'other', 'N', 'RASSP,HERMAN', '', '', '', '0', '', '', '', '', '', '', '0', '', '', '631 UNIVERSITY AVE', '', 'BURBANK CALIF', '91504']\n",
      "['2827-005-031', '20060330-50', '', 'Y', 'UNIVERSITY OF SOUTHERN', 'CALIFORNIA', '', 'DEE JACKSON', '0', '', '', '', '', '', '', '620', '', '', 'MC CARTHY WAY', 'STE 5', 'LOS ANGELES CA', '90089-0155']\n",
      "['2827-005-032', '20060330-50', '', 'Y', 'UNIVERSITY OF SOUTHERN', 'CALIFORNIA', '', 'DEE JACKSON', '0', '', '', '', '', '', '', '620', '', '', 'MC CARTHY WAY', 'STE 5', 'LOS ANGELES CA', '90089-0155']\n",
      "['2827-005-035', '20060330-50', '', 'Y', 'UNIVERSITY OF SOUTHERN', 'CALIFORNIA', '', 'DEE JACKSON', '0', '', '', '', '', '', '', '620', '', 'W', 'MC CARTHY WAY', 'STE 5', 'LOS ANGELES CA', '90089']\n",
      "['2833-025-039', '19750224-50', 'other', 'N', 'RASSP,HERMAN', '', '', '', '0', '', '', '', '', '', '', '631', '', '', 'UNIVERSITY AVE', '', 'BURBANK CALIF', '91504']\n",
      "['2833-030-030', '19750224-50', 'other', 'N', 'RASSP,HERMAN', '', '', '', '0', '', '', '', '', '', '', '631', '', '', 'UNIVERSITY AVE', '', 'BURBANK CALIF', '91504']\n",
      "['2845-017-021', '19670245-50', 'other', 'N', 'RASSP,HERMAN', '', '', '', '0', '', '', '', '', '', '', '0', '', '', '631 UNIVERSITY AVE', '', 'BURBANK CALIF', '91504']\n",
      "['2625-021-020', '20120322-50', 'PartInt', 'Y', 'DUGAY,ARMANDO AND GENE TRS ET AL', 'DUGAY FAMILY TRUST AND', 'MATSAMURA,J TR MATSAMURA TRUST', '', '9270', '', '', 'BEACHY AVE', '', 'LOS ANGELES CA', '91331-5611', '7304', '', '', 'UNIVERSITY DR', '', 'MOORPARK CA', '93021-3238']\n",
      "['2625-021-020', '19990202-50', 'nonReapp', 'N', 'DUGAY,GENE M AND ARMANDO G AND', '', '', '', '9270', '', '', 'BEACHY AVE', '', 'LOS ANGELES CA', '91331-5611', '7304', '', '', 'UNIVERSITY DR', '', 'MOORPARK CA', '93021-3238']\n",
      "['2627-035-002', '20120322-50', 'nonReapp', 'Y', 'DUGAY,ARMANDO G AND GENE M TRS', 'DUGAY FAMILY TRUST AND', 'MATSAMURA,J TR MATSAMURA TRUST', '', '13079', '', '', 'TONOPAH ST', '', 'LOS ANGELES CA', '91331-4943', '7304', '', '', 'UNIVERSITY DR', '', 'MOORPARK CA', '93021-3238']\n",
      "['7145-031-002', '20140523-50', 'PartInt', 'Y', 'LEE,MARTIN M AND YORK Y TRS', 'LEE TRUST AND', 'PANG,YORK M', '', '902', '', 'E', 'BIXBY RD', '', 'LONG BEACH CA', '90807-4151', '2206', '', '', 'UNIVERSITY AVE', '', 'HONOLULU HI', '96822-2213']\n",
      "['7145-031-003', '20140523-50', 'PartInt', 'Y', 'LEE,MARTIN M AND YORK Y TRS', 'LEE TRUST AND', 'PANG,YORK M', '', '3760', '', '', 'MYRTLE AVE', '', 'LONG BEACH CA', '90807-4122', '2206', '', '', 'UNIVERSITY AVE', '', 'HONOLULU HI', '96822-2213']\n",
      "['7146-013-020', '20140523-50', 'PartInt', 'Y', 'LEE,MARTIN M AND YORK Y TRS', 'LEE TRUST AND', 'PANG,YORK M', '', '3635', '', '', 'GUNDRY AVE', '', 'LONG BEACH CA', '90807-4209', '2206', '', '', 'UNIVERSITY AVE', '', 'HONOLULU HI', '96822-2213']\n",
      "['7154-002-010', '19930216-50', 'nonReapp', 'N', 'ELLIS,ANN DECD EST OF', '', '', 'GARY ELLIS', '3216', '', '', 'SANDWOOD ST', '', 'LAKEWOOD CA', '90712-3433', '13721', '', '', 'UNIVERSITY', '', 'WESTMINSTER CA', '92683']\n",
      "['7187-028-006', '19571011-50', 'other', 'Y', 'UNIVERSITY BAPTIST CHURCH', 'OF LONG BEACH', '', '', '3434', '', '', 'CHATWIN AVE', '', 'LONG BEACH CA', '90808-2613', '', '', '', '', '', '', '']\n",
      "['7191-003-002', '20030505-50', 'nonReapp', 'N', 'CLEARY,THOMAS G AND KAREN R AND', '', '', '', '3246', '', '', 'FANWOOD AVE', '', 'LONG BEACH CA', '90808-3801', '3324', '', '', 'UNIVERSITY BLVD', '', 'HOUSTON TX', '77005']\n",
      "['7191-003-002', '20020328-50', '', 'N', 'CLEARY,THOMAS G AND KAREN R', '', '', '', '3246', '', '', 'FANWOOD AVE', '', 'LONG BEACH CA', '90808-3801', '3324', '', '', 'UNIVERSITY BLVD', '', 'HOUSTON TX', '77005']\n",
      "['7210-032-040', '20160422-50', 'nonReapp', 'Y', 'MARSHALL B KETCHUM UNIVERSITY', '', '', '', '1101', '', 'E', 'PACIFIC COAST HWY', '', 'LONG BEACH CA', '90806-5101', '2575', '', '', 'YORBA LINDA BLVD', '', 'FULLERTON CA', '92831-1699']\n",
      "['7220-004-028', '20070913-50', '', 'Y', 'CALIFORNIA STATE UNIVERSITY', 'LONG BEACH FOUNDATION', '', '', '4845', '', 'E', 'PACIFIC COAST HWY', '', 'LONG BEACH CA', '90804-6906', '6300', '', '', 'STATE UNIVERSITY DR', 'STE 332', 'LONG BEACH CA', '90815']\n",
      "['7239-018-015', '19780925-50', 'other', 'Y', 'CALIFORNIA STATE UNIVERSITY', 'LONG BEACH FOUNDATION', '', '', '0', '', '', '', '', '', '', '6300', '', 'E', 'STATE UNIVERSITY DR', 'STE 332', 'LONG BEACH CA', '90815-4670']\n",
      "['7239-018-018', '19811028-50', 'other', 'Y', 'CALIFORNIA STATE UNIVERSITY', 'LONG BEACH FOUNDATION', '', '', '6300', '', 'E', 'STATE UNIVERSITY DR', '', 'LONG BEACH CA', '90815-4669', '1250', '', 'N', 'BELLFLOWER BLVD', '', 'LONG BEACH CA', '90840-0004']\n",
      "['7240-004-900', '19920313-50', 'nonReapp', 'Y', 'TRUSTEES OF THE CALIF STATE', 'UNIVERSITY AND COLLEGES', '', '', '1430', '', '', 'EL MIRADOR AVE', '', 'LONG BEACH CA', '90815-4120', '4665', '', '', 'LAMPSON AVE', '', 'LOS ALAMITOS CA', '90720-5187']\n",
      "['7258-027-009', '20130927-50', 'nonReapp', 'Y', 'ANGRISANI,JOHN AND', '', 'ANGRISANI,ANTONIO', '', '666', '', '', 'CORONADO AVE', '', 'LONG BEACH CA', '90814-1438', '13771', '', '', 'UNIVERSITY ST', '', 'WESTMINSTER CA', '92683-2769']\n",
      "['7264-028-067', '20160805-50', 'nonReapp', 'Y', 'COYNE,GARY M TR', 'GARY COYNE TRUST', '', '', '2100', '', 'E', '2ND ST', 'APT 0204', 'LONG BEACH CA', '90803-5108', '4219', '', '', 'UNIVERSITY AVE', '', 'RIVERSIDE CA', '92501-3141']\n",
      "['7265-012-199', '20140807-50', 'nonReapp', 'Y', 'RATCLIFF,MONTIE M AND', '', 'RICCA WHITE,DENISE', '', '1329', '', 'E', '1ST ST', 'APT 0037', 'LONG BEACH CA', '90802-5726', '24414', '', '', 'UNIVERSITY AVE', 'SPC 39', 'LOMA LINDA CA', '92354-2612']\n",
      "['7265-012-199', '19960303-50', '', 'N', 'RATCLIFF,MONITIE M AND', '', '', '', '1329', '', 'E', '1ST ST', 'APT 0037', 'LONG BEACH CA', '90802-5726', '24414', '', '', 'UNIVERSITY AVE', 'SPC 39', 'LOMA LINDA CA', '92354-2612']\n",
      "['7266-026-020', '20001201-50', '', 'Y', 'SPICER,BLYTHE E AND', '', 'SPICER,DONALD W', '', '1900', '', 'E', '5TH ST', '', 'LONG BEACH CA', '90802-2023', '970', '', '', 'UNIVERSITY AVE', '', 'PALO ALTO CA', '94301-2234']\n",
      "['7267-029-005', '19951113-50', '', 'Y', 'HALL,DONALD R', '', '', '', '724', '', '', 'GAVIOTA AVE', '', 'LONG BEACH CA', '90813-5089', '603', '', 'E', 'UNIVERSITY DR STE B', 'PMB 315', 'CARSON CA', '90746-1971']\n",
      "['7269-021-019', '20090225-50', '', 'Y', 'HANSEO UNIVERSITY', '', '', 'C/O SEBASTIAN HAN', '318', '', 'E', 'ESTHER ST', '', 'LONG BEACH CA', '90813-1912', '1600', '', '', 'LONG BEACH BLVD', '2ND FL', 'LONG BEACH CA', '90813-1930']\n",
      "['7269-021-020', '20090225-50', '', 'Y', 'HANSEO UNIVERSITY', '', '', 'C/O SEBASTIAN HAN', '1730', '', '', 'LONG BEACH BLVD', '', 'LONG BEACH CA', '90813-1932', '1600', '', '', 'LONG BEACH BLVD', '2ND FL', 'LONG BEACH CA', '90813-1930']\n",
      "['7269-022-001', '20090227-50', '', 'Y', 'HANSEO UNIVERSITY', '', '', '', '1600', '', '', 'LONG BEACH BLVD', '', 'LONG BEACH CA', '90813-1930', '', '', '', '', '', '', '']\n",
      "['7269-022-003', '20090227-50', '', 'Y', 'HANSEO UNIVERSITY', '', '', '', '1628', '', '', 'LONG BEACH BLVD', '', 'LONG BEACH CA', '90813-1930', '1600', '', '', 'LONG BEACH BLVD', '', 'LONG BEACH CA', '90813-1930']\n",
      "['7269-022-004', '20030131-50', '', 'Y', 'HANSEO UNIVERSITY', '', '', '', '1640', '', '', 'LONG BEACH BLVD', '', 'LONG BEACH CA', '90813-1930', '1600', '', '', 'LONG BEACH BLVD', '', 'LONG BEACH CA', '90813-1930']\n",
      "['7269-022-005', '20030131-50', '', 'Y', 'HANSEO UNIVERSITY', '', '', '', '1600', '', '', 'LONG BEACH BLVD', '', 'LONG BEACH CA', '90813-1930', '', '', '', '', '', '', '']\n",
      "['7269-024-001', '20090615-50', '', 'Y', 'HANSEO UNIVERSITY', '', '', '', '402', '', 'E', '16TH ST', '', 'LONG BEACH CA', '90813-1903', '1600', '', '', 'LONG BEACH BLVD', '2ND FL', 'LONG BEACH CA', '90813-1930']\n",
      "['7269-024-002', '20080815-50', '', 'Y', 'HANSEO UNIVERSITY', '', '', '', '1584', '', '', 'ELM AVE', '', 'LONG BEACH CA', '90813-2023', '1600', '', '', 'LONG BEACH BLVD', '', 'LONG BEACH CA', '90813-1930']\n",
      "['7269-024-003', '20061229-50', '', 'Y', 'HANSEO UNIVERSITY INC', '', '', '', '412', '', 'E', '16TH ST', '', 'LONG BEACH CA', '90813-1971', '', '', '', '', '', '', '']\n",
      "['7271-022-020', '19980921-50', 'PartInt', 'N', 'ST EDWARDS UNIVERSITY ET AL', '', '', '', '910', '', 'N', 'PARK CIR', '', 'LONG BEACH CA', '90813-4031', '3001', '', 'S', 'CONGRESS AVE', '', 'AUSTIN TX', '78704']\n",
      "['7272-019-016', '20010831-50', 'nonReapp', 'Y', 'SHARON,ELISE', '', '', '', '325', '', 'W', '7TH ST', '', 'LONG BEACH CA', '90813-4205', '2746', '', '', 'LEMONS BEACH RD W', '', 'UNIVERSITY PLACE WA', '98466-1705']\n",
      "['7273-023-009', '20080813-50', '', 'Y', 'HANSEO UNIVERSITY AND', '', 'HAN,SEUNG H', '', '721', '', '', 'PINE AVE', '', 'LONG BEACH CA', '90813-4353', '3700', '', '', 'WILSHIRE BLVD', '', 'LOS ANGELES CA', '90010-2901']\n",
      "['7278-001-904', '19730604-50', 'other', 'Y', 'TRUSTEES OF THE CALIF STATE', 'UNIVERSITY AND COLLEGES', '', '', '0', '', '', '', '', '', '', '', '', '', '', '', '', '']\n",
      "['7278-001-907', '19830208-50', 'other', 'Y', 'TRUSTEES OF THE CALIF STATE', 'UNIVERSITY AND COLLEGES', '', '', '0', '', '', '', '', '', '', '', '', '', '', '', '', '']\n",
      "['7306-023-045', '19980305-50', 'nonReapp', 'Y', 'HEWSON EL PRESIDIO LLC', '', '', '', '2710', '', 'E', 'EL PRESIDIO ST', '', 'CARSON CA', '90810-1117', '4636', '', 'E', 'UNIVERSITY DR', 'STE  265', 'PHOENIX AZ', '85034']\n",
      "['7306-023-045', '19960318-50', 'PartInt', 'N', 'HEWSON,GARY J AND', '', '', 'THE HEWSON CO', '2710', '', 'E', 'EL PRESIDIO ST', '', 'CARSON CA', '90810-1117', '4636', '', 'E', 'UNIVERSITY DR', 'STE  265', 'PHOENIX AZ', '85034']\n",
      "['7306-023-046', '19980305-50', 'nonReapp', 'Y', 'HEWSON EL PRESIDIO LLC', '', '', '', '2730', '', 'E', 'EL PRESIDIO ST', '', 'CARSON CA', '90810-1117', '4636', '', 'E', 'UNIVERSITY DR', 'STE  265', 'PHOENIX AZ', '85034']\n",
      "['7306-023-046', '19960318-50', 'PartInt', 'N', 'HEWSON,GARY J AND', '', '', 'THE HEWSON CO', '2730', '', 'E', 'EL PRESIDIO ST', '', 'CARSON CA', '90810-1117', '4636', '', 'E', 'UNIVERSITY DR', 'STE  265', 'PHOENIX AZ', '85034']\n",
      "['7306-023-047', '19980305-50', 'nonReapp', 'Y', 'HEWSON EL PRESIDIO LLC', '', '', '', '2760', '', 'E', 'EL PRESIDIO ST', '', 'CARSON CA', '90810-1117', '4636', '', 'E', 'UNIVERSITY DR', 'STE  265', 'PHOENIX AZ', '85034']\n",
      "['7306-023-047', '19960318-50', 'PartInt', 'N', 'HEWSON,GARY J AND', '', '', 'THE HEWSON CO', '2760', '', 'E', 'EL PRESIDIO ST', '', 'CARSON CA', '90810-1117', '4636', '', 'E', 'UNIVERSITY DR', 'STE  265', 'PHOENIX AZ', '85034']\n",
      "['7318-009-028', '20040514-50', '', 'Y', 'PELLICO INVESTMENTS LLC', '', '', 'MICHAEL PELLICO', '2103', '', 'E', 'UNIVERSITY DR', '', 'RANCHO DOMINGUEZ CA', '90220-6413', '314', '', '', 'PALISADES AVE', '', 'SANTA MONICA CA', '90402-2736']\n",
      "['7318-009-032', '20080411-50', 'nonReapp', 'Y', 'UNIVERSITY AND BROADWICK', 'DEVELOPMENT CO LLC', '', 'IRVING LEVINE', '11841', '', '', 'BROADWICK', '', 'CARSON CA', '90746', '45', '', '', 'MARGUERITE DR', '', 'RANCHO PALOS VERDES CA', '90275-4476']\n",
      "['7318-009-032', '19970421-50', '', 'N', 'UNIVERSITY AND BROADWICK', '', '', '', '11841', '', '', 'BROADWICK', '', 'CARSON CA', '90746', '18910', '', '', 'WILMINGTON AVE', '', 'CARSON CA', '90746-2820']\n",
      "['7318-009-043', '20130129-50', 'nonReapp', 'Y', '2015 EAST UNIVERSITY DRIVE', 'ASSOCIATES LP', '', 'C/O MARC M MCKANIC', '2015', '', 'E', 'UNIVERSITY DR', '', 'COMPTON CA', '90220-6411', '2015', '', 'E', 'UNIVERSITY DR', '', 'RANCHO DOMINGUEZ CA', '90220-6411']\n",
      "['7318-009-043', '20070803-50', 'nonReapp', 'N', 'MCKONIC,MARC M TR', '', '', '', '2015', '', 'E', 'UNIVERSITY DR', '', 'COMPTON CA', '90220-6411', '', '', '', '', '', '', '']\n",
      "['7318-009-043', '19980210-50', 'nonReapp', 'N', '2015 EAST UNIVERSITY DRIVE', '', '', '', '2015', '', 'E', 'UNIVERSITY DR', '', 'COMPTON CA', '90220-6411', '2015', '', 'E', 'UNIVERSITY DR', '', 'RNCHO DOMINGZ CA', '90220-6411']\n",
      "['7318-009-043', '19901031-50', '', 'N', '2015 EAST UNIVERSITY DRIVE ASSOC', '', '', '', '2015', '', 'E', 'UNIVERSITY DR', '', 'COMPTON CA', '90220-6411', '2015', '', 'E', 'UNIVERSITY DR', '', 'RNCHO DOMINGZ CA', '90220-6411']\n",
      "['7318-009-117', '19981130-50', 'other', 'Y', 'KAWAI AMERICA CORP', '', '', '', '0', '', '', '', '', '', '', '2055', '', 'E', 'UNIVERSITY DR', '', 'COMPTON CA', '90220-6411']\n",
      "['7318-015-018', '19980305-50', 'nonReapp', 'Y', 'HEWSON CARSON L L C', '', '', '', '20731', '', 'S', 'FORDYCE AVE', '', 'CARSON CA', '90810-1021', '4636', '', 'E', 'UNIVERSITY DR', 'STE 265', 'PHOENIX AZ', '85034']\n",
      "['7318-015-018', '19960318-50', 'PartInt', 'N', 'HEWSON,GARY J AND', '', '', 'THE HEWSON CO', '20731', '', 'S', 'FORDYCE AVE', '', 'CARSON CA', '90810-1021', '4636', '', 'E', 'UNIVERSITY DR', 'STE  265', 'PHOENIX AZ', '85034']\n",
      "['7318-015-018', '19900413-50', 'nonReapp', 'N', 'HEWSON,GARY J AND', '', '', '', '20731', '', 'S', 'FORDYCE AVE', '', 'CARSON CA', '90810-1021', '4636', '', 'E', 'UNIVERSITY DR', 'STE 265', 'PHOENIX AZ', '85034']\n",
      "['7318-022-011', '20060721-50', '', 'Y', 'PR I  UNIVERSITY', 'INDUSTRIAL CA LLC', '', 'UNIRE REAL ESTATE GROUP INC', '2030', '', '', 'UNIVERSITY DR', '', 'CARSON', '90747', '1800', '', 'E', 'IMPERIAL HWY', 'STE 205', 'BREA CA', '92821-6072']\n",
      "['7318-022-012', '20060721-50', '', 'Y', 'PRI UNIVERSITY', 'INDUSTRIAL CA LLC', '', 'UNIRE REAL ESTATE GROUP INC', '2140', '', 'E', 'UNIVERSITY DR', '', 'COMPTON CA', '90220-6412', '1800', '', 'E', 'IMPERIAL HWY', 'STE 205', 'BREA CA', '92821-6072']\n",
      "['7318-022-013', '20060721-50', '', 'Y', 'PR I UNIVERSITY', 'INDUSTRIAL CA LLC', '', 'UNIRE REAL ESTATE GROUP INC', '2000', '', 'E', 'UNIVERSITY DR', '', 'CARSON CA', '90220-6410', '1800', '', 'E', 'IMPERIAL HWY', 'STE 205', 'BREA CA', '92821-6072']\n",
      "['7318-022-014', '20060721-50', '', 'Y', 'PR I  UNIVERSITY', 'INDUSTRIAL CA LLC', '', 'UNIRE REAL ESTATE GROUP INC', '2029', '', '', 'CASHDAN ST', '', 'CARSON CA', '90746', '1800', '', 'E', 'IMPERIAL HWY', 'STE 205', 'BREA CA', '92821-6072']\n",
      "['7318-022-019', '20060721-50', '', 'Y', 'PR I  UNIVERSITY', 'INDUSTRIAL CA LLC', '', 'UNIRE REAL ESTATE GROUP INC', '1959', '', 'E', 'CASHDAN ST', '', 'RANCHO DOMINGUEZ CA', '90220-6422', '1800', '', 'E', 'IMPERIAL HWY', 'STE 205', 'BREA CA', '92821-6072']\n",
      "['7318-022-020', '20060721-50', '', 'Y', 'PR I UNIVERSITY', 'INDUSTRIAL CA LLC', '', 'UNIRE REAL ESTATE GROUP INC', '1909', '', 'E', 'CASHDAN ST', '', 'DOMINGUEZ HILLS CA', '90220-6422', '1800', '', 'E', 'IMPERIAL HWY', 'STE 205', 'BREA CA', '92821-6072']\n",
      "['7318-022-021', '20060721-50', '', 'Y', 'PR I  UNIVERSITY', 'INDUSTRIAL CA LLC', '', 'UNIRE REAL ESTATE GROUP INC', '2001', '', 'E', 'CASHDAN ST', '', 'DOMINGUEZ CA', '90220-6438', '1800', '', 'E', 'IMPERIAL HWY', 'STE 205', 'BREA CA', '92821-6072']\n",
      "['7318-022-029', '20121018-50', '', 'Y', 'APG VICTORIA LLC', '', '', 'C/O ALERE PROPERTY GROUP LLC', '2064', '', 'E', 'UNIVERSITY DR', '', 'COMPTON CA', '90220-6419', '100', '', '', 'BAYVIEW CIR', 'STE 310', 'NEWPORT BEACH CA', '92660-8910']\n",
      "['7318-022-030', '20121018-50', '', 'Y', 'APG VICTORIA LLC', '', '', 'C/O ALERE PROPERTY GROUP LLC', '2120', '', '', 'UNIVERSITY DR', '', 'COMPTON CA', '90220', '100', '', '', 'BAYVIEW CIR', 'STE 310', 'NEWPORT BEACH CA', '92660-8910']\n",
      "['7318-022-031', '19940930-50', 'other', 'Y', 'RYDER TRUCK RENTAL INC', '', '', 'PROPERTY TAX DEPT 3B', '1980', '', 'E', 'UNIVERSITY DR', '', 'RANCHO DOMINGUEZ CA', '90220-6408', '0', '', '', 'PO BOX 25719', '', 'MIAMI FL', '33102-5719']\n",
      "['7319-006-012', '20141014-50', '', 'Y', 'PROLOGIS LP', '', '', 'C/O LEGAL DEPARTMENT', '1815', '', '', 'UNIVERSITY DR', '', 'CARSON CA', '90746', '4545', '', '', 'AIRPORT WAY', '', 'DENVER CO', '80239-5716']\n",
      "['7319-023-126', '20060330-50', '', 'Y', 'CALIFORNIA STATE UNIVERSITY', 'DOMINGUEZ HILLS FOUNDATION', '', '', '849', '', 'E', 'VICTORIA ST', 'NO 411', 'CARSON CA', '90746-6711', '1000', '', 'E', 'VICTORIA ST', '', 'CARSON CA', '90747-0001']\n",
      "['7319-036-001', '20040123-50', '', 'Y', 'BHULLAR PROPERTIES LLC', '', '', '', '615', '', 'E', 'UNIVERSITY DR', '', 'CARSON CA', '90746-1966', '17165', '', '', 'NEWHOPE ST', 'STE H', 'FOUNTAIN VALLEY CA', '92708-4230']\n",
      "['7319-036-003', '20040123-50', '', 'Y', 'BHULLAR PROPERTIES LLC', '', '', '', '603', '', 'E', 'UNIVERSITY DR', '', 'CARSON CA', '90746-1969', '17165', '', '', 'NEWHOPE ST', 'STE H', 'FOUNTAIN VALLEY CA', '92708-4230']\n",
      "['7319-041-095', '20000515-50', '', 'Y', 'CALIFORNIA STATE UNIVERSITY', 'DOMINGUEZ HILLS FOUNDATION', '', '', '17622', '', '', 'ACACIA DR', '', 'CARSON CA', '90746-7423', '1000', '', 'E', 'VICTORIA ST', '', 'CARSON CA', '90747-0001']\n",
      "['7329-039-164', '19840313-50', '', 'N', 'MARLOWE,YOLANDA R', '', '', 'PMB 324', '23527', '', '', 'MARIBEL AVE', '', 'CARSON CA', '90745-5536', '603', '', 'E', 'UNIVERSITY DR', 'NO B', 'CARSON CA', '90746-1966']\n",
      "['7346-003-013', '20060331-50', '', 'Y', 'ORCUTT CORP', '', '', '', '1600', '', 'W', 'CARSON ST', '', 'LOS ANGELES CA', '90501-2840', '5333', '', '', 'UNIVERSITY DR', '', 'IRVINE CA', '92612-2938']\n",
      "['7359-027-220', '19850429-50', '', 'N', 'RANDLE,THELMA H AND', '', '', '', '2567', '', '', 'PLAZA DEL AMO', 'UNIT 302', 'TORRANCE CA', '90503-8963', '1330', '', '', 'UNIVERSITY DR', 'NO 21', 'MENLO PARK CA', '94025']\n",
      "['7363-005-001', '20060118-50', '', 'Y', 'ARMON,INC', '', '', '', '22802', '', '', 'FIGUEROA ST', '', 'CARSON CA', '90745-4632', '5333', '', '', 'UNIVERSITY DR', '', 'IRVINE CA', '92612-2938']\n",
      "['7363-005-002', '20060118-50', '', 'Y', 'ARMON,INC', '', '', '', '0', '', '', '', '', '', '', '5333', '', '', 'UNIVERSITY DR', '', 'IRVINE CA', '92612-2938']\n",
      "['7369-005-031', '20050317-50', 'nonReapp', 'Y', 'ANA TORA LLC', '', '', '', '2880', '', '', 'SEPULVEDA BLVD', '', 'TORRANCE CA', '90505-2803', '5333', '', '', 'UNIVERSITY DR', '', 'IRVINE CA', '92612-2938']\n",
      "['7369-005-031', '20000522-50', 'nonReapp', 'N', 'GHANEIAN,MOHSEN', '', '', '', '2880', '', '', 'SEPULVEDA BLVD', '', 'TORRANCE CA', '90505-2803', '5333', '', '', 'UNIVERSITY DR', '', 'IRVINE CA', '92612-2938']\n",
      "['7402-021-031', '20080122-50', 'nonReapp', 'Y', 'CSULB FOUNDATION', '', '', '', '0', '', '', '', '', '', '', '6300', '', 'E', 'STATE UNIVERSITY DR', 'STE 260', 'LONG BEACH CA', '90815-4670']\n",
      "['7402-021-020', '19960816-50', 'other', 'Y', 'CALIFORNIA STATE UNIVERSITY', 'LONG BEACH FOUNDATION', '', 'DOWLING,MEGAN D', '0', '', '', '', '', '', '', '6300', '', 'E', 'STATE UNIVERSITY DR', 'STE 206', 'LONG BEACH CA', '90815-4669']\n",
      "['7402-021-021', '19960816-50', 'other', 'Y', 'CALIFORNIA STATE UNIVERSITY', 'LONG BEACH FOUNDATION', '', 'DOWLING,MEGAN D', '0', '', '', '', '', '', '', '6300', '', 'E', 'STATE UNIVERSITY DR', 'STE 260', 'LONG BEACH CA', '90815-4670']\n",
      "['7402-021-029', '19960816-50', 'other', 'Y', 'CALIFORNIA STATE UNIVERSITY', 'LONG BEACH FOUNDATION', '', 'DOWLING,MEGAN D', '0', '', '', '', '', '', '', '6300', '', 'E', 'STATE UNIVERSITY DR', 'STE 260', 'LONG BEACH CA', '90815-4670']\n",
      "['7402-021-030', '20080122-50', 'nonReapp', 'Y', 'CSULB FOUNDATION', '', '', '', '0', '', '', '', '', '', '', '6300', '', 'E', 'STATE UNIVERSITY DR', 'STE 260', 'LONG BEACH CA', '90815-4670']\n",
      "['7402-021-030', '19960816-50', 'other', 'N', 'CALIFORNIA STATE UNIVERSITY', '', '', 'DOWLING,MEGAN D', '0', '', '', '', '', '', '', '6300', '', 'E', 'STATE UNIVERSITY DR', 'STE 260', 'LONG BEACH CA', '90815-4670']\n",
      "['7402-021-031', '19960816-50', 'other', 'N', 'CALIFORNIA STATE UNIVERSITY', '', '', 'DOWLING,MEGAN D', '0', '', '', '', '', '', '', '6300', '', 'E', 'STATE UNIVERSITY DR', 'STE 260', 'LONG BEACH CA', '90815-4670']\n",
      "['7402-021-032', '20080122-50', 'nonReapp', 'Y', 'CSULB FOUNDATION', '', '', '', '0', '', '', '', '', '', '', '6300', '', 'E', 'STATE UNIVERSITY DR', 'STE 260', 'LONG BEACH CA', '90815-4670']\n",
      "['7402-021-032', '19960816-50', 'other', 'N', 'CALIFORNIA STATE UNIVERSITY', '', '', 'DOWLING,MEGAN D', '0', '', '', '', '', '', '', '6300', '', 'E', 'STATE UNIVERSITY DR', 'STE 260', 'LONG BEACH CA', '90815-4670']\n",
      "['7402-021-033', '19960816-50', 'other', 'Y', 'CALIFORNIA STATE UNIVERSITY', 'LONG BEACH FOUNDATION', '', '', '0', '', '', '', '', '', '', '1250', '', 'N', 'BELLFLOWER BLVD', '320', 'LONG BEACH CA', '90840-0004']\n",
      "['7402-021-034', '19960816-50', 'other', 'Y', 'CALIFORNIA STATE UNIVERSITY', 'LONG BEACH FOUNDATION', '', 'DOWLING,MEGAN D', '0', '', '', '', '', '', '', '2235', '', '', 'FARADAY AVE', 'STE O', 'CARLSBAD CA', '92008-7215']\n",
      "['7402-021-035', '19960816-50', 'other', 'Y', 'CALIFORNIA STATE UNIVERSITY', 'LONG BEACH FOUNDATION', '', '', '0', '', '', '', '', '', '', '1250', '', 'N', 'BELLFLOWER BLVD', '320', 'LONG BEACH CA', '90840-0004']\n",
      "['7402-021-036', '20031204-50', 'nonReapp', 'Y', 'CALIFORNIA STATE UNIVERSITY', 'LONG BEACH FOUNDATION', '', 'C/O THOMSON REUTERS INC', '2200', '', '', 'TECHNOLOGY PL', '', 'LONG BEACH CA', '90810-3801', '0', '', '', 'PO BOX 847', '', 'CARLSBAD CA', '92018-0847']\n",
      "['7402-021-036', '20020905-50', 'other', 'N', 'CALIFORNIA STATE UNIVERSITY', '', '', '', '2200', '', '', 'TECHNOLOGY PL', '', 'LONG BEACH CA', '90810-3801', '6300', '', 'E', 'STATE UNIVERSITY DR', '', 'LONG BEACH CA', '90815-4669']\n",
      "['7402-021-039', '20031204-50', 'nonReapp', 'Y', 'CALIFORNIA STATE UNIVERSITY', 'LONG BEACH FOUNDATION', '', 'C/O THOMSON REUTERS INC', '2161', '', '', 'TECHNOLOGY PLACE', '', 'LONG BEACH CA', '90810', '0', '', '', 'PO BOX 847', '', 'CARLSBAD CA', '92018-0847']\n",
      "['7402-021-041', '20031204-50', 'nonReapp', 'Y', 'CALIFORNIA STATE UNIVERSITY', 'LONG BEACH FOUNDATION', '', 'C/O THOMSON REUTERS INC', '2140', '', '', 'TECHNOLOGY PLACE', '', 'LONG BEACH CA', '90810', '0', '', '', 'PO BOX 847', '', 'CARLSBAD CA', '92018-0847']\n",
      "['7402-021-043', '20031204-50', 'nonReapp', 'Y', 'CALIFORNIA STATE UNIVERSITY', 'LONG BEACH FOUNDATION', '', 'C/O THOMSON REUTERS INC', '0', '', '', '', '', '', '', '0', '', '', 'PO BOX 847', '', 'CARLSBAD CA', '92018-0847']\n",
      "['7402-021-044', '20040715-50', 'other', 'Y', 'CALIFORNIA STATE UNIVERSITY', 'LONG BEACH FOUNDATION', '', 'WATT COMMERCIAL PROP (M FRENCH)', '2131', '', '', 'TECHNOLOGY PL', '', 'LONG BEACH CA', '90810-3800', '0', '', '', 'PO BOX 847', '', 'CARLSBAD CA', '92018-0847']\n",
      "['7402-021-045', '20040715-50', 'other', 'Y', 'CALIFORNIA STATE UNIVERSITY', 'LONG BEACH FOUNDATION', '', 'C/O THOMSON REUTERS INC', '2130', '', '', 'TECHNOLOGY PLACE', '', 'LONG BEACH CA', '90810', '0', '', '', 'PO BOX 847', '', 'CARLSBAD CA', '92018-0847']\n",
      "['7410-018-033', '20140909-50', 'nonReapp', 'Y', 'GARLOCK,JOANN TR', 'BATEMAN FAMILY HOLDING TRUST', '', '', '1602', '', '', 'LOMITA BLVD', '', 'LOS ANGELES CA', '90710-2052', '3319', '', 'N', 'UNIVERSITY AVE', 'STE 200', 'PROVO UT', '84604-4484']\n",
      "['2664-013-023', '19980128-50', 'PartInt', 'Y', 'ACKERMAN FAMILY LP ET AL', '', 'LOYOLA MARYMOUNT UNIVERSITY', 'JOHN P ACKERMAN', '10825', '', '', 'SEPULVEDA BLVD', '', 'LOS ANGELES CA', '91345-1410', '0', '', '', 'PO BOX 2833', '', 'SAN PEDRO CA', '90731']\n",
      "['2664-013-023', '19931206-50', 'nonReapp', 'N', 'LOYOLA MARYMOUNT UNIVERSITY', '', '', 'JOHN P ACKERMAN', '10825', '', '', 'SEPULVEDA BLVD', '', 'LOS ANGELES CA', '91345-1410', '0', '', '', 'P O BOX 2833', '', 'SAN PEDRO CA', '90731']\n",
      "['2664-013-023', '19930914-50', 'nonReapp', 'N', 'LOYOLA MARYMOUNT UNIVERSITY', '', '', '', '10825', '', '', 'SEPULVEDA BLVD', '', 'LOS ANGELES CA', '91345-1410', '0', '', '', 'P O BOX 2833 FORT MACARTHUR', '', 'SAN PEDRO CA', '90731']\n",
      "['2664-013-036', '19980128-50', 'PartInt', 'Y', 'ACKERMAN FAMILY LP ET AL', '', 'LOYOLA MARYMOUNT UNIVERSITY', 'JOHN P ACKERMAN', '0', '', '', '', '', '', '', '0', '', '', 'PO BOX 2833', '', 'SAN PEDRO CA', '90731']\n",
      "['2664-013-036', '19931206-50', 'nonReapp', 'N', 'LOYOLA MARYMOUNT UNIVERSITY', '', '', 'JOHN P ACKERMAN', '0', '', '', '', '', '', '', '0', '', '', 'P O BOX 2833', '', 'SAN PEDRO  CA', '90731']\n",
      "['2664-013-036', '19930914-50', 'nonReapp', 'N', 'LOYOLA MARYMOUNT UNIVERSITY', '', '', '', '0', '', '', '', '', '', '', '0', '', '', 'P O BOX 2833 FORT MACARTHUR', '', 'SAN PEDRO CA', '90731']\n",
      "['2664-013-037', '19980128-50', 'PartInt', 'Y', 'ACKERMAN FAMILY LP ET AL', '', 'LOYOLA MARYMOUNT UNIVERSITY', 'JOHN P ACKERMAN', '0', '', '', '', '', '', '', '0', '', '', 'PO BOX 2833', '', 'SAN PEDRO CA', '90731']\n",
      "['2664-013-037', '19931206-50', 'nonReapp', 'N', 'LOYOLA MARYMOUNT UNIVERSITY', '', '', 'JOHN D ACKERMAN', '0', '', '', '', '', '', '', '0', '', '', 'P O BOX 2833', '', 'SAN PEDRO CA', '90731']\n",
      "['2664-013-037', '19930914-50', 'nonReapp', 'N', 'LOYOLA MARYMOUNT UNIVERSITY', '', '', '', '0', '', '', '', '', '', '', '0', '', '', 'P O BOX 2833 FORT MACARTHUR', '', 'SAN PEDRO CA', '90731']\n",
      "['2664-013-039', '19980128-50', 'PartInt', 'Y', 'ACKERMAN FAMILY LP ET AL', '', 'LOYOLA MARYMOUNT UNIVERSITY', 'JOHN P ACKERMAN', '0', '', '', '', '', '', '', '0', '', '', 'PO BOX 2833', '', 'SAN PEDRO CA', '90731']\n",
      "['2664-013-039', '19931206-50', 'nonReapp', 'N', 'LOYOLA MARYMOUNT UNIVERSITY', '', '', 'JOHN P ACKERMAN', '0', '', '', '', '', '', '', '0', '', '', 'P O BOX 2833', '', 'SAN PEDRO  CA', '90731']\n",
      "['2664-013-039', '19930914-50', 'nonReapp', 'N', 'LOYOLA MARYMOUNT UNIVERSITY', '', '', '', '0', '', '', '', '', '', '', '0', '', '', 'P O BOX 2833 FORT MACARTHUR', '', 'SAN PEDRO CA', '90731']\n",
      "['2664-013-041', '19980128-50', 'PartInt', 'Y', 'ACKERMAN FAMILY LP ET AL', '', 'LOYOLA MARYMOUNT UNIVERSITY', 'JOHN P ACKERMAN', '10841', '', '', 'SEPULVEDA BLVD', '', 'LOS ANGELES CA', '91345-1410', '2609', '', 'S', 'PECK AVE', '', 'SAN PEDRO CA', '90731-6521']\n",
      "['2664-013-041', '19931206-50', 'nonReapp', 'N', 'LOYOLA MARYMOUNT UNIVERSITY', '', '', 'RASH AND ASSOC', '10841', '', '', 'SEPULVEDA BLVD', '', 'LOS ANGELES CA', '91345-1410', '0', '', '', 'P O BOX 1600', '', 'ROWLETT TX', '75030-1600']\n",
      "['2664-013-041', '19930914-50', 'nonReapp', 'N', 'LOYOLA MARYMOUNT UNIVERSITY', '', '', '', '10841', '', '', 'SEPULVEDA BLVD', '', 'LOS ANGELES CA', '91345-1410', '0', '', '', 'P O BOX 2833 FORT MACARTHUR', '', 'SAN PEDRO CA', '90731']\n",
      "['2729-003-022', '20000427-50', '', 'Y', 'UNIVERSITY CORP', '', '', '', '18946', '', '', 'TUBA ST', '', 'LOS ANGELES CA', '91324-1230', '18946', '', '', 'TUBA ST', '', 'NORTHRIDGE CA', '91324-1230']\n",
      "['2764-006-008', '20010118-50', '', 'Y', 'THE UNIVERSITY CORPORATION', '', '', '', '0', '', '', '', '', '', '', '18111', '', '', 'NORDHOFF ST', '', 'NORTHRIDGE CA', '91330-0001']\n",
      "['2764-007-002', '20140430-50', '', 'Y', 'UNIVERSITY CORPORATION', '', '', '', '18301', '', '', 'HALSTED ST', '', 'LOS ANGELES CA', '91325-2105', '18111', '', '', 'NORDHOFF ST', '', 'NORTHRIDGE CA', '91330-8310']\n",
      "['2764-007-004', '20130410-50', '', 'Y', 'UNIVERSITY CORPORATION', '', '', 'CSU NORTHRIDGE', '0', '', '', '', '', '', '', '18111', '', '', 'NORDHOFF ST', 'MC 8310', 'NORTHRIDGE CA', '91330-0001']\n",
      "['2764-007-005', '20091201-50', '', 'Y', 'UNIVERSITY CORPORATION', '', '', '', '18309', '', '', 'HALSTED ST', '', 'LOS ANGELES CA', '91325-2105', '18111', '', '', 'NORDHOFF ST', '', 'NORTHRIDGE CA', '91330-0001']\n",
      "['2764-008-025', '19951221-50', '', 'Y', 'UNIVERSITY CORP', '', '', '', '18411', '', '', 'PLUMMER ST', 'NO 1', 'LOS ANGELES CA', '91325-2163', '18111', '', '', 'NORDHOFF ST', '', 'NORTHRIDGE CA', '91330-0001']\n",
      "['2764-008-026', '19951221-50', '', 'Y', 'UNIVERSITY CORP', '', '', '', '18411', '', '', 'PLUMMER ST', 'NO 2', 'LOS ANGELES CA', '91325-2163', '18111', '', '', 'NORDHOFF ST', '', 'NORTHRIDGE CA', '91330-0001']\n",
      "['2764-008-027', '19951221-50', '', 'Y', 'UNIVERSITY CORP', '', '', '', '18411', '', '', 'PLUMMER ST', 'NO 3', 'LOS ANGELES CA', '91325-2163', '18111', '', '', 'NORDHOFF ST', '', 'NORTHRIDGE CA', '91330-0001']\n",
      "['2764-008-028', '19951221-50', '', 'Y', 'UNIVERSITY CORP', '', '', '', '18411', '', '', 'PLUMMER ST', 'NO 4', 'LOS ANGELES CA', '91325-2163', '18111', '', '', 'NORDHOFF ST', '', 'NORTHRIDGE CA', '91330-0001']\n",
      "['2764-008-029', '19951221-50', '', 'Y', 'UNIVERSITY CORP', '', '', '', '18411', '', '', 'PLUMMER ST', 'NO 5', 'LOS ANGELES CA', '91325-2169', '18111', '', '', 'NORDHOFF ST', '', 'NORTHRIDGE CA', '91330-0001']\n",
      "['2764-008-030', '19951221-50', '', 'Y', 'UNIVERSITY CORP', '', '', '', '18411', '', '', 'PLUMMER ST', 'NO 6', 'LOS ANGELES CA', '91325-2169', '18111', '', '', 'NORDHOFF ST', '', 'NORTHRIDGE CA', '91330-0001']\n",
      "['2764-008-031', '19951221-50', '', 'Y', 'UNIVERSITY CORP', '', '', '', '18411', '', '', 'PLUMMER ST', 'NO 7', 'LOS ANGELES CA', '91325-2169', '18111', '', '', 'NORDHOFF ST', '', 'NORTHRIDGE CA', '91330-0001']\n",
      "['2764-008-032', '19951221-50', '', 'Y', 'UNIVERSITY CORP', '', '', '', '18411', '', '', 'PLUMMER ST', 'NO 8', 'LOS ANGELES CA', '91325-2169', '18111', '', '', 'NORDHOFF ST', '', 'NORTHRIDGE CA', '91330-0001']\n",
      "['2764-008-033', '19951221-50', '', 'Y', 'UNIVERSITY CORP', '', '', '', '18411', '', '', 'PLUMMER ST', 'NO 9', 'LOS ANGELES CA', '91325-2169', '18111', '', '', 'NORDHOFF ST', '', 'NORTHRIDGE CA', '91330-0001']\n",
      "['2764-008-034', '19951221-50', '', 'Y', 'UNIVERSITY CORP', '', '', '', '18411', '', '', 'PLUMMER ST', 'NO 10', 'LOS ANGELES CA', '91325-2164', '18111', '', '', 'NORDHOFF ST', '', 'NORTHRIDGE CA', '91330-0001']\n",
      "['2764-008-035', '19951221-50', '', 'Y', 'UNIVERSITY CORP', '', '', '', '18411', '', '', 'PLUMMER ST', 'NO 11', 'LOS ANGELES CA', '91325-2164', '18111', '', '', 'NORDHOFF ST', '', 'NORTHRIDGE CA', '91330-0001']\n",
      "['2764-008-036', '19951221-50', '', 'Y', 'UNIVERSITY CORP', '', '', '', '18411', '', '', 'PLUMMER ST', 'NO 12', 'LOS ANGELES CA', '91325-2164', '18111', '', '', 'NORDHOFF ST', '', 'NORTHRIDGE CA', '91330-0001']\n",
      "['2764-008-037', '19951221-50', '', 'Y', 'UNIVERSITY CORP', '', '', '', '18411', '', '', 'PLUMMER ST', 'NO 13', 'LOS ANGELES CA', '91325-2164', '18111', '', '', 'NORDHOFF ST', '', 'NORTHRIDGE CA', '91330-0001']\n",
      "['2764-008-038', '19951221-50', '', 'Y', 'UNIVERSITY CORP', '', '', '', '18411', '', '', 'PLUMMER ST', 'NO 14', 'LOS ANGELES CA', '91325-2170', '18111', '', '', 'NORDHOFF ST', '', 'NORTHRIDGE CA', '91330-0001']\n",
      "['2764-008-039', '19951221-50', '', 'Y', 'UNIVERSITY CORP', '', '', '', '18411', '', '', 'PLUMMER ST', 'NO 15', 'LOS ANGELES CA', '91325-2170', '18111', '', '', 'NORDHOFF ST', '', 'NORTHRIDGE CA', '91330-0001']\n",
      "['2764-008-040', '20010905-50', '', 'Y', 'THE UNIVERSITY CORPORATION', '', '', '', '18411', '', '', 'PLUMMER ST', 'NO 16', 'LOS ANGELES CA', '91325-2170', '18111', '', '', 'NORDHOFF ST', '', 'NORTHRIDGE CA', '91330-0001']\n",
      "['2764-008-041', '19951221-50', '', 'Y', 'UNIVERSITY CORP', '', '', '', '18411', '', '', 'PLUMMER ST', 'NO 17', 'LOS ANGELES CA', '91325-2170', '18111', '', '', 'NORDHOFF ST', '', 'NORTHRIDGE CA', '91330-0001']\n",
      "['2764-008-042', '19951221-50', '', 'Y', 'UNIVERSITY CORP', '', '', '', '18411', '', '', 'PLUMMER ST', 'NO 18', 'LOS ANGELES CA', '91325-2170', '18111', '', '', 'NORDHOFF ST', '', 'NORTHRIDGE CA', '91330-0001']\n",
      "['2764-008-043', '20140711-50', '', 'Y', 'UNIVERSITY CORPORATION', '', '', '', '18411', '', '', 'PLUMMER ST', 'NO 19', 'LOS ANGELES CA', '91325-2165', '18111', '', '', 'NORDHOFF ST', '', 'NORTHRIDGE CA', '91330-0001']\n",
      "['2764-008-044', '19951221-50', '', 'Y', 'UNIVERSITY CORP', '', '', '', '18411', '', '', 'PLUMMER ST', 'NO 20', 'LOS ANGELES CA', '91325-2165', '18111', '', '', 'NORDHOFF ST', '', 'NORTHRIDGE CA', '91330-0001']\n",
      "['2764-008-047', '20010905-50', '', 'Y', 'UNIVERSITY CORPORATION', '', '', '', '18411', '', '', 'PLUMMER ST', 'NO 23', 'LOS ANGELES CA', '91325-2171', '18111', '', '', 'NORDHOFF ST', '', 'NORTHRIDGE CA', '91330-0001']\n",
      "['2764-008-048', '19951221-50', '', 'Y', 'UNIVERSITY CORP', '', '', '', '18411', '', '', 'PLUMMER ST', 'NO 24', 'LOS ANGELES CA', '91325-2171', '18111', '', '', 'NORDHOFF ST', '', 'NORTHRIDGE CA', '91330-0001']\n",
      "['2764-008-049', '19991223-50', '', 'Y', 'UNIVERSITY CORP', '', '', '', '18411', '', '', 'PLUMMER ST', 'NO 25', 'LOS ANGELES CA', '91325-2171', '18111', '', '', 'NORDHOFF ST', '', 'NORTHRIDGE CA', '91330-0001']\n",
      "['2764-008-050', '19951221-50', '', 'Y', 'UNIVERSITY CORP', '', '', '', '18411', '', '', 'PLUMMER ST', 'NO 26', 'LOS ANGELES CA', '91325-2171', '18111', '', '', 'NORDHOFF ST', '', 'NORTHRIDGE CA', '91330-0001']\n",
      "['2764-008-051', '19951221-50', '', 'Y', 'UNIVERSITY CORP', '', '', '', '18411', '', '', 'PLUMMER ST', 'NO 27', 'LOS ANGELES CA', '91325-2171', '18111', '', '', 'NORDHOFF ST', '', 'NORTHRIDGE CA', '91330-0001']\n",
      "['2764-008-052', '19951221-50', '', 'Y', 'UNIVERSITY CORP', '', '', '', '18411', '', '', 'PLUMMER ST', 'NO 28', 'LOS ANGELES CA', '91325-2166', '18111', '', '', 'NORDHOFF ST', '', 'NORTHRIDGE CA', '91330-0001']\n",
      "['2764-008-053', '19951221-50', '', 'Y', 'UNIVERSITY CORP', '', '', '', '18411', '', '', 'PLUMMER ST', 'NO 29', 'LOS ANGELES CA', '91325-2166', '18111', '', '', 'NORDHOFF ST', '', 'NORTHRIDGE CA', '91330-0001']\n",
      "['2764-008-054', '19951221-50', '', 'Y', 'UNIVERSITY CORP', '', '', '', '18411', '', '', 'PLUMMER ST', 'NO 30', 'LOS ANGELES CA', '91325-2166', '18111', '', '', 'NORDHOFF ST', '', 'NORTHRIDGE CA', '91330-0001']\n",
      "['2764-008-055', '20100715-50', '', 'Y', 'UNIVERSITY CORPORATION', '', '', '', '18411', '', '', 'PLUMMER ST', 'NO 31', 'LOS ANGELES CA', '91325-2166', '18111', '', '', 'NORDHOFF ST', '', 'NORTHRIDGE CA', '91330-0001']\n",
      "['2764-008-056', '19951221-50', '', 'Y', 'UNIVERSITY CORP', '', '', '', '18411', '', '', 'PLUMMER ST', 'NO 32', 'LOS ANGELES CA', '91325-2172', '18111', '', '', 'NORDHOFF ST', '', 'NORTHRIDGE CA', '91330-0001']\n",
      "['2764-008-057', '19951221-50', '', 'Y', 'UNIVERSITY CORP', '', '', '', '18411', '', '', 'PLUMMER ST', 'NO 33', 'LOS ANGELES CA', '91325-2172', '18111', '', '', 'NORDHOFF ST', '', 'NORTHRIDGE CA', '91330-0001']\n",
      "['2764-008-058', '19951221-50', '', 'Y', 'UNIVERSITY CORP', '', '', '', '18411', '', '', 'PLUMMER ST', 'NO 34', 'LOS ANGELES CA', '91325-2172', '18111', '', '', 'NORDHOFF ST', '', 'NORTHRIDGE CA', '91330-0001']\n",
      "['2764-008-059', '19951221-50', '', 'Y', 'UNIVERSITY CORP', '', '', '', '18411', '', '', 'PLUMMER ST', 'NO 35', 'LOS ANGELES CA', '91325-2172', '18111', '', '', 'NORDHOFF ST', '', 'NORTHRIDGE CA', '91330-0001']\n",
      "['2764-011-033', '20150602-50', '', 'Y', 'UNIVERSITY CORPORATION', '', '', '', '9324', '', '', 'RESEDA BLVD', '', 'LOS ANGELES CA', '91324-6010', '18111', '', '', 'NORDHOFF ST', '', 'NORTHRIDGE CA', '91330-0001']\n",
      "['2764-013-018', '20021125-50', 'nonReapp', 'Y', 'UNIVERSITY PLAZA LLC', '', '', '', '9100', '', '', 'RESEDA BLVD', '', 'LOS ANGELES CA', '91324-3030', '501', '', '', 'BEL AIR RD', '', 'LOS ANGELES CA', '90077-3816']\n",
      "['2764-020-016', '20130729-50', '', 'Y', 'UNIVERSITY CORPORATION', '', '', '', '18101', '', '', 'KINZIE ST', '', 'LOS ANGELES CA', '91325-1701', '18111', '', '', 'NORDHOFF ST', '', 'NORTHRIDGE CA', '91330-8200']\n",
      "['2764-021-001', '20090715-50', '', 'Y', 'UNIVERSITY CORPORATION', '', '', '', '18100', '', '', 'LASSEN ST', '', 'LOS ANGELES CA', '91325-1021', '18111', '', '', 'NORDHOFF ST', '', 'NORTHRIDGE CA', '91330-0001']\n",
      "['2766-003-011', '20100420-50', '', 'Y', 'UNIVERSITY CORPORATION', '', '', '', '9352', '', '', 'ZELZAH AVE', '', 'LOS ANGELES CA', '91325-2342', '18111', '', '', 'NORDHOFF ST', '', 'NORTHRIDGE CA', '91330-0001']\n",
      "['2766-003-028', '20110624-50', '', 'Y', 'UNIVERSITY CORPORATION', '', '', '', '9368', '', '', 'ZELZAH AVE', '', 'LOS ANGELES CA', '91325-2342', '1811', '', '', 'NORDHOFF ST', 'MC 8309', 'NORTHRIDGE CA', '91330-8309']\n",
      "['2769-008-041', '20121106-50', '', 'Y', 'UNIVERSITY CORPORATION', '', '', '', '18240', '', '', 'NORDHOFF ST', '', 'LOS ANGELES CA', '91325-2734', '18111', '', '', 'NORDHOFF ST', '', 'NORTHRIDGE CA', '91330-0001']\n",
      "['7480-004-007', '19781229-50', 'other', 'Y', 'UNIVERSITY OF SO CALIF', '', '', 'DEE JACKSON', '207', '', '', 'WRIGLEY RD E TE', '', 'AVALON CA', '90704', '620', '', '', 'MC CARTHY WAY', 'STE 5', 'LOS ANGELES CA', '90089-0155']\n",
      "['7480-040-026', '19720207-50', 'other', 'Y', 'UNIVERSITY OF SO CALIF', '', '', 'DEE JACKSON', '0', '', '', 'BIG FISHERMANS COVE UNIVERSITY', '', 'AVALON CA', '90704', '620', '', '', 'MC CARTHY WAY', 'STE 5', 'LOS ANGELES CA', '90089-0155']\n",
      "['7512-001-034', '20120525-50', 'nonReapp', 'N', 'WICKMAN,LESLIE A TR', '', '', 'C/O AZUSA PACIFIC UNIVERSITY', '639', '', '', 'PASEO DE LA PLAYA', 'NO 107', 'TORRANCE CA', '90277-6549', '0', '', '', 'PO BOX 890', '', 'BASS LAKE CA', '93604-0890']\n",
      "['7521-009-004', '20051223-50', 'nonReapp', 'N', 'SATO,TOSHIKO', '', '', '', '19316', '', '', 'HINSDALE AVE', '', 'TORRANCE CA', '90503-1342', '5319', '', '', 'UNIVERSITY DR', 'NO 219', 'IRVINE CA', '92612-2965']\n",
      "['7539-029-010', '20110819-50', '', 'Y', 'BAILEY,THOMAS A TR', 'THOMAS A BAILEY TRUST', '', 'C/O PMB 371', '2704', '', '', 'VIA ELEVADO', '', 'PALOS VERDES EST CA', '90274-1436', '5910', '', 'S', 'UNIVERSITY BLVD PMB 437', 'STE C18', 'GREENWOOD VILLAGE CO', '80121-2883']\n",
      "['7572-017-004', '19910509-50', 'nonReapp', 'N', 'LOMA LINDA UNIVERSITY TR', '', '', 'TRUST ACCOUNTING DEPARTMENT', '0', '', '', '', '', '', '', '0', '', '', 'LOMA LINDA UNIVERSITY', '', 'LOMA LINDA CA', '92350']\n",
      "['7585-015-005', '19980415-50', 'nonReapp', 'Y', 'GAKKOHOJIN JODOSHU KYOIKUSHIDAN', 'BUKKYO UNIVERSITY', '', '', '29034', '', '', 'DOVERRIDGE DR', '', 'RNCHO PALOS VRDS CA', '90275-4733', '29034', '', '', 'DOVERRIDGE DR', '', 'RANCHO PALOS VERDES CA', '90275-4733']\n",
      "['8025-004-006', '20020702-50', 'nonReapp', 'N', 'REYES,NORA P AND', '', '', '', '12212', '', '', 'VOLUNTEER AVE', '', 'NORWALK CA', '90650-2077', '13681', '', '', 'UNIVERSITY ST', '', 'WESTMINSTER CA', '92683-2756']\n",
      "['8026-036-002', '20161014-50', '', 'Y', 'SO CAL SUN INC', '', '', '', '13131', '', '', 'SPLENDORA AVE', '', 'WHITTIER CA', '90605-4125', '191', '', '', 'UNIVERSITY BLVD', 'UNIT 227', 'DENVER CO', '80206-4613']\n",
      "['8031-023-020', '19961114-50', '', 'Y', 'BIOLA UNIVERSITY INC', '', '', '', '12002', '', '', 'VALLEY VIEW AVE', '', 'WHITTIER CA', '90604-2733', '13800', '', '', 'BIOLA AVE', '', 'LA MIRADA CA', '90639-0002']\n",
      "['8031-024-009', '19961114-50', '', 'Y', 'BIOLA UNIVERSITY INC', '', '', '', '11928', '', '', 'VALLEY VIEW AVE', '', 'WHITTIER CA', '90604-2730', '13800', '', '', 'BIOLA AVE', '', 'LA MIRADA CA', '90639-0002']\n",
      "['8032-008-002', '20140619-50', 'nonReapp', 'Y', 'THOMSON,PATRICIA W TR', 'THOMSON FAMILY TRUST', '', '', '14529', '', '', 'KEESE DR', '', 'WHITTIER CA', '90604-3117', '8', '', '', 'UNIVERSITY CIR', '', 'RANCHO MIRAGE CA', '92270-3911']\n",
      "['8032-008-002', '20100628-50', 'nonReapp', 'N', 'THOMSON,PATRICIA W', '', '', '', '14529', '', '', 'KEESE DR', '', 'WHITTIER CA', '90604-3117', '8', '', '', 'UNIVERSITY CIR', '', 'RANCHO MIRAGE CA', '92270-3911']\n",
      "['8036-016-006', '20120607-50', 'nonReapp', 'Y', 'SOUTHERN CALIFORNIA UNIVERSITY', 'OF HEALTH SCIENCES', '', '', '16200', '', '', 'AMBER VALLEY DR', '', 'WHITTIER CA', '90604-4051', '16200', '', '', 'AMBER VALLEY DR', '', 'WHITTIER CA', '90604-4098']\n",
      "['8036-016-006', '19811112-50', 'other', 'N', 'SOUTHERN CALIFORNIA UNIVERSITY', '', '', '', '16200', '', '', 'AMBER VALLEY DR', '', 'WHITTIER CA', '90604-4051', '', '', '', '', '', '', '']\n",
      "['8039-016-039', '20080711-50', 'nonReapp', 'N', 'BRIGNONI,MILDRED TR', '', '', 'KENNETH B STREAM', '16015', '', '', 'MARLINTON DR', '', 'WHITTIER CA', '90604-3648', '3750', '', '', 'UNIVERSITY AVE', 'STE 250', 'RIVERSIDE CA', '92501-3335']\n",
      "['8041-001-022', '20050915-50', '', 'Y', 'BIOLA UNIVERSITY INC', '', '', '', '14952', '', '', 'GARDENHILL DR', '', 'LA MIRADA CA', '90638-3020', '13800', '', '', 'BIOLA AVE', '', 'LA MIRADA CA', '90639-0002']\n",
      "['8041-012-025', '20030327-50', '', 'Y', 'BIOLA UNIVERSITY INC', '', '', '', '13317', '', '', 'SPRINGFORD DR', '', 'LA MIRADA CA', '90638-3025', '13800', '', '', 'BIOLA AVE', '', 'LA MIRADA CA', '90639-0002']\n",
      "['8041-015-024', '19980731-50', '', 'Y', 'BIOLA UNIVERSITY INC', '', '', '', '14896', '', '', 'FAIRVILLA DR', '', 'LA MIRADA CA', '90638-3008', '13800', '', '', 'BIOLA AVE', '', 'LA MIRADA CA', '90639-0002']\n",
      "['8041-022-038', '19991229-50', '', 'Y', 'BIOLA UNIVERSITY INC', '', '', '', '12625', '', '', 'LA MIRADA BLVD', '', 'LA MIRADA CA', '90638-2211', '13800', '', '', 'BIOLA AVE', '', 'LA MIRADA CA', '90639-0002']\n",
      "['8044-001-047', '20060130-50', 'nonReapp', 'Y', 'HAVADJIA HOLDINGS INC', 'SUBLESSOR', 'OSSB MANAGEMENT LLC SUBLESSEE', '', '13220', '', '', 'IMPERIAL HWY', '', 'SANTA FE SPRINGS CA', '90670-4818', '3452', '', '', 'UNIVERSITY AVE', '', 'RIVERSIDE CA', '92501-3327']\n",
      "['8044-001-047', '20051208-51', 'other', 'N', 'HAVADJIA HOLDINGS INC SUBLESSOR', '', '', '', '13220', '', '', 'IMPERIAL HWY', '', 'SANTA FE SPRINGS CA', '90670-4818', '3452', '', '', 'UNIVERSITY AVE', '', 'RIVERSIDE CA', '92501']\n",
      "['8061-018-009', '20021101-50', '', 'Y', 'BIOLA UNIVERSITY INC', '', '', '', '14353', '', '', 'ROSECRANS AVE', '', 'LA MIRADA CA', '90638-3643', '13800', '', '', 'BIOLA AVE', '', 'LA MIRADA CA', '90639-0002']\n",
      "['8061-018-010', '20021101-50', '', 'Y', 'BIOLA UNIVERSITY INC', '', '', '', '14357', '', '', 'ROSECRANS AVE', '', 'LA MIRADA CA', '90638-3644', '13800', '', '', 'BIOLA AVE', '', 'LA MIRADA CA', '90639-0002']\n",
      "['8061-018-021', '20021101-50', '', 'Y', 'BIOLA UNIVERSITY INC', '', '', '', '14339', '', '', 'ROSECRANS AVE', '', 'LA MIRADA CA', '90638-3639', '13800', '', '', 'BIOLA AVE', '', 'LA MIRADA CA', '90639-0002']\n",
      "['8061-018-026', '20150331-50', '', 'Y', 'BIOLA UNIVERSITY INC', '', '', '', '14311', '', '', 'ROSECRANS AVE', '', 'LA MIRADA CA', '90638-3651', '13800', '', '', 'BIOLA AVE', '', 'LA MIRADA CA', '90638']\n",
      "['8061-020-037', '20020111-50', '', 'Y', 'BIOLA UNIVERSITY, INC', '', '', '', '14653', '', '', 'ROSECRANS AVE', '', 'LA MIRADA CA', '90638-3770', '13800', '', '', 'BIOLA AVE', '', 'LA MIRADA CA', '90639-0002']\n",
      "['8061-020-038', '20040916-75', '', 'Y', 'BIOLA UNIVERSITY INC', '', '', '', '14615', '', '', 'ROSECRANS AVE', '', 'LA MIRADA CA', '90638-3767', '13800', '', '', 'BIOLA AVE', '', 'LA MIRADA CA', '90639-0002']\n",
      "['8061-020-040', '20050127-50', '', 'Y', 'BIOLA UNIVERSITY INC', '', '', '', '14641', '', '', 'ROSECRANS AVE', '', 'LA MIRADA CA', '90638-3769', '13800', '', '', 'BIOLA AVE', '', 'LA MIRADA CA', '90639-0002']\n",
      "['8061-020-042', '20010209-50', '', 'Y', 'BIOLA UNIVERSITY INC', '', '', '', '14533', '', '', 'ROSECRANS AVE', '', 'LA MIRADA CA', '90638-3765', '13800', '', '', 'BIOLA AVE', '', 'LA MIRADA CA', '90639-0002']\n",
      "['8061-020-043', '20080227-50', '', 'Y', 'BIOLA UNIVERSITY INC', '', '', '', '14509', '', '', 'ROSECRANS AVE', '', 'LA MIRADA CA', '90638-3764', '13800', '', '', 'BIOLA AVE', '', 'LA MIRADA CA', '90639-0002']\n",
      "['8062-003-014', '20150218-50', '', 'Y', 'BIOLA UNIVERSITY INC', '', '', 'C/O CORPORATE LEGAL SERVICES', '13800', '', '', 'BIOLA AVE', '', 'LA MIRADA CA', '90639-0002', '13800', '', '', 'BIOLA AVE', '', 'LA MIRADA CA', '90639-0002']\n",
      "['8062-004-015', '20020204-50', '', 'Y', 'BIOLA UNIVERSITY INC', '', '', '', '14017', '', '', 'WHITEROCK DR', '', 'LA MIRADA CA', '90638-3825', '13800', '', '', 'BIOLA AVE', '', 'LA MIRADA CA', '90639-0002']\n",
      "['8062-010-013', '19991103-75', '', 'Y', 'BIOLA UNIVERSITY INC', '', '', '', '14204', '', '', 'FIGUERAS RD', '', 'LA MIRADA CA', '90638-3839', '13500', '', '', 'BIOLA AVE', '', 'LA MIRADA CA', '90638-2955']\n",
      "['8062-013-010', '19990622-50', '', 'Y', 'BIOLA UNIVERSITY INC', '', '', '', '14203', '', '', 'FIGUERAS RD', '', 'LA MIRADA CA', '90638-3840', '13800', '', '', 'BIOLA AVE', '', 'LA MIRADA CA', '90639-0002']\n",
      "['8062-014-001', '20011120-50', '', 'Y', 'BIOLA UNIVERSITY INC', '', '', '', '14110', '', '', 'BIOLA AVE', '', 'LA MIRADA CA', '90638-3851', '13800', '', '', 'BIOLA AVE', '', 'LA MIRADA CA', '90639-0002']\n",
      "['8062-016-009', '20011224-50', '', 'Y', 'BIOLA UNIVERSITY', '', '', '', '14766', '', '', 'CALPELLA ST', '', 'LA MIRADA CA', '90638-3001', '13800', '', '', 'BIOLA AVE', '', 'LA MIRADA CA', '90639-0002']\n",
      "['8062-016-012', '20030127-50', '', 'Y', 'BIOLA UNIVERSITY INC', '', '', '', '14714', '', '', 'CALPELLA ST', '', 'LA MIRADA CA', '90638-3001', '', '', '', '', '', '', '']\n",
      "['8062-017-009', '20000310-50', '', 'Y', 'BIOLA UNIVERSITY INC', '', '', '', '14844', '', '', 'CALPELLA ST', '', 'LA MIRADA CA', '90638-3003', '13800', '', '', 'BIOLA AVE', '', 'LA MIRADA CA', '90639-0002']\n",
      "['8062-018-001', '20070522-50', '', 'Y', 'BIOLA UNIVERSITY INC', '', '', '', '14849', '', '', 'CALPELLA ST', '', 'LA MIRADA CA', '90638-3004', '13800', '', '', 'BIOLA AVE', '', 'LA MIRADA CA', '90639-0002']\n",
      "['8062-018-015', '20010507-50', '', 'Y', 'BIOLA UNIVERSITY', '', '', '', '14846', '', '', 'MANSA DR', '', 'LA MIRADA CA', '90638-3034', '13800', '', '', 'BIOLA AVE', '', 'LA MIRADA CA', '90639-0002']\n",
      "['8125-043-014', '19830112-50', 'other', 'N', 'LOMA LINDA UNIVERSITY', '', '', 'C/O  ANA REHAGEN-US MORT', '11839', '', '', 'CRESTA VERDE DR', '', 'WHITTIER CA', '90601-1903', '1913', '', 'E', '17 ST', 'STE 213', 'SANTA ANA CA', '92701']\n",
      "['8126-034-042', '20140616-50', '', 'Y', 'HAUN,GENE A CO TR', 'AC FAMILY ESTATE TRUST AND', 'GREEN STAR RISING', '', '12508', '', '', 'MOUNT HOLLY DR', '', 'WHITTIER CA', '90601-2456', '191', '', '', 'UNIVERSITY BLVD', 'UNIT 227', 'DENVER CO', '80206-4613']\n",
      "['8139-005-018', '19990820-50', '', 'Y', 'HONG KONG METRO REALTY CO INC', '', '', '', '6518', '', '', 'COMSTOCK AVE', '', 'WHITTIER CA', '90601-4103', '4610', '', '', 'UNIVERSITY AVE', 'NO  1018', 'MADISON WI', '53705']\n",
      "['8139-005-019', '19990820-50', '', 'Y', 'HONG KONG METRO REALTY CO INC', '', '', '', '6512', '', '', 'COMSTOCK AVE', '', 'WHITTIER CA', '90601-4103', '4610', '', '', 'UNIVERSITY AVE', 'NO  1018', 'MADISON WI', '53705']\n",
      "['8139-005-022', '19990820-50', '', 'Y', 'HONG KONG METRO REALTY CO INC', '', '', 'C/O RITE AID #6267', '6512', '', '', 'COMSTOCK AVE', '', 'WHITTIER CA', '90601-4103', '4610', '', '', 'UNIVERSITY AVE', 'STE 1018', 'MADISON WI', '53705']\n",
      "['8139-005-032', '20031014-50', 'nonReapp', 'Y', 'HONG KONG METRO REALTY CO INC', '', '', 'KELLY MOCKLER', '0', '', '', '', '', '', '', '4610', '', '', 'UNIVERSITY AVE', '# 1018', 'MADISON WI', '53705']\n",
      "['8139-005-032', '19990820-50', '', 'N', 'HONG KONG METRO REALTY CO INC', '', '', '', '0', '', '', '', '', '', '', '4610', '', '', 'UNIVERSITY AVE', '1018', 'MADISON WI', '53705']\n",
      "['8204-005-062', '20140207-50', '', 'Y', 'CALIFORNIA UNIVERSITY OF', 'BUSINESS AND TECHNOLOGY', '', '', '2440', '', 'S', 'HACIENDA BLVD', 'NO 127', 'HACIENDA HEIGHTS CA', '91745-4765', '2440', '', 'S', 'HACIENDA BLVD', 'UNIT 131', 'HACIENDA HEIGHTS CA', '91745-4765']\n",
      "['8204-005-063', '20140207-50', '', 'Y', 'CALIFORNIA UNIVERSITY OF', 'BUSINESS AND TECHNOLOGY', '', '', '2440', '', 'S', 'HACIENDA BLVD', 'NO 128', 'HACIENDA HEIGHTS CA', '91745-4765', '2440', '', 'S', 'HACIENDA BLVD', 'UNIT 131', 'HACIENDA HEIGHTS CA', '91745-4765']\n",
      "['8204-005-064', '20110708-50', '', 'Y', 'CALIFORNIA UNIVERSITY OF', 'BUSINESS AND TECHNOLOGY CORP', '', '', '2440', '', 'S', 'HACIENDA BLVD', 'NO 129', 'HACIENDA HEIGHTS CA', '91745-4765', '', '', '', '', '', '', '']\n",
      "['8204-005-116', '20110708-50', '', 'Y', 'CALIFORNIA UNIVERSITY OF', 'BUSINESS AND TECHNOLOGY CORP', '', '', '2440', '', 'S', 'HACIENDA BLVD', 'NO 131', 'HACIENDA HEIGHTS CA', '91745-4765', '2440', '', 'S', 'HACIENDA BLVD', 'NO 129', 'HACIENDA HEIGHTS CA', '91745-4765']\n",
      "['8219-006-086', '19910625-50', 'nonReapp', 'N', 'OLIVERA,LUPE G DECD EST OF', '', '', 'NAOMI SILVERGLEID', '15554', '', '', 'LUJON ST', '', 'HACIENDA HEIGHTS CA', '91745-3403', '3750', '', '', 'UNIVERSITY AVE', 'STE  550', 'RIVERSIDE CA', '92501']\n",
      "['8303-016-004', '20030805-50', '', 'Y', 'INDIANA WESLEYAN UNIVERSITY', '', '', '', '1426', '', 'N', 'TOWNE AVE', '', 'CLAREMONT CA', '91711-3203', '4201', '', 'S', 'WASHINGTON ST', '', 'MARION IN', '46953-4974']\n",
      "['8303-026-014', '20090123-50', '', 'Y', 'ORCUTT CORP', '', '', '', '1091', '', 'W', 'FOOTHILL BLVD', '', 'CLAREMONT CA', '91711-3306', '5333', '', '', 'UNIVERSITY DR', '', 'IRVINE CA', '92612-2938']\n",
      "['8305-009-033', '20140711-50', '', 'Y', 'CLAREMONT UNIVERSITY CONSORTIUM', '', '', '', '1630', '', '', 'TULANE RD', '', 'CLAREMONT CA', '91711-3426', '101', '', 'S', 'MILLS AVE', '', 'CLAREMONT CA', '91711-5053']\n",
      "['8305-015-003', '20150518-50', '', 'Y', 'CLAREMONT GRADUATE UNIVERSITY', '', '', '', '636', '', '', 'WELLESLEY DR', '', 'CLAREMONT CA', '91711-3427', '101', '', 'S', 'MILLS AVE', '', 'CLAREMONT CA', '91711-5053']\n",
      "['8306-003-044', '20020918-50', 'nonReapp', 'Y', 'CLAREMONT UNIVERSITY CONSORTIUM', '', '', 'KATIE HENDRICK', '0', '', '', '', '', '', '', '101', '', 'S', 'MILLS AVE', '', 'CLAREMONT CA', '91711-5053']\n",
      "['8306-007-060', '20020918-50', 'nonReapp', 'Y', 'CLAREMONT UNIVERSITY CONSORTIUM', '', 'KATIE HENDRICK', 'C/O KATHERINE HAUSER RUBEL', '0', '', '', '', '', '', '', '101', '', 'S', 'MILLS AVE', '', 'CLAREMONT CA', '91711-5053']\n",
      "['8306-008-001', '20020918-50', 'nonReapp', 'Y', 'CLAREMONT UNIVERSITY CONSORTIUM', '', '', 'KATIE HENDRICK', '0', '', '', '', '', '', '', '101', '', 'S', 'MILLS AVE', '', 'CLAREMONT CA', '91711-5053']\n",
      "['8306-008-019', '20020918-50', 'nonReapp', 'Y', 'CLAREMONT UNIVERSITY CONSORTIUM', '', '', 'KATIE HENDRICK', '0', '', '', '', '', '', '', '101', '', 'S', 'MILLS AVE', '', 'CLAREMONT CA', '91711-5053']\n",
      "['8306-008-021', '20020918-50', 'nonReapp', 'Y', 'CLAREMONT UNIVERSITY CONSORTIUM', '', '', 'KATIE HENDRICK', '0', '', '', '', '', '', '', '101', '', 'S', 'MILLS AVE', '', 'CLAREMONT CA', '91711-5053']\n",
      "['8306-008-023', '20020918-50', 'nonReapp', 'Y', 'CLAREMONT UNIVERSITY CONSORTIUM', '', '', 'KATIE HENDRICK', '1550', '', 'N', 'INDIAN HILL BLVD', '', 'CLAREMONT CA', '91711-2718', '101', '', 'S', 'MILLS AVE', '', 'CLAREMONT CA', '91711-5053']\n",
      "['8306-008-037', '20020918-50', 'nonReapp', 'Y', 'CLAREMONT UNIVERSITY CONSORTIUM', '', '', 'KATIE HENDRICK', '0', '', '', '', '', '', '', '101', '', 'S', 'MILLS AVE', '', 'CLAREMONT CA', '91711-5053']\n",
      "['8306-008-047', '20070118-50', 'nonReapp', 'Y', 'CLAREMONT UNIVERSITY CONSORTIUM', '', 'KATIE HENDRICK', 'C/O KATHERINE HAUSER RUBEL', '0', '', '', '', '', '', '', '101', '', 'S', 'MILLS AVE', '', 'CLAREMONT CA', '91711-5053']\n",
      "['8306-008-047', '20050908-50', '', 'N', 'CLAREMONT UNIVERSITY CONSORTIUM', '', '', 'KATHERINE H RUBEL', '0', '', '', '', '', '', '', '1229', '', 'N', 'DARTMOUTH AVE', '', 'CLAREMONT CA', '91711-3940']\n",
      "['8306-008-048', '20070118-50', 'nonReapp', 'Y', 'CLAREMONT UNIVERSITY CONSORTIUM', '', 'KATIE HENDRICK', 'C/O KATHERINE HAUSER RUBEL', '0', '', '', '', '', '', '', '101', '', 'S', 'MILLS AVE', '', 'CLAREMONT CA', '91711-5053']\n",
      "['8306-008-048', '20050908-50', '', 'N', 'CLAREMONT UNIVERSITY CONSORTIUM', '', '', 'KATHERINE H RUBEL', '0', '', '', '', '', '', '', '1229', '', 'N', 'DARTMOUTH AVE', '', 'CLAREMONT CA', '91711-3940']\n",
      "['8306-008-050', '20060518-50', 'nonReapp', 'Y', 'CLAREMONT UNIVERSITY CONSORTIUM', '', '', 'KATIE HENDRICK', '0', '', '', '', '', '', '', '101', '', 'S', 'MILLS AVE', '', 'CLAREMONT CA', '91711-5053']\n",
      "['8306-008-050', '20020918-50', 'nonReapp', 'N', 'CLAREMONT UNIVERSITY CONSORTIUM', '', '', '', '0', '', '', '', '', '', '', '1229', '', 'N', 'DARTMOUTH AVE', '', 'CLAREMONT CA', '91711-3940']\n",
      "['8306-008-052', '20060518-50', 'nonReapp', 'Y', 'CLAREMONT UNIVERSITY CONSORTIUM', '', '', 'KATIE HENDRICK', '0', '', '', '', '', '', '', '101', '', 'S', 'MILLS AVE', '', 'CLAREMONT CA', '91711-5053']\n",
      "['8306-008-052', '20020918-50', 'nonReapp', 'N', 'CLAREMONT UNIVERSITY CONSORTIUM', '', '', '', '0', '', '', '', '', '', '', '1229', '', 'N', 'DARTMOUTH AVE', '', 'CLAREMONT CA', '91711-3940']\n",
      "['8306-008-054', '20060518-50', 'nonReapp', 'Y', 'CLAREMONT UNIVERSITY CONSORTIUM', '', '', 'KATIE HENDRICK', '1229', '', 'N', 'DARTMOUTH AVE', '', 'CLAREMONT CA', '91711-3940', '101', '', 'S', 'MILLS AVE', '', 'CLAREMONT CA', '91711-5053']\n",
      "['8306-008-054', '20020918-50', 'nonReapp', 'N', 'CLAREMONT UNIVERSITY CONSORTIUM', '', '', '', '1229', '', 'N', 'DARTMOUTH AVE', '', 'CLAREMONT CA', '91711-3940', '', '', '', '', '', '', '']\n",
      "['8306-008-059', '20060713-50', 'nonReapp', 'Y', 'CLAREMONT UNIVERSITY CONSORTIUM', '', '', 'KATIE HENDRICK', '1550', '', 'N', 'INDIAN HILL BLVD', '', 'CLAREMONT CA', '91711-2718', '101', '', 'S', 'MILLS AVE', '', 'CLAREMONT CA', '91711-5053']\n",
      "['8306-008-060', '20100712-50', 'nonReapp', 'Y', 'CLAREMONT UNIVERSITY CONSORTIUM', '', 'KATIE HENDRICK', 'C/O KATHERINE H RUBEL', '1550', '', 'N', 'INDIAN HILL BLVD', '', 'CLAREMONT CA', '91711-2718', '101', '', 'S', 'MILLS AVE', '', 'CLAREMONT CA', '91711-5053']\n",
      "['8306-008-060', '20060713-50', 'nonReapp', 'N', 'CLAREMONT UNIVERSITY CONSORTIUM', '', '', '', '1550', '', 'N', 'INDIAN HILL BLVD', '', 'CLAREMONT CA', '91711-2718', '1245', '', 'N', 'DARTMOUTH AVE', '', 'CLAREMONT CA', '91711-3941']\n",
      "['8306-008-063', '20100824-50', 'nonReapp', 'Y', 'CLAREMONT UNIVERSITY CONSORTIUM', '', 'KATIE HENDRICK', 'C/O KATHERINE HAUSER RUBEL', '1475', '', 'N', 'MILLS AVE', '', 'CLAREMONT CA', '91711-3146', '101', '', 'S', 'MILLS AVE', '', 'CLAREMONT CA', '91711-5053']\n",
      "['8306-008-063', '20091210-50', 'other', 'N', 'CLAREMONT UNIVERSITY CONSORTIUM', '', '', '', '1475', '', 'N', 'MILLS AVE', '', 'CLAREMONT CA', '91711-3146', '735', '', 'N', 'DARTMOUTH AVE', '', 'CLAREMONT CA', '91711-3962']\n",
      "['8306-008-065', '20150611-50', '', 'Y', 'CLAREMONT UNIVERSITY CONSORTIUM', '', '', 'C/O REAL ESTATE DEPT', '0', '', '', '', '', '', '', '101', '', 'N', 'MILLS AVE', '', 'CLAREMONT CA', '91711-4413']\n",
      "['8306-008-066', '20110302-50', '', 'Y', 'CLAREMONT GRADUATE UNIVERSITY', '', '', '', '0', '', '', '', '', '', '', '101', '', 'S', 'MILLS AVE', '', 'CLAREMONT CA', '91711-5053']\n",
      "['8306-008-069', '20150611-50', '', 'Y', 'CLAREMONT UNIVERSITY CONSORTIUM', '', '', 'C/O REAL ESTATE DEPT', '0', '', '', '', '', '', '', '101', '', 'N', 'MILLS AVE', '', 'CLAREMONT CA', '91711-4413']\n",
      "['8306-008-072', '20150610-50', '', 'Y', 'HARVEY MUDD COLLEGE', '', '', 'C/O CLAREMONT UNIVERSITY CONSORT', '0', '', '', '', '', '', '', '101', '', 'S', 'MILLS AVE', '', 'CLAREMONT CA', '91711-5053']\n",
      "['8306-008-074', '20110811-50', 'other', 'Y', 'CLAREMONT GRADUATE UNIVERSITY', '', '', '', '0', '', '', '', '', '', '', '101', '', 'S', 'MILLS AVE', '', 'CLAREMONT CA', '91711-5053']\n",
      "['8306-008-076', '20160229-50', 'other', 'Y', 'CLAREMONT GRADUATE UNIVERSITY', '', '', 'C/O KATHERINE H RUBEL', '0', '', '', '', '', '', '', '101', '', 'S', 'MILLS AVE', '', 'CLAREMONT CA', '91711-5053']\n",
      "['8307-011-036', '19771118-50', 'other', 'Y', 'UNIVERSITY TERRACE HOMEOWNERS', 'ASSOCIATION INC', '', '', '0', '', '', '', '', '', '', '3848', '', '', 'CAMPUS DR', 'RM 116', 'NEWPORT BEACH CA', '92660-2693']\n",
      "['8307-015-032', '19771118-50', 'other', 'Y', 'UNIVERSITY TERRACE HOMEOWNERS', 'ASSOCIATION INC', '', '', '0', '', '', '', '', '', '', '3848', '', '', 'CAMPUS DR', 'RM 116', 'NEWPORT BEACH CA', '92660-2693']\n",
      "['8307-016-021', '19771118-50', 'other', 'Y', 'UNIVERSITY TERRACE HOMEOWNERS', 'ASSOCIATION INC', '', '', '0', '', '', '', '', '', '', '3848', '', '', 'CAMPUS DR', 'RM 116', 'NEWPORT BEACH CA', '92660-2693']\n",
      "['8307-016-022', '19771118-50', 'other', 'Y', 'UNIVERSITY TERRACE HOMEOWNERS', 'ASSOCIATION INC', '', '', '0', '', '', '', '', '', '', '500', '', 'W', 'FOOTHILL BLVD', '', 'CLAREMONT CA', '91711-3401']\n",
      "['8308-001-001', '19710827-50', 'other', 'Y', 'CLAREMONT UNIVERSITY CENTER', '', '', 'HENDRICK KATIE', '0', '', '', '', '', '', '', '101', '', 'S', 'MILLS AVE', '', 'CLAREMONT CA', '91711-5053']\n",
      "['8308-001-002', '19710827-50', 'other', 'Y', 'CLAREMONT UNIVERSITY CENTER', '', '', 'HENDRICK KATIE', '1263', '', 'N', 'DARTMOUTH AVE', '', 'CLAREMONT CA', '91711-3941', '101', '', 'S', 'MILLS AVE', '', 'CLAREMONT CA', '91711-5053']\n",
      "['8308-001-003', '19710827-50', 'other', 'Y', 'CLAREMONT UNIVERSITY CENTER', '', '', 'HENDRICK KATIE', '1257', '', 'N', 'DARTMOUTH AVE', '', 'CLAREMONT CA', '91711-3941', '101', '', 'S', 'MILLS AVE', '', 'CLAREMONT CA', '91711-5053']\n",
      "['8308-001-004', '19710827-50', 'other', 'Y', 'CLAREMONT UNIVERSITY CENTER', '', '', 'KATIE HENDRICK', '1245', '', 'N', 'DARTMOUTH AVE', '', 'CLAREMONT CA', '91711-3941', '101', '', 'S', 'MILLS AVE', '', 'CLAREMONT CA', '91711-5053']\n",
      "['8308-001-005', '19911126-50', '', 'Y', 'CLAREMONT UNIVERSITY CENTER', '', '', 'HENDRICK KATIE', '1237', '', 'N', 'DARTMOUTH AVE', '', 'CLAREMONT CA', '91711-3940', '101', '', 'S', 'MILLS AVE', '', 'CLAREMONT CA', '91711-5053']\n",
      "['8308-001-008', '19911126-50', '', 'Y', 'CLAREMONT UNIVERSITY CENTER', '', '', 'HENDRICK KATIE', '175', '', 'E', '12TH ST', '', 'CLAREMONT CA', '91711-3918', '101', '', 'S', 'MILLS AVE', '', 'CLAREMONT CA', '91711-5053']\n",
      "['8308-001-009', '19910625-50', '', 'Y', 'CLAREMONT UNIVERSITY CENTER', '', '', 'HENDRICK KATIE', '146', '', '', 'DARTMOUTH PL', '', 'CLAREMONT CA', '91711-3942', '101', '', 'S', 'MILLS AVE', '', 'CLAREMONT CA', '91711-5053']\n",
      "['8308-001-010', '19740417-50', 'other', 'Y', 'CLAREMONT UNIVERSITY CENTER', '', '', 'HENDRICK KATIE', '145', '', 'E', '12TH ST', '', 'CLAREMONT CA', '91711-3918', '101', '', 'S', 'MILLS AVE', '', 'CLAREMONT CA', '91711-5053']\n",
      "['8308-001-011', '19900201-50', '', 'Y', 'CLAREMONT UNIVERSITY CENTER', '', '', 'HENDRICK KATIE', '141', '', 'E', '12TH ST', '', 'CLAREMONT CA', '91711-3918', '101', '', 'S', 'MILLS AVE', '', 'CLAREMONT CA', '91711-5053']\n",
      "['8308-001-012', '19800826-50', 'other', 'Y', 'CLAREMONT UNIVERSITY CENTER', '', '', 'HENDRICK KATIE', '135', '', 'E', '12TH ST', '', 'CLAREMONT CA', '91711-3918', '101', '', 'S', 'MILLS AVE', '', 'CLAREMONT CA', '91711-5053']\n",
      "['8308-001-013', '19740417-50', 'other', 'Y', 'CLAREMONT UNIVERSITY CENTER', '', '', 'HENDRICK KATIE', '127', '', 'E', '12TH ST', '', 'CLAREMONT CA', '91711-3918', '101', '', 'S', 'MILLS AVE', '', 'CLAREMONT CA', '91711-5053']\n",
      "['8308-001-014', '20000127-50', '', 'Y', 'CLAREMONT UNIVERSITY CENTER AND', 'GRADUATE UNIVERSITY', '', 'HENDRICK KATIE', '136', '', '', 'DARTMOUTH PL', '', 'CLAREMONT CA', '91711-3942', '101', '', 'S', 'MILLS AVE', '', 'CLAREMONT CA', '91711-5053']\n",
      "['8308-001-023', '20010504-50', '', 'Y', 'CLAREMONT GRADUATE UNIVERSITY', '', '', 'HENDRICK KATIE', '0', '', '', '', '', '', '', '101', '', 'S', 'MILLS AVE', '', 'CLAREMONT CA', '91711-5053']\n",
      "['8308-001-024', '19680202-50', 'other', 'Y', 'CLAREMONT UNIVERSITY CENTER', '', '', 'HENDRICK KATIE', '130', '', 'E', 'FOOTHILL BLVD', '', 'CLAREMONT CA', '91711-3102', '101', '', 'S', 'MILLS AVE', '', 'CLAREMONT CA', '91711-5053']\n",
      "['8308-001-027', '19710817-50', 'other', 'Y', 'CLAREMONT UNIVERSITY CENTER', '', '', 'HENDRICK KATIE', '145', '', '', 'DARTMOUTH PL', '', 'CLAREMONT CA', '91711-3943', '101', '', 'S', 'MILLS AVE', '', 'CLAREMONT CA', '91711-5053']\n",
      "['8308-001-029', '19911126-50', '', 'Y', 'CLAREMONT UNIVERSITY CENTER', '', '', 'HENDRICK KATIE', '1217', '', 'N', 'DARTMOUTH AVE', '', 'CLAREMONT CA', '91711-3940', '101', '', 'S', 'MILLS AVE', '', 'CLAREMONT CA', '91711-5053']\n",
      "['8308-001-030', '19911126-50', '', 'Y', 'CLAREMONT UNIVERSITY CENTER', '', '', 'HENDRICK KATIE', '1227', '', 'N', 'DARTMOUTH AVE', '', 'CLAREMONT CA', '91711-3940', '101', '', 'S', 'MILLS AVE', '', 'CLAREMONT CA', '91711-5053']\n",
      "['8308-001-031', '19710930-50', 'other', 'Y', 'CLAREMONT UNIVERSITY CENTER', '', '', 'HENDRICK KATIE', '146', '', 'E', 'FOOTHILL BLVD', '', 'CLAREMONT CA', '91711-3102', '101', '', 'S', 'MILLS AVE', '', 'CLAREMONT CA', '91711-5053']\n",
      "['8308-002-006', '20060926-50', '', 'Y', 'CLAREMONT GRADUATE UNIVERSITY', '', '', 'KATIE HENDRICK', '1102', '', 'N', 'COLLEGE AVE', '', 'CLAREMONT CA', '91711-3927', '101', '', 'S', 'MILLS AVE', '', 'CLAREMONT CA', '91711-5053']\n",
      "['8308-002-007', '20060926-50', '', 'Y', 'CLAREMONT GRADUATE UNIVERSITY', '', '', 'KATIE HENDRICK', '1102', '', 'N', 'COLLEGE AVE', '', 'CLAREMONT CA', '91711-3927', '101', '', 'S', 'MILLS AVE', '', 'CLAREMONT CA', '91711-5053']\n",
      "['8308-002-016', '19581209-50', 'other', 'Y', 'CLAREMONT GRADUATE SCHOOL AND', 'UNIVERSITY CENTER', '', 'HENDRICK KATIE', '1111', '', 'N', 'DARTMOUTH AVE', '', 'CLAREMONT CA', '91711-3949', '101', '', 'S', 'MILLS AVE', '', 'CLAREMONT CA', '91711-5053']\n",
      "['8308-002-018', '19850408-50', 'other', 'Y', 'CLAREMONT UNIVERSITY CENTER', '', '', 'HENDRICK KATIE', '125', '', 'E', '11TH ST', '', 'CLAREMONT CA', '91711-3915', '101', '', 'S', 'MILLS AVE', '', 'CLAREMONT CA', '91711-5053']\n",
      "['8308-003-010', '19660401-50', 'other', 'Y', 'CLAREMONT GRADUATE SCHOOL AND', 'UNIVERSITY CENTER', '', 'HENDRICK KATIE', '1006', '', 'N', 'COLLEGE AVE', '', 'CLAREMONT CA', '91711-3925', '101', '', 'S', 'MILLS AVE', '', 'CLAREMONT CA', '91711-5053']\n",
      "['8308-003-011', '19660401-50', 'other', 'Y', 'CLAREMONT GRADUATE SCHOOL AND', 'UNIVERSITY CENTER', '', 'HENDRICK KATIE', '1006', '', 'N', 'COLLEGE AVE', '', 'CLAREMONT CA', '91711-3925', '101', '', 'S', 'MILLS AVE', '', 'CLAREMONT CA', '91711-5053']\n",
      "['8308-003-012', '19830603-50', 'other', 'Y', 'CLAREMONT UNIVERSITY CENTER', '', '', 'HENDRICK KATIE', '121', '', 'E', '10TH ST', '', 'CLAREMONT CA', '91711-3911', '101', '', 'S', 'MILLS AVE', '', 'CLAREMONT CA', '91711-5053']\n",
      "['8308-003-025', '19940902-50', 'other', 'Y', 'CLAREMONT UNIVERSITY CENTER', '', '', 'HENDRICK KATIE', '1055', '', 'N', 'DARTMOUTH AVE', '', 'CLAREMONT CA', '91711-5908', '101', '', 'S', 'MILLS AVE', '', 'CLAREMONT CA', '91711-5053']\n",
      "['8308-005-001', '19670245-50', 'other', 'Y', 'CLAREMONT GRADUATE SCHOOL AND', 'UNIVERSITY CENTER', '', 'HENDRICK KATIE', '831', '', 'N', 'DARTMOUTH AVE', '', 'CLAREMONT CA', '91711-3963', '101', '', 'S', 'MILLS AVE', '', 'CLAREMONT CA', '91711-5053']\n",
      "['8308-005-018', '20001222-50', 'nonReapp', 'Y', 'CLAREMONT UNIVERSITY CONSORTIUM', '', '', 'KAYIE HENDRICK', '175', '', 'E', '8TH ST', '', 'CLAREMONT CA', '91711-3956', '101', '', 'S', 'MILLS AVE', '', 'CLAREMONT CA', '91711-5053']\n",
      "['8308-005-018', '19680718-50', 'other', 'N', 'CLAREMONT UNIVERSITY CENTER', '', '', '', '175', '', 'E', '8TH ST', '', 'CLAREMONT CA', '91711-3956', '1263', '', 'N', 'DARTMOUTH AVE', '', 'CLAREMONT CA', '91711-3941']\n",
      "['8308-005-020', '19680718-50', 'other', 'Y', 'CLAREMONT GRADUATE SCHOOL AND', 'UNIVERSITY CENTER', '', 'KATIE HENDRICK', '130', '', 'E', '9TH ST', '', 'CLAREMONT CA', '91711-5907', '101', '', 'S', 'MILLS AVE', '', 'CLAREMONT CA', '91711-5053']\n",
      "['8308-006-002', '20001222-50', 'nonReapp', 'Y', 'CLAREMONT UNIVERSITY CONSORTIUM', '', '', 'KATIE HENDRICK', '735', '', 'N', 'DARTMOUTH AVE', '', 'CLAREMONT CA', '91711-3962', '101', '', 'S', 'MILLS AVE', '', 'CLAREMONT CA', '91711-5053']\n",
      "['8308-006-008', '19630702-50', 'other', 'Y', 'CLAREMONT GRADUATE SCHOOL AND', 'UNIVERSITY CENTER', '', 'KATIE HENDRICK', '740', '', 'N', 'COLLEGE AVE', '', 'CLAREMONT CA', '91711-5913', '101', '', 'S', 'MILLS AVE', '', 'CLAREMONT CA', '91711-5053']\n",
      "['8308-006-010', '20040315-50', '', 'Y', 'CLAREMONT GRADUATE UNIVERSITY', '', '', 'KATIE HENDRICK', '738', '', 'N', 'COLLEGE AVE', '', 'CLAREMONT CA', '91711-3999', '101', '', 'S', 'MILLS AVE', '', 'CLAREMONT CA', '91711-5053']\n",
      "['8308-006-013', '19621129-50', 'other', 'Y', 'CLAREMONT GRADUATE SCHOOL', 'AND UNIVERSITY CENTER', '', 'KATIE HENDRICK', '710', '', 'N', 'COLLEGE AVE', '', 'CLAREMONT CA', '91711-3921', '101', '', 'S', 'MILLS AVE', '', 'CLAREMONT CA', '91711-5053']\n",
      "['8308-006-027', '20001222-50', 'nonReapp', 'Y', 'CLAREMONT UNIVERSITY CONSORTIUM', '', '', 'KATIE HENDRICK', '747', '', 'N', 'DARTMOUTH AVE', '', 'CLAREMONT CA', '91711-3962', '101', '', 'S', 'MILLS AVE', '', 'CLAREMONT CA', '91711-5053']\n",
      "['8308-006-031', '20091106-50', '', 'Y', 'CLAREMONT UNIVERSITY CONSORTIUM', '', '', 'KATIE HENDRICK', '139', '', 'E', '7TH ST', '', 'CLAREMONT CA', '91711-4448', '101', '', 'S', 'MILLS AVE', '', 'CLAREMONT CA', '91711-5053']\n",
      "['8308-006-033', '20090818-50', 'nonReapp', 'Y', 'CLAREMONT GRADUATE UNIVERSITY', 'CORP', '', 'C/O KATIE HENDRICK', '736', '', 'N', 'COLLEGE AVE', '', 'CLAREMONT CA', '91711-3921', '101', '', 'S', 'MILLS AVE', '', 'CLAREMONT CA', '91711-5053']\n",
      "['8308-006-033', '20001222-50', 'nonReapp', 'N', 'CLAREMONT UNIVERSITY CONSORTIUM', '', '', '', '736', '', 'N', 'COLLEGE AVE', '', 'CLAREMONT CA', '91711-3921', '1229', '', 'N', 'DARTMOUTH AVE', '', 'CLAREMONT CA', '91711-3940']\n",
      "['8308-006-034', '20090818-50', 'nonReapp', 'Y', 'CLAREMONT UNIVERSITY CONSORTIUM', 'CORP', '', 'KATIE HENDRICK', '0', '', '', '', '', '', '', '101', '', 'S', 'MILLS AVE', '', 'CLAREMONT CA', '91711-5053']\n",
      "['8308-009-007', '20001222-50', 'nonReapp', 'Y', 'CLAREMONT UNIVERSITY CONSORTIUM', '', 'KATIE HENDRICK', 'C/O KATHERINE HAUSER RUBEL', '800', '', 'N', 'DARTMOUTH AVE', '', 'CLAREMONT CA', '91711-3940', '101', '', 'S', 'MILLS AVE', '', 'CLAREMONT CA', '91711-5053']\n",
      "['8308-010-016', '20001222-50', 'nonReapp', 'Y', 'CLAREMONT UNIVERSITY CONSORTIUM', '', '', 'KATIE HENDRICK', '919', '', '', 'COLUMBIA AVE', '', 'CLAREMONT CA', '91711-3904', '101', '', 'S', 'MILLS AVE', '', 'CLAREMONT CA', '91711-5053']\n",
      "['8308-011-030', '19600922-50', 'other', 'Y', 'CLAREMONT GRADUATE SCHOOL AND', 'UNIVERSITY CENTER', '', 'KATIE HENDRICK', '251', '', 'E', '10TH ST', '', 'CLAREMONT CA', '91711-3913', '101', '', 'S', 'MILLS AVE', '', 'CLAREMONT CA', '91711-5053']\n",
      "['8308-025-012', '20020611-50', 'nonReapp', 'Y', 'CLAREMONT UNIVERSITY CONSORTIUM', '', '', 'KATIE HENDRICK', '0', '', '', '', '', '', '', '101', '', 'S', 'MILLS AVE', '', 'CLAREMONT CA', '91711-5053']\n",
      "['8308-025-012', '19880630-50', '', 'N', 'CLAREMONT UNIVERSITY CENTER INC', '', '', '', '0', '', '', '', '', '', '', '1263', '', 'N', 'DARTMOUTH AVE', '', 'CLAREMONT CA', '91711-3941']\n",
      "['8309-004-020', '20011023-50', '', 'Y', 'BUNKER,ROBERT J TR', 'ROBERT BUNKER J TRUST', '', '', '220', '', 'W', 'FOOTHILL BLVD', '', 'CLAREMONT CA', '91711-2707', '430', '', '', 'UNIVERSITY CIR', '', 'CLAREMONT CA', '91711-4250']\n",
      "['8309-006-017', '20130806-50', '', 'Y', 'UNIVERSITY OF LA VERNE', '', '', 'C/O FINANCE DEPT AVEDIS KECHICHI', '1105', '', 'N', 'COLLEGE AVE', '', 'CLAREMONT CA', '91711-3928', '1950', '', '', '3RD ST', '', 'LA VERNE CA', '91750-4401']\n",
      "['8309-014-001', '20120723-50', '', 'Y', 'CLAREMONT GRADUATE UNIVERSITY', '', '', '', '997', '', 'N', 'COLLEGE AVE', '', 'CLAREMONT CA', '91711-3924', '101', '', 'S', 'MILLS AVE', '', 'CLAREMONT CA', '91711-5053']\n",
      "['8309-015-006', '20121221-50', '', 'Y', 'CLAREMONT GRADUATE UNIVERSITY', '', '', '', '825', '', 'N', 'COLLEGE AVE', '', 'CLAREMONT CA', '91711-3923', '101', '', 'S', 'MILLS AVE', '', 'CLAREMONT CA', '91711-5053']\n",
      "['8309-018-007', '20161110-50', 'nonReapp', 'Y', 'BERNOFF,ANDREW J CO TR', 'BERNOFF TRAUTMANN TRUST', '', '', '460', '', '', 'UNIVERSITY CIR', '', 'CLAREMONT CA', '91711-4250', '', '', '', '', '', '', '']\n",
      "['8309-018-007', '20100114-50', 'nonReapp', 'N', 'BERNOFF,ANDREW J AND', '', '', '', '460', '', '', 'UNIVERSITY CIR', '', 'CLAREMONT CA', '91711-4250', '', '', '', '', '', '', '']\n",
      "['8309-018-007', '20060713-50', 'nonReapp', 'N', 'BERNOFF,ANDREW AND', '', '', '', '460', '', '', 'UNIVERSITY CIR', '', 'CLAREMONT CA', '91711-4250', '', '', '', '', '', '', '']\n",
      "['8309-018-007', '19991222-50', '', 'N', 'BERNOFF,ANDREW', '', '', '', '460', '', '', 'UNIVERSITY CIR', '', 'CLAREMONT CA', '91711-4250', '', '', '', '', '', '', '']\n",
      "['8309-018-008', '20020415-50', 'nonReapp', 'Y', 'GLUCK,GARET AND CAROLYN', '', '', '', '470', '', '', 'UNIVERSITY CIR', '', 'CLAREMONT CA', '91711-4250', '', '', '', '', '', '', '']\n",
      "['8309-018-008', '20001227-50', 'nonReapp', 'N', 'GLUCK,GARET AND CAROLYN', '', '', '', '470', '', '', 'UNIVERSITY CIR', '', 'CLAREMONT CA', '91711-4250', '', '', '', '', '', '', '']\n",
      "['8309-018-008', '19780818-50', 'other', 'N', 'GLUCK,JAY', '', '', '', '470', '', '', 'UNIVERSITY CIR', '', 'CLAREMONT CA', '91711-4250', '', '', '', '', '', '', '']\n",
      "['8309-018-009', '20040802-50', 'PartInt', 'Y', 'BECK,FREDERICK AND MARGARET TRS', 'BECK FAMILY TRUST', '', '', '480', '', '', 'UNIVERSITY CIR', '', 'CLAREMONT CA', '91711-4250', '213', '', 'N', 'HERITAGE OAK DR', '', 'GLENDORA CA', '91741-3996']\n",
      "['8309-018-009', '19910402-50', 'nonReapp', 'N', 'BECK,F F AND M M TRS', '', '', '', '480', '', '', 'UNIVERSITY CIR', '', 'CLAREMONT CA', '91711-4250', '213', '', 'N', 'HERITAGE OAK DR', '', 'GLENDORA CA', '91741-3996']\n",
      "['8309-018-009', '19901126-50', 'nonReapp', 'N', 'GOODE,HAROLD H CO TR ET AL', '', '', '', '480', '', '', 'UNIVERSITY CIR', '', 'CLAREMONT CA', '91711-4250', '481', '', '', 'BERRIAN ST', '', 'POMONA CA', '91767']\n",
      "['8309-018-009', '19820412-50', 'other', 'N', 'BECK,FREDERICK F ET AL', '', '', '', '480', '', '', 'UNIVERSITY CIR', '', 'CLAREMONT CA', '91711-4250', '213', '', '', 'HERITAGE OAK DR', '', 'GLENDORA CA', '91740']\n",
      "['8309-018-010', '20120423-50', 'nonReapp', 'Y', 'SCHNEIDER,GARRETH E AND', 'KATHRYN M', '', '', '488', '', '', 'UNIVERSITY CIR', '', 'CLAREMONT CA', '91711-4250', '', '', '', '', '', '', '']\n",
      "['8309-018-010', '20000526-50', '', 'N', 'SCHNEIDER,GARRETH E AND', '', '', '', '488', '', '', 'UNIVERSITY CIR', '', 'CLAREMONT CA', '91711-4250', '', '', '', '', '', '', '']\n",
      "['8309-018-011', '20100804-50', 'nonReapp', 'Y', 'DEQUER,STEPHEN S', '', '', '', '483', '', '', 'UNIVERSITY CIR', '', 'CLAREMONT CA', '91711-4251', '', '', '', '', '', '', '']\n",
      "['8309-018-011', '20030604-50', 'nonReapp', 'N', 'DEQUER,STEPHEN S TR', '', '', '', '483', '', '', 'UNIVERSITY CIR', '', 'CLAREMONT CA', '91711-4251', '', '', '', '', '', '', '']\n",
      "['8309-018-011', '19990618-50', '', 'N', 'DEQUER,STEPHEN S', '', '', '', '483', '', '', 'UNIVERSITY CIR', '', 'CLAREMONT CA', '91711-4251', '', '', '', '', '', '', '']\n",
      "['8309-018-012', '19911003-50', 'nonReapp', 'Y', 'BRIGANTE,THOMAS R AND MARY E TRS', 'BRIGANTE TRUST', '', '', '481', '', '', 'UNIVERSITY CIR', '', 'CLAREMONT CA', '91711-4251', '', '', '', '', '', '', '']\n",
      "['8309-018-012', '19680801-50', 'other', 'N', 'BRIGANTE,THOMAS R AND MARY E', '', '', '', '481', '', '', 'UNIVERSITY CIR', '', 'CLAREMONT CA', '91711-4251', '', '', '', '', '', '', '']\n",
      "['8309-018-013', '20080807-50', '', 'Y', 'NEAL,PATRICK D', '', '', '', '471', '', '', 'UNIVERSITY CIR', '', 'CLAREMONT CA', '91711-4251', '', '', '', '', '', '', '']\n",
      "['8309-018-014', '19971217-50', '', 'Y', 'RAUS,RAYMOND P AND VICTORIA R', '', '', '', '461', '', '', 'UNIVERSITY CIR', '', 'CLAREMONT CA', '91711-4251', '', '', '', '', '', '', '']\n",
      "['8309-018-015', '20041229-50', 'nonReapp', 'Y', 'NICHOLS,MARK A AND JAHANNA L', '', '', '', '455', '', '', 'UNIVERSITY CIR', '', 'CLAREMONT CA', '91711-4251', '', '', '', '', '', '', '']\n",
      "['8309-018-015', '20030718-50', '', 'N', 'NICHOLS,JAHANNA L', '', '', '', '455', '', '', 'UNIVERSITY CIR', '', 'CLAREMONT CA', '91711-4251', '', '', '', '', '', '', '']\n",
      "['8309-018-018', '20091125-50', '', 'Y', 'VERBAL,JAMES M AND SUSAN M AND', '', 'VERBAL,LAURA A', '', '444', '', '', 'UNIVERSITY CIR', '', 'CLAREMONT CA', '91711-4250', '623', '', 'W', '9TH ST', '', 'CLAREMONT CA', '91711-3742']\n",
      "['8309-018-027', '20010629-50', '', 'Y', 'KETTER,CHARLES D AND LEAH K', '', '', '', '450', '', '', 'UNIVERSITY CIR', '', 'CLAREMONT CA', '91711-4250', '', '', '', '', '', '', '']\n",
      "['8309-019-001', '20120912-50', '', 'Y', 'JEON,JOSEPH J AND YOUNGMIN', '', '', '', '403', '', '', 'UNIVERSITY CIR', '', 'CLAREMONT CA', '91711-4251', '', '', '', '', '', '', '']\n",
      "['8309-019-002', '20071001-50', 'nonReapp', 'Y', 'ANDREWS,DAVID AND STEPHANIE TRS', 'D M AND S B ANDREWS TRUST', '', '', '411', '', '', 'UNIVERSITY CIR', '', 'CLAREMONT CA', '91711-4251', '', '', '', '', '', '', '']\n",
      "['8309-019-002', '20070117-50', 'nonReapp', 'N', 'ANDREWS,DAVID AND STEPHANIE TRS', '', '', '', '411', '', '', 'UNIVERSITY CIR', '', 'CLAREMONT CA', '91711-4251', '', '', '', '', '', '', '']\n",
      "['8309-019-002', '20070112-50', '', 'N', 'ANDREWS,DAVID M AND STEPHANIE B', '', '', '', '411', '', '', 'UNIVERSITY CIR', '', 'CLAREMONT CA', '91711-4251', '411', '', '', 'UNIVERSITY CIR', '', 'CLAREMONT CA', '91711']\n",
      "['8309-019-003', '20131015-50', 'nonReapp', 'Y', 'GROVES,JEFFREY D CO TR', 'SHAW GROVES TRUST', '', '', '421', '', '', 'UNIVERSITY CIR', '', 'CLAREMONT CA', '91711-4251', '', '', '', '', '', '', '']\n",
      "['8309-019-003', '19951121-50', '', 'N', 'GROVES,JEFFREY D AND', '', '', '', '421', '', '', 'UNIVERSITY CIR', '', 'CLAREMONT CA', '91711-4251', '', '', '', '', '', '', '']\n",
      "['8309-019-004', '20140910-50', '', 'Y', 'MASSON,LLOYD K AND CHRIS Y', '', '', '', '431', '', '', 'UNIVERSITY CIR', '', 'CLAREMONT CA', '91711-4251', '', '', '', '', '', '', '']\n",
      "['8309-019-005', '20030603-50', 'nonReapp', 'Y', 'WILSON,JAMES W AND', 'SMILEY,PATRICIA A', '', '', '440', '', '', 'UNIVERSITY CIR', '', 'CLAREMONT CA', '91711-4250', '', '', '', '', '', '', '']\n",
      "['8309-019-005', '20020808-50', 'nonReapp', 'N', 'WILSON,JAMES W CO TR', '', '', '', '440', '', '', 'UNIVERSITY CIR', '', 'CLAREMONT CA', '91711-4250', '', '', '', '', '', '', '']\n",
      "['8309-019-005', '20001016-50', 'nonReapp', 'N', 'WILSON,JAMES W CO TR', '', '', '', '440', '', '', 'UNIVERSITY CIR', '', 'CLAREMONT CA', '91711-4250', '', '', '', '', '', '', '']\n",
      "['8309-019-005', '20000711-50', '', 'N', 'WILSON,JAMES W AND', '', '', '', '440', '', '', 'UNIVERSITY CIR', '', 'CLAREMONT CA', '91711-4250', '440', '', '', 'UNIVERSITY CIR', '', 'CLAREMONT CA', '91711']\n",
      "['8309-019-006', '20040922-50', 'nonReapp', 'Y', 'BUNKER,ROBERT J AND PAMELA L TRS', 'BUNKER TRUST', '', '', '430', '', '', 'UNIVERSITY CIR', '', 'CLAREMONT CA', '91711-4250', '', '', '', '', '', '', '']\n",
      "['8309-019-006', '20040409-50', 'nonReapp', 'N', 'BUNKER,ROBERT J AND PAMELA L', '', '', '', '430', '', '', 'UNIVERSITY CIR', '', 'CLAREMONT CA', '91711-4250', '', '', '', '', '', '', '']\n",
      "['8309-019-006', '20020321-50', 'nonReapp', 'N', 'BUNKER,ROBERT AND PAMELA TRS', '', '', '', '430', '', '', 'UNIVERSITY CIR', '', 'CLAREMONT CA', '91711-4250', '430', '', '', 'UNIVERSITY CIRCLE', '', 'CLAREMONT CA', '91711-4250']\n",
      "['8309-019-006', '19991210-50', 'nonReapp', 'N', 'BUNKER,ROBERT J AND PAMELA L TRS', '', '', '', '430', '', '', 'UNIVERSITY CIR', '', 'CLAREMONT CA', '91711-4250', '', '', '', '', '', '', '']\n",
      "['8309-019-006', '19920220-50', '', 'N', 'BUNKER,JOSEPH L TR', '', '', '', '430', '', '', 'UNIVERSITY CIR', '', 'CLAREMONT CA', '91711-4250', '', '', '', '', '', '', '']\n",
      "['8309-019-007', '20090130-50', '', 'Y', 'THOMAS,GEORGE AND COURTNEY', '', '', '', '420', '', '', 'UNIVERSITY CIR', '', 'CLAREMONT CA', '91711-4250', '', '', '', '', '', '', '']\n",
      "['8309-019-008', '19941130-50', '', 'Y', 'CLARKE,PAUL AND', 'MCFADDEN,CATHERINE S', '', '', '410', '', '', 'UNIVERSITY CIR', '', 'CLAREMONT CA', '91711-4250', '', '', '', '', '', '', '']\n",
      "['8309-019-009', '20120831-50', 'nonReapp', 'Y', 'KAY,MARK CO TR', 'M KAY AND C ZUKOWSKI TRUST', '', '', '400', '', '', 'UNIVERSITY CIR', '', 'CLAREMONT CA', '91711-4250', '', '', '', '', '', '', '']\n",
      "['8309-019-009', '20100602-50', '', 'N', 'KAY,MARK W AND', '', '', '', '400', '', '', 'UNIVERSITY CIR', '', 'CLAREMONT CA', '91711-4250', '', '', '', '', '', '', '']\n",
      "['8309-022-019', '19710928-50', 'other', 'Y', 'CLAREMONT UNIVERSITY CENTER', '', '', 'KATIE HENDRICK', '709', '', '', 'HARVARD AVE', '', 'CLAREMONT CA', '91711-4335', '101', '', 'S', 'MILLS AVE', '', 'CLAREMONT CA', '91711-5053']\n",
      "['8309-025-018', '20060302-50', '', 'Y', 'CLAREMONT GRADUATE UNIVERSITY', '', '', 'KATIE HENDRICK', '207', '', 'W', '6TH ST', '', 'CLAREMONT CA', '91711-4304', '101', '', 'S', 'MILLS AVE', '', 'CLAREMONT CA', '91711-5053']\n",
      "['8313-021-010', '20160502-50', '', 'Y', 'CLAREMONT LINCOLN UNIVERSITY', '', '', 'C/O EILEEN ARANDA', '150', '', 'W', '1ST ST', '', 'CLAREMONT CA', '91711-4750', '250', '', 'W', '1ST ST', 'STE 330', 'CLAREMONT CA', '91711-4744']\n",
      "['8314-001-003', '20080721-50', '', 'Y', 'CLAREMONT UNIVERSITY CONSORTIUM', '', '', 'REAL ESTATE OFFICE', '0', '', '', '', '', '', '', '1245', '', 'N', 'DARTMOUTH AVE', '', 'CLAREMONT CA', '91711-3941']\n",
      "['8314-009-023', '20071212-50', 'nonReapp', 'Y', 'CLAREMONT UNIVERSITY CONSORTIUM', '', '', '', '0', '', '', '', '', '', '', '1245', '', 'N', 'DARTMOUTH AVE', '', 'CLAREMONT CA', '91711-3941']\n",
      "['8314-009-023', '20020611-50', 'nonReapp', 'N', 'CLAREMONT UNIVERSITY CONSORTIUM', '', '', '', '0', '', '', '', '', '', '', '1263', '', 'N', 'DARTMOUTH AVE', '', 'CLAREMONT CA', '91711-3941']\n",
      "['8314-009-023', '19880630-50', '', 'N', 'CLAREMONT UNIVERSITY CENTER INC', '', '', 'CHARLES CRAWFORD', '0', '', '', '', '', '', '', '747', '', '', 'DARMONTH AVE', '', 'CLAREMONT CA', '91711']\n",
      "['8314-012-017', '20060714-50', '', 'Y', 'CLAREMONT UNIVERSITY CONSORTIUM', '', '', 'KATIE HENDRICK', '624', '', '', 'HUNTINGTON DR', '', 'CLAREMONT CA', '91711-4550', '101', '', 'S', 'MILLS AVE', '', 'CLAREMONT CA', '91711-5053']\n",
      "['8314-012-030', '20090918-50', 'nonReapp', 'Y', 'CLAREMONT UNIVERSITY CONSORTIUM', '', '', 'KATIE HENDRICK', '0', '', '', '', '', '', '', '101', '', 'S', 'MILLS AVE', '', 'CLAREMONT CA', '91711-5053']\n",
      "['8314-012-030', '20040429-50', 'other', 'N', 'CLAREMONT UNIVERSITY CONSORTIUM', '', '', '', '0', '', '', '', '', '', '', '1245', '', 'N', 'DARTMOUTH AVE', '', 'CLAREMONT CA', '91711-3941']\n",
      "['8314-016-011', '20090918-50', 'nonReapp', 'Y', 'CLAREMONT UNIVERSITY CONSORTIUM', '', '', 'KATIE HENDRICK', '101', '', 'S', 'MILLS AVE', '', 'CLAREMONT CA', '91711-5053', '101', '', 'S', 'MILLS AVE', '', 'CLAREMONT CA', '91711-5053']\n",
      "['8314-016-011', '20001222-50', 'nonReapp', 'N', 'CLAREMONT UNIVERSITY CONSORTIUM', '', '', '', '101', '', 'S', 'MILLS AVE', '', 'CLAREMONT CA', '91711-5053', '1245', '', 'N', 'DARTMOUTH AVE', '', 'CLAREMONT CA', '91711-3941']\n",
      "['8314-016-012', '20090918-50', 'nonReapp', 'Y', 'CLAREMONT UNIVERSITY CONSORTIUM', '', 'KATIE HENDRICK', 'C/O KATHERINE RUBEL', '0', '', '', '', '', '', '', '101', '', 'S', 'MILLS AVE', '', 'CLAREMONT CA', '91711-5053']\n",
      "['8314-016-012', '20090625-50', 'other', 'N', 'CLAREMONT UNIVERSITY CONSORTIUM', '', '', '', '0', '', '', '', '', '', '', '1245', '', 'N', 'DARTMOUTH AVE', '', 'CLAREMONT CA', '91711-3941']\n",
      "['8327-014-038', '20040722-50', 'other', 'Y', 'POMONA CITY PARK LLC', '', '', '', '0', '', '', '', '', '', '', '2240', '', '', 'UNIVERSITY DR', 'NO 100', 'NEWPORT BEACH CA', '92660-3328']\n",
      "['8335-004-066', '20081112-50', 'other', 'Y', 'WESTERN UNIVERSITY OF', 'HEALTH AND SCIENCE', '', '', '701', '', 'E', '2ND ST', '', 'POMONA CA', '91766-2007', '309', '', 'E', '2ND ST', '', 'POMONA CA', '91766-1854']\n",
      "['8335-004-067', '20110701-50', '', 'Y', 'WESTERN UNIVERSITY OF HEALTH', 'SCIENCES LESSOR', 'NHP PMB POMONA LLC LESSEE', 'C/O NATIONWIDE HEALTH PROP INC', '795', '', 'E', '2ND ST', '', 'POMONA CA', '91766-2007', '610', '', '', 'NEWPORT CENTER DR', 'STE 1150', 'NEWPORT BEACH CA', '92660-6493']\n",
      "['8335-005-038', '20060203-50', 'other', 'Y', 'WESTERN UNIVERSITY OF', 'HEALTH AND SCIENCE', '', '', '557', '', 'E', '2ND ST', '', 'POMONA CA', '91766-1953', '309', '', 'E', '2ND ST', '', 'POMONA CA', '91766-1854']\n",
      "['8335-005-046', '20060203-50', 'other', 'Y', 'WESTERN UNIVERSITY OF', 'HEALTH AND SCIENCE', '', '', '611', '', 'E', '2ND ST', '', 'POMONA CA', '91766-1908', '309', '', 'E', '2ND ST', '', 'POMONA CA', '91766-1854']\n",
      "['8335-005-047', '20060203-50', 'other', 'Y', 'WESTERN UNIVERSITY OF', 'HEALTH AND SCIENCE', '', '', '637', '', 'E', '2ND ST', '', 'POMONA CA', '91766-1908', '309', '', 'E', '2ND ST', '', 'POMONA CA', '91766-1854']\n",
      "['8335-005-048', '20060203-50', 'other', 'Y', 'WESTERN UNIVERSITY OF', 'HEALTH AND SCIENCE', '', '', '108', '', 'S', 'PALOMARES ST', '', 'POMONA CA', '91766', '309', '', 'E', '2ND ST', '', 'POMONA CA', '91766-1854']\n",
      "['8335-005-049', '20060203-50', 'other', 'Y', 'WESTERN UNIVERSITY OF', 'HEALTH AND SCIENCE', '', '', '505', '', 'E', '2ND ST', '', 'POMONA CA', '91766-1908', '309', '', 'E', '2ND ST', '', 'POMONA CA', '91766-1854']\n",
      "['8335-005-050', '20130514-50', 'other', 'Y', 'WESTERN UNIVERSITY OF HEALTH', 'AND SCIENCE', '', '', '521', '', 'E', '3RD ST', '', 'POMONA CA', '91766-1954', '309', '', 'E', '2ND ST', '', 'POMONA CA', '91766-1854']\n",
      "['8335-007-001', '20060118-50', '', 'Y', 'WESTERN UNIVERSITY OF HEALTH', 'SCIENCES', '', '', '390', '', 'E', 'COLLEGE PLAZA', '', 'POMONA CA', '91766-1853', '309', '', 'E', '2ND ST', '', 'POMONA CA', '91766-1854']\n",
      "['8335-007-011', '19931007-50', '', 'Y', 'WESTERN UNIVERSITY OF HEALTH', 'SCIENCES', '', '', '450', '', 'E', 'POMONA MALL', '', 'POMONA CA', '91766-1950', '309', '', 'E', '2ND ST', '', 'POMONA CA', '91766-1854']\n",
      "['8335-007-017', '20041208-50', 'other', 'Y', 'WESTERN UNIVERSITY OF HEALTH', 'SCIENCES', '', '', '364', '', 'E', 'COLLEGE PLAZA', '', 'POMONA CA', '91766-1853', '309', '', 'E', 'POMONA MALL', '', 'POMONA CA', '91766-1899']\n",
      "['8335-007-018', '20041208-50', 'other', 'Y', 'WESTERN UNIVERSITY OF HEALTH', 'SCIENCES', '', '', '450', '', '', 'POMONA MALL EAST', '', 'POMONA CA', '91766-1950', '309', '', 'E', '2ND ST', '', 'POMONA CA', '91766-1854']\n",
      "['8335-008-015', '20041208-50', 'other', 'Y', 'WESTERN UNIVERSITY OF HEALTH', 'SCIENCES', '', '', '309', '', 'E', 'COLLEGE PLAZA', '', 'POMONA CA', '91766-1899', '309', '', 'E', '2ND ST', '', 'POMONA CA', '91766-1854']\n",
      "['8335-008-017', '20041208-50', 'other', 'Y', 'WESTERN UNIVERSITY OF HEALTH', 'SCIENCES', '', '', '395', '', 'E', 'COLLEGE PLAZA', '', 'POMONA CA', '91766-1854', '309', '', 'E', '2ND ST', '', 'POMONA CA', '91766-1854']\n",
      "['8335-008-018', '20080325-50', '', 'Y', 'WESTERN UNIVERSITY OF', 'HEALTH SCIENCES', '', '', '401', '', '', 'POMONA MALL EAST', '', 'POMONA CA', '91766-1951', '309', '', 'E', '2ND ST', '', 'POMONA CA', '91766-1854']\n",
      "['8335-010-018', '19981023-50', '', 'Y', 'WESTERN UNIVERSITY OF HEALTH', 'SCIENCES', '', '', '287', '', 'W', '3RD ST', '', 'POMONA CA', '91766-1713', '309', '', 'E', '2ND ST', '', 'POMONA CA', '91766-1854']\n",
      "['5381-001-043', '20070515-50', 'nonReapp', 'N', 'HON,ROBERT W TR', '', '', '', '6805', '', '', 'ROSEMEAD BLVD', '', 'SAN GABRIEL CA', '91775-1558', '386', '', '', 'UNIVERSITY AVE', '', 'LOS ALTOS CA', '94022']\n",
      "['5382-003-029', '20070515-50', 'nonReapp', 'N', 'HON,ROBERT W TR ET AL', '', '', '', '9036', '', '', 'DUARTE RD', '', 'SAN GABRIEL CA', '91775-2062', '386', '', '', 'UNIVERSITY AVE', '', 'LOS ALTOS CA', '94022-3516']\n",
      "['5420-004-008', '20031121-50', '', 'Y', 'SPICER,DONALD W AND', '', 'SPICER,CHERITH D', '', '1923', '', '', 'LAKE SHORE AVE', '', 'LOS ANGELES CA', '90039-3924', '970', '', '', 'UNIVERSITY AVE', '', 'PALO ALTO CA', '94301-2234']\n",
      "['5438-008-027', '20140708-50', 'PartInt', 'N', 'FOSTER,ALEX AND', '', '', 'BERKELEY MARINA H 23', '2520', '', '', 'LAKE VIEW AVE', '', 'LOS ANGELES CA', '90039-3317', '201', '', '', 'UNIVERSITY AVE', '', 'BERKELEY CA', '94710-1699']\n",
      "['5473-031-030', '19641016-50', 'other', 'N', 'RASSP,HERMAN', '', '', '', '0', '', '', '', '', '', '', '0', '', '', '631 UNIVERSITY AVE', '', 'BURBANK CALIF', '91504']\n",
      "['5503-022-013', '20131121-50', '', 'Y', 'PACIFIC STATES UNIVERSITY', '', '', '', '528', '', 'S', 'HOBART BLVD', '', 'LOS ANGELES CA', '90020-3742', '3424', '', '', 'WILSHIRE BLVD#1200', 'FL 12', 'LOS ANGELES CA', '90010-2261']\n",
      "['5518-031-003', '20070226-50', '', 'Y', 'INTERNATIONAL REFORMED', 'UNIVERSITY AND SEMINARY', '', '', '117', '', 'S', 'VERMONT AVE', '', 'LOS ANGELES CA', '90004-5904', '125', '', 'S', 'VERMONT AVE', '', 'LOS ANGELES CA', '90004-5904']\n",
      "['5518-031-004', '20070226-50', '', 'Y', 'INTERNATIONAL REFORMED', 'UNIVERSITY AND SEMINARY', '', '', '125', '', 'S', 'VERMONT AVE', '', 'LOS ANGELES CA', '90004-5904', '', '', '', '', '', '', '']\n",
      "['5518-031-005', '20070226-50', '', 'Y', 'INTERNATIONAL REFORMED', 'UNIVERSITY AND SEMINARY', '', '', '127', '', 'S', 'VERMONT AVE', '', 'LOS ANGELES CA', '90004-5904', '125', '', 'S', 'VERMONT AVE', '', 'LOS ANGELES CA', '90004-5904']\n",
      "['5518-031-008', '20070226-50', '', 'Y', 'INTERNATIONAL REFORMED', 'UNIVERSITY AND SEMINARY', '', '', '147', '', 'S', 'VERMONT AVE', '', 'LOS ANGELES CA', '90004-5904', '125', '', 'S', 'VERMONT AVE', '', 'LOS ANGELES CA', '90004-5904']\n",
      "['5525-030-023', '19811026-50', 'other', 'N', 'UNIVERSITY OF SOUTHERN CA', '', '', '', '457', '', 'N', 'ORANGE DR', '', 'LOS ANGELES CA', '90036-2611', '', '', '', '', '', '', '']\n",
      "['5525-032-017', '19811026-50', 'other', 'N', 'UNIVERSITY OF SOUTHERN CA', '', '', '', '321', '', 'N', 'SYCAMORE AVE', '', 'LOS ANGELES CA', '90036-2685', '0', '', '', 'UNIVERSITY PARK MC-0588', '', 'LOS ANGELES CA', '90089']\n",
      "['5528-012-003', '20100804-50', 'nonReapp', 'Y', '8210 MELROSE AVENUE LLC', '', '', 'C/O PILAR ZAMORA', '8210', '', '', 'MELROSE AVE', '', 'LOS ANGELES CA', '90046-6812', '819', '', '', 'UNIVERSITY AVE', '', 'BURBANK CA', '91504-3033']\n",
      "['5528-012-003', '20100702-50', 'PartInt', 'N', 'ZAMORA,PILAR CO TR', '', '', '', '8210', '', '', 'MELROSE AVE', '', 'LOS ANGELES CA', '90046-6812', '819', '', '', 'UNIVERSITY AVE', '', 'BURBANK CA', '91504']\n",
      "['5528-012-003', '20100121-50', 'nonReapp', 'N', 'ZAMORA,PILAR TR', '', '', '', '8210', '', '', 'MELROSE AVE', '', 'LOS ANGELES CA', '90046-6812', '819', '', '', 'UNIVERSITY AVE', '', 'BURBANK CA', '91504-3033']\n",
      "['5528-012-003', '20030407-50', 'nonReapp', 'N', 'ZAMORA,MIKE AND PILAR TRS', '', '', '', '8210', '', '', 'MELROSE AVE', '', 'LOS ANGELES CA', '90046-6812', '819', '', '', 'UNIVERSITY AVE', '', 'BURBANK CA', '91504-3033']\n",
      "['5528-012-003', '19931020-50', '', 'N', 'ZAMORA,MIKE AND PILAR', '', '', '', '8210', '', '', 'MELROSE AVE', '', 'LOS ANGELES CA', '90046-6812', '819', '', '', 'UNIVERSITY AVE', '', 'BURBANK CA', '91504-3033']\n",
      "['5544-006-029', '20041029-50', 'nonReapp', 'N', 'ADALIAN,ARAXI TR', '', '', '', '5418', '', '', 'FRANKLIN AVE', '', 'LOS ANGELES CA', '90027-1614', '606', '', '', 'UNIVERSITY AVE', '', 'BURBANK CA', '91504-3923']\n",
      "['5544-006-029', '19990222-50', 'nonReapp', 'N', 'DER BOGHOSSIAN,CHRIS AND', '', '', '', '5418', '', '', 'FRANKLIN AVE', '', 'LOS ANGELES CA', '90027-1614', '606', '', '', 'UNIVERSITY AVE', '', 'BURBANK CA', '91504']\n",
      "['5548-001-077', '20030122-50', 'nonReapp', 'Y', 'LANDSBERGER,PETER J CO TR', 'LANDSBERGEN  NOONAN TRUST', '', '', '7135', '', '', 'HOLLYWOOD BLVD', 'NO 607', 'LOS ANGELES CA', '90046-3247', '950', '', '', 'UNIVERSITY AVE', '', 'LOS ALTOS CA', '94024-4643']\n",
      "['5548-001-077', '20010227-50', '', 'N', 'LANDSBERGER,PETER J AND', '', '', '', '7135', '', '', 'HOLLYWOOD BLVD', 'NO 607', 'LOS ANGELES CA', '90046-3247', '950', '', '', 'UNIVERSITY AVE', '', 'LOS ALTOS CA', '94024-4643']\n",
      "['5549-018-016', '19860530-50', 'other', 'Y', 'UNIVERSITY OF SOUTHERN CALIF', '', '', 'DEE JACKSON', '1962', '', '', 'GLENCOE WAY', '', 'LOS ANGELES CA', '90068-3113', '620', '', '', 'MC CARTHY WAY', 'STE 5', 'LOS ANGELES CA', '90089-0155']\n",
      "['5549-018-016', '19860218-50', '', 'N', 'UNIVERSITY OF SOUTHERN CALIF', '', '', '', '1962', '', '', 'GLENCOE WAY', '', 'LOS ANGELES CA', '90068-3113', '0', '', '', 'UNIVERSITY PARK ADM 353', '', 'LOS ANGELES CA', '90089']\n",
      "['5550-017-108', '20070420-50', '', 'Y', 'BRANSON,WILLIAM H III AND DIANNE', '', '', '', '7320', '', '', 'HAWTHORN AVE', '408', 'LOS ANGELES CA', '90046-3677', '2731', '', '', 'UNIVERSITY DR', '', 'DURHAM NC', '27707-2863']\n",
      "['5554-021-031', '19810519-50', 'other', 'N', 'KAGAN,MORRIS AND JOAN', '', '', '', '1203', '', 'N', 'SWEETZER AVE', '106', 'WEST HOLLYWOOD CA', '90069-3028', '930', '', '', 'UNIVERSITY AVE', '', 'BURBANK CA', '91504']\n",
      "['5558-002-008', '20060119-50', 'nonReapp', 'Y', 'DAIJAVAD,MANOUCHEHR CO TR', 'DAIJAVAD TRUST AND', 'LOTTI,SAHARA', '', '1893', '', '', 'SUNSET PLAZA DR', '', 'LOS ANGELES CA', '90069-1313', '1330', '', '', 'UNIVERSITY DR', 'APT 85', 'MENLO PARK CA', '94025-4242']\n",
      "['5572-009-026', '20150421-50', '', 'Y', 'BIRD STREET PROPERTIES LLC', '', '', 'C/O HELEN DICKEY', '2541', '', '', 'CARMAN CREST DR', '', 'LOS ANGELES CA', '90068-2604', '3300', '', '', 'UNIVERSITY BLVD', 'STE 218', 'WINTER PARK FL', '32792-7435']\n",
      "['5589-038-037', '20021112-50', 'nonReapp', 'Y', 'POINT LOMA NAZARENE UNIVERSITY', '', '', '', '1743', '', 'N', 'EDGEMONT ST', 'NO 1', 'LOS ANGELES CA', '90027-4147', '', '', '', '', '', '', '']\n",
      "['5607-009-006', '20100709-50', 'nonReapp', 'N', 'HOLDEN,BRENDA S TR', '', '', '', '3725', '', '', 'MONTROSE AVE', '', 'GLENDALE CA', '91214-3232', '3750', '', '', 'UNIVERSITY AVE', 'STE 250', 'RIVERSIDE CA', '92501-3335']\n",
      "['5607-009-006', '20100118-50', 'other', 'N', 'HOLDEN,BRENDA S TR', '', '', 'C/O KENNETH B STREAM', '3725', '', '', 'MONTROSE AVE', '', 'GLENDALE CA', '91214-3232', '3750', '', '', 'UNIVERSITY AVE', 'STE 250', 'RIVERSIDE CA', '92501']\n",
      "['5607-009-012', '20100709-50', 'nonReapp', 'N', 'HOLDEN,BRENDA S TR', '', '', 'C/O KENNETH B STREAM', '3749', '', '', 'MONTROSE AVE', '', 'GLENDALE CA', '91214-3232', '3750', '', '', 'UNIVERSITY AVE', 'STE 250', 'RIVERSIDE CA', '92501']\n",
      "['5607-009-012', '20100118-50', 'other', 'N', 'HOLDEN,BRENDA S TR', '', '', 'C/O KENNETH B STREAM', '3749', '', '', 'MONTROSE AVE', '', 'GLENDALE CA', '91214-3232', '3750', '', '', 'UNIVERSITY AVE', 'STE 250', 'RIVERSIDE CA', '92501']\n",
      "['5621-033-019', '19730810-50', 'other', 'N', 'FASANO,LOUIS AND OLIMPIA', '', '', '', '1165', '', '', 'ELM AVE', '', 'GLENDALE CA', '91201-1352', '601', '', '', 'UNIVERSITY AVE', '', 'BURBANK CALIF', '91504']\n",
      "['5624-003-034', '20150513-50', 'nonReapp', 'Y', 'ELM AVE FOURPLEX LLC', '', '', 'C/O GREG K JAGHELIAN', '1013', '', '', 'ELM AVE', '', 'GLENDALE CA', '91201-1672', '624', '', '', 'UNIVERSITY AVE', '', 'BURBANK CA', '91504-3923']\n",
      "['5638-009-027', '19861103-50', 'nonReapp', 'N', 'IACOBELLIS,MARIO AND', '', '', '', '735', '', '', 'MILFORD ST', '', 'GLENDALE CA', '91203-1502', '517', '', '', 'UNIVERSITY AVE', '', 'BURBANK CA', '91504-3922']\n",
      "['5638-009-027', '19841009-50', 'nonReapp', 'N', 'IACOBELLIS,MARIO AND UGO', '', '', '', '735', '', '', 'MILFORD ST', '', 'GLENDALE CA', '91203-1502', '517', '', '', 'UNIVERSITY AVE', '', 'BURBANK CA', '91504']\n",
      "['5638-017-004', '19860305-50', 'nonReapp', 'Y', 'IACOBELLIS,MARIO', '', '', '', '401', '', '', 'CHESTER ST', '', 'GLENDALE CA', '91203-1556', '517', '', '', 'UNIVERSITY AVE', '', 'BURBANK CA', '91504-3922']\n",
      "['5642-017-072', '20140508-50', 'nonReapp', 'Y', 'SALADIN,RALPH W TR', 'RALPH W SALADIN TRUST', '', '', '215', '', 'N', 'KENWOOD ST', 'UNIT 101', 'GLENDALE CA', '91206-4202', '537', '', 'E', 'UNIVERSITY AVE', '', 'BURBANK CA', '91504-3922']\n",
      "['5642-017-072', '20031231-50', 'nonReapp', 'N', 'SALADIN,RALPH W AND BEVERLY I', '', '', '', '215', '', 'N', 'KENWOOD ST', 'UNIT 101', 'GLENDALE CA', '91206-4202', '537', '', '', 'UNIVERSITY AVE', '', 'BURBANK CA', '91504-3922']\n",
      "['5642-017-072', '20020122-50', 'nonReapp', 'N', 'BUCKLEY,ELLEN K DECD EST OF AND', '', '', '', '215', '', 'N', 'KENWOOD ST', 'UNIT 101', 'GLENDALE CA', '91206-4202', '537', '', '', 'UNIVERSITY AVE', '', 'BURBANK CA', '91504-3922']\n",
      "['5642-017-072', '20010714-50', 'nonReapp', 'N', 'BUCKLEY,ELLEN K DECD EST OF AND', '', '', '', '215', '', 'N', 'KENWOOD ST', 'UNIT 101', 'GLENDALE CA', '91206-4202', '537', '', 'E', 'UNIVERSITY', '', 'BURBANK CA', '91504']\n",
      "['5647-003-022', '20071206-50', '', 'Y', 'DERBOGHOSSIAN,CHRIS AND AIDA', '', '', '', '1112', '', 'N', 'CENTRAL AVE', '', 'GLENDALE CA', '91202-3031', '606', '', '', 'UNIVERSITY AVE', '', 'BURBANK CA', '91504-3923']\n",
      "['5720-030-046', '19920131-50', '', 'Y', 'KIMURA,TAKASHI AND', '', 'KIMURA,YOSHIYE', 'C/O DEPT MATHEMATICS', '382', '', 'E', 'CALIFORNIA BLVD', 'NO 302', 'PASADENA CA', '91106-3762', '111', '', '', 'CUMMINGTON ST BOSTON UNIVERSITY', '', 'BOSTON MA', '02215']\n",
      "['5723-016-020', '19670245-50', 'other', 'Y', 'UNIVERSITY CLUB OF PASADENA', '', '', '', '0', '', '', '', '', '', '', '175', '', 'N', 'OAKLAND AVE', '', 'PASADENA CA', '91101-1713']\n",
      "['5723-016-021', '20090323-50', 'nonReapp', 'Y', 'UNIVERSITY CLUB OF PASADENA', '', '', '', '175', '', 'N', 'OAKLAND AVE', '', 'PASADENA CA', '91101-1713', '', '', '', '', '', '', '']\n",
      "['5723-016-021', '19670245-50', 'other', 'N', 'UNIVERSITY CLUB OF PASADENA', '', '', '', '175', '', 'N', 'OAKLAND AVE', '', 'PASADENA CA', '91101-1713', '', '', '', '', '', '', '']\n",
      "['5735-004-087', '20150910-50', '', 'Y', 'CALIF INSTITUTE OF TECHNOLOGY', 'UNIVERSITY', '', '', '212', '', 'S', 'CHESTER AVE', '2', 'PASADENA CA', '91106-3143', '551', '', 'S', 'WILSON AVE', '', 'PASADENA CA', '91106-3212']\n",
      "['5739-004-026', '20160802-50', '', 'Y', 'YANG,ELLA', '', '', '', '1174', '', 'E', 'VILLA ST', '', 'PASADENA CA', '91106-1137', '4730', '', '', 'UNIVERSITY WAY NE', 'APT 612', 'SEATTLE WA', '98105-4392']\n",
      "['5758-020-022', '20100608-50', '', 'Y', 'OLIVAREZ,EDNA L AND', 'NGUYEN,TUAN', '', '', '950', '', '', 'HASTINGS RANCH DR', '', 'PASADENA CA', '91107-1935', '316', '', '', 'UNIVERSITY AVE MUNTINLUPA CITY', '', 'PHILIPPINES', '99999-9999']\n",
      "['5773-008-003', '20101124-50', 'nonReapp', 'Y', 'JOHNSON,SHANE A TR ET AL', 'DPJ ARCADIA TRUST AND', 'JOHNSON,R W TR R W JOHNSON TRUST', '', '324', '', 'N', '2ND AVE', '', 'ARCADIA CA', '91006-7224', '2280', '', '', 'UNIVERSITY DR', '', 'NEWPORT BEACH CA', '92660-3319']\n",
      "['5773-008-003', '19991221-50', 'nonReapp', 'N', 'JOHNSON,ROBERT W ET AL', '', '', '', '324', '', 'N', '2ND AVE', '', 'ARCADIA CA', '91006-7224', '2280', '', '', 'UNIVERSITY DR', '', 'NEWPORT BEACH CA', '92660-3319']\n",
      "['5773-008-003', '19921209-50', 'nonReapp', 'N', 'JOHNSON,ROBERT W TR', '', '', '', '324', '', 'N', '2ND AVE', '', 'ARCADIA CA', '91006-7224', '2280', '', '', 'UNIVERSITY DR', '', 'NEWPORT BEACH CA', '92660-3329']\n",
      "['5773-016-138', '20090318-50', '', 'Y', 'HUANG,CHIUNGMAN', '', '', '', '351', '', '', 'CALIFORNIA ST', 'B', 'ARCADIA CA', '91006-6259', '138', '', '', 'UNIVERSITY PKWY', '', 'POMONA CA', '91768-4300']\n",
      "['5775-001-020', '20061220-50', '', 'Y', 'WINDROSE SANTA ANITA PROP LLC', '', '', 'C/O PARAMOUNT REAL EST SERVICES', '305', '', 'W', 'HUNTINGTON DR', '', 'ARCADIA CA', '91007-3461', '661', '', '', 'UNIVERSITY BLVD', 'STE 100', 'JUPITER FL', '33458']\n",
      "['5813-005-074', '20150602-50', 'nonReapp', 'Y', 'UNIVERSITY OF SOUTHERN CALIF', '', '', 'C/O STACY R BRATCHER ESQ', '1716', '', '', 'VERDUGO BLVD', '', 'LA CANAD-FLNTRDG CA', '91011-3013', '3551', '', '', 'TROUSDALE PKWY', 'STE 352', 'LOS ANGELES CA', '90089-0041']\n",
      "['5813-008-029', '20150602-50', 'nonReapp', 'Y', 'UNIVERSITY OF SOUTHERN CALIF', '', '', 'C/O STACY R BRATCHER ESQ', '0', '', '', '', '', '', '', '3551', '', '', 'TROUSDALE PKWY', 'STE 352', 'LOS ANGELES CA', '90089-0041']\n",
      "['5813-008-029', '20130716-50', '', 'N', 'USC VERDUGO HILLS HOSPITAL LLC', '', '', 'C/O UNIVERSITY OF SOUTHERN CA', '0', '', '', '', '', '', '', '620', '', 'W', 'MC CARTHY WAY', 'STE 5', 'LOS ANGELES CA', '90089']\n",
      "['5813-025-011', '20150602-50', 'nonReapp', 'Y', 'UNIVERSITY OF SOUTHERN CALIF', '', '', 'C/O STACY R BRATCHER ESQ', '1812', '', '', 'VERDUGO BLVD', '', 'GLENDALE CA', '91208-1407', '3551', '', '', 'TROUSDALE PKWY', 'STE 352', 'LOS ANGELES CA', '90089-0041']\n",
      "['5833-009-018', '19800924-50', 'other', 'N', 'PRABHU,JOSEPH', '', '', '', '123', '', '', 'MARATHON RD', '', 'ALTADENA CA', '91001-4422', '5151', '', '', 'STATE UNIVERSITY DR', '', 'LOS ANGELES CA', '90032']\n",
      "['5850-009-019', '19801017-50', 'other', 'Y', 'WILLIAM CAREY INTERNATIONAL', 'UNIVERSITY', '', '', '1537', '', 'E', 'TOPEKA ST', '', 'PASADENA CA', '91104-1553', '1539', '', 'E', 'HOWARD ST', '', 'PASADENA CA', '91104-2635']\n",
      "['5850-009-020', '19801017-50', 'other', 'Y', 'WILLIAM CAREY INTERNATIONAL', 'UNIVERSITY', '', '', '1541', '', 'E', 'TOPEKA ST', '', 'PASADENA CA', '91104-1553', '1539', '', 'E', 'HOWARD ST', '', 'PASADENA CA', '91104-2635']\n",
      "['5850-009-023', '19801017-50', 'other', 'Y', 'WILLIAM CAREY INTERNATIONAL', 'UNIVERSITY', '', '', '1697', '', 'N', 'SIERRA BONITA AVE', '', 'PASADENA CA', '91104-1522', '1539', '', 'E', 'HOWARD ST', '', 'PASADENA CA', '91104-2635']\n",
      "['5850-009-024', '19801017-50', 'other', 'Y', 'WILLIAM CAREY INTERNATIONAL', 'UNIVERSITY', '', '', '1691', '', 'N', 'SIERRA BONITA AVE', '', 'PASADENA CA', '91104-1522', '1539', '', 'E', 'HOWARD ST', '', 'PASADENA CA', '91104-2635']\n",
      "['5850-009-025', '19801017-50', 'other', 'Y', 'WILLIAM CAREY INTERNATIONAL', 'UNIVERSITY', '', '', '1677', '', 'N', 'SIERRA BONITA AVE', '', 'PASADENA CA', '91104-1522', '1539', '', 'E', 'HOWARD ST', '', 'PASADENA CA', '91104-2635']\n",
      "['5850-010-002', '19880801-50', '', 'Y', 'WILLIAM CAREY INTERNATIONAL', 'UNIVERSITY', '', '', '1641', '', 'N', 'SIERRA BONITA AVE', '', 'PASADENA CA', '91104-1521', '1539', '', 'E', 'HOWARD ST', '', 'PASADENA CA', '91104-2635']\n",
      "['5850-010-003', '20000131-50', '', 'Y', 'WILLIAM CAREY INTERNATIONAL', 'UNIVERSITY', '', '', '1562', '', 'E', 'TOPEKA ST', '', 'PASADENA CA', '91104-1552', '1539', '', 'E', 'HOWARD ST', '', 'PASADENA CA', '91104-2635']\n",
      "['5850-010-006', '19801017-50', 'other', 'Y', 'WILLIAM CAREY INTERNATIONAL', 'UNIVERSITY', '', '', '1534', '', 'E', 'TOPEKA ST', '', 'PASADENA CA', '91104-1552', '1539', '', 'E', 'HOWARD ST', '', 'PASADENA CA', '91104-2635']\n",
      "['5850-010-010', '20010103-50', 'PartInt', 'Y', 'WILLIAM CAREY INTERNATIONAL', 'UNIVERSITY', '', '', '1504', '', 'E', 'TOPEKA ST', '', 'PASADENA CA', '91104-1552', '1539', '', 'E', 'HOWARD ST', '', 'PASADENA CA', '91104-2635']\n",
      "['5850-010-011', '19801017-50', 'other', 'Y', 'WILLIAM CAREY INTERNATIONAL', 'UNIVERSITY', '', '', '1498', '', 'E', 'TOPEKA ST', '', 'PASADENA CA', '91104-1550', '1539', '', 'E', 'HOWARD ST', '', 'PASADENA CA', '91104-2635']\n",
      "['5850-010-012', '19801017-50', 'other', 'Y', 'WILLIAM CAREY INTERNATIONAL', 'UNIVERSITY', '', '', '1495', '', 'E', 'ELIZABETH ST', '', 'PASADENA CA', '91104-2606', '1539', '', 'E', 'HOWARD ST', '', 'PASADENA CA', '91104-2635']\n",
      "['5850-010-013', '19801017-50', 'other', 'Y', 'WILLIAM CAREY INTERNATIONAL', 'UNIVERSITY', '', '', '1505', '', 'E', 'ELIZABETH ST', '', 'PASADENA CA', '91104-2609', '1539', '', 'E', 'HOWARD ST', '', 'PASADENA CA', '91104-2635']\n",
      "['5850-010-014', '19881229-50', '', 'Y', 'WILLIAM CAREY INTERNATIONAL', 'UNIVERSITY', '', '', '1509', '', 'E', 'ELIZABETH ST', '', 'PASADENA CA', '91104-2609', '1539', '', 'E', 'HOWARD ST', '', 'PASADENA CA', '91104-2635']\n",
      "['5850-010-015', '19801017-50', 'other', 'Y', 'WILLIAM CAREY INTERNATIONAL', 'UNIVERSITY', '', '', '1523', '', 'E', 'ELIZABETH ST', '', 'PASADENA CA', '91104-2609', '1539', '', 'E', 'HOWARD ST', '', 'PASADENA CA', '91104-2635']\n",
      "['5850-010-018', '19801017-50', 'other', 'Y', 'WILLIAM CAREY INTERNATIONAL', 'UNIVERSITY', '', '', '1545', '', 'E', 'ELIZABETH ST', '', 'PASADENA CA', '91104-2609', '1539', '', 'E', 'HOWARD ST', '', 'PASADENA CA', '91104-2635']\n",
      "['5850-010-019', '19801017-50', 'other', 'Y', 'WILLIAM CAREY INTERNATIONAL', 'UNIVERSITY', '', '', '1551', '', 'E', 'ELIZABETH ST', '', 'PASADENA CA', '91104-2609', '1539', '', 'E', 'HOWARD ST', '', 'PASADENA CA', '91104-2635']\n",
      "['5850-010-020', '20020426-50', '', 'Y', 'WILLIAM CAREY INTERNATIONAL', 'UNIVERSITY', '', '', '1563', '', 'E', 'ELIZABETH ST', '', 'PASADENA CA', '91104-2609', '', '', '', '', '', '', '']\n",
      "['5850-010-021', '19801017-50', 'other', 'Y', 'WILLIAM CAREY INTERNATIONAL', 'UNIVERSITY', '', '', '1625', '', 'N', 'SIERRA BONITA AVE', '', 'PASADENA CA', '91104-1521', '1539', '', 'E', 'HOWARD ST', '', 'PASADENA CA', '91104-2635']\n",
      "['5850-010-022', '19801017-50', 'other', 'Y', 'WILLIAM CAREY INTERNATIONAL', 'UNIVERSITY', '', '', '1567', '', 'E', 'ELIZABETH ST', '', 'PASADENA CA', '91104-2609', '1539', '', 'E', 'HOWARD ST', '', 'PASADENA CA', '91104-2635']\n",
      "['5850-010-024', '19801017-50', 'other', 'Y', 'WILLIAM CAREY INTERNATIONAL', 'UNIVERSITY', '', '', '1529', '', '', 'ELIZABETH ST', '', 'PASADENA CA', '91104', '1539', '', 'E', 'HOWARD ST', '', 'PASADENA CA', '91104-2635']\n",
      "['5850-010-025', '19801017-50', 'other', 'Y', 'WILLIAM CAREY INTERNATIONAL', 'UNIVERSITY', '', '', '1535', '', '', 'ELIZABETH ST', '', 'PASADENA CA', '91104', '1539', '', 'E', 'HOWARD ST', '', 'PASADENA CA', '91104-2635']\n",
      "['5850-011-001', '19801017-50', 'other', 'Y', 'WILLIAM CAREY INTERNATIONAL', 'UNIVERSITY', '', '', '1490', '', 'E', 'TOPEKA ST', '', 'PASADENA CA', '91104-1550', '1539', '', 'E', 'HOWARD ST', '', 'PASADENA CA', '91104-2635']\n",
      "['5850-011-003', '19801017-50', 'other', 'Y', 'WILLIAM CAREY INTERNATIONAL', 'UNIVERSITY', '', '', '1472', '', 'E', 'TOPEKA ST', '', 'PASADENA CA', '91104-1550', '1539', '', 'E', 'HOWARD ST', '', 'PASADENA CA', '91104-2635']\n",
      "['5850-011-006', '19801017-50', 'other', 'Y', 'WILLIAM CAREY INTERNATIONAL', 'UNIVERSITY', '', '', '1446', '', 'E', 'TOPEKA ST', '', 'PASADENA CA', '91104-1550', '1539', '', 'E', 'HOWARD ST', '', 'PASADENA CA', '91104-2635']\n",
      "['5850-011-011', '19801017-50', 'other', 'Y', 'WILLIAM CAREY INTERNATIONAL', 'UNIVERSITY', '', '', '1630', '', 'N', 'HILL AVE', '', 'PASADENA CA', '91104-2627', '1539', '', 'E', 'HOWARD ST', '', 'PASADENA CA', '91104-2635']\n",
      "['5850-011-016', '20061206-50', '', 'Y', 'WILLIAM CAREY INTERNATIONAL', 'UNIVERSITY', '', '', '1447', '', 'E', 'ELIZABETH ST', '', 'PASADENA CA', '91104-2606', '1539', '', 'E', 'HOWARD ST', '', 'PASADENA CA', '91104-2635']\n",
      "['5850-011-017', '19801017-50', 'other', 'Y', 'WILLIAM CAREY INTERNATIONAL', 'UNIVERSITY', '', '', '1453', '', 'E', 'ELIZABETH ST', '', 'PASADENA CA', '91104-2606', '1539', '', 'E', 'HOWARD ST', '', 'PASADENA CA', '91104-2635']\n",
      "['5850-011-018', '19801017-50', 'other', 'Y', 'WILLIAM CAREY INTERNATIONAL', 'UNIVERSITY', '', '', '1465', '', 'E', 'ELIZABETH ST', '', 'PASADENA CA', '91104-2606', '1539', '', 'E', 'HOWARD ST', '', 'PASADENA CA', '91104-2635']\n",
      "['5850-011-019', '19801017-50', 'other', 'Y', 'WILLIAM CAREY INTERNATIONAL', 'UNIVERSITY', '', '', '1469', '', 'E', 'ELIZABETH ST', '', 'PASADENA CA', '91104-2606', '1539', '', 'E', 'HOWARD ST', '', 'PASADENA CA', '91104-2635']\n",
      "['5850-011-021', '19801017-50', 'other', 'Y', 'WILLIAM CAREY INTERNATIONAL', 'UNIVERSITY', '', '', '1489', '', 'E', 'ELIZABETH ST', '', 'PASADENA CA', '91104-2606', '1539', '', 'E', 'HOWARD ST', '', 'PASADENA CA', '91104-2635']\n",
      "['5850-017-023', '19801017-50', 'other', 'Y', 'WILLIAM CAREY INTERNATIONAL', 'UNIVERSITY', '', '', '1440', '', 'E', 'HOWARD ST', '', 'PASADENA CA', '91104-2630', '1539', '', 'E', 'HOWARD ST', '', 'PASADENA CA', '91104-2635']\n",
      "['5850-018-002', '19801017-50', 'other', 'Y', 'WILLIAM CAREY INTERNATIONAL', 'UNIVERSITY', '', '', '1432', '', 'E', 'ELIZABETH ST', '', 'PASADENA CA', '91104-2605', '1539', '', 'E', 'HOWARD ST', '', 'PASADENA CA', '91104-2635']\n",
      "['5850-018-012', '19801017-50', 'other', 'Y', 'WILLIAM CAREY INTERNATIONAL', 'UNIVERSITY', '', '', '1425', '', 'E', 'HOWARD ST', '', 'PASADENA CA', '91104-2631', '1539', '', 'E', 'HOWARD ST', '', 'PASADENA CA', '91104-2635']\n",
      "['5850-018-013', '19801017-50', 'other', 'Y', 'WILLIAM CAREY INTERNATIONAL', 'UNIVERSITY', '', '', '1431', '', 'E', 'HOWARD ST', '', 'PASADENA CA', '91104-2631', '1539', '', 'E', 'HOWARD ST', '', 'PASADENA CA', '91104-2635']\n",
      "['5850-018-015', '19801017-50', 'other', 'Y', 'WILLIAM CAREY INTERNATIONAL', 'UNIVERSITY', '', '', '1525', '', '', 'WESLEY AVE', '', 'PASADENA CA', '91104-2646', '1539', '', 'E', 'HOWARD ST', '', 'PASADENA CA', '91104-2635']\n",
      "['5850-018-016', '19801017-50', 'other', 'Y', 'WILLIAM CAREY INTERNATIONAL', 'UNIVERSITY', '', '', '1539', '', '', 'WESLEY AVE', '', 'PASADENA CA', '91104-2646', '1539', '', 'E', 'HOWARD ST', '', 'PASADENA CA', '91104-2635']\n",
      "['5850-018-017', '19801017-50', 'other', 'Y', 'WILLIAM CAREY INTERNATIONAL', 'UNIVERSITY', '', '', '1547', '', '', 'WESLEY AVE', '', 'PASADENA CA', '91104-2646', '1539', '', 'E', 'HOWARD ST', '', 'PASADENA CA', '91104-2635']\n",
      "['5850-018-019', '19801017-50', 'other', 'Y', 'WILLIAM CAREY INTERNATIONAL', 'UNIVERSITY', '', '', '1559', '', '', 'WESLEY AVE', '', 'PASADENA CA', '91104-2646', '1539', '', 'E', 'HOWARD ST', '', 'PASADENA CA', '91104-2635']\n",
      "['5850-018-020', '19801017-50', 'other', 'Y', 'WILLIAM CAREY INTERNATIONAL', 'UNIVERSITY', '', '', '1569', '', '', 'WESLEY AVE', '', 'PASADENA CA', '91104-2646', '1539', '', 'E', 'HOWARD ST', '', 'PASADENA CA', '91104-2635']\n",
      "['5850-018-022', '19801017-50', 'other', 'Y', 'WILLIAM CAREY INTERNATIONAL', 'UNIVERSITY', '', '', '1581', '', '', 'WESLEY AVE', '', 'PASADENA CA', '91104-2646', '1539', '', 'E', 'HOWARD ST', '', 'PASADENA CA', '91104-2635']\n",
      "['5850-018-024', '19801017-50', 'other', 'Y', 'WILLIAM CAREY INTERNATIONAL', 'UNIVERSITY', '', '', '1440', '', 'E', 'ELIZABETH ST', '', 'PASADENA CA', '91104-2605', '1539', '', 'E', 'HOWARD ST', '', 'PASADENA CA', '91104-2635']\n",
      "['5850-018-025', '19911101-50', '', 'Y', 'CAREY,WILLIAM INTERNATIONAL', 'UNIVERSITY', '', '', '1454', '', 'E', 'ELIZABETH ST', '', 'PASADENA CA', '91104-2605', '1539', '', 'E', 'HOWARD ST', '', 'PASADENA CA', '91104-2635']\n",
      "['5850-019-004', '19790911-50', 'other', 'Y', 'WILLIAM CAREY INTERNATIONAL', 'UNIVERSITY', '', '', '1539', '', 'E', 'HOWARD ST', '', 'PASADENA CA', '91104-2635', '', '', '', '', '', '', '']\n",
      "['5850-020-002', '19801017-50', 'other', 'Y', 'WILLIAM CAREY INTERNATIONAL', 'UNIVERSITY', '', '', '1491', '', 'N', 'OXFORD AVE', '', 'PASADENA CA', '91104-2732', '1539', '', 'E', 'HOWARD ST', '', 'PASADENA CA', '91104-2635']\n",
      "['5850-020-003', '19801017-50', 'other', 'Y', 'WILLIAM CAREY INTERNATIONAL', 'UNIVERSITY', '', '', '1501', '', 'N', 'OXFORD AVE', '', 'PASADENA CA', '91104-2735', '1539', '', 'E', 'HOWARD ST', '', 'PASADENA CA', '91104-2635']\n",
      "['5850-020-004', '19801017-50', 'other', 'Y', 'WILLIAM CAREY INTERNATIONAL', 'UNIVERSITY', '', '', '1509', '', 'N', 'OXFORD AVE', '', 'PASADENA CA', '91104-2735', '1539', '', 'E', 'HOWARD ST', '', 'PASADENA CA', '91104-2635']\n",
      "['5850-020-005', '19801017-50', 'other', 'Y', 'WILLIAM CAREY INTERNATIONAL', 'UNIVERSITY', '', '', '1515', '', 'N', 'OXFORD AVE', '', 'PASADENA CA', '91104-2776', '1539', '', 'E', 'HOWARD ST', '', 'PASADENA CA', '91104-2635']\n",
      "['5850-020-006', '19890113-50', '', 'Y', 'WILLIAM CAREY INTERNATIONAL', 'UNIVERSITY', '', '', '1521', '', 'N', 'OXFORD AVE', '', 'PASADENA CA', '91104-2735', '1539', '', 'E', 'HOWARD ST', '', 'PASADENA CA', '91104-2635']\n",
      "['5850-020-007', '19801017-50', 'other', 'Y', 'WILLIAM CAREY INTERNATIONAL', 'UNIVERSITY', '', '', '1529', '', 'N', 'OXFORD AVE', '', 'PASADENA CA', '91104-2735', '1539', '', 'E', 'HOWARD ST', '', 'PASADENA CA', '91104-2635']\n",
      "['5850-020-008', '19801017-50', 'other', 'Y', 'WILLIAM CAREY INTERNATIONAL', 'UNIVERSITY', '', '', '1539', '', 'N', 'OXFORD AVE', '', 'PASADENA CA', '91104-2735', '1539', '', 'E', 'HOWARD ST', '', 'PASADENA CA', '91104-2635']\n",
      "['5850-020-009', '19801017-50', 'other', 'Y', 'WILLIAM CAREY INTERNATIONAL', 'UNIVERSITY', '', '', '1545', '', 'N', 'OXFORD AVE', '', 'PASADENA CA', '91104-2735', '1539', '', 'E', 'HOWARD ST', '', 'PASADENA CA', '91104-2635']\n",
      "['5850-020-010', '19801017-50', 'other', 'Y', 'WILLIAM CAREY INTERNATIONAL', 'UNIVERSITY', '', '', '1553', '', 'N', 'OXFORD AVE', '', 'PASADENA CA', '91104-2735', '1539', '', 'E', 'HOWARD ST', '', 'PASADENA CA', '91104-2635']\n",
      "['5850-020-011', '19801017-50', 'other', 'Y', 'WILLIAM CAREY INTERNATIONAL', 'UNIVERSITY', '', '', '1559', '', 'N', 'OXFORD AVE', '', 'PASADENA CA', '91104-2735', '1539', '', 'E', 'HOWARD ST', '', 'PASADENA CA', '91104-2635']\n",
      "['5850-020-012', '19801017-50', 'other', 'Y', 'WILLIAM CAREY INTERNATIONAL', 'UNIVERSITY', '', '', '1571', '', 'N', 'OXFORD AVE', '', 'PASADENA CA', '91104-2735', '1539', '', 'E', 'HOWARD ST', '', 'PASADENA CA', '91104-2635']\n",
      "['5850-020-013', '19801017-50', 'other', 'Y', 'WILLIAM CAREY INTERNATIONAL', 'UNIVERSITY', '', '', '1579', '', 'N', 'OXFORD AVE', '', 'PASADENA CA', '91104-2735', '1539', '', 'E', 'HOWARD ST', '', 'PASADENA CA', '91104-2635']\n",
      "['5850-020-014', '19801017-50', 'other', 'Y', 'WILLIAM CAREY INTERNATIONAL', 'UNIVERSITY', '', '', '1587', '', 'N', 'OXFORD AVE', '', 'PASADENA CA', '91104-2735', '1539', '', 'E', 'HOWARD ST', '', 'PASADENA CA', '91104-2635']\n",
      "['5850-020-015', '19801017-50', 'other', 'Y', 'WILLIAM CAREY INTERNATIONAL', 'UNIVERSITY', '', '', '1595', '', 'N', 'OXFORD AVE', '', 'PASADENA CA', '91104-2735', '1539', '', 'E', 'HOWARD ST', '', 'PASADENA CA', '91104-2635']\n",
      "['5850-020-016', '19801017-50', 'other', 'Y', 'WILLIAM CAREY INTERNATIONAL', 'UNIVERSITY', '', '', '1603', '', 'N', 'OXFORD AVE', '', 'PASADENA CA', '91104-2737', '1539', '', 'E', 'HOWARD ST', '', 'PASADENA CA', '91104-2635']\n",
      "['5850-021-008', '19801017-50', 'other', 'Y', 'WILLIAM CAREY INTERNATIONAL', 'UNIVERSITY', '', '', '0', '', '', '', '', '', '', '1539', '', 'E', 'HOWARD ST', '', 'PASADENA CA', '91104-2635']\n",
      "['5850-021-011', '19801017-50', 'other', 'Y', 'WILLIAM CAREY INTERNATIONAL', 'UNIVERSITY', '', '', '1475', '', 'N', 'OXFORD AVE', '', 'PASADENA CA', '91104-2732', '1539', '', 'E', 'HOWARD ST', '', 'PASADENA CA', '91104-2635']\n",
      "['5850-021-020', '19801017-50', 'other', 'Y', 'WILLIAM CAREY INTERNATIONAL', 'UNIVERSITY', '', '', '1626', '', 'E', 'HOWARD ST', '', 'PASADENA CA', '91104-2637', '1539', '', 'E', 'HOWARD ST', '', 'PASADENA CA', '91104-2635']\n",
      "['5850-023-008', '19940908-50', '', 'Y', 'WILLIAM CAREY INTERNATIONAL', 'UNIVERSITY', '', '', '1554', '', 'E', 'HOWARD ST', '', 'PASADENA CA', '91104-2636', '1539', '', 'E', 'HOWARD ST', '', 'PASADENA CA', '91104-2635']\n",
      "['5850-023-009', '19801017-50', 'other', 'Y', 'WILLIAM CAREY INTERNATIONAL', 'UNIVERSITY', '', '', '1562', '', 'E', 'HOWARD ST', '', 'PASADENA CA', '91104-2636', '1539', '', 'E', 'HOWARD ST', '', 'PASADENA CA', '91104-2635']\n",
      "['5850-023-010', '19960523-50', '', 'Y', 'CAREY,WILLIAM INTERNATIONAL', 'UNIVERSITY', '', '', '1570', '', 'E', 'HOWARD ST', '', 'PASADENA CA', '91104-2636', '1539', '', 'E', 'HOWARD ST', '', 'PASADENA CA', '91104-2635']\n",
      "['5850-023-013', '19801017-50', 'other', 'Y', 'WILLIAM CAREY INTERNATIONAL', 'UNIVERSITY', '', '', '1594', '', 'E', 'HOWARD ST', '', 'PASADENA CA', '91104-2636', '1539', '', 'E', 'HOWARD ST', '', 'PASADENA CA', '91104-2635']\n",
      "['5850-025-013', '19951016-50', '', 'Y', 'WILLIAM CAREY INTL UNIVERSITY', '', '', '', '1480', '', 'E', 'HOWARD ST', '', 'PASADENA CA', '91104-2632', '1539', '', 'E', 'HOWARD ST', '', 'PASADENA CA', '91104-2635']\n",
      "['5850-025-014', '19801017-50', 'other', 'Y', 'WILLIAM CAREY INTERNATIONAL', 'UNIVERSITY', '', '', '1490', '', 'E', 'HOWARD ST', '', 'PASADENA CA', '91104-2632', '1539', '', 'E', 'HOWARD ST', '', 'PASADENA CA', '91104-2635']\n",
      "['5850-025-015', '19801223-50', 'other', 'Y', 'WILLIAM CAREY INTERNATIONAL', 'UNIVERSITY', '', '', '1496', '', 'E', 'HOWARD ST', '', 'PASADENA CA', '91104-2632', '1539', '', 'E', 'HOWARD ST', '', 'PASADENA CA', '91104-2635']\n",
      "['5850-025-016', '19920730-50', '', 'Y', 'CAREY,WILLIAM INTERNATIONAL', 'UNIVERSITY', '', '', '1504', '', 'E', 'HOWARD ST', '', 'PASADENA CA', '91104-2634', '1539', '', 'E', 'HOWARD ST', '', 'PASADENA CA', '91104-2635']\n",
      "['5850-025-020', '19950310-50', '', 'Y', 'WILLIAM CAREY INTERNATIONAL', 'UNIVERSITY', '', '', '1467', '', '', 'BRESEE AVE', '', 'PASADENA CA', '91104-2604', '1539', '', 'E', 'HOWARD ST', '', 'PASADENA CA', '91104-2635']\n",
      "['5851-002-003', '19801017-50', 'other', 'Y', 'WILLIAM CAREY', 'INTERNATIONAL UNIVERSITY', '', '', '1770', '', 'N', 'SIERRA BONITA AVE', '', 'PASADENA CA', '91104-1523', '1539', '', 'E', 'HOWARD ST', '', 'PASADENA CA', '91104-2635']\n",
      "['5851-003-003', '19801017-50', 'other', 'Y', 'WILLIAM CAREY', 'INTERNATIONAL UNIVERSITY', '', '', '1736', '', 'N', 'SIERRA BONITA AVE', '', 'PASADENA CA', '91104-1523', '1539', '', 'E', 'HOWARD ST', '', 'PASADENA CA', '91104-2635']\n",
      "['5851-003-006', '19801017-50', 'other', 'Y', 'WILLIAM CAREY', 'INTERNATIONAL UNIVERSITY', '', '', '1710', '', 'N', 'SIERRA BONITA AVE', '', 'PASADENA CA', '91104-1523', '1539', '', 'E', 'HOWARD ST', '', 'PASADENA CA', '91104-2635']\n",
      "['5851-003-007', '19801017-50', 'other', 'Y', 'WILLIAM CAREY', 'INTERNATIONAL UNIVERSITY', '', '', '1704', '', 'N', 'SIERRA BONITA AVE', '', 'PASADENA CA', '91104-1523', '1539', '', 'E', 'HOWARD ST', '', 'PASADENA CA', '91104-2635']\n",
      "['5851-003-011', '19801017-50', 'other', 'Y', 'WILLIAM CAREY', 'INTERNATIONAL UNIVERSITY', '', '', '1700', '', 'N', 'SIERRA BONITA AVE', '', 'PASADENA CA', '91104-1565', '1539', '', 'E', 'HOWARD ST', '', 'PASADENA CA', '91104-2635']\n",
      "['5851-003-012', '19801017-50', 'other', 'Y', 'WILLIAM CAREY', 'INTERNATIONAL UNIVERSITY', '', '', '1728', '', 'N', 'SIERRA BONITA AVE', '', 'PASADENA CA', '91104-1576', '1539', '', 'E', 'HOWARD ST', '', 'PASADENA CA', '91104-2635']\n",
      "['5851-003-014', '19801017-50', 'other', 'Y', 'WILLIAM CAREY', 'INTERNATIONAL UNIVERSITY', '', '', '1740', '', 'N', 'SIERRA BONITA AVE', '', 'PASADENA CA', '91104-1523', '1539', '', 'E', 'HOWARD ST', '', 'PASADENA CA', '91104-2635']\n",
      "['5851-004-001', '19801017-50', 'other', 'Y', 'WILLIAM CAREY', 'INTERNATIONAL UNIVERSITY', '', '', '1743', '', 'N', 'OXFORD AVE', '', 'PASADENA CA', '91104-1517', '1539', '', 'E', 'HOWARD ST', '', 'PASADENA CA', '91104-2635']\n",
      "['5851-004-003', '19801017-50', 'other', 'Y', 'WILLIAM CAREY', 'INTERNATIONAL UNIVERSITY', '', '', '1725', '', 'N', 'OXFORD AVE', '', 'PASADENA CA', '91104-1517', '1539', '', 'E', 'HOWARD ST', '', 'PASADENA CA', '91104-2635']\n",
      "['5851-004-004', '19801017-50', 'other', 'Y', 'WILLIAM CAREY', 'INTERNATIONAL UNIVERSITY', '', '', '1719', '', 'N', 'OXFORD AVE', '', 'PASADENA CA', '91104-1517', '1539', '', 'E', 'HOWARD ST', '', 'PASADENA CA', '91104-2635']\n",
      "['5851-004-005', '19801017-50', 'other', 'Y', 'WILLIAM CAREY', 'INTERNATIONAL UNIVERSITY', '', '', '1718', '', '', 'UNIVERSITY DR', '', 'PASADENA CA', '91104-1545', '1539', '', 'E', 'HOWARD ST', '', 'PASADENA CA', '91104-2635']\n",
      "['5851-004-006', '19801017-50', 'other', 'Y', 'WILLIAM CAREY', 'INTERNATIONAL UNIVERSITY', '', '', '1713', '', 'N', 'OXFORD AVE', '', 'PASADENA CA', '91104-1517', '1539', '', 'E', 'HOWARD ST', '', 'PASADENA CA', '91104-2635']\n",
      "['5851-004-007', '19801017-50', 'other', 'Y', 'WILLIAM CAREY', 'INTERNATIONAL UNIVERSITY', '', '', '1710', '', '', 'UNIVERSITY DR', '', 'PASADENA CA', '91104-1545', '1539', '', 'E', 'HOWARD ST', '', 'PASADENA CA', '91104-2635']\n",
      "['5851-004-008', '19801017-50', 'other', 'Y', 'WILLIAM CAREY', 'INTERNATIONAL UNIVERSITY', '', '', '1707', '', 'N', 'OXFORD AVE', '', 'PASADENA CA', '91104-1517', '1539', '', 'E', 'HOWARD ST', '', 'PASADENA CA', '91104-2635']\n",
      "['5851-004-009', '19801017-50', 'other', 'Y', 'WILLIAM CAREY', 'INTERNATIONAL UNIVERSITY', '', '', '0', '', '', '', '', '', '', '1539', '', 'E', 'HOWARD ST', '', 'PASADENA CA', '91104-2635']\n",
      "['5851-004-011', '19900712-50', '', 'Y', 'WILLIAM CAREY INT L UNIVERSITY', '', '', '', '1700', '', '', 'UNIVERSITY DR', '', 'PASADENA CA', '91104-1545', '1539', '', 'E', 'HOWARD ST', '', 'PASADENA CA', '91104-2635']\n",
      "['5851-004-012', '19801017-50', 'other', 'Y', 'WILLIAM CAREY', 'INTERNATIONAL UNIVERSITY', '', '', '1701', '', 'N', 'OXFORD AVE', '', 'PASADENA CA', '91104-1517', '1539', '', 'E', 'HOWARD ST', '', 'PASADENA CA', '91104-2635']\n",
      "['5851-004-013', '19900712-50', '', 'Y', 'WILLIAM CAREY INT L UNIVERSITY', '', '', '', '1700', '', '', 'UNIVERSITY DR', '', 'PASADENA CA', '91104-1545', '1539', '', 'E', 'HOWARD ST', '', 'PASADENA CA', '91104-2635']\n",
      "['5851-004-014', '19801017-50', 'other', 'Y', 'WILLIAM CAREY', 'INTERNATIONAL UNIVERSITY', '', '', '1730', '', '', 'UNIVERSITY DR', '', 'PASADENA CA', '91104-1545', '1539', '', 'E', 'HOWARD ST', '', 'PASADENA CA', '91104-2635']\n",
      "['5851-004-015', '19801017-50', 'other', 'Y', 'WILLIAM CAREY', 'INTERNATIONAL UNIVERSITY', '', '', '1731', '', 'N', 'OXFORD AVE', '', 'PASADENA CA', '91104-1517', '1539', '', 'E', 'HOWARD ST', '', 'PASADENA CA', '91104-2635']\n",
      "['5851-004-016', '19900712-51', '', 'Y', 'CAREY,WILLIAM INT L UNIVERSITY', '', '', '', '0', '', '', '', '', '', '', '1539', '', 'E', 'HOWARD ST', '', 'PASADENA CA', '91104-2635']\n",
      "['5851-004-017', '19801017-51', 'other', 'Y', 'WILLIAM CAREY', 'INTERNATIONAL UNIVERSITY', '', '', '1701', '', 'N', 'OXFORD AVE', '', 'PASADENA CA', '91104-1517', '1539', '', 'E', 'HOWARD ST', '', 'PASADENA CA', '91104-2635']\n",
      "['5851-005-001', '19850522-50', '', 'Y', 'CAREY,WILLIAM INTL UNIVERSITY', '', '', '', '1692', '', 'N', 'SIERRA BONITA AVE', '', 'PASADENA CA', '91104-1520', '1539', '', 'E', 'HOWARD ST', '', 'PASADENA CA', '91104-2635']\n",
      "['5851-005-002', '19801017-50', 'other', 'Y', 'WILLIAM CAREY', 'INTERNATIONAL UNIVERSITY', '', '', '1688', '', 'N', 'SIERRA BONITA AVE', '', 'PASADENA CA', '91104-1520', '1539', '', 'E', 'HOWARD ST', '', 'PASADENA CA', '91104-2635']\n",
      "['5851-005-003', '19801017-50', 'other', 'Y', 'WILLIAM CAREY', 'INTERNATIONAL UNIVERSITY', '', '', '1674', '', 'N', 'SIERRA BONITA AVE', '', 'PASADENA CA', '91104-1520', '1539', '', 'E', 'HOWARD ST', '', 'PASADENA CA', '91104-2635']\n",
      "['5851-005-015', '19801017-50', 'other', 'Y', 'CAREY,WILLIAM INTL UNIVERSITY', '', '', '', '1670', '', 'N', 'SIERRA BONITA AVE', '', 'PASADENA CA', '91104-1520', '1539', '', 'E', 'HOWARD ST', '', 'PASADENA CA', '91104-2635']\n",
      "['5851-006-003', '20151007-50', 'nonReapp', 'Y', 'KENDIRIAN,DERTAD CO TR', 'DERTAD KENDIRIAN TRUST', '', '', '1630', '', '', 'UNIVERSITY DR', '', 'PASADENA CA', '91104-1543', '1740', '', 'N', 'OXFORD AVE', '', 'PASADENA CA', '91104-1516']\n",
      "['5851-006-003', '19871224-50', '', 'N', 'KENDIRIAN,DERTAD AND CHAKE', '', '', '', '1630', '', '', 'UNIVERSITY DR', '', 'PASADENA CA', '91104-1543', '', '', '', '', '', '', '']\n",
      "['5851-006-004', '19801017-50', 'other', 'Y', 'WILLIAM CAREY', 'INTERNATIONAL UNIVERSITY', '', '', '1627', '', 'N', 'OXFORD AVE', '', 'PASADENA CA', '91104-1515', '1539', '', 'E', 'HOWARD ST', '', 'PASADENA CA', '91104-2635']\n",
      "['5851-006-005', '19800131-50', 'other', 'Y', 'FRONTIER MISSION FELLOWSHIP', '', '', '', '1638', '', '', 'UNIVERSITY DR', '', 'PASADENA CA', '91104-1543', '1605', '', 'E', 'ELIZABETH ST', '', 'PASADENA CA', '91104-2721']\n",
      "['5851-006-007', '19800131-50', 'other', 'Y', 'FRONTIER MISSION FELLOWSHIP', '', '', '', '1646', '', '', 'UNIVERSITY DR', '', 'PASADENA CA', '91104-1543', '1605', '', 'E', 'ELIZABETH ST', '', 'PASADENA CA', '91104-2721']\n",
      "['5851-006-009', '19800131-50', 'other', 'Y', 'FRONTIER MISSION FELLOWSHIP', '', '', '', '1654', '', '', 'UNIVERSITY DR', '', 'PASADENA CA', '91104-1543', '1605', '', 'E', 'ELIZABETH ST', '', 'PASADENA CA', '91104-2721']\n",
      "['5851-006-017', '19860818-50', '', 'Y', 'WILLIAM CAREY INTERNATIONAL', 'UNIVERSITY', '', '', '1692', '', '', 'UNIVERSITY DR', '', 'PASADENA CA', '91104-1543', '1539', '', 'E', 'HOWARD ST', '', 'PASADENA CA', '91104-2635']\n",
      "['5869-007-014', '19641016-50', 'other', 'N', 'RASSP,HERMAN', '', '', '', '0', '', '', '', '', '', '', '0', '', '', '631 UNIVERSITY AVE', '', 'BURBANK CALIF', '91504']\n",
      "['5869-007-015', '19641016-50', 'other', 'N', 'RASSP,HERMAN', '', '', '', '0', '', '', '', '', '', '', '0', '', '', '631 UNIVERSITY AVE', '', 'BURBANK CALIF', '91504']\n",
      "['6013-023-046', '20091001-50', 'other', 'Y', 'UNIVERSITY MUSLIM MEDICAL ASSN', '', '', 'C/O COMMUNITY REDVT AGCY OF LA', '7111', '', '', 'BONSALLO AVE', '', 'LOS ANGELES CA', '90044-6236', '711', '', 'W', 'FLORENCE AVE', '', 'LOS ANGELES CA', '90044-6105']\n",
      "['6019-006-032', '20071205-50', 'nonReapp', 'Y', 'ROSS,TOMMY CO TR', 'TOMMY ROSS TRUST', '', '', '1206', '', 'W', '78TH ST', '', 'LOS ANGELES CA', '90044-2302', '603', '', 'E', 'UNIVERSITY DR', 'PMB 210', 'CARSON CA', '90746-1969']\n",
      "['6022-013-013', '20080418-50', 'nonReapp', 'N', 'GLAZE,ESTHER R', '', '', '', '222', '', 'E', '76TH ST', '', 'LOS ANGELES CA', '90003-2140', '603', '', 'E', 'UNIVERSITY DR', '311', 'CARSON CA', '90746-1969']\n",
      "['6022-013-013', '20080306-50', 'nonReapp', 'N', 'GLAZE,COSTELLA TR', '', '', '', '222', '', 'E', '76TH ST', '', 'LOS ANGELES CA', '90003-2140', '603', '', 'E', 'UNIVERSITY DR', '311', 'CARSON CA', '90746-1969']\n",
      "['6022-013-013', '20071228-50', 'nonReapp', 'N', 'GLAZE,COSTELLA', '', '', '', '222', '', 'E', '76TH ST', '', 'LOS ANGELES CA', '90003-2140', '603', '', 'E', 'UNIVERSITY DR', '311', 'CARSON CA', '90746']\n",
      "['6022-013-013', '20051007-50', 'nonReapp', 'N', 'TRUST 222', '', '', 'LEGEND LADY INC', '222', '', 'E', '76TH ST', '', 'LOS ANGELES CA', '90003-2140', '603', '', 'E', 'UNIVERSITY DR', '# 311', 'CARSON CA', '90746-1969']\n",
      "['6039-002-046', '20160224-50', '', 'Y', 'WRIGHT,GLENN A AND SELENA D', '', '', '', '710', '', 'W', '91ST ST', '', 'LOS ANGELES CA', '90044-4845', '600', '', 'E', 'UNIVERSITY DR', 'STE 347', 'CARSON CA', '90746-1966']\n",
      "['6057-011-002', '20020716-50', 'nonReapp', 'N', 'VALUE PROPERTIES INC', '', '', '', '9525', '', 'S', 'WESTERN AVE', '', 'LOS ANGELES CA', '90047-3891', '603', '', 'E', 'UNIVERSITY DR', '# 148 B', 'CARSON CA', '90746-1966']\n",
      "['6057-011-024', '19920520-50', '', 'Y', 'GREEN,CHARLES', '', '', '', '9512', '', 'S', 'MANHATTAN PL', '', 'LOS ANGELES CA', '90047-3849', '6033', '', 'E', 'UNIVERSITY DR', 'PMB#307', 'CARSON CA', '90746']\n",
      "['6071-003-012', '20130117-50', '', 'Y', 'RICHARDSON,JOHNNY L JR AND', 'JACQUELINE J', '', '', '630', '', 'E', '109TH ST', '', 'LOS ANGELES CA', '90059-1012', '603', '', 'E', 'UNIVERSITY DR', 'PMB 323B', 'CARSON CA', '90746-1971']\n",
      "['6074-014-009', '20160224-50', '', 'Y', 'WRIGHT,GLENN A AND SELENA D', '', '', '', '226', '', 'W', '109TH ST', '', 'LOS ANGELES CA', '90061-2008', '600', '', 'E', 'UNIVERSITY DR', 'STE 347', 'CARSON CA', '90746-1969']\n",
      "['6075-001-017', '20130513-50', '', 'Y', 'PIEDMONT UNIVERSITY', '', '', '', '10900', '', 'S', 'VERMONT AVE', '', 'LOS ANGELES CA', '90044-3016', '', '', '', '', '', '', '']\n",
      "['6075-022-002', '19961216-50', '', 'Y', 'HALL,DONALD R', '', '', '', '552', '', 'W', '110TH ST', '', 'LOS ANGELES CA', '90044-4318', '603', '', 'E', 'UNIVERSITY DR STE B', 'PMB 315', 'CARSON CA', '90746-1971']\n",
      "['6084-015-010', '20160107-50', 'nonReapp', 'Y', 'SCOTT,MICHAEL J AND', '', 'WRIGHT,GLENN A', '', '849', '', 'E', '118TH ST', '', 'LOS ANGELES CA', '90059-2705', '603', '', 'E', 'UNIVERSITY DR', 'UNIT 347', 'CARSON CA', '90746-1969']\n",
      "['6084-015-010', '20081126-50', 'nonReapp', 'N', 'WRIGTH,GLENN A AND', '', '', '', '849', '', 'E', '118TH ST', '', 'LOS ANGELES CA', '90059-2705', '603', '', 'E', 'UNIVERSITY DR', '347', 'CARSON CA', '90746-1969']\n",
      "['6084-015-010', '20010514-50', 'PartInt', 'N', 'SCOTT,FRANCES M DECD EST OF AND', '', '', '', '849', '', 'E', '118TH ST', '', 'LOS ANGELES CA', '90059-2705', '603', '', 'E', 'UNIVERSITY DR', '347', 'CARSON CA', '90746-1969']\n",
      "['6086-031-036', '20140812-50', '', 'Y', 'UNIVERSITY PARK AND WATTS LLC', '', '', '', '12714', '', '', 'AVALON BLVD', '', 'LOS ANGELES CA', '90061-2730', '2303', '', '', 'FIGUEROA WAY', '', 'LOS ANGELES CA', '90007-2504']\n",
      "['6086-031-037', '20140812-50', '', 'Y', 'UNIVERSITY PARK AND WATTS LLC', '', '', '', '12714', '', '', 'AVALON BLVD', '', 'LOS ANGELES CA', '90061-2730', '2303', '', '', 'FIGUEROA WAY', '', 'LOS ANGELES CA', '90007-2504']\n",
      "['6086-036-008', '19980212-50', 'nonReapp', 'N', 'WADLEY,RUDOLPH E JR ET AL', '', '', '', '12010', '', '', 'BELHAVEN AVE', '', 'LOS ANGELES CA', '90059-2833', '1940', '', '', 'UNIVERSITY AVE', 'STE    A', 'EAST PALO ALTO CA', '94303']\n",
      "['8710-012-020', '19900326-50', 'nonReapp', 'Y', 'NASIR,FAYEK Y AND AIDA F TRS', 'F Y AND A F NASIR TRUST', '', '', '123', '', '', 'UNIVERSITY PKWY', '', 'POMONA CA', '91768-4301', '3195', '', '', 'HAMPTON DR', '', 'WEST COVINA CA', '91791-3487']\n",
      "['8710-012-020', '19891120-50', '', 'N', 'NASIR,FAYEK Y AND AIDA F', '', '', '', '123', '', '', 'UNIVERSITY PKWY', '', 'POMONA CA', '91768-4301', '3195', '', '', 'HAMPTON DR', '', 'WEST COVINA CA', '91791']\n",
      "['8710-012-021', '19891024-50', '', 'Y', 'DONDANVILLE,NORMAN L CO TR', 'DONDANVILLE FAMILY TRUST', '', '', '145', '', '', 'UNIVERSITY PKWY', '', 'POMONA CA', '91768-4301', '2', '', '', 'MAIDSTONE DR', '', 'NEWPORT BEACH CA', '92660-4271']\n",
      "['8710-012-022', '20131227-50', '', 'Y', 'RICON LLC', '', '', '', '163', '', '', 'UNIVERSITY PKWY', '', 'POMONA CA', '91768-4301', '18925', '', '', 'BRITTANY PL', '', 'ROWLAND HEIGHTS CA', '91748-4961']\n",
      "['8710-012-023', '20051227-50', '', 'Y', '177 UNIVERSITY PKWY LLC', '', '', '', '177', '', '', 'UNIVERSITY PKWY', '', 'POMONA CA', '91768-4301', '', '', '', '', '', '', '']\n",
      "['8710-012-024', '20120209-50', '', 'Y', 'QUAN,BENSON AND AMY W', '', '', '', '167', '', '', 'UNIVERSITY PKWY', '', 'POMONA CA', '91768-4301', '21109', '', '', 'NORTHVIEW DR', '', 'WALNUT CA', '91789-2023']\n",
      "['8710-012-025', '20110601-50', '', 'Y', 'BEYONDZB INC', '', '', '', '166', '', '', 'UNIVERSITY PKWY', '', 'POMONA CA', '91768-4300', '168', '', '', 'UNIVERSITY PKWY', '', 'POMONA CA', '91768-4300']\n",
      "['8710-012-026', '20100706-50', '', 'Y', 'SUNTEND LLC', '', '', '', '138', '', '', 'UNIVERSITY PKWY', '', 'POMONA CA', '91768-4300', '', '', '', '', '', '', '']\n",
      "['8710-012-028', '20150814-50', 'nonReapp', 'Y', 'MILLMAN,PHILLIP L TR', 'MILLMAN FAMILY TRUST', '', 'C/O CHEMIQUE PHARMACEUTICALS INC', '176', '', '', 'UNIVERSITY PKWY', '', 'POMONA CA', '91768-4300', '0', '', '', 'PO BOX 4369', '', 'WHITTIER CA', '90607']\n",
      "['8710-012-028', '19990319-50', 'nonReapp', 'N', 'WILLIAM TREND CO LLC', '', '', '', '176', '', '', 'UNIVERSITY PKWY', '', 'POMONA CA', '91768-4300', '0', '', '', 'PO BOX 4369', '', 'WHITTIER CA', '90607']\n",
      "['8710-012-028', '19981119-50', 'nonReapp', 'N', 'WILLIAM TREND CO LLC', '', '', '', '176', '', '', 'UNIVERSITY PKWY', '', 'POMONA CA', '91768-4300', '215', '', 'N', 'MARENGO AVE', '2    FLR', 'PASADENA CA', '91101-1569']\n",
      "['8710-012-028', '19951128-50', 'nonReapp', 'N', 'MILLMAN,PHILLIP L TR', '', '', '', '176', '', '', 'UNIVERSITY PKWY', '', 'POMONA CA', '91768-4300', '0', '', '', 'P O BOX 90638', '', 'INDUSTRY  CA', '91715']\n",
      "['8710-012-028', '19891221-50', '', 'N', 'MILLMAN,PHILLIP L AND', '', '', '', '176', '', '', 'UNIVERSITY PKWY', '', 'POMONA CA', '91768-4300', '16624', '', '', 'CARRIAGE PL', '', 'HACIENDA HGTS CA', '91745-3766']\n",
      "['8710-012-029', '20040113-50', '', 'Y', 'VICTOR VALLEY DEVELOPMENT CO LTD', '', '', '', '186', '', '', 'UNIVERSITY PKWY', '', 'POMONA CA', '91768-4300', '0', '', '', 'PO BOX 949', '', 'SANTA MONICA CA', '90406-0949']\n",
      "['8710-012-030', '20070917-50', '', 'Y', 'PATEL BROTHERS', '', '', '', '196', '', '', 'UNIVERSITY PKWY', '', 'POMONA CA', '91768-4300', '24370', '', '', 'SYLVAN GLEN RD', '', 'DIAMOND BAR CA', '91765-4515']\n",
      "['8710-012-031', '19920210-50', '', 'Y', 'UNIVERSITY PARKWAY OWNERS ASSN', 'INC', '', '', '0', '', '', '', '', '', '', '17800', '', '', 'CASTLETON ST', 'NO   150', 'CITY OF INDUSTRY CA', '91748-5722']\n",
      "['8710-012-032', '19920210-50', '', 'Y', 'UNIVERSITY PARKWAY OWNERS ASSN', 'INC', '', '', '0', '', '', '', '', '', '', '17800', '', '', 'CASTLETON ST', 'NO   150', 'CITY OF INDUSTRY CA', '91748-5722']\n",
      "['8710-012-033', '19920210-50', '', 'Y', 'UNIVERSITY PARKWAY OWNERS ASSN', 'INC', '', '', '0', '', '', '', '', '', '', '17800', '', '', 'CASTLETON ST', 'NO   150', 'CITY OF INDUSTRY CA', '91748-5722']\n",
      "['8710-012-034', '20151125-50', 'nonReapp', 'Y', '3560 UNIVERSITY PLAZA POMONA LLC', 'AND', 'PRESTON COLE LLC', '', '3560', '', 'W', 'TEMPLE AVE', '', 'POMONA CA', '91768-4303', '4195', '', '', 'CHINO HILLS PKWY', '# 518', 'CHINO HILLS CA', '91709-2618']\n",
      "['8710-012-052', '19950929-50', '', 'Y', 'DIAMOND,MICHAEL N TR', 'MICHAEL N DIAMOND TRUST', '', '', '154', '', '', 'UNIVERSITY PKWY', '', 'POMONA CA', '91768-4300', '0', '', '', 'PO BOX 4982', '', 'CULVER CITY CA', '90231-4982']\n",
      "['8719-013-015', '20071127-50', 'nonReapp', 'Y', 'HHI LOS ANGELES LLC', '', '', '', '810', '', '', 'BREA CANYON RD', '', 'DIAMOND BAR CA', '91789-3015', '3452', '', '', 'UNIVERSITY AVE', '', 'RIVERSIDE CA', '92501-3327']\n",
      "['8719-013-015', '20000802-50', '', 'N', 'HAVADJIA HOLDINGS,INC', '', '', '', '810', '', '', 'BREA CANYON RD', '', 'DIAMOND BAR CA', '91789-3015', '3452', '', '', 'UNIVERSITY AVE', '', 'RIVERSIDE CA', '92501-3327']\n",
      "['8735-010-039', '20090522-50', '', 'Y', 'SUNTEND LLC', '', '', 'C/O JOANNE HUANG', '2400', '', 'S', 'RIDGEWOOD DR', '', 'WEST COVINA CA', '91792-1700', '138', '', '', 'UNIVERSITY PKWY', '', 'POMONA CA', '91768-4300']\n",
      "['8762-001-026', '20151209-50', '', 'Y', 'CALIFORNIA UNIVERSITY OF', 'BUSINESS AND TECHNOLOGY', '', '', '1199', '', '', 'FAIRWAY DR', '', 'CITY OF INDUSTRY CA', '91789-2832', '2440', '', 'S', 'HACIENDA BLVD', 'STE 131', 'HACIENDA HEIGHTS CA', '91745-4765']\n",
      "['3049-023-012', '20140410-50', 'nonReapp', 'Y', 'AZUSA PACIFIC UNIVERSITY TR', 'KEORTGE TRUST', '', '', '8612', '', 'E', 'AVENUE U', '', 'LITTLEROCK CA', '93543-2616', '0', '', '', 'PO BOX 7000', '', 'AZUSA CA', '91702-7000']\n",
      "['3064-007-007', '20000602-50', 'PartInt', 'N', 'UNIVERSITY OF LLANO CA  ETA L', '', '', '', '0', '', '', 'VAC/VIC AVE Z14/213 STE', '', 'MOUNT WATERMAN CA', '93544', '4810', '', '', 'GLENCAIRN RD', '', 'LOS ANGELES CA', '90027-1135']\n",
      "['3064-007-008', '20000602-50', 'PartInt', 'N', 'UNIVERSITY OF LLANO CA  ETA L', '', '', '', '0', '', '', 'VAC/VIC AVE Z12/213 STE', '', 'MOUNT WATERMAN CA', '93544', '4810', '', '', 'GLENCAIRN RD', '', 'LOS ANGELES CA', '90027-1135']\n",
      "['3064-007-013', '20000602-50', 'PartInt', 'N', 'UNIVERSITY OF LLANO CA  ETA L', '', '', '', '0', '', '', 'VAC/VIC AVE Z8/213 STE', '', 'MOUNT WATERMAN CA', '93544', '4810', '', '', 'GLENCAIRN RD', '', 'LOS ANGELES CA', '90027-1135']\n",
      "['3064-007-017', '20000602-50', 'PartInt', 'N', 'UNIVERSITY OF LLANO CA  ETA L', '', '', '', '0', '', '', 'VAC/VIC AVE Z6/213 STE', '', 'MOUNT WATERMAN CA', '93544', '4810', '', '', 'GLENCAIRN RD', '', 'LOS ANGELES CA', '90027-1135']\n",
      "['3064-007-018', '20000602-50', 'PartInt', 'N', 'UNIVERSITY OF LLANO CA  ETA L', '', '', '', '0', '', '', 'VAC/VIC AVE Z14/213 STE', '', 'MOUNT WATERMAN CA', '93544', '4810', '', '', 'GLENCAIRN RD', '', 'LOS ANGELES CA', '90027-1135']\n",
      "['3064-007-019', '20000602-50', 'PartInt', 'N', 'UNIVERSITY OF LLANO CA  ETA L', '', '', '', '0', '', '', 'VAC/VIC AVE Z14/213 STE', '', 'MOUNT WATERMAN CA', '93544', '4810', '', '', 'GLENCAIRN RD', '', 'LOS ANGELES CA', '90027-1135']\n",
      "['3064-017-006', '20000602-50', 'PartInt', 'N', 'UNIVERSITY OF LLANO CA  ETA L', '', '', '', '0', '', '', 'VAC/VIC AVE Z14/213 STE', '', 'MOUNT WATERMAN CA', '93544', '4910', '', '', 'GLENCAIRN RD', '', 'LOS ANGELES CA', '90027']\n",
      "['3064-017-007', '20000602-50', 'PartInt', 'N', 'UNIVERSITY OF LLANO CA  ETA L', '', '', '', '300', '', 'E', 'AVENUE Z12', '', 'LLANO CA', '93544-1410', '4810', '', '', 'GLENCAIRN RD', '', 'LOS ANGELES CA', '90027-1135']\n",
      "['3064-017-021', '20000602-50', 'PartInt', 'N', 'UNIVERSITY OF LLANO CA  ETA L', '', '', '', '0', '', '', 'VIC/AVE Z-14/213 STE', '', 'MOUNT WATERMAN CA', '93544', '4810', '', '', 'GLENCAIRN RD', '', 'LOS ANGELES CA', '90027-1135']\n",
      "['3064-017-049', '20080703-50', 'PartInt', 'Y', 'CALIFORNIA UNIVERSITY LLANO', 'ET AL', 'EZEKIEL UNITED MISSION CHURCH', 'C/O DAVID WADA', '0', '', '', 'VAC/LARGO VISTA/VIC AVE Z14', '', 'MOUNT WATERMAN CA', '93544', '29558', '', '', 'LARGO VISTA RD', '', 'LLANO CA', '93544-1418']\n",
      "['3079-008-019', '20110225-50', '', 'Y', 'UNIVERSITY OF NEW MEXICO', 'FOUNDATION INC', '', 'C/O TWO WOODWORD CENTER', '0', '', '', 'VAC/115 STE/VIC AVE P14', '', 'ALPINE BUTTE CA', '93591', '700', '', '', 'LOMAS BLVD NE', 'STE 100', 'ALBUQUERQUE NM', '87102-2552']\n",
      "['3085-007-009', '19650517-50', 'other', 'N', 'ESCHENBRUECHER,MABEL ET AL', '', '', '', '0', '', '', 'VAC/LARGO VISTA(PAV)/VIC AVE X4', '', 'MOUNT WATERMAN CA', '93544', '0', '', '', '431 UNIVERSITY AVE', '', 'LOS ALTOS CALIF', '94022']\n",
      "['3086-008-042', '20060111-50', '', 'Y', 'HEGGLIN,JOSEPH C', '', '', '', '0', '', '', 'VAC/AVE X8 (DRT)/VIC 230 STE3', '', 'MOUNT WATERMAN CA', '93544', '6610', '', 'E', 'UNIVERSITY DR', '#107', 'MESA AZ', '85205-7648']\n",
      "['3086-010-017', '19870622-50', '', 'Y', 'HIKOSAKA,MICHIKO', '', '', '', '0', '', '', 'VAC/AVE X13(DRT)/VIC 231 STE', '', 'MOUNT WATERMAN CA', '93544', '831', '', '', 'UNIVERSITY AVE', '#D', 'HONOLULU HI', '96826-3144']\n",
      "['3107-025-040', '20020809-50', 'nonReapp', 'Y', 'KOROMPAI,LESLIE TR', 'LESLIE KOROMPAI TRUST', '', '', '0', '', '', 'VAC/40TH STW/VIC G12', '', 'LANCASTER CA', '93536', '1690', '', 'E', 'UNIVERSITY', 'UNIT 6', 'LAS VEGAS NV', '89119-5827']\n",
      "['3110-039-007', '19960723-50', '', 'Y', 'KHATTAB,ABDUL S AND', 'SAFFOUR,HANAN', '', 'C/O KING FAHD UNIVERSITY', '43324', '', '', '47TH ST W', '', 'LANCASTER CA', '93536-5550', '0', '', '', 'PO BOX 39 DHAHRAN 31261', '', 'SAUDI ARABIA', '99999']\n",
      "['3116-010-005', '19870428-50', 'nonReapp', 'Y', 'UNIVERSITY OF SOUTHERN CA ET AL', '', 'NORDSTROM,CYNTHIA A', 'DEE JACKSON', '0', '', '', 'VAC/AVE E2/VIC 11 STW', '', 'CALICHE CA', '93534', '620', '', '', 'MC CARTHY WAY', 'STE 5', 'LOS ANGELES CA', '90089-0155']\n",
      "['3116-010-005', '19780601-50', 'other', 'N', 'UNIVERSITY OF SOUTHERN', '', '', '', '0', '', '', 'VAC/AVE E2/VIC 11 STW', '', 'CALICHE CA', '93534', '', '', '', '', '', '', '']\n",
      "['3116-010-007', '19870428-50', 'nonReapp', 'Y', 'UNIVERSITY OF', 'SOUTHERN CALIFORNIA ET AL', 'NORDSTROM,CYNTHIA A', 'DEE JACKSON', '0', '', '', 'VAC/AVE E2/VIC 11 STW', '', 'CALICHE CA', '93534', '620', '', '', 'MC CARTHY WAY', 'STE 5', 'LOS ANGELES CA', '90089-0155']\n",
      "['3116-010-007', '19780601-50', 'other', 'N', 'UNIVERSITY OF SOUTHERN', '', '', '', '0', '', '', 'VAC/AVE E2/VIC 11 STW', '', 'CALICHE CA', '93534', '', '', '', '', '', '', '']\n",
      "['3116-010-025', '19870428-50', 'nonReapp', 'Y', 'UNIVERSITY OF SOUTHERN CA ET AL', '', 'NORDSTROM,CYNTHIA A', 'DEE JACKSON', '0', '', '', 'VAC/AVE E2/VIC 11 PLW', '', 'CALICHE CA', '93534', '620', '', '', 'MC CARTHY WAY', 'STE 5', 'LOS ANGELES CA', '90089-0155']\n",
      "['3116-010-025', '19780601-50', 'other', 'N', 'UNIVERSITY OF SOUTHERN', '', '', '', '0', '', '', 'VAC/AVE E2/VIC 11 PLW', '', 'CALICHE CA', '93534', '', '', '', '', '', '', '']\n",
      "['3116-012-027', '19870428-50', 'nonReapp', 'Y', 'UNIVERSITY OF SOUTHERN CA ET AL', '', 'NORDSTROM,CYNTHIA A', 'DEE JACKSON', '0', '', '', 'VAC/AVE E6/VIC 12 STW', '', 'CALICHE CA', '93534', '620', '', '', 'MC CARTHY WAY', 'STE 5', 'LOS ANGELES CA', '90089-0155']\n",
      "['3116-012-027', '19780601-50', 'other', 'N', 'UNIVERSITY OF SOUTHERN', '', '', '', '0', '', '', 'VAC/AVE E6/VIC 12 STW', '', 'CALICHE CA', '93534', '', '', '', '', '', '', '']\n",
      "['3116-012-029', '19870428-50', 'nonReapp', 'Y', 'UNIVERSITY OF', 'SOUTHERN CALIFORNIA ET AL', 'NORDSTROM,CYNTHIA A', 'DEE JACKSON', '0', '', '', 'VAC/AVE E6/VIC 12 STW', '', 'CALICHE CA', '93534', '620', '', '', 'MC CARTHY WAY', 'STE 5', 'LOS ANGELES CA', '90089-0155']\n",
      "['3116-012-029', '19780601-50', 'other', 'N', 'UNIVERSITY OF SOUTHERN', '', '', '', '0', '', '', 'VAC/AVE E6/VIC 12 STW', '', 'CALICHE CA', '93534', '', '', '', '', '', '', '']\n",
      "['3117-006-009', '20090421-50', 'PartInt', 'N', 'CHI,CHIH TUNG ET AL', '', '', '', '0', '', '', 'VAC/AVE E/VIC 25TH STW', '', 'LANCASTER CA', '93536', '1804', '', '', 'UNIVERSITY DR', '', 'RICHARDSON TX', '75081']\n",
      "['3128-002-045', '20051104-50', 'other', 'N', 'KIE INVESTMENTS LLC ET AL LESSOR', '', '', '', '43440', '', 'W', '10TH ST', '', 'LANCASTER CA', '93535', '3452', '', '', 'UNIVERSITY AVE', '', 'RIVERSIDE CA', '92501']\n",
      "['3128-002-048', '20051104-50', 'other', 'N', 'KIE INVESTMENTS LLC ET AL LESSOR', '', '', '', '754', '', 'W', 'AVENUE K', '', 'LANCASTER CA', '93535', '3452', '', '', 'UNIVERSITY AVE', '', 'RIVERSIDE CA', '92501']\n",
      "['3128-007-030', '19970305-50', 'nonReapp', 'N', 'MCGILL,RACHEL E TR', '', '', '', '0', '', '', 'VAC/VIC SIERRA HWY/AVE L', '', 'LANCASTER CA', '93535', '891', '', '', 'UNIVERSITY DR', '', 'MERCED CA', '95348-2146']\n",
      "['3128-007-030', '19910917-50', 'nonReapp', 'N', 'MCGILL,RACHEL E TR', '', '', '', '0', '', '', 'VAC/VIC SIERRA HWY/AVE L', '', 'LANCASTER CA', '93535', '891', '', '', 'UNIVERSITY DR', '', 'MERCED CA', '95348-2146']\n",
      "['3132-013-005', '20090714-50', '', 'Y', 'UNIVERSITY OF ANTELOPE', 'VALLEY LLC', '', '', '44049', '', '', 'SIERRA HWY', '', 'LANCASTER CA', '93534-4412', '44055', '', 'N', 'SIERRA HWY', '', 'LANCASTER CA', '93534-4498']\n",
      "['3132-013-008', '20090714-50', '', 'Y', 'UNIVERSITY OF ANTELOPE', 'VALLEY LLC', '', '', '44073', '', '', 'SIERRA HWY', '', 'LANCASTER CA', '93534-4412', '44055', '', 'N', 'SIERRA HWY', '', 'LANCASTER CA', '93534-4498']\n",
      "['3142-007-013', '20141222-50', '', 'Y', 'FU,ZHENHE', '', '', '', '0', '', '', 'VAC/LANCASTER BLVD(PAV)/VIC DIVI', '', 'LANCASTER CA', '93535', '777', '', '', 'UNIVERSITY AVE', 'APT 1018', 'MADISON WI', '53715-1085']\n",
      "['3153-015-040', '20110204-50', '', 'Y', 'UNIVERSITY OF ANTELOPE', 'VALLEY LLC', '', '', '45000', '', '', 'VALLEY CENTRAL WAY', '', 'LANCASTER CA', '93536-1511', '44055', '', '', 'SIERRA HWY', '', 'LANCASTER CA', '93534-4498']\n",
      "['3170-017-049', '19890501-50', '', 'Y', 'VICENTE TAN SY YONG AND', 'SEE GUAT', '', 'UNIVERSITY VILLAGE MALABON', '0', '', '', '', '', '', '', '41', '', '', 'JASMIN ST ARANETA', '', 'METRO MANILA PHILIPPINES', '99999']\n",
      "['3170-019-079', '19761109-50', 'other', 'N', 'NAGAO,KATSUTO AND SHIZUKA T', '', '', '', '0', '', '', '', '', '', '', '500', '', '', 'UNIVERSITY AVE', 'NO  1610', 'HONOLULU HI', '96826-4929']\n",
      "['3175-010-002', '20080305-50', 'nonReapp', 'Y', 'SHIH,TIEN MO', '', '', '', '0', '', '', 'VAC/COR AVE F8/15 STE', '', 'ROOSEVELT CA', '93535', '6709', '', '', 'FOREST HILL DR', '', 'UNIVERSITY PARK MD', '20782']\n",
      "['3175-010-002', '19910819-50', '', 'N', 'SHIH,TIEN MO AND JOYCE L', '', '', '', '0', '', '', 'VAC/COR AVE F8/15 STE', '', 'ROOSEVELT CA', '93535', '6709', '', '', 'FOREST HILL DR', '', 'UNIVERSITY PARK MD', '20782']\n",
      "['3176-020-024', '20110131-50', '', 'Y', 'LA SIERRA UNIVERSITY', '', '', '', '0', '', '', 'VAC/AVE H/VIC 20TH STE', '', 'LANCASTER CA', '93534', '4500', '', '', 'RIVERWALK PKWY', '', 'RIVERSIDE CA', '92505-3332']\n",
      "['3205-025-032', '19840719-50', 'other', 'Y', 'CALIFORNIA STATE UNIVERSITY', 'FOUNDATION NORTHRIDGE', '', '', '0', '', '', 'VAC/VIC AVE N8/84 STW', '', 'ANAVERDE CA', '93551', '18111', '', '', 'NORDHOFF ST', '', 'NORTHRIDGE CA', '91330-0001']\n",
      "['3205-025-033', '19840719-50', 'other', 'Y', 'CALIFORNIA STATE UNIVERSITY', 'FOUNDATION NORTHRIDGE', '', '', '0', '', '', 'VAC/VIC AVE N8/85 STW', '', 'ANAVERDE CA', '93551', '18111', '', '', 'NORDHOFF ST', '', 'NORTHRIDGE CA', '91330-0001']\n",
      "['3209-005-049', '20070501-50', '', 'Y', 'AJU BBI HOLDINGS LLC', '', '', 'AMERICAN JEWISH UNIVERSITY', '0', '', '', 'VAC/2 MI N SOLODAD CYN RD/2 1/3', '', 'MT GLEASON CA', '93510', '15600', '', '', 'MULHOLLAND DR', '', 'LOS ANGELES CA', '90077-1519']\n",
      "['3209-005-050', '20070501-50', '', 'Y', 'AJU BBI HOLDINGS LLC', '', '', 'AMERICAN JEWISH UNIVERSITY', '0', '', '', 'VAC/2 MI N SOLEDAD CYN RD/2 1/3', '', 'MT GLEASON CA', '93510', '15600', '', '', 'MULHOLLAND DR', '', 'LOS ANGELES CA', '90077-1519']\n",
      "['3209-005-051', '20070501-50', '', 'Y', 'AJU BBI HOLDINGS LLC', '', '', 'AMERICAN JEWISH UNIVERSITY', '0', '', '', 'VAC/1 3/4 MI N SOLEDAD CYN RD/2', '', 'MT GLEASON CA', '93510', '15600', '', '', 'MULHOLLAND DR', '', 'LOS ANGELES CA', '90077-1519']\n",
      "['3209-005-052', '20070501-50', '', 'Y', 'AJU BBI HOLDINGS LLC', '', '', 'AMERICAN JEWISH UNIVERSITY', '0', '', '', 'VAC/1 3/4 MI N SOLEDAD CYN RD/2', '', 'MT GLEASON CA', '93510', '15600', '', '', 'MULHOLLAND DR', '', 'LOS ANGELES CA', '90077-1519']\n",
      "['4067-025-019', '20141126-50', 'nonReapp', 'Y', 'BERGE,ERIC D', '', '', '', '15809', '', '', 'VENUS PL', '', 'GARDENA CA', '90249-4675', '640', '', '', 'UNIVERSITY DR', '', 'LOMPOC CA', '93436-7838']\n",
      "['4067-025-019', '20060531-50', '', 'N', 'BERGE,ERIC D', '', '', '', '15809', '', '', 'VENUS PL', '', 'GARDENA CA', '90249-4675', '640', '', '', 'UNIVERSITY DR', '', 'LOMPOC CA', '93436-7838']\n",
      "['4075-016-026', '20010109-50', 'nonReapp', 'N', 'HAVADJIAS,MAKIS A TR', '', '', '', '4320', '', 'W', '171ST ST', '', 'LAWNDALE CA', '90260-3331', '3452', '', '', 'UNIVERSITY AVE', '', 'RIVERSIDE CA', '92501-3327']\n",
      "['4101-019-022', '19870504-50', '', 'Y', 'CHARLES R DREW UNIVERSITY', '', '', '', '5647', '', 'W', '64TH ST', '', 'LOS ANGELES CA', '90056-2235', '1621', '', 'E', '120TH ST', '', 'LOS ANGELES CA', '90059-3025']\n",
      "['4102-014-053', '19610418-50', 'other', 'Y', 'UNIVERSITY CHRISTIAN CHURCH', '', '', '', '5831', '', 'W', 'CENTINELA AVE', '', 'LOS ANGELES CA', '90045-1503', '', '', '', '', '', '', '']\n",
      "['4103-015-032', '20151008-50', 'other', 'Y', 'MORRIS,STEPHEN AND', '', 'CUEVAS,ERIC S', '', '7101', '', 'S', 'LA CIENEGA BLVD', '', 'LOS ANGELES CA', '90045-2015', '603', '', 'E', 'UNIVERSITY DR', 'STE B264', 'CARSON CA', '90746-1971']\n",
      "['4108-008-004', '20080729-50', '', 'Y', 'UNIVERSITY CHRISTIAN CHURCH', '', '', '', '6456', '', 'W', '82ND ST', '', 'LOS ANGELES CA', '90045-2884', '5831', '', 'W', 'CENTINELA AVE', '', 'LOS ANGELES CA', '90045-1503']\n",
      "['4109-030-009', '20071031-50', '', 'Y', 'LOYOLA MARYMOUNT UNIVERSITY', '', '', 'KRISTEN ANDERSEN DIR R E', '7728', '', '', 'DUNBARTON AVE', '', 'LOS ANGELES CA', '90045-1030', '1', '', '', 'LMU DR', '4900', 'LOS ANGELES CA', '90045-2650']\n",
      "['4110-015-046', '20061003-50', 'nonReapp', 'N', 'ABERCROMBIE,MICHAEL W CO TR', '', '', '', '7533', '', '', 'COWAN AVE', '', 'LOS ANGELES CA', '90045-1250', '3750', '', '', 'UNIVERSITY AVE', 'STE 670', 'RIVERSIDE CA', '92501']\n",
      "['4110-029-005', '20091104-50', '', 'Y', 'LOYOLA MARYMOUNT UNIVERSITY', '', '', 'C/O KRISTEN ANDRESEN', '7507', '', '', 'MCCONNELL AVE', '', 'LOS ANGELES CA', '90045-1037', '1', '', '', 'LMU DR', 'STE 4900', 'LOS ANGELES CA', '90045-2650']\n",
      "['4110-029-008', '20071211-50', '', 'Y', 'LOYOLA MARYMOUNT UNIVERSITY', '', '', 'REAL ESTATE', '7481', '', '', 'MCCONNELL AVE', '', 'LOS ANGELES CA', '90045-1036', '1', '', '', 'LMU DR', '4900', 'LOS ANGELES CA', '90045-2650']\n",
      "['4110-030-008', '20160812-50', '', 'Y', 'LOYOLA MARYMOUNT UNIVERSITY', '', '', 'C/O UNIVERSITY HALL 4900', '7553', '', '', 'MCCONNELL AVE', '', 'LOS ANGELES CA', '90045-1037', '1', '', '', 'LMU DR', '', 'LOS ANGELES CA', '90045-2623']\n",
      "['4110-030-010', '20080606-50', '', 'Y', 'LOYOLA MARYMOUNT UNIVERSITY', '', '', '', '7543', '', '', 'MCCONNELL AVE', '', 'LOS ANGELES CA', '90045-1037', '1', '', '', 'LMU DR', 'STE 4900', 'LOS ANGELES CA', '90045-2650']\n",
      "['4112-002-014', '20140326-50', 'nonReapp', 'Y', 'GHOBRIAL,RAFIK AND KATHRYN TRS', 'GHOBRIAL FAMILY TRUST', '', '', '6901', '', 'W', '85TH PL', '', 'LOS ANGELES CA', '90045-2604', '2724', '', '', 'UNIVERSITY BLVD', '', 'HOUSTON TX', '77005-3440']\n",
      "['4112-008-001', '20160831-50', '', 'Y', 'LOYOLA MARYMOUNT UNIVERSITY', '', '', '', '7701', '', '', 'MCCONNELL AVE', '', 'LOS ANGELES CA', '90045-1041', '1', '', '', 'LMU DR', '# 4900', 'LOS ANGELES CA', '90045-2650']\n",
      "['4112-008-015', '20091221-50', '', 'Y', 'LOYOLA MARYMOUNT UNIVERSITY', '', '', '', '7839', '', '', 'MCCONNELL AVE', '', 'LOS ANGELES CA', '90045-1043', '1', '', '', 'LMU DR', '# 4900', 'LOS ANGELES CA', '90045-2659']\n",
      "['4112-008-026', '19920806-50', '', 'Y', 'LOYOLA MARYMOUNT UNIVERSITY', '', '', '', '7937', '', '', 'MCCONNELL AVE', '', 'LOS ANGELES CA', '90045-1045', '1', '', '', 'LMU DR', 'STE2200', 'LOS ANGELES CA', '90045-2650']\n",
      "['4112-008-028', '20160517-50', '', 'Y', 'LOYOLA MARYMOUNT UNIVERSITY', '', '', 'C/O REAL ESTATE AND HOUSING', '7947', '', '', 'MCCONNELL AVE', '', 'LOS ANGELES CA', '90045-1045', '1', '', '', 'LMU DR', '# 4900', 'LOS ANGELES CA', '90045-2623']\n",
      "['4112-020-003', '20080724-50', '', 'Y', 'LOYOLA MARYMOUNT UNIVERSITY', '', '', '', '8048', '', '', 'KENYON AVE', '', 'LOS ANGELES CA', '90045-2735', '1', '', '', 'LMU DR', '4900', 'LOS ANGELES CA', '90045-2650']\n",
      "['4112-030-019', '20150721-50', '', 'Y', 'LOYOLA MARYMOUNT UNIVERSITY', '', '', 'C/O CAROLINE WILHELM', '8377', '', '', 'DUNBARTON AVE', '', 'LOS ANGELES CA', '90045-2801', '1', '', '', 'LMU DR', 'STE 4900', 'LOS ANGELES CA', '90045-2650']\n",
      "['4113-001-004', '19670245-50', 'other', 'Y', 'LOYOLA MARYMOUNT UNIVERSITY', '', '', '', '1', '', '', 'LMU DR', '', 'LOS ANGELES CA', '90045-2623', '1', '', '', 'LMU DR', 'STE2200', 'LOS ANGELES CA', '90045-2650']\n",
      "['4113-007-014', '19650910-50', 'other', 'Y', 'LOYOLA UNIVERSITY OF L A', '', '', '', '8000', '', '', 'LOYOLA BLVD', '', 'LOS ANGELES CA', '90045-2637', '1', '', '', 'LMU DR', 'STE2200', 'LOS ANGELES CA', '90045-2650']\n",
      "['4113-010-020', '19910524-50', '', 'Y', 'LOYOLA MARYMOUNT UNIVERSITY', '', '', '', '8001', '', '', 'LOYOLA BLVD', '', 'LOS ANGELES CA', '90045-2636', '1', '', '', 'LMU DR', 'STE2200', 'LOS ANGELES CA', '90045-2650']\n",
      "['4113-021-006', '20140425-50', '', 'Y', 'LOYOLA MARYMOUNT UNIVERSITY', '', '', 'ATTN REAL ESTATE', '7915', '', '', 'FORDHAM RD', '', 'LOS ANGELES CA', '90045-2551', '1', '', '', 'LMU DR', '', 'LOS ANGELES CA', '90045-2623']\n",
      "['4113-021-015', '19930427-50', 'other', 'Y', 'LOYOLA MARYMOUNT UNIVERSITY', '', '', '', '0', '', '', '', '', '', '', '1', '', '', 'LMU DR', 'STE2200', 'LOS ANGELES CA', '90045-2650']\n",
      "['4113-021-016', '19930427-50', 'other', 'Y', 'LOYOLA MARYMOUNT UNIVERSITY', '', '', '', '0', '', '', '', '', '', '', '1', '', '', 'LMU DR', 'STE2200', 'LOS ANGELES CA', '90045-2650']\n",
      "['4113-022-013', '20140725-50', '', 'Y', 'LOYOLA MARYMOUNT UNIVERSITY', '', '', '', '7961', '', '', 'BELTON DR', '', 'LOS ANGELES CA', '90045-2525', '1', '', '', 'LMU DR', 'STE 4900', 'LOS ANGELES CA', '90045-2623']\n",
      "['4113-022-018', '19910702-50', '', 'Y', 'LOYOLA MARYMOUNT UNIVERSITY', '', '', '', '7200', '', 'W', '78TH ST', '', 'LOS ANGELES CA', '90045-2516', '1', '', '', 'LMU DR', 'STE2200', 'LOS ANGELES CA', '90045-2650']\n",
      "['4113-022-019', '19920810-50', '', 'Y', 'LOYOLA MARYMOUNT UNIVERSITY', '', '', '', '7206', '', 'W', '78TH ST', '', 'LOS ANGELES CA', '90045-2516', '1', '', '', 'LMU DR', 'STE2200', 'LOS ANGELES CA', '90045-2650']\n",
      "['4113-022-020', '19920810-50', '', 'Y', 'LOYOLA MARYMOUNT UNIVERSITY', '', '', '', '7210', '', 'W', '78TH ST', '', 'LOS ANGELES CA', '90045-2516', '1', '', '', 'LMU DR', 'STE2200', 'LOS ANGELES CA', '90045-2650']\n",
      "['4113-022-021', '19921222-50', '', 'Y', 'LOYOLA MARYMOUNT UNIVERSITY', '', '', '', '7222', '', 'W', '78TH ST', '', 'LOS ANGELES CA', '90045-2516', '1', '', '', 'LMU DR', 'STE2200', 'LOS ANGELES CA', '90045-2650']\n",
      "['4113-022-022', '19920116-50', '', 'Y', 'LOYOLA MARYMOUNT UNIVERSITY', '', '', '', '7230', '', 'W', '78TH ST', '', 'LOS ANGELES CA', '90045-2516', '1', '', '', 'LMU DR', 'STE2200', 'LOS ANGELES CA', '90045-2650']\n",
      "['4113-022-023', '19930608-50', '', 'Y', 'LOYOLA MARYMOUNT UNIVERSITY', '', '', '', '7804', '', '', 'NARDIAN WAY', '', 'LOS ANGELES CA', '90045-2542', '1', '', '', 'LMU DR', 'STE2200', 'LOS ANGELES CA', '90045-2650']\n",
      "['4113-023-029', '19990709-50', '', 'Y', 'LOYOLA MARYMOUNT UNIVERSITY', '', '', '', '7800', '', '', 'ALTAVAN AVE', '', 'LOS ANGELES CA', '90045-2520', '1', '', '', 'LMU DR', 'STE2200', 'LOS ANGELES CA', '90045-2650']\n",
      "['4113-026-005', '19841005-50', '', 'Y', 'LOYOLA MARYMOUNT UNIVERSITY', '', '', '', '0', '', '', '', '', '', '', '1', '', '', 'LMU DR', 'STE2200', 'LOS ANGELES CA', '90045-2623']\n",
      "['4113-026-007', '20101201-50', 'nonReapp', 'Y', 'LOYOLA MARYMOUNT UNIVERSITY', '', '', '', '0', '', '', '', '', '', '', '1', '', '', 'LMU DR', 'STE 4900', 'LOS ANGELES CA', '90045-2696']\n",
      "['4113-026-007', '19991119-75', '', 'N', 'LOYOLA MARYMOUNT UNIVERSITY', '', '', '', '0', '', '', '', '', '', '', '1', '', '', 'LMU DR', 'STE 2200', 'LOS ANGELES CA', '90045-2650']\n",
      "['4113-026-009', '19931103-50', '', 'Y', 'LOYOLA MARYMOUNT UNIVERSITY', '', '', '', '0', '', '', '', '', '', '', '1', '', '', 'LMU DR', 'STE2200', 'LOS ANGELES CA', '90045-2650']\n",
      "['4114-010-021', '20101201-50', 'nonReapp', 'Y', 'LOYOLA MARYMOUNT UNIVERSITY', '', '', '', '0', '', '', '', '', '', '', '1', '', '', 'LMU DR', 'STE 4900', 'LOS ANGELES CA', '90045-2676']\n",
      "['4114-010-021', '19991119-75', '', 'N', 'LOYOLA MARYMOUNT UNIVERSITY', '', '', '', '0', '', '', '', '', '', '', '1', '', '', 'LMU DR', 'STE2200', 'LOS ANGELES CA', '90045-2650']\n",
      "['4114-010-022', '20101201-50', 'nonReapp', 'Y', 'LOYOLA MARYMOUNT UNIVERSITY', '', '', '', '0', '', '', '', '', '', '', '1', '', '', 'LMU DR', '#4900', 'LOS ANGELES CA', '90045-2650']\n",
      "['4114-010-022', '19991119-75', '', 'N', 'LOYOLA MARYMOUNT UNIVERSITY', '', '', '', '0', '', '', '', '', '', '', '1', '', '', 'LMU DR', 'STE2200', 'LOS ANGELES CA', '90045-2650']\n",
      "['4114-010-023', '20101201-50', 'nonReapp', 'Y', 'LOYOLA MARYMOUNT UNIVERSITY', '', '', '', '0', '', '', '', '', '', '', '1', '', '', 'LMU DR', '#4900', 'LOS ANGELES CA', '90045-2650']\n",
      "['4114-010-023', '19991119-75', '', 'N', 'LOYOLA MARYMOUNT UNIVERSITY', '', '', '', '0', '', '', '', '', '', '', '1', '', '', 'LMU DR', 'STE2200', 'LOS ANGELES CA', '90045-2650']\n",
      "['4114-010-024', '20101201-50', 'nonReapp', 'Y', 'LOYOLA MARYMOUNT UNIVERSITY', '', '', '', '0', '', '', '', '', '', '', '1', '', '', 'LMU DR', '#4900', 'LOS ANGELES CA', '90045-2650']\n",
      "['4114-010-024', '19991119-75', '', 'N', 'LOYOLA MARYMOUNT UNIVERSITY', '', '', '', '0', '', '', '', '', '', '', '1', '', '', 'LMU DR', 'STE2200', 'LOS ANGELES CA', '90045-2650']\n",
      "['4114-010-025', '20101201-50', 'nonReapp', 'Y', 'LOYOLA MARYMOUNT UNIVERSITY', '', '', '', '0', '', '', '', '', '', '', '1', '', '', 'LMU DR', '#4900', 'LOS ANGELES CA', '90045-2650']\n",
      "['4114-010-025', '19991119-75', '', 'N', 'LOYOLA MARYMOUNT UNIVERSITY', '', '', '', '0', '', '', '', '', '', '', '1', '', '', 'LMU DR', 'STE2200', 'LOS ANGELES CA', '90045-2650']\n",
      "['4114-010-026', '20101201-50', 'nonReapp', 'Y', 'LOYOLA MARYMOUNT UNIVERSITY', '', '', '', '0', '', '', '', '', '', '', '1', '', '', 'LMU DR', '#4900', 'LOS ANGELES CA', '90045-2650']\n",
      "['4114-010-026', '19991119-75', '', 'N', 'LOYOLA MARYMOUNT UNIVERSITY', '', '', '', '0', '', '', '', '', '', '', '1', '', '', 'LMU DR', 'STE2200', 'LOS ANGELES CA', '90045-2650']\n",
      "['4114-010-027', '20101201-50', 'nonReapp', 'Y', 'LOYOLA MARYMOUNT UNIVERSITY', '', '', '', '0', '', '', '', '', '', '', '1', '', '', 'LMU DR', '#4900', 'LOS ANGELES CA', '90045-2650']\n",
      "['4114-010-027', '19991119-75', '', 'N', 'LOYOLA MARYMOUNT UNIVERSITY', '', '', '', '0', '', '', '', '', '', '', '1', '', '', 'LMU DR', 'STE2200', 'LOS ANGELES CA', '90045-2650']\n",
      "['4114-010-028', '20101201-50', 'nonReapp', 'Y', 'LOYOLA MARYMOUNT UNIVERSITY', '', '', '', '0', '', '', '', '', '', '', '1', '', '', 'LMU DR', 'NO 4900', 'LOS ANGELES CA', '90045-2659']\n",
      "['4114-010-028', '19991119-75', '', 'N', 'LOYOLA MARYMOUNT UNIVERSITY', '', '', '', '0', '', '', '', '', '', '', '1', '', '', 'LMU DR', 'STE2200', 'LOS ANGELES CA', '90045-2650']\n",
      "['4126-016-014', '19771216-50', 'other', 'N', 'NORTHROP UNIVERSITY', '', '', '', '1015', '', 'W', 'ARBOR VITAE ST', '', 'INGLEWOOD CA', '90301-2901', '1155', '', 'W', 'ARBOR VITAE ST', '', 'INGLEWOOD CA', '90306']\n",
      "['4134-005-022', '19991101-75', 'nonReapp', 'N', 'UNIVERSITY OF ILLINOIS', '', '', '', '5881', '', '', 'GREEN VALLEY CIR', '', 'CULVER CITY CA', '90230-6901', '1000', '', '', 'WILSHIRE BLVD', 'STE 1800', 'LOS ANGELES CA', '90017-2475']\n",
      "['4150-032-051', '19870922-50', '', 'Y', 'YEE,JAMES R', '', '', 'UNIVERSITY OF HAWAII', '2229', '', '', 'ROBINSON ST', 'A', 'REDONDO BEACH CA', '90278-2019', '0', '', '', 'PO BOX 3517', '', 'REDONDO BEACH CA', '90277-1517']\n",
      "['4169-030-012', '20091113-50', 'nonReapp', 'N', 'GRANT,ROBERT N TR', '', '', '', '671', '', '', '30TH ST', '', 'HERMOSA BEACH CA', '90254-2212', '525', '', '', 'UNIVERSITY AVE', 'STE 1325', 'PALO ALTO CA', '94301-1927']\n",
      "['4175-028-006', '20080307-50', 'nonReapp', 'N', 'GRANT,ROBERT N TR', '', '', '', '3420', '', '', 'THE STRAND', '', 'MANHATTAN BEACH CA', '90266-3350', '525', '', '', 'UNIVERSITY AVE', 'STE 1325', 'PALO ALTO CA', '94301-1927']\n",
      "['4185-010-010', '20100713-50', 'PartInt', 'N', 'GRANT,ROBERT N TR', '', '', '', '1033', '', '', '14TH ST', '', 'HERMOSA BEACH CA', '90254-4014', '525', '', '', 'UNIVERSITY AVE', 'STE 1325', 'PALO ALTO CA', '94301-1927']\n",
      "['4185-010-010', '20090813-50', 'PartInt', 'N', 'GRANT,ROBERT N TR', '', '', '', '1033', '', '', '14TH ST', '', 'HERMOSA BEACH CA', '90254-4014', '525', '', '', 'UNIVERSITY AVE', 'STE 1325', 'PALO ALTO CA', '94301-1927']\n",
      "['4185-010-010', '20080307-50', 'nonReapp', 'N', 'GRANT,ROBERT N TR', '', '', '', '1033', '', '', '14TH ST', '', 'HERMOSA BEACH CA', '90254-4014', '525', '', '', 'UNIVERSITY AVE', 'STE 1325', 'PALO ALTO CA', '94301-1927']\n",
      "['4185-020-023', '20020830-50', 'nonReapp', 'N', 'RYAN,THOMAS M TR', '', '', '', '1501', '', '', 'SILVER ST', '', 'HERMOSA BEACH CA', '90254-3348', '2000', '', 'E', 'UNIVERSITY DR', '', 'COMPTON CA', '90220-6410']\n",
      "['4188-007-015', '19951227-50', 'nonReapp', 'Y', 'JESUIT COMMUNITY AT', 'LOYOLA UNIVERSITY', '', '', '238', '', '', 'THE STRAND', '', 'HERMOSA BEACH CA', '90254-5048', '0', '', '', 'PO BOX 45041', '', 'LOS ANGELES CA', '90045-0041']\n",
      "['4204-012-006', '19990107-50', 'nonReapp', 'N', 'BARKER,LUCIUS AND MAUDE', '', '', '', '3846', '', '', 'VER HALEN CT', '', 'CULVER CITY CA', '90232-3018', '1330', '', '', 'UNIVERSITY DR', 'NO    45', 'MENLO PARK CA', '94025-4241']\n",
      "['4205-023-902', '19851024-50', 'other', 'Y', 'REGENTS OF THE UNIVERSITY OF CA', '', '', '', '0', '', '', '', '', '', '', '1111', '', '', 'FRANKLIN ST', '6TH  FLR', 'OAKLAND CA', '94607-5201']\n",
      "['4207-009-044', '20140505-50', '', 'Y', 'DWP LLC', '', '', '', '9900', '', '', 'CULVER BLVD', 'PHC', 'CULVER CITY CA', '90232', '210', '', '', 'UNIVERSITY BLVD', 'STE 750', 'DENVER CO', '80206-4644']\n",
      "['4212-010-015', '20130221-50', '', 'Y', 'MANSON,WILLIAM D AND SHERRIE I', '', '', '', '4346', '', '', 'REDWOOD AVE', 'UNITA201', 'LOS ANGELES CA', '90292-6481', '2381', '', '', 'FENWOOD RD', '', 'UNIVERSITY HEIGHTS OH', '44118-3803']\n",
      "['3214-010-012', '19670245-50', 'other', 'N', 'RASSP,HERMAN ET AL', '', '', '', '0', '', '', 'VAC/VIC SIERRA HWY/MINT CYN', '', 'AGUA DULCE CA', '91350', '0', '', '', '631 UNIVERSITY AVE', '', 'BURBANK CALIF', '91504']\n",
      "['3214-010-023', '19710226-50', 'other', 'N', 'RASSP,HERMAN', '', '', '', '0', '', '', 'VAC/VIC SIERRA HWY/MINT CYN', '', 'AGUA DULCE CA', '91350', '631', '', '', 'UNIVERSITY AVE', '', 'BURBANK CALIF', '91504']\n",
      "['3218-014-001', '19870428-50', 'nonReapp', 'Y', 'UNIVERSITY OF SOUTHERN CA ET AL', '', 'NORDSTROM,CYNTHIA A', 'DEE JACKSON', '0', '', '', 'VAC/COR AVE I12/98 STW', '', 'DEL SUR CA', '93536', '620', '', '', 'MC CARTHY WAY', 'STE 5', 'LOS ANGELES CA', '90089-0155']\n",
      "['3218-014-001', '19780601-50', 'other', 'N', 'UNIVERSITY OF SOUTHERN CALIF', '', '', '', '0', '', '', 'VAC/COR AVE I12/98 STW', '', 'DEL SUR CA', '93536', '', '', '', '', '', '', '']\n",
      "['3218-014-002', '19870428-50', 'nonReapp', 'Y', 'UNIVERSITY OF SOUTHERN', 'CALIFORNIA ET AL', 'NORDSTROM,CYNTHIA A', 'DEE JACKSON', '0', '', '', 'VAC/98 STW/VIC AVE I12', '', 'DEL SUR CA', '93536', '620', '', '', 'MC CARTHY WAY', 'STE 5', 'LOS ANGELES CA', '90089-0155']\n",
      "['3218-014-002', '19780601-50', 'other', 'N', 'UNIVERSITY OF SOUTHERN CALIF', '', '', '', '0', '', '', 'VAC/98 STW/VIC AVE I12', '', 'DEL SUR CA', '93536', '', '', '', '', '', '', '']\n",
      "['3218-014-003', '19870428-50', 'nonReapp', 'Y', 'UNIVERSITY OF SOUTHERN', 'CALIFORNIA ET AL', 'NORDSTROM,CYNTHIA A', 'DEE JACKSON', '0', '', '', 'VAC/COR 98 STW/AVE I13', '', 'DEL SUR CA', '93536', '620', '', '', 'MC CARTHY WAY', 'STE 5', 'LOS ANGELES CA', '90089-0155']\n",
      "['3218-014-003', '19780601-50', 'other', 'N', 'UNIVERSITY OF SOUTHERN CALIF', '', '', '', '0', '', '', 'VAC/COR 98 STW/AVE I13', '', 'DEL SUR CA', '93536', '', '', '', '', '', '', '']\n",
      "['3218-014-004', '19870428-50', 'nonReapp', 'Y', 'UNIVERSITY OF SOUTHERN', 'CALIFORNIA ET AL', 'NORDSTROM,CYNTHIA A', 'DEE JACKSON', '0', '', '', 'VAC/COR AVE I12/98 PLW', '', 'DEL SUR CA', '93536', '620', '', '', 'MC CARTHY WAY', 'STE 5', 'LOS ANGELES CA', '90089-0155']\n",
      "['3218-014-004', '19780601-50', 'other', 'N', 'UNIVERSITY OF SOUTHERN CALIF', '', '', '', '0', '', '', 'VAC/COR AVE I12/98 PLW', '', 'DEL SUR CA', '93536', '', '', '', '', '', '', '']\n",
      "['3218-014-005', '19870428-50', 'nonReapp', 'Y', 'UNIVERSITY OF SOUTHERN', 'CALIFORNIA ET AL', 'NORDSTROM,CYNTHIA A', 'DEE JACKSON', '0', '', '', 'VAC/98 PLW/VIC AVE I13', '', 'DEL SUR CA', '93536', '620', '', '', 'MC CARTHY WAY', 'STE 5', 'LOS ANGELES CA', '90089-0155']\n",
      "['3218-014-005', '19780601-50', 'other', 'N', 'UNIVERSITY OF SOUTHERN CALIF', '', '', '', '0', '', '', 'VAC/98 PLW/VIC AVE I13', '', 'DEL SUR CA', '93536', '', '', '', '', '', '', '']\n",
      "['3218-014-006', '19870428-50', 'nonReapp', 'Y', 'UNIVERSITY OF SOUTHERN', 'CALIFORNIA ET AL', 'NORDSTROM,CYNTHIA A', 'DEE JACKSON', '0', '', '', 'VAC/COR 98 PLW/AVE I13', '', 'DEL SUR CA', '93536', '620', '', '', 'MC CARTHY WAY', '', 'LOS ANGELES CA', '90089-0155']\n",
      "['3218-014-006', '19780601-50', 'other', 'N', 'UNIVERSITY OF SOUTHERN CALIF', '', '', '', '0', '', '', 'VAC/COR 98 PLW/AVE I13', '', 'DEL SUR CA', '93536', '', '', '', '', '', '', '']\n",
      "['3219-006-038', '19770414-50', 'other', 'N', 'YANO,KENNETH T AND SARAH S', '', '', '', '0', '', '', 'VAC/VIC AVE F6/85 STW', '', 'ANTELOPE ACRES CA', '93536', '918', '', '', 'UNIVERSITY AVE', 'RM B 202', 'HONOLULU HI', '96826-3221']\n",
      "['3223-004-014', '19670245-50', 'other', 'N', 'RASSP,HERMAN AND', '', '', '', '0', '', '', 'VAC/ESCONDIDOCYNRD/VICCLANFIELD', '', 'ACTON CA', '93510', '0', '', '', '631 UNIVERSITY AVE', '', 'BURBANK CALIF', '91504']\n",
      "['3223-014-010', '19820119-50', 'other', 'Y', 'UNIVERSITY OF JUDAISM', '', '', '', '0', '', '', 'VAC/2 MI S AV FRWY/VIC HUBBARD R', '', 'ACTON CA', '93510', '15600', '', '', 'MULHOLLAND DR', '', 'LOS ANGELES CA', '90077-1519']\n",
      "['3228-011-016', '19660224-50', 'other', 'N', 'RASSP,HERMAN AND BEVERLY A', '', '', '', '0', '', '', 'VAC/SN LUIS POTOSI/VIC ELJORNADO', '', 'GREEN VALLEY CA', '91350', '0', '', '', '631 UNIVERSITY AVE', '', 'BURBANK CALIF', '91504']\n",
      "['3229-015-049', '20070724-50', '', 'Y', 'OWENS,GREG AND LINDA', '', '', '', '0', '', '', 'VAC/AVE B/VIC 73 STW', '', 'ANTELOPE ACRES CA', '93536', '837', '', '', 'UNIVERSITY AVE', '', 'BURBANK CA', '91504-3033']\n",
      "['3229-015-050', '20040318-50', '', 'Y', 'OWENS,GREGORY AND LINDA', '', '', '', '0', '', '', 'VAC/AVE B/VIC 73 STW', '', 'ANTELOPE ACRES CA', '93536', '837', '', '', 'UNIVERSITY AVE', '', 'BURBANK CA', '91504-3033']\n",
      "['3234-021-030', '19660224-50', 'other', 'N', 'RASSP,HERMAN AND BEVERLY A', '', '', '', '0', '', '', 'VAC CALLE EL BARANCO/VIC SPUNKY', '', 'GREEN VALLEY CA', '91350', '0', '', '', '631 UNIVERSITY AVE', '', 'BURBANK CALIF', '91504']\n",
      "['3235-039-008', '19840412-50', 'other', 'Y', 'LYNCH,KELLY', '', '', '', '0', '', '', 'VAC/LESINA DR/VIC PENSACOLA DR', '', 'ELIZABETH LAKE CA', '93536', '630', '', '', 'UNIVERSITY AVE', '', 'PALO ALTO CA', '94301-2019']\n",
      "['3238-029-023', '20050825-50', 'nonReapp', 'Y', 'COUTTOLENC,EDUARDO CO TR', 'COUTTOLENC FAMILY TRUST AND', 'CORTES,J DANIELS', '', '0', '', '', 'VAC/VIC AVE F/217 STW', '', 'FAIRMONT CA', '93536', '1054', '', '', 'UNIVERSITY AVE', '', 'SALINAS CA', '93901-1055']\n",
      "['3261-037-010', '19870723-50', '', 'Y', 'CHIANG,PING CHING AND CHIN L', '', '', '', '0', '', '', 'VAC/COR AVE B4/125 STW', '', 'ANTELOPE ACRES CA', '93536', '0', '', '', '700-9320 UNIVERSITY CR', '', 'BURNABY CANADA V5A 4X9', '99999']\n",
      "['3262-014-020', '20000804-50', 'nonReapp', 'Y', 'MITSUYOSHI,KEIJI AND ROSE TRS', 'K AND R MITSUYOSHI TRUST', '', '', '0', '', '', 'VAC/AVE B10/VIC 93 STW', '', 'ANTELOPE ACRES CA', '93536', '555', '', '', 'UNIVERSITY AVE', '901', 'HONOLULU HI', '96826-5003']\n",
      "['3262-014-020', '19780802-50', 'other', 'N', 'MITSUYOSHI,KEIJI AND ROSE H', '', '', '', '0', '', '', 'VAC/AVE B10/VIC 93 STW', '', 'ANTELOPE ACRES CA', '93536', '555', '', '', 'UNIVERSITY AVE', 'NO 901', 'HONOLULU HI', '96826']\n",
      "['3262-019-049', '19740517-50', 'other', 'Y', 'SUYEOKA,CHIYENO', '', '', '', '0', '', '', 'VAC/VIC 106 STW/AVE C2', '', 'ANTELOPE ACRES CA', '93536', '2130', '', '', 'UNIVERSITY AVE', '', 'HONOLULU HI', '96822-2212']\n",
      "['3262-020-061', '19760422-50', 'other', 'N', 'YANO,KENNETH T AND SARAH S', '', '', '', '0', '', '', 'VAC/VIC AVE C10/105 STW', '', 'ANTELOPE ACRES CA', '93536', '918', '', '', 'UNIVERSITY AVE', 'STE B202', 'HONOLULU HI', '96826-3220']\n",
      "['3265-001-007', '19921208-50', '', 'Y', 'TAN,JAIME C AND NENITA P', '', '', '', '0', '', '', 'VAC/VIC AVE F4/115 STW', '', 'ANTELOPE ACRES CA', '93536', '474', '', '', 'UNIVERSITY ST', '', 'SAN FRANCISCO CA', '94134-1628']\n",
      "['3265-015-015', '19920910-50', 'nonReapp', 'N', 'TOJINO,ERNESTO C AND', '', '', '', '0', '', '', 'VAC/110 STW(PAV)/VIC AVE H', '', 'ANTELOPE ACRES CA', '93536', '140', '', '', 'UNIVERSITY ST', '', 'SAN FRANCISCO CA', '94134-1302']\n",
      "['3265-015-015', '19900320-50', 'PartInt', 'N', 'TOJINO,ERNESTO C AND', '', '', '', '0', '', '', 'VAC/110 STW(PAV)/VIC AVE H', '', 'ANTELOPE ACRES CA', '93536', '140', '', '', 'UNIVERSITY ST', '', 'SAN FRANCISCO CA', '94134-1302']\n",
      "['3265-015-015', '19880831-50', 'PartInt', 'N', 'TOJINO,ERNESTO C AND', '', '', '', '0', '', '', 'VAC/110 STW(PAV)/VIC AVE H', '', 'ANTELOPE ACRES CA', '93536', '140', '', '', 'UNIVERSITY ST', '', 'SAN FRANCISCO CA', '94134']\n",
      "['3268-020-027', '20090915-50', '', 'Y', 'SAWAI,GARY T TR ET AL', 'GARY T SAWAI TRUST AND', 'FURUTOMO,E TR FURUTOMO TRUST', '', '0', '', '', 'VAC/70 STW/VIC AVE G14', '', 'ANTELOPE ACRES CA', '93536', '728', '', '', 'UNIVERSITY AVE', 'NO 3', 'HONOLULU HI', '96826-3125']\n",
      "['3270-003-006', '19500630-50', 'other', 'N', 'RASSP,HERMAN', '', '', '', '0', '', '', '', '', '', '', '0', '', '', '631 UNIVERSITY AVE', '', 'BURBANK CALIF', '91504']\n",
      "['3272-033-031', '19670245-50', 'other', 'N', 'RASSP,HERMAN', '', '', '', '0', '', '', '', '', '', '', '0', '', '', '631 UNIVERSITY AVE', '', 'BURBANK CALIF', '91504']\n",
      "['3272-037-019', '19670245-50', 'other', 'N', 'RASSP,HERMAN', '', '', '', '0', '', '', '', '', '', '', '0', '', '', '631 UNIVERSITY AVE', '', 'BURBANK CALIF', '91504']\n",
      "['3277-013-026', '20070306-50', 'nonReapp', 'Y', 'MCINTOSH,KATHLEEN', '', '', '', '0', '', '', 'VAC/(B12)BACHELDER/VIC 254 STW', '', 'FAIRMONT CA', '93536', '1286', '', '', 'UNIVERSITY AVE', '316', 'SAN DIEGO CA', '92103-3312']\n",
      "['3277-013-026', '20040717-50', '', 'N', 'LOEWEN,HEINZ DECD EST OF', '', '', 'KATHLEEN MC INTOSH', '0', '', '', 'VAC/(B12)BACHELDER/VIC 254 STW', '', 'FAIRMONT CA', '93536', '1286', '', '', 'UNIVERSITY AVE', '#316', 'SAN DIEGO CA', '92103-3312']\n",
      "['3277-013-032', '20070306-50', 'nonReapp', 'Y', 'MCINTOSH,KATHLEEN', '', '', '', '0', '', '', 'VAC/COR 255 STW(PAV)/(B12)BACHEL', '', 'FAIRMONT CA', '93536', '1286', '', '', 'UNIVERSITY AVE', '316', 'SAN DIEGO CA', '92103-3312']\n",
      "['3277-013-032', '20040717-50', '', 'N', 'LOEWEN,HEINZ DECD EST OF', '', '', 'KATHLEEN MC INTOSH', '0', '', '', 'VAC/COR 255 STW(PAV)/(B12)BACHEL', '', 'FAIRMONT CA', '93536', '1286', '', '', 'UNIVERSITY AVE', '#316', 'SAN DIEGO CA', '92103-3312']\n",
      "['3277-016-010', '20020510-50', '', 'Y', 'OWENS,GREG N AND LINDA S', '', '', '', '0', '', '', 'VAC/(C4)DI VINCI/VIC 254 STW', '', 'FAIRMONT CA', '93536', '837', '', '', 'UNIVERSITY AVE', '', 'BURBANK CA', '91504-3033']\n",
      "['3277-016-012', '20070712-50', '', 'Y', 'OWENS,GREGORY N AND LINDA S', '', '', '', '0', '', '', 'VAC/(255W)ELISE/VIC AVE C4', '', 'FAIRMONT CA', '93536', '837', '', '', 'UNIVERSITY AVE', '', 'BURBANK CA', '91504-3033']\n",
      "['3277-016-013', '20020221-50', '', 'Y', 'OWENS,GREG N AND LINDA S', '', '', '', '0', '', '', 'VAC/(255W)ELISE/VIC AVE C4', '', 'FAIRMONT CA', '93536', '837', '', '', 'UNIVERSITY AVE', '', 'BURBANK CA', '91504-3033']\n",
      "['3302-005-014', '19700000-50', 'other', 'Y', 'ALEXANDER,JESSE', '', '', '', '0', '', '', 'VAC/VIC AVE D12/58 STE', '', 'REDMAN CA', '93535', '500', '', '', 'UNIVERSITY AVE', 'APT 1433', 'HONOLULU HI', '96826-4938']\n",
      "['3322-031-004', '20131003-50', '', 'Y', 'AZUSA PACIFIC UNIVERSITY', '', '', '', '0', '', '', 'VAC/VIC 215 STE/VIC AVE D6', '', 'HI VISTA CA', '93535', '901', '', 'E', 'ALOSTA AVE', '', 'AZUSA CA', '91702-7000']\n",
      "['3338-005-027', '19720127-50', 'other', 'N', 'HUNKINS,FRANCIS P ET AL', '', '', 'C/O UNIVERSITY OF WASHINGTON', '0', '', '', 'VAC/COR 260 STE/AVE L6', '', 'BUTTE VALLEY CA', '93535', '18749', '', '', '62ND AVE NE', '', 'KENMORE WA', '98028-3301']\n",
      "['3338-006-003', '19861211-51', 'PartInt', 'N', 'GONZALO,BENGZON AND GILDA P AND', '', '', '', '0', '', '', 'VAC/COR AVE L8/257 STE', '', 'BUTTE VALLEY CA', '93535', '33441', '', '', 'UNIVERSITY DR', '', 'UNION CITY CA', '94587']\n",
      "['3346-009-005', '20131003-51', '', 'Y', 'AZUSA PACIFIC UNIVERSITY', '', '', 'C/O CFO', '0', '', '', 'VAC/VIC AVE M8/230 STE', '', 'BUTTE VALLEY CA', '93535', '901', '', 'E', 'ALOSTA AVE', '', 'AZUSA CA', '91702-7000']\n",
      "['3350-003-038', '19850815-50', 'nonReapp', 'Y', 'OWSTON,LINUS AND EDYTHE', '', '', '', '0', '', '', 'VAC/VIC AVE G6/183 STE', '', 'HI VISTA CA', '93535', '1755', '', '', 'UNIVERSITY DR', '', 'COLUMBIA TN', '38401-6413']\n",
      "['3378-029-012', '19890920-50', 'nonReapp', 'N', 'EHLERT,SHARON L', '', '', '', '0', '', '', 'VAC/VIC AVE L14/85 STE', '', 'ALPINE BUTTE CA', '93591', '253', '', '', 'UNIVERSITY DR', '', 'MENLO PARK CA', '94025-5221']\n",
      "['3382-015-033', '19861203-50', '', 'Y', 'NIMITKIATIKLAI,PRASIT', '', '', '', '0', '', '', 'VAC/VIC AVE G12/75 STE', '', 'ROOSEVELT CA', '93535', '2613', '', '', 'UNIVERSITY DR', '', 'DURHAM NC', '27707-2861']\n",
      "['3382-015-034', '19861203-50', '', 'Y', 'NIMITKIATIKLAI,PRASIT', '', '', '', '0', '', '', 'VAC/VIC AVE G12/76 STE', '', 'ROOSEVELT CA', '93535', '2613', '', '', 'UNIVERSITY DR', '', 'DURHAM NC', '27707-2861']\n",
      "['4004-001-003', '20121024-50', '', 'Y', 'UNIVERSITY PARK AND WATTS LLC', '', '', 'C/O PAUL OKAITYE', '3906', '', 'W', 'SLAUSON AVE', '', 'LOS ANGELES CA', '90043-2937', '2303', '', '', 'FIGUEROA WAY', '', 'LOS ANGELES CA', '90007-2504']\n",
      "['4004-001-006', '20121024-50', '', 'Y', 'UNIVERSITY PARK AND WATTS LLC', '', '', 'C/O PAUL OKAITYE', '3912', '', 'W', 'SLAUSON AVE', '', 'LOS ANGELES CA', '90043-2937', '2303', '', '', 'FIGUEROA WAY', '', 'LOS ANGELES CA', '90007-2504']\n",
      "['4004-001-028', '20121024-50', '', 'Y', 'UNIVERSITY PARK AND WATTS LLC', '', '', 'C/O PAUL OKAITYE', '3908', '', 'W', 'SLAUSON AVE', '', 'LOS ANGELES CA', '90043-2937', '2303', '', '', 'FIGUEROA WAY', '', 'LOS ANGELES CA', '90007-2504']\n",
      "['4006-010-020', '19980319-50', 'nonReapp', 'N', 'SWEENEY,ARLECIA A', '', '', '', '6405', '', '', '11TH AVE', '', 'LOS ANGELES CA', '90043-4052', '603', '', '', 'UNIVERSITY DR, STE B', '# 269', 'CARSON CA', '90746-1971']\n",
      "['4046-023-013', '19991025-50', 'nonReapp', 'Y', 'NOONE,GLORIA M TR', 'GLORIA M NOONE TRUST', '', '', '12539', '', '', 'YORK AVE', 'APT 000A', 'HAWTHORNE CA', '90250-4681', '1801', '', '', 'UNIVERSITY AVE', '#409', 'BERKELEY CA', '94703-1594']\n",
      "['4046-028-003', '20010503-50', '', 'Y', 'NORTON,BRIAN W AND CHAIL M', '', '', '', '12618', '', '', 'FREEMAN AVE', '', 'HAWTHORNE CA', '90250-4508', '5383', '', '', 'UNIVERSITY DR', '', 'SANTA BARBARA CA', '93111-1632']\n",
      "['5002-007-018', '19730206-50', 'other', 'Y', 'PETERSON,ANNA M', '', '', '', '0', '', '', '', '', '', '', '24414', '', '', 'UNIVERSITY AVE', 'SP 1', 'LOMA LINDA CA', '92354-2647']\n",
      "['5005-032-012', '20090408-50', 'nonReapp', 'Y', 'SHELTON LOVE,DEBRA TR', 'SHELTON LOVE TRUST', '', '', '5714', '', 'S', 'MANHATTAN PL', '', 'LOS ANGELES CA', '90062-2625', '601', '', '', 'UNIVERSITY DR', 'UNIT 717', 'CARSON CA', '90746']\n",
      "['5005-032-012', '20060629-50', 'nonReapp', 'N', 'SHELTON LOVE,DEBRA TR', '', '', '', '5714', '', 'S', 'MANHATTAN PL', '', 'LOS ANGELES CA', '90062-2625', '601', '', 'E', 'UNIVERSITY DR', '# 717', 'CARSON CA', '90746-1966']\n",
      "['5017-020-003', '20131231-50', 'PartInt', 'Y', 'UNIVERSITY OF SOUTHERN CALIF AND', '', 'EASON,ANGELA D', '', '4712', '', 'S', 'BUDLONG AVE', '', 'LOS ANGELES CA', '90037-2849', '360', '', 'E', '1ST ST', 'STE 949', 'TUSTIN CA', '92780-3211']\n",
      "['5020-011-014', '19990913-50', '', 'N', 'WILLINGHAM,CHALMERS DECD EST OF', '', '', '', '4248', '', '', 'VAN BUREN PL', '', 'LOS ANGELES CA', '90037-2333', '603', '', 'E', 'UNIVERSITY DR', 'PMB  307', 'CARSON CA', '90746-1966']\n",
      "['5032-017-017', '19920825-50', 'nonReapp', 'N', 'LOMA LINDA UNIVERSITY TR', '', '', '', '4175', '', '', 'MARLTON AVE', '', 'LOS ANGELES CA', '90008-3581', '3907', '', '', 'WESTSIDE AVE', '', 'LOS ANGELES CA', '90008-2629']\n",
      "['5032-017-018', '19920825-50', 'nonReapp', 'N', 'LOMA LINDA UNIVERSITY TR', '', '', '', '4179', '', '', 'MARLTON AVE', '', 'LOS ANGELES CA', '90008-3522', '3907', '', '', 'WESTSIDE AVE', '', 'LOS ANGELES CA', '90008-2629']\n",
      "['5033-020-027', '19920825-50', 'nonReapp', 'N', 'LOMA LINDA UNIVERSITY TR', '', '', '', '3907', '', '', 'WESTSIDE AVE', '', 'LOS ANGELES CA', '90008-2629', '', '', '', '', '', '', '']\n",
      "['5035-011-002', '20040401-50', 'other', 'N', 'MORGAN,ALFRED L', '', '', '', '1808', '', '', 'LEIGHTON AVE', '', 'LOS ANGELES CA', '90062-1313', '603', '', 'E', 'UNIVERSITY DR', 'PMB 148', 'CARSON CA', '90746']\n",
      "['5037-025-011', '19970207-50', '', 'Y', 'SOUTHERN CALIFORNIA ASSN OF', 'SEVENTH DAY ADVENTISTS', '', 'UNIVERSITY CHURCH', '3988', '', 'S', 'BUDLONG AVE', '', 'LOS ANGELES CA', '90037-1636', '0', '', '', 'PO BOX 969', '', 'GLENDALE CA', '91209']\n",
      "['5037-025-012', '19590925-50', 'other', 'Y', 'SO CALIF ASSN OF 7 DAY', 'ADVENTISTS UNIVERSITY CHURCH', '', '', '1135', '', 'W', 'MARTIN LUTHER KING JR BLVD', '', 'LOS ANGELES CA', '90037-1809', '1535', '', 'E', 'CHEVY CHASE DR', '', 'GLENDALE CA', '91206-4107']\n",
      "['5037-029-018', '19700402-50', 'other', 'Y', 'UNIVERSITY OF SOUTHERN CALIF', '', '', 'DEE JACKSON', '3601', '', 'S', 'FLOWER ST', '', 'LOS ANGELES CA', '90089-0069', '620', '', 'W', 'MC CARTHY WAY', 'STE 5', 'LOS ANGELES CA', '90089']\n",
      "['5037-029-020', '20000512-50', 'other', 'Y', 'UNIVERSITY OF SOUTHERN', 'CALIFORNIA', '', '', '3701', '', 'S', 'FLOWER ST', '', 'LOS ANGELES CA', '90007-4317', '830', '', '', 'CHILDS WAY', '', 'LOS ANGELES CA', '90089-0277']\n",
      "['5039-001-040', '19830721-50', '', 'Y', 'UNIVERSITY OF SOUTHERN CALIF', '', '', 'DEE JACKSON', '1170', '', 'W', '31ST ST', '', 'LOS ANGELES CA', '90007-3045', '620', '', '', 'MC CARTHY WAY', 'STE 5', 'LOS ANGELES CA', '90089-0155']\n",
      "['5039-001-060', '19780504-50', 'other', 'Y', 'UNIVERSITY OF SOUTHERN CALIF', '', '', 'DEE JACKSON', '3115', '', '', 'ORCHARD AVE', '', 'LOS ANGELES CA', '90007-3042', '620', '', '', 'MC CARTHY WAY', 'STE 5', 'LOS ANGELES CA', '90089-0155']\n",
      "['5039-002-029', '19711210-50', 'other', 'Y', 'UNIVERSITY OF SO CALIF', '', '', 'DEE JACKSON', '1012', '', 'W', '36TH ST', '', 'LOS ANGELES CA', '90007-5603', '620', '', '', 'MC CARTHY WAY', 'STE 5', 'LOS ANGELES CA', '90089-0155']\n",
      "['5039-002-030', '19711210-50', 'other', 'Y', 'UNIVERSITY OF SO CALIF', '', '', 'DEE JACKSON', '1046', '', 'W', '36TH ST', '', 'LOS ANGELES CA', '90007-5603', '620', '', '', 'MC CARTHY WAY', 'STE 5', 'LOS ANGELES CA', '90089-0155']\n",
      "['5039-002-031', '19711210-50', 'other', 'Y', 'UNIVERSITY OF SO CALIF', '', '', 'DEE JACKSON', '1027', '', 'W', '34TH ST', '', 'LOS ANGELES CA', '90089-0001', '620', '', '', 'MC CARTHY WAY', 'STE 5', 'LOS ANGELES CA', '90089-0155']\n",
      "['5039-002-032', '19711210-50', 'other', 'Y', 'UNIVERSITY OF SO CALIF', '', '', 'DEE JACKSON', '1015', '', 'W', '34TH ST', '', 'LOS ANGELES CA', '90007-3508', '620', '', '', 'MC CARTHY WAY', 'STE 5', 'LOS ANGELES CA', '90089-0155']\n",
      "['5039-002-033', '19820513-50', 'other', 'Y', 'UNIVERSITY OF SO CALIF', '', '', 'DEE JACKSON', '0', '', '', '', '', '', '', '620', '', '', 'MC CARTHY WAY', 'STE 5', 'LOS ANGELES CA', '90089-0155']\n",
      "['5039-002-034', '19711210-50', 'other', 'Y', 'UNIVERSITY OF SO CALIF', '', '', 'DEE JACKSON', '3667', '', '', 'MCCLINTOCK AVE', '', 'LOS ANGELES CA', '90089-0084', '620', '', '', 'MC CARTHY WAY', 'STE 5', 'LOS ANGELES CA', '90089-0155']\n",
      "['5039-003-027', '19711210-50', 'other', 'Y', 'UNIVERSITY OF SO CALIF', '', '', 'DEE JACKSON', '925', '', 'W', '34TH ST', '', 'LOS ANGELES CA', '90089-0058', '620', '', '', 'MC CARTHY WAY', 'STE 5', 'LOS ANGELES CA', '90089-0155']\n",
      "['5039-003-028', '20160516-50', '', 'Y', 'UNIVERSITY OF SOUTHERN', 'CALIFORNIA CORP', '', 'C/O LAURIE M STONE', '817', '', 'W', '34TH ST', '', 'LOS ANGELES CA', '90089-0079', '3335', '', 'S', 'FIGUEROA ST', 'STE G', 'LOS ANGELES CA', '90007-3841']\n",
      "['5039-003-029', '19711210-50', 'other', 'Y', 'UNIVERSITY OF SO CALIF', '', '', 'DEE JACKSON', '0', '', '', '', '', '', '', '620', '', '', 'MC CARTHY WAY', 'STE 5', 'LOS ANGELES CA', '90089-0155']\n",
      "['5039-003-030', '19820513-50', 'other', 'Y', 'UNIVERSITY OF SO CALIF', '', '', 'DEE JACKSON', '0', '', '', '', '', '', '', '620', '', '', 'MC CARTHY WAY', 'STE 5', 'LOS ANGELES CA', '90089-0155']\n",
      "['5039-012-022', '19650301-50', 'other', 'Y', 'UNIVERSITY OF SOUTHERN CALIF', '', '', 'DEE JACKSON', '901', '', '', 'EXPOSITION BLVD', '', 'LOS ANGELES CA', '90007-4009', '620', '', '', 'MC CARTHY WAY', 'STE 5', 'LOS ANGELES CA', '90089-0155']\n",
      "['5039-012-027', '19640000-50', 'other', 'Y', 'UNIVERSITY OF SO CALIF', '', '', 'DEE JACKSON', '920', '', 'W', '37TH ST', '', 'LOS ANGELES CA', '90089-0061', '620', '', 'W', 'MC CARTHY WAY', 'STE 5', 'LOS ANGELES CA', '90089']\n",
      "['5039-012-029', '19600113-50', 'other', 'Y', 'UNIVERSITY OF SO CALIF', '', '', 'DEE JACKSON', '3564', '', '', 'MCCLINTOCK AVE', '', 'LOS ANGELES CA', '90007-4032', '620', '', 'W', 'MC CARTHY WAY', 'STE 5', 'LOS ANGELES CA', '90089']\n",
      "['5039-012-030', '19650000-50', 'other', 'Y', 'UNIVERSITY OF SO CALIF', '', '', 'DEE JACKSON', '900', '', 'W', '35TH ST', '', 'LOS ANGELES CA', '90007-4001', '620', '', 'W', 'MC CARTHY WAY', 'STE 5', 'LOS ANGELES CA', '90089']\n",
      "['5039-012-031', '19650000-50', 'other', 'Y', 'UNIVERSITY OF SO CALIF', '', '', 'DEE JACKSON', '0', '', '', '', '', '', '', '620', '', 'W', 'MC CARTHY WAY', 'STE 5', 'LOS ANGELES CA', '90089']\n",
      "['5039-012-032', '19910510-50', '', 'Y', 'UNIVERSITY OF SOUTHERN CALIF', '', '', 'DEE JACKSON', '0', '', '', '', '', '', '', '620', '', '', 'MC CARTHY WAY', 'STE 5', 'LOS ANGELES CA', '90089-0155']\n",
      "['5039-012-033', '19640000-50', 'other', 'Y', 'UNIVERSITY OF SO CALIF', '', '', 'DEE JACKSON', '3730', '', '', 'MCCLINTOCK AVE', '', 'LOS ANGELES CA', '90007-4012', '620', '', 'W', 'MC CARTHY WAY', 'STE 5', 'LOS ANGELES CA', '90089']\n",
      "['5039-019-042', '19810522-50', 'other', 'Y', 'UNIVERSITY OF SOUTHERN CALIF', '', '', 'DEE JACKSON', '1102', '', 'W', '30TH ST', '', 'LOS ANGELES CA', '90007-3146', '620', '', '', 'MC CARTHY WAY', 'STE 5', 'LOS ANGELES CA', '90089-0155']\n",
      "['5039-019-043', '19810522-50', 'other', 'Y', 'UNIVERSITY OF SOUTHERN CALIF', '', '', 'DEE JACKSON', '1096', '', 'W', '30TH ST', '', 'LOS ANGELES CA', '90007-3141', '620', '', '', 'MC CARTHY WAY', 'STE 5', 'LOS ANGELES CA', '90089-0155']\n",
      "['5039-019-044', '19810522-50', 'other', 'Y', 'UNIVERSITY OF SOUTHERN CALIF', '', '', 'DEE JACKSON', '1090', '', 'W', '30TH ST', '', 'LOS ANGELES CA', '90007-3141', '620', '', '', 'MC CARTHY WAY', 'STE 5', 'LOS ANGELES CA', '90089-0155']\n",
      "['5039-019-051', '19760818-50', 'other', 'Y', 'UNIVERSITY OF SO CALIF', '', '', 'DEE JACKSON', '3131', '', '', 'MCCLINTOCK AVE', '', 'LOS ANGELES CA', '90007-3560', '620', '', '', 'MC CARTHY WAY', 'STE 5', 'LOS ANGELES CA', '90089-0155']\n",
      "['5039-020-035', '19990825-50', 'other', 'Y', 'UNIVERSITY OF SOUTHERN CALIF', '', '', 'DEE JACKSON', '0', '', '', '', '', '', '', '620', '', '', 'MC CARTHY WAY', 'STE 5', 'LOS ANGELES CA', '90089-0155']\n",
      "['5039-020-036', '20150702-50', '', 'Y', 'UNIVERSITY OF SOUTHERN CALIF', '', '', 'C/O DAVID AGHAEI', '0', '', '', '', '', '', '', '3335', '', 'S', 'FIGUEROA ST', 'STE G', 'LOS ANGELES CA', '90007-3841']\n",
      "['5039-020-037', '20151210-50', '', 'Y', 'UNIVERSITY OF SOUTHERN CALIF', '', '', 'C/O DAVID AGHAEI', '0', '', '', '', '', '', '', '3335', '', 'S', 'FIGUEROA ST', 'STE G', 'LOS ANGELES CA', '90007-3840']\n",
      "['5039-024-016', '19831116-50', 'other', 'Y', 'UNIVERSITY OF SO CALIF', '', '', 'DEE JACKSON', '3441', '', '', 'UNIVERSITY AVE', '', 'LOS ANGELES CA', '90007-3504', '620', '', '', 'MC CARTHY WAY', 'STE 5', 'LOS ANGELES CA', '90089-0155']\n",
      "['5040-003-022', '20151019-50', 'nonReapp', 'Y', 'UNIVERSITY INN LLC', '', '', '', '1480', '', 'W', 'JEFFERSON BLVD', '', 'LOS ANGELES CA', '90007-3421', '3027', '', 'S', 'VERMONT AVE', '', 'LOS ANGELES CA', '90007-3033']\n",
      "['5040-003-023', '20151019-50', 'nonReapp', 'Y', 'UNIVERSITY INN LLC', '', '', '', '1478', '', 'W', 'JEFFERSON BLVD', '', 'LOS ANGELES CA', '90007-3421', '3027', '', 'S', 'VERMONT AVE', '', 'LOS ANGELES CA', '90007-3033']\n",
      "['5040-028-027', '20001226-50', '', 'Y', 'CBG UNIVERSITY GARDENS L P', '', '', '', '1250', '', 'W', 'JEFFERSON BLVD', '', 'LOS ANGELES CA', '90007-2924', '1028', '', 'N', 'LAKE AVE', 'STE 207', 'PASADENA CA', '91104-4570']\n",
      "['5043-007-003', '20160121-50', '', 'Y', 'AMMADAMS LLC', '', '', '', '5360', '', 'W', 'ADAMS BLVD', '', 'LOS ANGELES CA', '90016-2645', '1286', '', '', 'UNIVERSITY AVE', 'STE 338', 'SAN DIEGO CA', '92103-3392']\n",
      "['5055-008-028', '19881005-50', 'other', 'N', 'MENLO NORTH UNIVERSITY PARK', '', '', '', '2806', '', '', 'MENLO AVE', '', 'LOS ANGELES CA', '90007-2220', '2714', '', '', 'DURFEE AVE', '', 'EL MONTE CA', '91732-3416']\n",
      "['5055-008-029', '19900108-50', 'nonReapp', 'N', 'MENLO NORTH UNIVERSITY PARK', '', '', '', '2816', '', '', 'MENLO AVE', '', 'LOS ANGELES CA', '90007-2271', '2714', '', '', 'DURFEE AVE', 'NO A', 'EL MONTE CA', '91732-3416']\n",
      "['5055-012-001', '19970729-50', 'nonReapp', 'Y', 'UNIVERSITY OF SOUTHERN', 'CALIFORNIA', '', 'DEE JACKSON', '2801', '', '', 'ORCHARD AVE', '', 'LOS ANGELES CA', '90007-2373', '620', '', '', 'MC CARTHY WAY', 'STE 5', 'LOS ANGELES CA', '90089-0155']\n",
      "['5055-012-001', '19950112-50', '', 'N', 'UNIVERSITY OF SOUTHERN', '', '', '', '2801', '', '', 'ORCHARD AVE', '', 'LOS ANGELES CA', '90007-2373', '0', '', '', 'UNIVERSITY PARK FNS 315', '', 'LOS ANGELES CA', '90089']\n",
      "['5055-012-019', '19790522-50', 'other', 'Y', 'UNIVERSITY OF SO CALIF', '', '', 'DEE JACKSON', '1275', '', 'W', '29TH ST', '', 'LOS ANGELES CA', '90007-3180', '620', '', '', 'MC CARTHY WAY', 'STE 5', 'LOS ANGELES CA', '90089-0155']\n",
      "['5055-014-025', '20010220-50', '', 'Y', 'UNIVERSITY HOUSING ADAMS LLC', '', '', '', '1238', '', 'W', 'ADAMS BLVD', '', 'LOS ANGELES CA', '90007-1783', '1114', '', 'W', 'BLOOMWOOD RD', '', 'RANCHO PALOS VERDES CA', '90275-1902']\n",
      "['5055-024-009', '19941229-50', '', 'Y', 'UNIVERSITY OF SOUTHERN', 'CALIFORNIA', '', 'DEE JACKSON', '2653', '', 'S', 'HOOVER ST', '', 'LOS ANGELES CA', '90007-2438', '620', '', '', 'MC CARTHY WAY', 'STE 5', 'LOS ANGELES CA', '90089-0155']\n",
      "['5055-026-031', '19790115-50', 'other', 'Y', 'UNIVERSITY OF SOUTHERN CALIF', '', '', 'DEE JACKSON', '1219', '', 'W', '27TH ST', '', 'LOS ANGELES CA', '90007-2377', '620', '', '', 'MC CARTHY WAY', 'STE 5', 'LOS ANGELES CA', '90089-0155']\n",
      "['5055-027-001', '19830601-50', 'other', 'Y', 'UNIVERSITY OF SOUTHERN', 'CALIFORNIA', '', 'DEE JACKSON', '1101', '', 'W', '28TH ST', '', 'LOS ANGELES CA', '90007-2388', '620', '', '', 'MC CARTHY WAY', 'STE 5', 'LOS ANGELES CA', '90089-0155']\n",
      "['5055-027-002', '19830601-50', 'other', 'Y', 'UNIVERSITY OF SOUTHERN', 'CALIFORNIA', '', 'DEE JACKSON', '2725', '', 'S', 'HOOVER ST', '', 'LOS ANGELES CA', '90007-4819', '620', '', '', 'MC CARTHY WAY', 'STE 5', 'LOS ANGELES CA', '90089-0155']\n",
      "['5055-027-003', '19830601-50', 'other', 'Y', 'UNIVERSITY OF SOUTHERN', 'CALIFORNIA', '', 'DEE JACKSON', '2715', '', 'S', 'HOOVER ST', '', 'LOS ANGELES CA', '90007-4829', '620', '', '', 'MC CARTHY WAY', 'STE 5', 'LOS ANGELES CA', '90089-0155']\n",
      "['5055-027-022', '19860611-50', '', 'Y', 'UNIVERSITY OF SOUTHERN CA', '', '', 'DEE JACKSON', '1149', '', 'E', '28TH ST', '', 'LOS ANGELES CA', '90011-2159', '620', '', '', 'MC CARTHY WAY', 'STE 5', 'LOS ANGELES CA', '90089-0155']\n",
      "['5055-027-030', '20050309-50', '', 'Y', 'UNIVERSITY HOUSING 28TH STREET', 'LLC', '', '', '1211', '', 'W', '28TH ST', '', 'LOS ANGELES CA', '90007-2379', '30227', '', '', 'VIA BORICA', '', 'RANCHO PALOS VERDES CA', '90275-4413']\n",
      "['5055-028-001', '20091230-50', '', 'Y', 'UNIVERSITY OF SOUTHERN', 'CALIFORNIA', '', '', '2827', '', 'S', 'HOOVER ST', '', 'LOS ANGELES CA', '90007-2475', '3500', '', 'S', 'FIGUEROA ST', 'STE 202', 'LOS ANGELES CA', '90089-8009']\n",
      "['5055-028-004', '19941229-50', '', 'Y', 'UNIVERSITY OF SOUTHERN', 'CALIFORNIA', '', 'DEE JACKSON', '2801', '', 'S', 'HOOVER ST', '', 'LOS ANGELES CA', '90089-7900', '620', '', '', 'MC CARTHY WAY', 'STE 5', 'LOS ANGELES CA', '90089-0155']\n",
      "['5055-028-005', '19941229-50', '', 'Y', 'UNIVERSITY OF SOUTHERN', 'CALIFORNIA', '', 'DEE JACKSON', '1114', '', 'W', '28TH ST', '', 'LOS ANGELES CA', '90007-2336', '620', '', '', 'MC CARTHY WAY', 'STE 5', 'LOS ANGELES CA', '90089-0155']\n",
      "['5055-028-034', '19780801-50', 'other', 'Y', 'UNIVERSITY OF SOUTHERN CALIF', '', '', 'DEE JACKSON', '1220', '', 'W', '28TH ST', '', 'LOS ANGELES CA', '90007-2380', '620', '', '', 'MC CARTHY WAY', 'STE 5', 'LOS ANGELES CA', '90089-0155']\n",
      "['5055-028-042', '19970416-50', 'other', 'Y', 'UNIVERSITY PARK ASSOCIATES', '', '', 'OMER M ALI', '2816', '', '', 'ORCHARD AVE', '', 'LOS ANGELES CA', '90007-2362', '1221', '', 'W', '29TH ST', 'APT 210', 'LOS ANGELES CA', '90007-6103']\n",
      "['5055-029-019', '19860611-50', '', 'Y', 'UNIVERSITY OF SOUTHERN CALIF', '', '', 'DEE JACKSON', '1144', '', 'W', '29TH ST', '', 'LOS ANGELES CA', '90007-3116', '620', '', '', 'MC CARTHY WAY', 'STE 5', 'LOS ANGELES CA', '90089-0155']\n",
      "['5055-029-020', '19860114-50', '', 'Y', 'UNIVERSITY OF SOUTHERN CA', '', '', 'DEE JACKSON', '1138', '', 'W', '29TH ST', '', 'LOS ANGELES CA', '90007-3115', '620', '', '', 'MC CARTHY WAY', 'STE 5', 'LOS ANGELES CA', '90089-0155']\n",
      "['5055-029-021', '19860114-50', '', 'Y', 'UNIVERSITY OF SOUTHERN CA', '', '', 'DEE JACKSON', '1124', '', 'W', '29TH ST', '', 'LOS ANGELES CA', '90007-3114', '620', '', '', 'MC CARTHY WAY', 'STE 5', 'LOS ANGELES CA', '90089-0155']\n",
      "['5058-005-900', '19670245-50', 'other', 'Y', 'REGENTS OF THE UNIVERSITY', 'OF CALIF', '', '', '2160', '', 'W', '25TH ST', '', 'LOS ANGELES CA', '90018-1935', '1111', '', '', 'FRANKLIN ST', '6TH  FLR', 'OAKLAND CA', '94607-5201']\n",
      "['5073-026-046', '20150122-50', '', 'Y', 'BETHESDA UNIVERSITY', '', '', '', '2116', '', '', 'ARLINGTON AVE', '', 'LOS ANGELES CA', '90018-1336', '730', '', 'N', 'EUCLID ST', '', 'ANAHEIM CA', '92801-4115']\n",
      "['5073-027-037', '20150122-50', '', 'Y', 'BETHESDA UNIVERSITY', '', '', '', '0', '', '', '', '', '', '', '730', '', 'N', 'EUCLID ST', '', 'ANAHEIM CA', '92801-4115']\n",
      "['5077-002-020', '20120912-50', 'nonReapp', 'Y', 'DONGGUK UNIVERSITY LOS ANGELES', '', '', '', '446', '', '', 'SHATTO PL', '', 'LOS ANGELES CA', '90020-1704', '440', '', '', 'SHATTO PL', '', 'LOS ANGELES CA', '90020-1793']\n",
      "['5077-002-020', '19980415-50', 'PartInt', 'N', 'DONGGUK ROYAL UNIVERSITY', '', '', '', '446', '', '', 'SHATTO PL', '', 'LOS ANGELES CA', '90020-1704', '440', '', '', 'SHATTO PL', '', 'LOS ANGELES CA', '90020-1793']\n",
      "['5077-002-020', '19970627-50', '', 'N', 'DONGGUK ROYAL UNIVERSITY AND', '', '', '', '446', '', '', 'SHATTO PL', '', 'LOS ANGELES CA', '90020-1704', '1125', '', 'W', '6TH ST', '', 'LOS ANGELES CA', '90017-1811']\n",
      "['5077-002-029', '20120912-50', 'nonReapp', 'Y', 'DONGGUK UNIVERSITY LOS ANGELES', '', '', '', '440', '', '', 'SHATTO PL', '', 'LOS ANGELES CA', '90020-1793', '', '', '', '', '', '', '']\n",
      "['5077-002-029', '19980415-50', 'PartInt', 'N', 'DONGGUK ROYAL UNIVERSITY', '', '', '', '440', '', '', 'SHATTO PL', '', 'LOS ANGELES CA', '90020-1793', '', '', '', '', '', '', '']\n",
      "['5077-002-029', '19970627-50', '', 'N', 'DONGGUK ROYAL UNIVERSITY AND', '', '', '', '440', '', '', 'SHATTO PL', '', 'LOS ANGELES CA', '90020-1793', '1125', '', 'W', '6TH ST', '', 'LOS ANGELES CA', '90017-1811']\n",
      "['5077-004-017', '20030106-50', '', 'Y', 'WORLD MISSION UNIVERSITY', '', '', '', '511', '', 'S', 'WESTMORELAND AVE', '', 'LOS ANGELES CA', '90020-1509', '500', '', '', 'SHATTO PL', '', 'LOS ANGELES CA', '90020-1713']\n",
      "['5077-004-026', '20030106-50', '', 'Y', 'WORLD MISSION UNIVERSITY', '', '', '', '500', '', '', 'SHATTO PL', '', 'LOS ANGELES CA', '90020-1713', '', '', '', '', '', '', '']\n",
      "['5077-011-007', '19900511-75', '', 'Y', 'SOUTHWESTERN UNIVERSITY', '', '', 'C/O CHIEF FINANCIAL OFFICER', '688', '', '', 'SHATTO PL', '', 'LOS ANGELES CA', '90005-1360', '3050', '', '', 'WILSHIRE BLVD', '', 'LOS ANGELES CA', '90010-1106']\n",
      "['5077-011-008', '19890822-50', '', 'Y', 'SOUTHWESTERN UNIVERSITY', '', '', 'C/O CHIEF FINANCIAL OFFICER', '682', '', '', 'SHATTO PL', '', 'LOS ANGELES CA', '90005-1304', '675', '', 'S', 'WESTMORELAND AVE', '', 'LOS ANGELES CA', '90005-3905']\n",
      "['5077-011-010', '19990610-50', '', 'Y', 'SOUTHWESTERN UNIVERSITY', '', '', 'C/O CHIEF FINANCIAL OFFICER', '670', '', '', 'SHATTO PL', '', 'LOS ANGELES CA', '90005-1357', '675', '', 'S', 'WESTMORELAND AVE', '', 'LOS ANGELES CA', '90005-3905']\n",
      "['5077-011-011', '20000518-50', '', 'Y', 'SOUTHWESTERN UNIVERSITY', '', '', 'C/O CHIEF FINANCIAL OFFICER', '666', '', '', 'SHATTO PL', '', 'LOS ANGELES CA', '90005-1356', '675', '', 'S', 'WESTMORELAND AVE', '', 'LOS ANGELES CA', '90005-3905']\n",
      "['5077-011-021', '19940617-50', 'other', 'Y', 'SOUTHWESTERN UNIVERSITY', '', '', 'C/O CHIEF FINANCIAL OFFICER', '0', '', '', '', '', '', '', '675', '', 'S', 'WESTMORELAND AVE', '', 'LOS ANGELES CA', '90005-3905']\n",
      "['5077-011-025', '20020207-50', 'other', 'Y', 'SOUTHWESTERN UNIVERSITY', '', '', '', '3041', '', 'W', '7TH ST', '', 'LOS ANGELES CA', '90005-1453', '675', '', 'S', 'WESTMORELAND AVE', '', 'LOS ANGELES CA', '90005-3992']\n",
      "['5077-011-026', '20020207-50', 'other', 'Y', 'SOUTHWESTERN UNIVERSITY', '', '', '', '3050', '', '', 'WILSHIRE BLVD', '', 'LOS ANGELES CA', '90010-1106', '675', '', 'S', 'WESTMORELAND AVE', '', 'LOS ANGELES CA', '90005-3992']\n",
      "['5077-017-003', '19880415-50', '', 'Y', 'SOUTHWESTERN UNIVERSITY', '', '', 'C/O CHIEF FINANCIAL OFFICER', '3028', '', 'W', '7TH ST', '', 'LOS ANGELES CA', '90005-1452', '675', '', 'S', 'WESTMORELAND AVE', '', 'LOS ANGELES CA', '90005-3905']\n",
      "['5078-002-020', '20140701-50', 'nonReapp', 'Y', 'KANG,MIN H AND WOL SOON AND', '', 'KANG,JOHN D', '', '966', '', 'S', 'NORMANDIE AVE', '', 'LOS ANGELES CA', '90006-1310', '643', '', '', 'UNIVERSITY AVE', '', 'BURBANK CA', '91504-3924']\n",
      "['5078-002-020', '20140214-50', '', 'N', 'KANG,WOL SOON', '', '', '', '966', '', 'S', 'NORMANDIE AVE', '', 'LOS ANGELES CA', '90006-1310', '643', '', '', 'UNIVERSITY AVE', '', 'BURBANK CA', '91504-3924']\n",
      "['5082-019-025', '20151022-50', '', 'Y', 'MNJ KEY CORPORATION', '', '', '', '1043', '', 'S', 'PLYMOUTH BLVD', '', 'LOS ANGELES CA', '90019-6853', '1294', '', '', 'UNIVERSITY AVE', '', 'SAN DIEGO CA', '92103-3312']\n",
      "['5082-019-026', '20151022-50', '', 'Y', 'MNJ KEY CORPORATION', '', '', '', '1037', '', 'S', 'PLYMOUTH BLVD', '', 'LOS ANGELES CA', '90019-6853', '1294', '', '', 'UNIVERSITY AVE', '', 'SAN DIEGO CA', '92103-3312']\n",
      "['5094-023-014', '20150701-50', '', 'Y', 'WORLD MISSION UNIVERSITY', '', '', 'C/O JOHN M SONG', '922', '', '', 'FEDORA ST', 'APT 0001', 'LOS ANGELES CA', '90006-1436', '500', '', '', 'SHATTO PL', 'STE 600', 'LOS ANGELES CA', '90020-1789']\n",
      "['5122-021-010', '19840232-50', '', 'Y', 'UNIVERSITY OF SOUTHERN', 'CALIFORNIA', '', 'DEE JACKSON', '0', '', '', '', '', '', '', '620', '', '', 'MC CARTHY WAY', 'STE 5', 'LOS ANGELES CA', '90089-0155']\n",
      "['5122-021-011', '19900503-50', 'other', 'Y', 'UNIVERSITY OF SOUTHERN CALIF', '', '', 'DEE JACKSON', '3401', '', 'S', 'GRAND AVE', '', 'LOS ANGELES CA', '90007-4314', '620', '', 'W', 'MC CARTHY WAY', 'STE 5', 'LOS ANGELES CA', '90089']\n",
      "['5122-022-002', '19890418-50', 'other', 'Y', 'UNIVERSITY OF SOUTHERN CA', '', '', 'DEE JACKSON', '3500', '', 'S', 'HOPE ST', '', 'LOS ANGELES CA', '90007-4342', '620', '', '', 'MC CARTHY WAY', 'STE 5', 'LOS ANGELES CA', '90089-0155']\n",
      "['5122-025-004', '19730201-50', 'other', 'Y', 'UNIVERSITY OF SOUTHERN CALIF', '', '', 'DEE JACKSON', '3731', '', 'S', 'GRAND AVE', '', 'LOS ANGELES CA', '90007-4332', '620', '', '', 'MC CARTHY WAY', 'STE 5', 'LOS ANGELES CA', '90089-0155']\n",
      "['5122-025-005', '19730201-50', 'other', 'Y', 'UNIVERSITY OF SOUTHERN CALIF', '', '', 'DEE JACKSON', '3725', '', 'S', 'GRAND AVE', '', 'LOS ANGELES CA', '90007-4332', '620', '', '', 'MC CARTHY WAY', 'STE 5', 'LOS ANGELES CA', '90089-0155']\n",
      "['5122-025-006', '19640929-50', 'other', 'Y', 'UNIVERSITY OF SO CALIF', '', '', 'DEE JACKSON', '3711', '', 'S', 'GRAND AVE', '', 'LOS ANGELES CA', '90007-4332', '620', '', '', 'MC CARTHY WAY', 'STE 5', 'LOS ANGELES CA', '90089-0155']\n",
      "['5122-025-010', '19640929-50', 'other', 'Y', 'UNIVERSITY OF SO CALIF', '', '', 'DEE JACKSON', '3706', '', 'S', 'HOPE ST', '', 'LOS ANGELES CA', '90007-4344', '620', '', '', 'MC CARTHY WAY', 'STE 5', 'LOS ANGELES CA', '90089-0155']\n",
      "['5122-025-011', '19690722-50', 'other', 'Y', 'UNIVERSITY OF SOUTHERN CALIF', '', '', 'DEE JACKSON', '3710', '', 'S', 'HOPE ST', '', 'LOS ANGELES CA', '90007-4344', '620', '', '', 'MC CARTHY WAY', 'STE 5', 'LOS ANGELES CA', '90089-0155']\n",
      "['5122-025-012', '19640929-50', 'other', 'Y', 'UNIVERSITY OF SO CALIF', '', '', 'DEE JACKSON', '3714', '', 'S', 'HOPE ST', '', 'LOS ANGELES CA', '90007-4344', '620', '', '', 'MC CARTHY WAY', 'STE 5', 'LOS ANGELES CA', '90089-0155']\n",
      "['5122-025-013', '19640929-50', 'other', 'Y', 'UNIVERSITY OF SO CALIF', '', '', 'DEE JACKSON', '3718', '', 'S', 'HOPE ST', '', 'LOS ANGELES CA', '90007-4344', '620', '', '', 'MC CARTHY WAY', 'STE 5', 'LOS ANGELES CA', '90089-0155']\n",
      "['5122-025-014', '19721201-50', 'other', 'Y', 'UNIVERSITY OF', 'SOUTHERN CALIFORNIA', '', 'DEE JACKSON', '3716', '', 'S', 'HOPE ST', '', 'LOS ANGELES CA', '90007-4344', '620', '', '', 'MC CARTHY WAY', 'STE 5', 'LOS ANGELES CA', '90089-0155']\n",
      "['5122-025-025', '19940907-50', '', 'Y', 'UNIVERSITY OF SOUTHERN CALIF', '', '', 'DEE JACKSON', '3700', '', 'S', 'HOPE ST', '', 'LOS ANGELES CA', '90007-4344', '620', '', '', 'MC CARTHY WAY', 'STE 5', 'LOS ANGELES CA', '90089-0155']\n",
      "['5122-030-020', '20021126-50', '', 'Y', 'UNIVERSITY OF SOUTHERN', 'CALIFORNIA', '', 'DEE JACKSON', '3442', '', 'S', 'GRAND AVE', '', 'LOS ANGELES CA', '90007-4326', '620', '', '', 'MC CARTHY WAY', 'STE 5', 'LOS ANGELES CA', '90089-0155']\n",
      "['5123-001-400', '19941229-50', '', 'Y', 'UNIVERSITY OF SOUTHERN', 'CALIFORNIA', '', 'DEE JACKSON', '2629', '', '', 'PORTLAND ST', '', 'LOS ANGELES CA', '90007-2471', '620', '', '', 'MC CARTHY WAY', 'STE 5', 'LOS ANGELES CA', '90089-0155']\n",
      "['5123-001-401', '19750228-50', 'other', 'Y', 'UNIVERSITY OF SOUTHERN CALIF', '', '', 'DEE JACKSON', '2635', '', '', 'PORTLAND ST', '', 'LOS ANGELES CA', '90007-2403', '620', '', '', 'MC CARTHY WAY', 'STE 5', 'LOS ANGELES CA', '90089-0155']\n",
      "['5123-001-404', '19760514-50', 'other', 'Y', 'UNIVERSITY OF SOUTHERN CALIF', '', '', 'DEE JACKSON', '2718', '', 'S', 'HOOVER ST', '', 'LOS ANGELES CA', '90007-2439', '620', '', '', 'MC CARTHY WAY', 'STE 5', 'LOS ANGELES CA', '90089-0155']\n",
      "['5123-001-407', '19760514-50', 'other', 'Y', 'UNIVERSITY OF SOUTHERN CALIF', '', '', '', '0', '', '', '', '', '', '', '830', '', '', 'CHILDS WAY', 'STE 5', 'LOS ANGELES CA', '90089-0277']\n",
      "['5123-001-408', '19760514-50', 'other', 'Y', 'UNIVERSITY OF SOUTHERN CALIF', '', '', 'DEE JACKSON', '2600', '', 'S', 'HOOVER ST', '', 'LOS ANGELES CA', '90007-2470', '620', '', '', 'MC CARTHY WAY', 'STE 5', 'LOS ANGELES CA', '90089-0155']\n",
      "['5123-002-001', '19941229-50', 'nonReapp', 'Y', 'UNIVERSITY OF SOUTHERN CALIF', '', '', 'DEE JACKSON', '870', '', 'W', 'ADAMS BLVD', '', 'LOS ANGELES CA', '90007-2564', '620', '', '', 'MC CARTHY WAY', 'STE 5', 'LOS ANGELES CA', '90089-0155']\n",
      "['5123-002-001', '19880630-50', 'nonReapp', 'N', 'USC REAL ESTATE DEV CORP', '', '', '', '870', '', 'W', 'ADAMS BLVD', '', 'LOS ANGELES CA', '90007-2564', '0', '', '', 'UNIVERSITY PARK HSH 315', '', 'LOS ANGELES CA', '90089']\n",
      "['5123-002-001', '19750821-50', 'other', 'N', 'UNIVERSITY OF SOUTHERN', '', '', 'C/O MICHAEL M PRESTON', '870', '', 'W', 'ADAMS BLVD', '', 'LOS ANGELES CA', '90007-2564', '0', '', '', 'UNIVERSITY PARK MC 0588', '', 'LOS ANGELES CA', '90089']\n",
      "['5123-002-021', '19750324-50', 'other', 'Y', 'UNIVERSITY OF SOUTHERN CALIF', '', '', 'DEE JACKSON', '2610', '', '', 'PORTLAND ST', '', 'LOS ANGELES CA', '90007-2472', '620', '', '', 'MC CARTHY WAY', 'STE 5', 'LOS ANGELES CA', '90089-0155']\n",
      "['5123-002-022', '19750821-50', 'other', 'Y', 'UNIVERSITY OF SOUTHERN CALIF', '', '', '', '2605', '', '', 'SEVERANCE ST', '', 'LOS ANGELES CA', '90007-2558', '830', '', '', 'CHILDS WAY', 'STE 5', 'LOS ANGELES CA', '90089-0277']\n",
      "['5123-002-401', '19790808-50', 'other', 'Y', 'UNIVERSITY OF SOUTHERN CALIF', '', '', '', '2637', '', '', 'SEVERANCE ST', '', 'LOS ANGELES CA', '90007-2560', '620', '', '', 'MC CARTHY WAY', 'STE 5', 'LOS ANGELES CA', '90089-0155']\n",
      "['5123-002-402', '19850614-50', 'other', 'Y', 'UNIVERSITY OF SOUTHERN CALIF', '', '', '', '2701', '', '', 'SEVERANCE ST', '', 'LOS ANGELES CA', '90007-2561', '620', '', '', 'MC CARTHY WAY', 'STE 5', 'LOS ANGELES CA', '90089-0155']\n",
      "['5123-002-406', '19800701-50', 'other', 'Y', 'UNIVERSITY OF SOUTHERN CALIF', '', '', '', '2636', '', '', 'PORTLAND ST', '', 'LOS ANGELES CA', '90007-2400', '620', '', 'W', 'MC CARTHY WAY', 'STE 5', 'LOS ANGELES CA', '90089-0277']\n",
      "['5123-002-407', '19790813-50', 'other', 'Y', 'UNIVERSITY OF SOUTHERN CALIF', '', '', '', '2638', '', '', 'PORTLAND ST', '', 'LOS ANGELES CA', '90007-2487', '620', '', '', 'MC CARTHY WAY', 'STE 5', 'LOS ANGELES CA', '90089-0155']\n",
      "['5123-002-408', '19790813-50', 'other', 'Y', 'UNIVERSITY OF SOUTHERN CALIF', '', '', '', '0', '', '', '', '', '', '', '620', '', '', 'MC CARTHY WAY', 'STE 5', 'LOS ANGELES CA', '90089-0155']\n",
      "['5123-002-409', '19630206-50', 'other', 'Y', 'UNIVERSITY OF SOUTHERN CALIF', '', '', '', '2714', '', '', 'PORTLAND ST', '', 'LOS ANGELES CA', '90007-2428', '620', '', '', 'MC CARTHY WAY', 'STE 5', 'LOS ANGELES CA', '90089-0155']\n",
      "['5123-003-414', '19941229-50', '', 'Y', 'UNIVERSITY OF SOUTHERN', 'CALIFORNIA', '', '', '2630', '', '', 'SEVERANCE ST', '', 'LOS ANGELES CA', '90007-2500', '830', '', '', 'CHILDS WAY', 'STE 5', 'LOS ANGELES CA', '90089-0277']\n",
      "['5123-003-415', '19850117-50', 'other', 'Y', 'UNIVERSITY OF SOUTHERN CALIF', '', '', '', '2716', '', '', 'SEVERANCE ST', '', 'LOS ANGELES CA', '90089-8200', '620', '', '', 'MC CARTHY WAY', 'STE 5', 'LOS ANGELES CA', '90089-0155']\n",
      "['5123-004-403', '19641112-50', 'other', 'Y', 'UNIVERSITY OF SO CALIF', '', '', 'DEE JACKSON', '914', '', 'W', '28TH ST', '', 'LOS ANGELES CA', '90007-2434', '620', '', '', 'MC CARTHY WAY', 'STE 5', 'LOS ANGELES CA', '90089-0155']\n",
      "['5123-004-411', '19830110-50', 'other', 'Y', 'UNIVERSITY OF SO CALIF', '', '', 'DEE JACKSON', '921', '', 'W', '30TH ST', '', 'LOS ANGELES CA', '90007-2402', '620', '', '', 'MC CARTHY WAY', 'STE 5', 'LOS ANGELES CA', '90089-0155']\n",
      "['5123-004-414', '19940211-50', '', 'Y', 'UNIVERSITY OF', 'SOUTHERN CALIFORNIA', '', 'DEE JACKSON', '2891', '', '', 'UNIVERSITY AVE', '', 'LOS ANGELES CA', '90007-3715', '620', '', '', 'MC CARTHY WAY', 'STE 5', 'LOS ANGELES CA', '90089-0155']\n",
      "['5123-004-415', '19940211-50', '', 'Y', 'UNIVERSITY OF', 'SOUTHERN CALIFORNIA', '', 'DEE JACKSON', '2821', '', '', 'UNIVERSITY AVE', '', 'LOS ANGELES CA', '90007-3715', '620', '', '', 'MC CARTHY WAY', 'STE 5', 'LOS ANGELES CA', '90089-0155']\n",
      "['5123-004-419', '20011108-50', '', 'Y', 'UNIVERSITY OF SOUTHERN CALIF', '', '', 'DEE JACKSON', '2992', '', 'S', 'HOOVER ST', '101', 'LOS ANGELES CA', '90007-2452', '620', '', '', 'MC CARTHY WAY', 'STE 5', 'LOS ANGELES CA', '90089-0155']\n",
      "['5123-004-420', '19991207-50', '', 'Y', 'UNIVERSITY OF SOUTHERN', 'CALIFORNIA', '', 'DEE JACKSON', '2994', '', 'S', 'HOOVER ST', '102', 'LOS ANGELES CA', '90007-2452', '620', '', '', 'MC CARTHY WAY', 'STE 5', 'LOS ANGELES CA', '90089-0155']\n",
      "['5123-004-421', '20031216-50', '', 'Y', 'UNIVERSITY OF SOUTHERN CAL', '', '', 'DEE JACKSON', '2996', '', 'S', 'HOOVER ST', '103', 'LOS ANGELES CA', '90007-2452', '620', '', '', 'MC CARTHY WAY', 'STE 5', 'LOS ANGELES CA', '90089-0155']\n",
      "['5123-004-422', '20031216-50', '', 'Y', 'UNIVERSITY OF SOUTHERN CAL', '', '', 'DEE JACKSON', '2998', '', 'S', 'HOOVER ST', '104', 'LOS ANGELES CA', '90007-2452', '620', '', '', 'MC CARTHY WAY', 'STE 5', 'LOS ANGELES CA', '90089-0155']\n",
      "['5123-004-423', '20031216-50', '', 'Y', 'UNIVERSITY OF SOUTHERN CAL', '', '', 'DEE JACKSON', '963', '', 'W', '30TH ST', '105', 'LOS ANGELES CA', '90007-4804', '620', '', '', 'MC CARTHY WAY', 'STE 5', 'LOS ANGELES CA', '90089-0155']\n",
      "['5123-004-424', '19970918-50', '', 'Y', 'UNIVERSITY OF SOUTHERN CALIF', '', '', 'DEE JACKSON', '961', '', 'W', '30TH ST', '106', 'LOS ANGELES CA', '90007-4804', '620', '', '', 'MC CARTHY WAY', 'STE 5', 'LOS ANGELES CA', '90089-0155']\n",
      "['5123-004-425', '20031216-50', '', 'Y', 'UNIVERSITY OF SOUTHERN CAL', '', '', 'DEE JACKSON', '959', '', 'W', '30TH ST', '107', 'LOS ANGELES CA', '90007-4804', '620', '', '', 'MC CARTHY WAY', 'STE 5', 'LOS ANGELES CA', '90089-0155']\n",
      "['5123-004-426', '20000120-50', '', 'Y', 'UNIVERSITY OF SOUTHERN CALIFORNI', 'A', '', 'DEE JACKSON', '957', '', 'W', '30TH ST', '108', 'LOS ANGELES CA', '90007-2402', '620', '', 'W', 'MC CARTHY WAY', 'STE 5', 'LOS ANGELES CA', '90089']\n",
      "['5123-004-427', '20031216-50', '', 'Y', 'UNIVERSITY OF SOUTHERN CAL', '', '', 'DEE JACKSON', '955', '', 'W', '30TH ST', '110', 'LOS ANGELES CA', '90007-2402', '620', '', '', 'MC CARTHY WAY', 'STE 5', 'LOS ANGELES CA', '90089-0155']\n",
      "['5123-004-428', '20031216-50', '', 'Y', 'UNIVERSITY OF SOUTHERN CAL', '', '', 'DEE JACKSON', '953', '', 'W', '30TH ST', '110', 'LOS ANGELES CA', '90007-2402', '620', '', '', 'MC CARTHY WAY', 'STE 5', 'LOS ANGELES CA', '90089-0155']\n",
      "['5123-004-429', '19940516-50', 'nonReapp', 'Y', 'UNIVERSITY OF SOUTHERN CALIF', '', '', 'DEE JACKSON', '3375', '', 'S', 'HOOVER ST', '111', 'LOS ANGELES CA', '90089-0116', '620', '', '', 'MC CARTHY WAY', 'STE 5', 'LOS ANGELES CA', '90089-0155']\n",
      "['5123-004-429', '19871027-50', 'nonReapp', 'N', 'UNIVERSITY OF SOUTHERN', '', '', '', '3375', '', 'S', 'HOOVER ST', '111', 'LOS ANGELES CA', '90089-0116', '3375', '', 'S', 'HOOVER ST', 'STE   E', 'LOS ANGELES CA', '90007-3557']\n",
      "['5123-004-430', '20031216-50', '', 'Y', 'UNIVERSITY OF SOUTHERN CAL', '', '', 'DEE JACKSON', '973', '', 'W', '30TH ST', '112', 'LOS ANGELES CA', '90007-4807', '620', '', '', 'MC CARTHY WAY', 'STE 5', 'LOS ANGELES CA', '90089-0155']\n",
      "['5123-004-431', '20031216-50', '', 'Y', 'UNIVERSITY OF SOUTHERN CAL', '', '', 'DEE JACKSON', '967', '', 'W', '30TH ST', '113', 'LOS ANGELES CA', '90007-4805', '620', '', '', 'MC CARTHY WAY', 'STE 5', 'LOS ANGELES CA', '90089-0155']\n",
      "['5123-004-432', '20031216-50', '', 'Y', 'UNIVERSITY OF SOUTHERN CAL', '', '', 'DEE JACKSON', '965', '', 'W', '30TH ST', '114', 'LOS ANGELES CA', '90007-4805', '620', '', '', 'MC CARTHY WAY', 'STE 5', 'LOS ANGELES CA', '90089-0155']\n",
      "['5123-004-433', '19921026-50', '', 'Y', 'UNIVERSITY OF SOUTHERN CA', '', '', 'DEE JACKSON', '3375', '', 'S', 'HOOVER ST', '115', 'LOS ANGELES CA', '90089-0116', '620', '', '', 'MC CARTHY WAY', 'STE 5', 'LOS ANGELES CA', '90089-0155']\n",
      "['5123-004-434', '20031216-50', '', 'Y', 'UNIVERSITY OF SOUTHERN CAL', '', '', 'DEE JACKSON', '979', '', 'W', '30TH ST', '116', 'LOS ANGELES CA', '90007-2402', '620', '', '', 'MC CARTHY WAY', 'STE 5', 'LOS ANGELES CA', '90089-0155']\n",
      "['5123-004-436', '20031216-50', '', 'Y', 'UNIVERSITY OF SOUTHERN CAL', '', '', 'DEE JACKSON', '0', '', '', '', '', '', '', '620', '', '', 'MC CARTHY WAY', 'STE 5', 'LOS ANGELES CA', '90089-0155']\n",
      "['5123-004-437', '20031216-50', '', 'Y', 'UNIVERSITY OF SOUTHERN CAL', '', '', 'DEE JACKSON', '0', '', '', '', '', '', '', '620', '', '', 'MC CARTHY WAY', 'STE 5', 'LOS ANGELES CA', '90089-0155']\n",
      "['5123-004-438', '20031216-50', '', 'Y', 'UNIVERSITY OF SOUTHERN CAL', '', '', 'C/O DEE JACKSON ON FILE', '0', '', '', '', '', '', '', '620', '', 'W', 'MCCARTHY WAY', 'STE 5', 'LOS ANGELES CA', '90089']\n",
      "['5123-004-439', '20031216-50', '', 'Y', 'UNIVERSITY OF SOUTHERN CAL', '', '', '', '0', '', '', '', '', '', '', '620', '', '', 'MC CARTHY WAY', 'STE 5', 'LOS ANGELES CA', '90089-0155']\n",
      "['5123-004-440', '20031216-50', '', 'Y', 'UNIVERSITY OF SOUTHERN CAL', '', '', '', '0', '', '', '', '', '', '', '620', '', '', 'MC CARTHY WAY', 'STE 5', 'LOS ANGELES CA', '90089-0155']\n",
      "['5123-004-441', '20031216-50', '', 'Y', 'UNIVERSITY OF SOUTHERN CAL', '', '', '', '0', '', '', '', '', '', '', '620', '', 'W', 'MC CARTHY WAY', 'STE 5', 'LOS ANGELES CA', '90089-1333']\n",
      "['5123-004-442', '20031216-50', '', 'Y', 'UNIVERSITY OF SOUTHERN CAL', '', '', '', '0', '', '', '', '', '', '', '830', '', '', 'CHILDS WAY', 'STE 5', 'LOS ANGELES CA', '90089-0277']\n",
      "['5123-004-443', '20031216-50', '', 'Y', 'UNIVERSITY OF SOUTHERN CAL', '', '', '', '0', '', '', '', '', '', '', '620', '', 'W', 'MC CARTHY WAY', 'STE 5', 'LOS ANGELES CA', '90089-0155']\n",
      "['5123-004-444', '20031216-50', '', 'Y', 'UNIVERSITY OF SOUTHERN CAL', '', '', '', '0', '', '', '', '', '', '', '620', '', '', 'MC CARTHY WAY', 'STE 5', 'LOS ANGELES CA', '90089-0155']\n",
      "['5123-004-445', '20031216-50', '', 'Y', 'UNIVERSITY OF SOUTHERN CAL', '', '', '', '0', '', '', '', '', '', '', '620', '', '', 'MC CARTHY WAY', 'STE 5', 'LOS ANGELES CA', '90089-0155']\n",
      "['5123-005-030', '20110531-50', 'nonReapp', 'Y', 'HEBREW UNION COLLEGE JEWISH', 'INSTITUTE OF RELIGION', '', '', '3077', '', '', 'UNIVERSITY AVE', '', 'LOS ANGELES CA', '90007-3717', '3077', '', '', 'UNIVERSITY AVE', '', 'LOS ANGELES CA', '90007-3796']\n",
      "['5123-005-030', '19760726-50', 'other', 'N', 'HEBREW UNION COLLEGE-', '', '', '', '3077', '', '', 'UNIVERSITY AVE', '', 'LOS ANGELES CA', '90007-3717', '', '', '', '', '', '', '']\n",
      "['5123-005-032', '20110607-50', 'nonReapp', 'Y', 'UNIVERSITY OF SOUTHERN', 'CALIFORNIA', '', '', '3000', '', 'S', 'HOOVER ST', '', 'LOS ANGELES CA', '90007', '3077', '', '', 'UNIVERSITY AVE', '', 'LOS ANGELES CA', '90007-3796']\n",
      "['5123-009-030', '20121031-50', '', 'Y', 'UNIVERSITY GATEWAY LLC LESSOR', 'USC GATEWAY LLC SUBLESSOR', 'WILSON UNIVERSITY GATEWAY SUBLSE', 'C/O BLUE VISTA CAPITAL LLC', '3335', '', 'S', 'FIGUEROA ST', '', 'LOS ANGELES CA', '90007-3840', '500', '', 'N', 'DEARBORN ST', 'STE 400', 'CHICAGO IL', '60654-3386']\n",
      "['5123-009-031', '20121031-50', '', 'Y', 'UNIVERSITY GATEWAY LLC LESSOR', 'USC GATEWAY LLC SUBLESSOR', 'WILSON UNIVERSITY GATEWAY SUBLSE', 'C/O BLUE VISTA CAPITAL LLC', '0', '', '', '', '', '', '', '500', '', 'N', 'DEARBORN ST', 'STE 400', 'CHICAGO IL', '60654-3386']\n",
      "['5123-009-032', '20121031-50', '', 'Y', 'UNIVERSITY GATEWAY LLC LESSOR', 'USC GATEWAY LLC SUBLESSOR', 'WILSON UNIVERSITY GATEWAY SUBLSE', 'C/O BLUE VISTA CAPITAL LLC', '0', '', '', '', '', '', '', '500', '', 'N', 'DEARBORN ST', 'STE 400', 'CHICAGO IL', '60654-3386']\n",
      "['5123-009-033', '20121031-50', '', 'Y', 'UNIVERSITY GATEWAY LLC LESSOR', 'USC GATEWAY LLC SUBLESSOR', 'WILSON UNIVERSITY GATEWAY SUBLSE', 'C/O BLUE VISTA CAPITAL LLC', '0', '', '', '', '', '', '', '500', '', 'N', 'DEARBORN ST', 'STE 400', 'CHICAGO IL', '60654-3386']\n",
      "['5123-009-034', '20121031-50', '', 'Y', 'UNIVERSITY GATEWAY LLC LESSOR', 'USC GATEWAY LLC SUBLESSOR', 'WILSON UNIVERSITY GATEWAY SUBLSE', 'C/O BLUE VISTA CAPITAL LLC', '0', '', '', '', '', '', '', '500', '', 'N', 'DEARBORN ST', 'STE 400', 'CHICAGO IL', '60654-3386']\n",
      "['5123-009-035', '20121031-50', '', 'Y', 'UNIVERSITY GATEWAY LLC LESSOR', 'USC GATEWAY LLC SUBLESSOR', 'WILSON UNIVERSITY GATEWAY SUBLSE', 'C/O BLUE VISTA CAPITAL LLC', '0', '', '', '', '', '', '', '500', '', 'N', 'DEARBORN ST', 'STE 400', 'CHICAGO IL', '60654-3386']\n",
      "['5123-009-036', '20121031-50', '', 'Y', 'UNIVERSITY GATEWAY LLC LESSOR', 'USC GATEWAY LLC SUBLESSOR', 'WILSON UNIVERSITY GATEWAY SUBLSE', 'C/O BLUE VISTA CAPITAL LLC', '0', '', '', '', '', '', '', '500', '', 'N', 'DEARBORN ST', 'STE 400', 'CHICAGO IL', '60654-3386']\n",
      "['5123-009-037', '20121031-50', '', 'Y', 'UNIVERSITY GATEWAY LLC LESSOR', 'USC GATEWAY LLC SUBLESSOR', 'WILSON UNIVERSITY GATEWAY SUBLSE', 'C/O BLUE VISTA CAPITAL LLC', '0', '', '', '', '', '', '', '500', '', 'N', 'DEARBORN ST', 'STE 400', 'CHICAGO IL', '60654-3386']\n",
      "['5123-009-038', '20121031-50', '', 'Y', 'UNIVERSITY GATEWAY LLC LESSOR', 'USC GATEWAY LLC SUBLESSOR', 'WILSON UNIVERSITY GATEWAY SUBLSE', 'C/O BLUE VISTA CAPITAL LLC', '0', '', '', '', '', '', '', '500', '', 'N', 'DEARBORN ST', 'STE 400', 'CHICAGO IL', '60654-3386']\n",
      "['5123-009-039', '20121031-50', '', 'Y', 'UNIVERSITY GATEWAY LLC LESSOR', 'USC GATEWAY LLC SUBLESSOR', 'WILSON UNIVERSITY GATEWAY SUBLSE', 'C/O BLUE VISTA CAPITAL LLC', '0', '', '', '', '', '', '', '500', '', 'N', 'DEARBORN ST', 'STE 400', 'CHICAGO IL', '60654-3386']\n",
      "['5123-009-040', '20121031-50', '', 'Y', 'UNIVERSITY GATEWAY LLC LESSOR', 'USC GATEWAY LLC SUBLESSOR', 'WILSON UNIVERSITY GATEWAY SUBLSE', 'C/O BLUE VISTA CAPITAL LLC', '0', '', '', '', '', '', '', '500', '', 'N', 'DEARBORN ST', 'STE 400', 'CHICAGO IL', '60654-3386']\n",
      "['5123-009-041', '20121031-50', '', 'Y', 'UNIVERSITY GATEWAY LLC LESSOR', 'USC GATEWAY LLC SUBLESSOR', 'WILSON UNIVERSITY GATEWAY SUBLSE', 'C/O BLUE VISTA CAPITAL LLC', '0', '', '', '', '', '', '', '500', '', 'N', 'DEARBORN ST', 'STE 400', 'CHICAGO IL', '60654-3386']\n",
      "['5123-009-042', '20121031-50', '', 'Y', 'UNIVERSITY GATEWAY LLC LESSOR', 'USC GATEWAY LLC SUBLESSOR', 'WILSON UNIVERSITY GATEWAY SUBLSE', 'C/O BLUE VISTA CAPITAL LLC', '0', '', '', '', '', '', '', '500', '', 'N', 'DEARBORN ST', 'STE 400', 'CHICAGO IL', '60654-3386']\n",
      "['5123-009-043', '20130107-50', 'other', 'Y', 'UNIVERSITY OF SOUTHERN', 'CALIFORNIA CORP', '', '', '708', '', 'W', '32ND ST', '', 'LOS ANGELES CA', '90007-3732', '', '', '', '', '', '', '']\n",
      "['5123-010-002', '19860117-50', '', 'Y', 'UNIVERSITY OF SOUTHERN CALIF', '', '', '', '620', '', 'W', '30TH ST', '', 'LOS ANGELES CA', '90007-3760', '620', '', '', 'MC CARTHY WAY', 'STE 5', 'LOS ANGELES CA', '90089-0155']\n",
      "['5123-010-003', '19860117-50', '', 'Y', 'UNIVERSITY OF SOUTHERN CALIF', '', '', '', '626', '', 'W', '30TH ST', '', 'LOS ANGELES CA', '90007-3718', '620', '', '', 'MC CARTHY WAY', 'STE 5', 'LOS ANGELES CA', '90089-0155']\n",
      "['5123-010-015', '19831122-50', '', 'Y', 'UNIVERSITY OF SOUTHERN CALIF', '', '', '', '0', '', '', '', '', '', '', '620', '', '', 'MC CARTHY WAY', 'STE 5', 'LOS ANGELES CA', '90089-0155']\n",
      "['5123-010-030', '20070501-50', 'other', 'Y', 'UNIVERSITY OF', 'SOUTHERN CALIFORNIA', '', 'DEE JACKSON', '643', '', 'W', '32ND ST', '', 'LOS ANGELES CA', '90007-3731', '850', '', '', 'CHILDS WAY', 'STE 5', 'LOS ANGELES CA', '90089']\n",
      "['5123-011-003', '19850315-50', '', 'Y', 'UNIVERSITY OF SOUTHERN', '', 'CALIFORNIA', 'DEE JACKSON', '3014', '', '', 'ROYAL ST', '', 'LOS ANGELES CA', '90007-3628', '620', '', '', 'MC CARTHY WAY', 'STE 5', 'LOS ANGELES CA', '90089-0155']\n",
      "['5123-011-004', '19840419-50', '', 'Y', 'UNIVERSITY OF SOUTHERN CALIF', '', '', 'DEE JACKSON', '3018', '', '', 'ROYAL ST', '', 'LOS ANGELES CA', '90007-3628', '620', '', '', 'MC CARTHY WAY', 'STE 5', 'LOS ANGELES CA', '90089-0155']\n",
      "['5123-011-005', '19840201-50', '', 'Y', 'UNIVERSITY OF SOUTHERN', 'CALIFORNIA', '', 'DEE JACKSON', '3024', '', '', 'ROYAL ST', '', 'LOS ANGELES CA', '90007-3628', '620', '', '', 'MC CARTHY WAY', 'STE 5', 'LOS ANGELES CA', '90089-0155']\n",
      "['5123-011-009', '19851213-50', '', 'Y', 'UNIVERSITY OF SOUTHERN CALIF', '', '', 'DEE JACKSON', '3042', '', '', 'ROYAL ST', '', 'LOS ANGELES CA', '90007-3628', '620', '', '', 'MC CARTHY WAY', 'STE 5', 'LOS ANGELES CA', '90089-0155']\n",
      "['5123-011-010', '20070606-50', '', 'Y', 'UNIVERSITY OF SOUTHERN', 'CALIFORNIA', '', 'DEE JACKSON', '731', '', 'W', '32ND ST', '', 'LOS ANGELES CA', '90007-3733', '620', '', '', 'MC CARTHY WAY', 'STE 5', 'LOS ANGELES CA', '90089-0155']\n",
      "['5123-011-011', '20070606-50', '', 'Y', 'UNIVERSITY OF SOUTHERN', 'CALIFORNIA', '', 'DEE JACKSON', '725', '', 'W', '32ND ST', '', 'LOS ANGELES CA', '90007-3733', '620', '', '', 'MC CARTHY WAY', 'STE 5', 'LOS ANGELES CA', '90089-0155']\n",
      "['5123-011-021', '19830817-50', '', 'Y', 'UNIVERSITY OF SO CALIFORNIA', '', '', 'DEE JACKSON', '3015', '', '', 'SHRINE PL', '', 'LOS ANGELES CA', '90007-3706', '620', '', '', 'MC CARTHY WAY', 'STE 5', 'LOS ANGELES CA', '90089-0155']\n",
      "['5123-012-025', '19760831-50', 'other', 'Y', 'UNIVERSITY OF SOUTHERN CALIF', '', '', 'DEE JACKSON', '3025', '', '', 'ROYAL ST', '', 'LOS ANGELES CA', '90007-3605', '620', '', '', 'MC CARTHY WAY', 'STE 5', 'LOS ANGELES CA', '90089-0155']\n",
      "['5123-013-006', '19840110-50', '', 'Y', 'UNIVERSITY OF SOUTHERN', 'CALIFORNIA', '', 'DEE JACKSON', '735', '', 'W', '30TH ST', '', 'LOS ANGELES CA', '90007-3702', '620', '', '', 'MC CARTHY WAY', 'STE 5', 'LOS ANGELES CA', '90089-0155']\n",
      "['5123-013-401', '19740117-50', 'other', 'Y', 'UNIVERSITY OF SOUTHERN CALIF', '', '', 'DEE JACKSON', '0', '', '', '', '', '', '', '620', '', '', 'MC CARTHY WAY', 'STE 5', 'LOS ANGELES CA', '90089-0155']\n",
      "['5123-013-402', '19740117-50', 'other', 'Y', 'UNIVERSITY OF SOUTHERN CALIF', '', '', 'DEE JACKSON', '0', '', '', '', '', '', '', '620', '', '', 'MC CARTHY WAY', 'STE 5', 'LOS ANGELES CA', '90089-0155']\n",
      "['5123-013-405', '19630816-50', 'other', 'Y', 'UNIVERSITY OF SOUTHERN CALIF', '', '', '', '720', '', 'W', '28TH ST', '', 'LOS ANGELES CA', '90007-3242', '620', '', '', 'MC CARTHY WAY', 'STE 5', 'LOS ANGELES CA', '90089-0155']\n",
      "['5123-013-407', '19711001-50', 'other', 'Y', 'UNIVERSITY OF SOUTHERN CALIF', '', '', '', '710', '', 'W', '28TH ST', '', 'LOS ANGELES CA', '90007-3242', '620', '', 'W', 'MC CARTHY WAY', 'STE 5', 'LOS ANGELES CA', '90089-0277']\n",
      "['5123-015-005', '19810601-50', 'other', 'Y', 'UNIVERSITY OF SOUTHERN CALIF', '', '', '', '634', '', 'W', '27TH ST', '', 'LOS ANGELES CA', '90007-3272', '620', '', '', 'MC CARTHY WAY', 'STE 5', 'LOS ANGELES CA', '90089-0155']\n",
      "['5123-016-403', '19800208-50', 'other', 'Y', 'UNIVERSITY OF SOUTHERN CALIF', '', '', '', '0', '', '', '', '', '', '', '620', '', 'W', 'MC CARTHY WAY', 'STE 5', 'LOS ANGELES CA', '90089-0277']\n",
      "['5123-022-031', '20000801-50', '', 'Y', 'UNIVERSITY OF SOUTHERN', 'CALIFORNIA', '', '', '3522', '', 'S', 'FIGUEROA ST', '', 'LOS ANGELES CA', '90007-4313', '620', '', 'W', 'MC CARTHY WAY', 'STE 5', 'LOS ANGELES CA', '90089-1333']\n",
      "['5123-022-034', '19990930-50', '', 'Y', 'UNIVERSITY OF SOUTHERN CALIF', '', '', 'C/O DEE JACKSON', '3500', '', 'S', 'FIGUEROA ST', '', 'LOS ANGELES CA', '90007-4313', '620', '', '', 'MC CARTHY WAY', 'STE 5', 'LOS ANGELES CA', '90089-0155']\n",
      "['5123-022-038', '20000801-50', '', 'Y', 'UNIVERSITY OF SOUTHERN', 'CALIFORNIA', '', '', '441', '', '', 'EXPOSITION BLVD', '', 'LOS ANGELES CA', '90007-4328', '620', '', 'W', 'MC CARTHY WAY', 'STE 5', 'LOS ANGELES CA', '90089-0277']\n",
      "['5123-022-040', '19950616-50', 'other', 'Y', 'UNIVERSITY OF SOUTHERN CALIF', '', '', 'DEE JACKSON', '3400', '', 'S', 'FIGUEROA ST', '', 'LOS ANGELES CA', '90007-4348', '620', '', '', 'MC CARTHY WAY', 'STE 5', 'LOS ANGELES CA', '90089-0155']\n",
      "['5123-023-024', '19700526-50', 'other', 'Y', 'UNIVERSITY OF SO CALIF', '', '', '', '663', '', 'W', '34TH ST', '', 'LOS ANGELES CA', '90089-0067', '830', '', '', 'CHILDS WAY', 'STE 5', 'LOS ANGELES CA', '90089-0277']\n",
      "['5123-023-025', '19820513-50', 'other', 'Y', 'UNIVERSITY OF SO CALIF', '', '', 'C/O DEE JACKSON', '0', '', '', '', '', '', '', '620', '', 'W', 'MC CARTHY WAY', 'STE 5', 'LOS ANGELES CA', '90089-0155']\n",
      "['5124-010-021', '19780808-50', 'other', 'Y', 'UNIVERSITY OF SOUTHERN CALIF', '', '', '', '955', '', 'W', 'ADAMS BLVD', '', 'LOS ANGELES CA', '90007-4820', '620', '', '', 'MC CARTHY WAY', 'STE 5', 'LOS ANGELES CA', '90089-0155']\n",
      "['5124-011-014', '19690228-50', 'other', 'Y', 'UNIVERSITY OF SO CALIFORNIA', '', '', '', '919', '', 'W', 'ADAMS BLVD', '', 'LOS ANGELES CA', '90007-2406', '620', '', '', 'MC CARTHY WAY', 'STE 5', 'LOS ANGELES CA', '90089-0155']\n",
      "['5124-011-015', '19690228-50', 'other', 'Y', 'UNIVERSITY OF SO CALIFORNIA', '', '', '', '909', '', 'W', 'ADAMS BLVD', '', 'LOS ANGELES CA', '90007-2406', '620', '', '', 'MC CARTHY WAY', 'STE 5', 'LOS ANGELES CA', '90089-0155']\n",
      "['5124-011-016', '19780629-50', 'other', 'Y', 'UNIVERSITY OF SO CALIF', '', '', '', '2390', '', '', 'PORTLAND ST', '', 'LOS ANGELES CA', '90007-1958', '620', '', '', 'MC CARTHY WAY', 'STE 5', 'LOS ANGELES CA', '90089-0155']\n",
      "['5124-022-008', '20010220-50', '', 'Y', 'UNIVERSITY HOUSING 23RD ST LLC', '', '', '', '2126', '', '', 'OAK ST', '', 'LOS ANGELES CA', '90007-1974', '1114', '', 'W', 'BLOOMWOOD RD', '', 'RANCHO PALOS VERDES CA', '90275-1902']\n",
      "['5124-022-017', '20010220-50', '', 'Y', 'UNIVERSITY HOUSING 23RD ST LLC', '', '', '', '867', '', 'W', '23RD ST', '', 'LOS ANGELES CA', '90007-2066', '1114', '', 'W', 'BLOOMWOOD RD', '', 'RANCHO PALOS VERDES CA', '90275-1902']\n",
      "['5124-028-004', '20121024-50', '', 'Y', 'UNIVERSITY PARK AND WATTS LLC', '', '', 'C/O PAUL OKARTEYE', '634', '', 'W', '23RD ST', '', 'LOS ANGELES CA', '90007-2036', '2303', '', 'S', 'FIGUEROA ST', '', 'LOS ANGELES CA', '90007-2501']\n",
      "['5124-028-010', '20121024-50', '', 'Y', 'UNIVERSITY PARK AND WATTS LLC', '', '', 'C/O PAUL OKARTEYE', '0', '', '', '', '', '', '', '2303', '', 'S', 'FIGUEROA ST', '', 'LOS ANGELES CA', '90007-2501']\n",
      "['5137-005-020', '19740813-50', 'other', 'Y', 'LOYOLA MARYMOUNT UNIVERSITY', '', '', '', '1420', '', '', 'JAMES M WOOD BLVD', '', 'LOS ANGELES CA', '90015-1210', '1', '', '', 'LMU DR', 'STE2200', 'LOS ANGELES CA', '90045-2650']\n",
      "['5137-005-021', '19860819-50', 'nonReapp', 'Y', 'LOYOLA UNIVERSITY OF L A', '', '', '', '1441', '', 'W', 'OLYMPIC BLVD', '', 'LOS ANGELES CA', '90015-3903', '1', '', '', 'LMU DR', 'STE2200', 'LOS ANGELES CA', '90045-2650']\n",
      "['5137-006-022', '19950630-50', '', 'Y', 'LOYOLA MARYMOUNT UNIVERSITY', '', '', '', '941', '', '', 'ALBANY ST', '', 'LOS ANGELES CA', '90015-1211', '1', '', '', 'LMU DR', 'STE2200', 'LOS ANGELES CA', '90045-2650']\n",
      "['5137-006-024', '19970404-50', '', 'Y', 'LOYOLA MARYMOUNT UNIVERSITY', '', '', '', '1416', '', '', 'JAMES M WOOD BLVD', '', 'LOS ANGELES CA', '90015-1210', '1', '', '', 'LMU DR', 'STE2200', 'LOS ANGELES CA', '90045-2650']\n",
      "['5137-006-025', '19970404-50', '', 'Y', 'LOYOLA MARYMOUNT UNIVERSITY', '', '', '', '1400', '', '', 'JAMES M WOOD BLVD', '', 'LOS ANGELES CA', '90015-1210', '1', '', '', 'LMU DR', 'STE2200', 'LOS ANGELES CA', '90045-2650']\n",
      "['5137-006-028', '19890123-76', 'other', 'Y', 'LOYOLA MARYMOUNT UNIVERSITY', '', '', '', '919', '', '', 'ALBANY ST', '', 'LOS ANGELES CA', '90015-1211', '1', '', '', 'LMU DR', 'STE2200', 'LOS ANGELES CA', '90045-2650']\n",
      "['5137-006-029', '20010104-50', 'nonReapp', 'Y', 'LOYOLA MARYMOUNT UNIVERSITY', '', '', '', '1413', '', 'W', 'OLYMPIC BLVD', '', 'LOS ANGELES CA', '90015-3903', '1', '', '', 'LMU DR', 'STE2200', 'LOS ANGELES CA', '90045-2650']\n",
      "['5139-029-027', '20101105-50', '', 'Y', 'UNIVERSITY OF SOUTHERN CA', '', '', '', '1155', '', 'S', 'GRAND AVE', 'NO  1410', 'LOS ANGELES CA', '90015-2272', '620', '', 'W', 'MC CARTHY WAY', 'STE 5', 'LOS ANGELES CA', '90089']\n",
      "['5139-029-060', '20120605-50', '', 'Y', 'UNIVERSITY OF SOUTHERN CALIF', '', '', '', '1155', '', 'S', 'GRAND AVE', 'NO  1710', 'LOS ANGELES CA', '90015-2273', '620', '', '', 'MC CARTHY WAY', 'STE 5', 'LOS ANGELES CA', '90089-0155']\n",
      "['5149-033-004', '19720801-50', 'other', 'N', 'E J GINDI-UNIVERSITY OF', '', '', 'C/O PRESTIGE PROP MGMT #535', '535', '', 'S', 'BROADWAY', '', 'LOS ANGELES CA', '90013-2301', '150', '', '', 'EL CAMINO DR', 'RM 106', 'BEVERLY HILLS CA', '90212']\n",
      "['5157-011-023', '20061026-50', '', 'Y', 'CALIFORNIA UNIVERSITY OF', 'ALTERNATIVE MEDICINE', '', '', '2333', '', '', 'BEVERLY BLVD', '', 'LOS ANGELES CA', '90057-2230', '3600', '', '', 'WILSHIRE BLVD', '722', 'LOS ANGELES CA', '90010-2611']\n",
      "['5163-020-061', '20120124-50', '', 'N', 'OKITA,VIVIAN', '', '', '', '100', '', 'S', 'ALAMEDA ST', 'NO   352', 'LOS ANGELES CA', '90012-3944', '555', '', '', 'UNIVERSITY AVE', 'APT 1000', 'HONOLULU HI', '96826-5025']\n",
      "['5201-001-001', '20140626-50', '', 'Y', 'UNIVERSITY OF SOUTHERN CALIF', '', '', 'C/O OFFICE OF THE GEN COUNSEL', '1640', '', '', 'MARENGO ST', '', 'LOS ANGELES CA', '90033-1036', '620', '', '', 'MCCARTHY WAY', 'STE 5', 'LOS ANGELES CA', '90089-0155']\n",
      "['5201-002-011', '19850301-50', 'other', 'Y', 'UNIVERSITY OF SOUTHERN', 'CALIFORNIA', '', '', '0', '', '', '', '', '', '', '620', '', '', 'MC CARTHY WAY', 'STE 5', 'LOS ANGELES CA', '90089-0155']\n",
      "['5201-003-010', '19850301-50', 'nonReapp', 'Y', 'UNIVERSITY OF SOUTHERN', '', 'CALIFORNIA', 'DEE JACKSON', '0', '', '', '', '', '', '', '620', '', '', 'MC CARTHY WAY', 'STE 5', 'LOS ANGELES CA', '90089-0155']\n",
      "['5201-003-011', '19950228-50', '', 'Y', 'UNIVERSITY OF SOUTHERN CALIF', '', '', 'DEE JACKSON', '0', '', '', '', '', '', '', '620', '', '', 'MC CARTHY WAY', 'STE 5', 'LOS ANGELES CA', '90089-0155']\n",
      "['5201-004-003', '20080627-50', '', 'Y', 'UNIVERSITY OF SOUTHERN', 'CALIFORNIA', '', 'DEE JACKSON', '1633', '', '', 'SAN PABLO ST', '', 'LOS ANGELES CA', '90033-1043', '850', '', '', 'CHILDS WAY', 'STE 5', 'LOS ANGELES CA', '90089']\n",
      "['5201-005-002', '19880714-50', 'other', 'Y', 'UNIVERSITY OF SOUTHERN CALIF', '', '', '', '1540', '', '', 'ALCAZAR ST', '', 'LOS ANGELES CA', '90089-0080', '620', '', '', 'MC CARTHY WAY', 'STE 5', 'LOS ANGELES CA', '90089-0155']\n",
      "['5201-006-024', '20090401-50', '', 'Y', 'UNIVERSITY OF SOUTHERN', 'CALIFORNIA', '', 'DIANA CONTRERAS', '1441', '', '', 'EASTLAKE AVE', '', 'LOS ANGELES CA', '90089-0112', '620', '', 'W', 'MC CARTHY WAY', 'STE 5', 'LOS ANGELES CA', '90089']\n",
      "['5202-001-005', '20010228-50', 'other', 'Y', 'UNIVERSITY OF SOUTHERN', 'CALIFORNIA', '', '', '0', '', '', '', '', '', '', '620', '', '', 'MC CARTHY WAY', 'STE 5', 'LOS ANGELES CA', '90089-0155']\n",
      "['5202-001-007', '20150401-50', 'other', 'Y', 'UNIVERSITY OF SOUTHERN', 'CALIFORNIA', '', '', '1630', '', 'N', 'SAN PABLO ST', '', 'LOS ANGELES CA', '90033', '620', '', 'W', 'MC CARTHY WAY', 'STE 5', 'LOS ANGELES CA', '90089-0169']\n",
      "['5202-002-001', '19980817-50', '', 'Y', 'UNIVERSITY OF SOUTHERN CALIF', '', '', '', '1420', '', '', 'PLAYGROUND ST', '', 'LOS ANGELES CA', '90033-1025', '620', '', '', 'MC CARTHY WAY', 'STE 5', 'LOS ANGELES CA', '90089-0155']\n",
      "['5202-002-002', '20150522-50', '', 'Y', 'UNIVERSITY OF SOUTHERN', 'CALIFORNIA', '', '', '1428', '', '', 'PLAYGROUND ST', '', 'LOS ANGELES CA', '90033-1025', '620', '', '', 'MC CARTHY WAY', 'NO 5', 'LOS ANGELES CA', '90089-1333']\n",
      "['5202-002-003', '20061030-50', '', 'Y', 'UNIVERSITY OF SOUTHERN', 'CALIFORNIA', '', 'DIANA CONTRERAS', '1430', '', '', 'PLAYGROUND ST', '', 'LOS ANGELES CA', '90033-1025', '850', '', '', 'CHILDS WAY', 'STE 5', 'LOS ANGELES CA', '90089-0277']\n",
      "['5202-002-004', '20061030-50', '', 'Y', 'UNIVERSITY OF SOUTHERN', 'CALIFORNIA', '', 'DIANA CONTRERAS', '1432', '', '', 'PLAYGROUND ST', '', 'LOS ANGELES CA', '90033-1025', '850', '', '', 'CHILDS WAY', 'STE 5', 'LOS ANGELES CA', '90089']\n",
      "['5202-002-006', '20090527-50', '', 'Y', 'UNIVERSITY OF SOUTHERN', 'CALIFORNIA', '', 'C/O JULIE RICHMOND', '1440', '', '', 'PLAYGROUND ST', '', 'LOS ANGELES CA', '90033-1025', '3500', '', 'S', 'FIGUEROA ST', 'NO 202', 'LOS ANGELES CA', '90089-0117']\n",
      "['5202-002-007', '20080930-50', '', 'Y', 'UNIVERSITY OF SOUTHERN CALIF', '', '', '', '1444', '', '', 'PLAYGROUND ST', '', 'LOS ANGELES CA', '90033-1025', '3500', '', 'S', 'FIGUEROA ST', '# 202', 'LOS ANGELES CA', '90089-0117']\n",
      "['5202-002-008', '19990618-50', '', 'Y', 'UNIVERSITY OF SOUTHERN CALIF', '', '', '', '1448', '', '', 'PLAYGROUND ST', '', 'LOS ANGELES CA', '90033-1025', '620', '', '', 'MC CARTHY WAY', 'STE 5', 'LOS ANGELES CA', '90089-0155']\n",
      "['5202-002-020', '19990511-50', '', 'Y', 'UNIVERSITY OF SOUTHERN CALIF', '', '', '', '2310', '', '', 'ALCAZAR ST', '', 'LOS ANGELES CA', '90033-5327', '620', '', '', 'MC CARTHY WAY', 'STE 5', 'LOS ANGELES CA', '90089-0155']\n",
      "['5202-002-022', '19991230-50', 'other', 'Y', 'UNIVERSITY OF SO CALIFORNIA', '', '', '', '1501', '', 'N', 'SOTO ST', '', 'LOS ANGELES CA', '90033-1545', '620', '', '', 'MC CARTHY WAY', 'STE 5', 'LOS ANGELES CA', '90089-0155']\n",
      "['5202-003-010', '20090522-50', '', 'Y', 'UNIVERSITY OF SOUTHERN', 'CALIFORNIA', '', 'C/O JULIE RICHMOND', '1433', '', '', 'PLAYGROUND ST', '', 'LOS ANGELES CA', '90033-1024', '3500', '', 'S', 'FIGUEROA ST', 'NO 202', 'LOS ANGELES CA', '90089-8009']\n",
      "['5202-003-011', '19951115-50', '', 'Y', 'UNIVERSITY OF SOUTHERN CALIF', '', '', '', '1429', '', '', 'PLAYGROUND ST', '', 'LOS ANGELES CA', '90033-1024', '620', '', '', 'MC CARTHY WAY', 'STE 5', 'LOS ANGELES CA', '90089-0155']\n",
      "['5202-003-012', '20020502-50', '', 'Y', 'UNIVERSITY OF SOUTHERN CALIF', '', '', '', '1425', '', '', 'PLAYGROUND ST', '', 'LOS ANGELES CA', '90033-1024', '620', '', '', 'MC CARTHY WAY', 'STE 5', 'LOS ANGELES CA', '90089-0155']\n",
      "['5202-003-013', '20020502-50', '', 'Y', 'UNIVERSITY OF SOUTHERN CALIF', '', '', '', '1425', '', '', 'PLAYGROUND ST', '', 'LOS ANGELES CA', '90033-1024', '620', '', '', 'MC CARTHY WAY', 'STE 5', 'LOS ANGELES CA', '90089-0155']\n",
      "['5202-003-014', '19950227-50', '', 'Y', 'UNIVERSITY OF SOUTHERN CALIF', '', '', '', '1417', '', '', 'PLAYGROUND ST', '', 'LOS ANGELES CA', '90033-1024', '620', '', '', 'MC CARTHY WAY', 'STE 5', 'LOS ANGELES CA', '90089-0155']\n",
      "['5202-003-015', '19940420-50', '', 'Y', 'UNIVERSITY OF SOUTHERN CALIF', '', '', '', '1413', '', '', 'PLAYGROUND ST', '', 'LOS ANGELES CA', '90033-1024', '620', '', '', 'MC CARTHY WAY', 'STE 5', 'LOS ANGELES CA', '90089-0155']\n",
      "['5202-003-016', '19950801-50', '', 'Y', 'UNIVERSITY OF SOUTHERN', 'CALIFORNIA', '', 'DEE JACKSON', '1409', '', '', 'PLAYGROUND ST', '', 'LOS ANGELES CA', '90033-1024', '620', '', '', 'MC CARTHY WAY', 'STE 5', 'LOS ANGELES CA', '90089-0155']\n",
      "['5202-003-017', '20040115-50', '', 'Y', 'UNIVERSITY OF SOUTHERN CALIF', '', '', 'DEE JACKSON', '1405', '', '', 'PLAYGROUND ST', '', 'LOS ANGELES CA', '90033-1024', '850', '', '', 'CHILDS WAY', 'STE 5', 'LOS ANGELES CA', '90089']\n",
      "['5202-003-023', '19880615-50', 'PartInt', 'Y', 'UNIVERSITY OF SOUTHERN CALIF', '', '', 'DEE JACKSON', '2250', '', '', 'ALCAZAR ST', '', 'LOS ANGELES CA', '90089-0107', '620', '', '', 'MC CARTHY WAY', 'STE 5', 'LOS ANGELES CA', '90089-0155']\n",
      "['5202-004-029', '20130822-50', '', 'Y', 'UNIVERSITY OF SOUTHERN', 'CALIFORNIA', '', 'C/O DEE JACKSON', '1420', '', '', 'SAN PABLO ST', '', 'LOS ANGELES CA', '90089-5306', '620', '', 'W', 'MC CARTHY WAY', 'STE 5', 'LOS ANGELES CA', '90089-0155']\n",
      "['5202-004-036', '19880615-50', 'PartInt', 'Y', 'UNIVERSITY OF SOUTHERN CALIF', '', '', 'DEE JACKSON', '0', '', '', '', '', '', '', '620', '', '', 'MC CARTHY WAY', 'STE 5', 'LOS ANGELES CA', '90089-0155']\n",
      "['5202-004-037', '20090401-50', '', 'Y', 'UNIVERSITY OF SOUTHERN', 'CALIFORNIA', '', 'DIANA CONTRERAS', '1500', '', '', 'SAN PABLO ST', '', 'LOS ANGELES CA', '90033-5313', '620', '', 'W', 'MC CARTHY WAY', 'STE 5', 'LOS ANGELES CA', '90089']\n",
      "['5202-004-038', '20090401-50', '', 'Y', 'UNIVERSITY OF SOUTHERN', 'CALIFORNIA', '', 'DIANA CONTRERAS', '0', '', '', '', '', '', '', '620', '', 'W', 'MC CARTHY WAY', 'STE 5', 'LOS ANGELES CA', '90089']\n",
      "['5202-004-042', '19981223-50', 'nonReapp', 'Y', 'UNIVERSITY OF SOUTHERN CALIF', '', '', 'DEE JACKSON', '1520', '', '', 'SAN PABLO ST', '', 'LOS ANGELES CA', '90033-5310', '620', '', '', 'MC CARTHY WAY', 'STE 5', 'LOS ANGELES CA', '90089-0155']\n",
      "['5211-021-003', '20121116-50', '', 'Y', 'UNIVERSITY OF SOUTHERN', 'CALIFORNIA', '', 'C/O REAL ESTATE AND ASSET MGMT', '2011', '', 'N', 'SOTO ST', '', 'LOS ANGELES CA', '90032-3628', '620', '', 'W', 'MC CARTHY WAY', 'STE 5', 'LOS ANGELES CA', '90089-1332']\n",
      "['5211-021-006', '20060630-50', 'other', 'Y', 'UNIVERSITY OF SOUTHERN CALIFORNI', 'A', '', 'DEE JACKSON', '2001', '', 'N', 'SOTO ST', '', 'LOS ANGELES CA', '90032-3628', '620', '', '', 'MC CARTHY WAY', 'STE 5', 'LOS ANGELES CA', '90089-0155']\n",
      "['5215-001-016', '19711201-50', 'other', 'Y', 'UNIVERSITY OF SOUTHERN CALIF', '', '', 'DEE JACKSON', '1840', '', 'N', 'SOTO ST', '', 'LOS ANGELES CA', '90032-3626', '620', '', '', 'MC CARTHY WAY', 'STE 5', 'LOS ANGELES CA', '90089-0155']\n",
      "['5215-001-019', '20071217-50', '', 'Y', 'UNIVERSITY OF SOUTHERN', 'CALIFORNIA', '', 'DEE JACKSON', '4121', '', '', 'VALLEY BLVD', '', 'LOS ANGELES CA', '90032-3631', '620', '', '', 'MC CARTHY WAY', 'STE 5', 'LOS ANGELES CA', '90089-0155']\n",
      "['5216-004-019', '20160325-50', '', 'Y', 'LA UNIVERSITY GARDEN VILLAGE LLC', '', '', '', '0', '', '', '', '', '', '', '9087', '', '', 'LAS TUNAS DR', '', 'TEMPLE CITY CA', '91780-1901']\n",
      "['5218-007-017', '20050718-50', 'PartInt', 'Y', 'LIEBERMAN,PETER C ET AL', '', 'UNIVERSITY OF JUDAISM', 'C/O ZOFIA YALOVSKY', '4892', '', '', 'HUNTINGTON DR S', '', 'LOS ANGELES CA', '90032-1945', '15600', '', '', 'MULHOLLAND DR', '', 'LOS ANGELES CA', '90077-1599']\n",
      "['5218-007-017', '19701228-50', 'other', 'N', 'UNIVERSITY OF JUDAISM AND', '', '', '', '4892', '', '', 'HUNTINGTON DR S', '', 'LOS ANGELES CA', '90032-1945', '6525', '', '', 'SUNSET BLVD', '', 'LOS ANGELES CALIF', '90028']\n",
      "['5220-034-027', '20021231-50', '', 'Y', 'CAL STATE UNIVERSITY LOS ANGELES', 'FEDERAL CREDIT UNION', '', 'C/O IDA CHAPKO,CEO', '5401', '', '', 'VALLEY BLVD', '', 'LOS ANGELES CA', '90032-3518', '2445', '', '', 'MARIONDALE AVE', '', 'LOS ANGELES CA', '90032-3516']\n",
      "['5221-007-030', '20151221-50', 'PartInt', 'Y', '6401 WILSHIRE BOULEVARD LLC', 'AND', 'STATE UNIVERSITY APARTMENTS LLC', 'C/O BRIAN NISSEL', '2351', '', '', 'WARWICK AVE', '', 'LOS ANGELES CA', '90032-3577', '6404', '', '', 'WILSHIRE BLVD', 'STE 800', 'LOS ANGELES CA', '90048-5530']\n",
      "['5221-007-030', '20150410-50', '', 'N', 'STATE UNIVERSITY APARTMENTS LLC', '', '', '', '2351', '', '', 'WARWICK AVE', '', 'LOS ANGELES CA', '90032-3577', '4221', '', '', 'WILSHIRE BLVD', 'STE 136', 'LOS ANGELES CA', '90010-3626']\n",
      "['5221-007-900', '20091216-50', 'nonReapp', 'Y', 'TRUSTEES OF CA STATE UNIVERSITY', '', '', '', '5424', '', '', 'VALLEY BLVD', '', 'LOS ANGELES CA', '90032-3519', '5151', '', '', 'STATE UNIVERSITY DR', '', 'LOS ANGELES CA', '90032-4226']\n",
      "['5221-007-901', '20091216-50', 'nonReapp', 'Y', 'TRUSTEES OF CA STATE UNIVERSITY', '', '', '', '5425', '', '', 'DOBBS ST', '', 'LOS ANGELES CA', '90032-3543', '5151', '', '', 'STATE UNIVERSITY DR', '', 'LOS ANGELES CA', '90032-4226']\n",
      "['5221-012-037', '20080102-50', '', 'Y', 'CAL STATE L A UNIVERSITY', 'AUXILLARY SERVICES INC', '', 'AUXILARY SERVICES CSU L A', '5460', '', '', 'VALLEY BLVD', '', 'LOS ANGELES CA', '90032-3530', '5151', '', '', 'STATE UNIVERSITY DR', '', 'LOS ANGELES CA', '90032-4226']\n",
      "['5221-012-199', '19860507-50', '', 'Y', 'CALIFORNIA STATE UNIVERSITY', 'LOS ANGELES FOUNDATION', '', '', '2339', '', '', 'LILLYVALE AVE', 'UNIT 158', 'LOS ANGELES CA', '90032-3568', '5151', '', '', 'STATE UNIVERSITY DR', '', 'LOS ANGELES CA', '90032-4226']\n",
      "['5221-028-003', '20100621-50', '', 'Y', 'CAL STATE LA UNIVERSITY', 'AUXILIARY SERVICES INC', '', 'C/O UNIVERSITY CONTROLLER', '0', '', '', '', '', '', '', '5151', '', '', 'STATE UNIVERSITY DR', '', 'LOS ANGELES CA', '90032-4226']\n",
      "['5221-028-028', '20100621-50', '', 'Y', 'CAL STATE LA UNIVERSITY', 'AUXILIARY SERVICES INC', '', 'C/O UNIVERSITY CONTROLLER', '5181', '', '', 'CAVANAGH RD', '', 'LOS ANGELES CA', '90032-4059', '5151', '', '', 'STATE UNIVERSITY DR', '', 'LOS ANGELES CA', '90032-4226']\n",
      "['5223-007-008', '20160411-50', '', 'Y', 'LA UNIVERSITY GARDEN VILLAGE LLC', '', '', '', '0', '', '', '', '', '', '', '9087', '', '', 'LAS TUNAS DR', '', 'TEMPLE CITY CA', '91780-1901']\n",
      "['5223-007-010', '20160512-50', '', 'Y', 'LA UNIVERSITY GARDEN VILLAGE LLC', '', '', '', '0', '', '', '', '', '', '', '9087', '', '', 'LAS TUNAS DR', '', 'TEMPLE CITY CA', '91780-1901']\n",
      "['5223-022-027', '20100621-50', '', 'Y', 'CAL STATE LA UNIVERSITY', 'AUXILIARY SERVICES INC', '', 'C/O UNIVERSITY CONTROLLER', '5202', '', '', 'CAVANAGH RD', '', 'LOS ANGELES CA', '90032-3956', '5151', '', '', 'STATE UNIVERSITY DR', '', 'LOS ANGELES CA', '90032-4226']\n",
      "['5223-034-908', '20050602-50', 'nonReapp', 'Y', 'TRUSTEES OF THE CA STATE', 'UNIVERSITY', '', 'MICHAEL J ENG', '2110', '', '', 'LANSDOWNE AVE', '', 'LOS ANGELES CA', '90032-3954', '405', '', '', 'HOWARD ST', '', 'SAN FRANCISCO CA', '94105-2625']\n",
      "['5249-012-037', '19920424-50', '', 'Y', 'CORNELL UNIVERSITY', '', '', '', '5119', '', '', 'BEVERLY BLVD', '', 'LOS ANGELES CA', '90022', '', '', '', '', '', '', '']\n",
      "['5258-013-013', '20150113-50', 'nonReapp', 'Y', '903 HERSHEY AVE LLC', '', '', '', '903', '', '', 'HERSHEY AVE', '', 'MONTEREY PARK CA', '91755-1427', '9457', '', 'S', 'UNIVERSITY BLVD', 'PMB 620', 'HIGHLANDS RANCH CO', '80126-4976']\n",
      "['5258-013-013', '19991217-50', '', 'N', 'CHIEN,NANCY F', '', '', '', '903', '', '', 'HERSHEY AVE', '', 'MONTEREY PARK CA', '91755-1427', '9457', '', 'S', 'UNIVERSITY BLVD', 'UNIT 620', 'HIGHLANDS RANCH CO', '80126-4976']\n",
      "['5279-024-078', '20040602-50', 'nonReapp', 'Y', 'UNIVERSITY OF THE WEST', '', '', '', '0', '', '', '', '', '', '', '1409', '', '', 'WALNUT GROVE AVE', '', 'ROSEMEAD CA', '91770-3709']\n",
      "['5279-024-078', '19960603-50', '', 'N', 'HSI LAI UNIVERSITY', '', '', '', '0', '', '', '', '', '', '', '1409', '', '', 'WALNUT GROVE AVE', '', 'ROSEMEAD CA', '91770-3709']\n",
      "['5279-027-008', '20040602-50', 'nonReapp', 'Y', 'UNIVERSITY OF THE WEST', '', '', '', '1409', '', '', 'WALNUT GROVE AVE', '', 'ROSEMEAD CA', '91770-3709', '', '', '', '', '', '', '']\n",
      "['5279-027-008', '19960603-50', '', 'N', 'HSI LAI UNIVERSITY', '', '', '', '1409', '', '', 'WALNUT GROVE AVE', '', 'ROSEMEAD CA', '91770-3709', '', '', '', '', '', '', '']\n",
      "['5279-027-009', '20040602-50', 'nonReapp', 'Y', 'UNIVERSITY OF THE WEST', '', '', '', '1409', '', '', 'WALNUT GROVE AVE', '', 'ROSEMEAD CA', '91770-3709', '', '', '', '', '', '', '']\n",
      "['5279-027-009', '19960603-50', '', 'N', 'HSI LAI UNIVERSITY', '', '', '', '1409', '', '', 'WALNUT GROVE AVE', '', 'ROSEMEAD CA', '91770-3709', '', '', '', '', '', '', '']\n",
      "['5301-010-036', '20150520-50', '', 'Y', 'BETHESDA UNIVERSITY', '', '', '', '465', '', '', 'WHEELING WAY', '', 'LOS ANGELES CA', '90042-4836', '730', '', '', 'EUCLID ST', '', 'ANAHEIM CA', '92801-4115']\n",
      "['5301-010-032', '20150520-50', '', 'Y', 'BETHESDA UNIVERSITY', '', '', '', '5509', '', '', 'VIA MARISOL', '', 'LOS ANGELES CA', '90042-4801', '730', '', '', 'EUCLID ST', '', 'ANAHEIM CA', '92801-4115']\n",
      "['5301-010-034', '20150520-50', '', 'Y', 'BETHESDA UNIVERSITY', '', '', '', '5505', '', '', 'VIA MARISOL', '', 'LOS ANGELES CA', '90042-4801', '730', '', '', 'EUCLID ST', '', 'ANAHEIM CA', '92801-4115']\n",
      "['5301-010-035', '20150520-50', '', 'Y', 'BETHESDA UNIVERSITY', '', '', '', '463', '', '', 'WHEELING WAY', '', 'LOS ANGELES CA', '90042-4836', '730', '', '', 'EUCLID ST', '', 'ANAHEIM CA', '92801-4115']\n",
      "['5301-010-037', '20150520-50', '', 'Y', 'BETHESDA UNIVERSITY', '', '', '', '467', '', '', 'WHEELING WAY', '', 'LOS ANGELES CA', '90042-4836', '730', '', '', 'EUCLID ST', '', 'ANAHEIM CA', '92801-4115']\n",
      "['5301-010-038', '20150520-50', '', 'Y', 'BETHESDA UNIVERSITY', '', '', '', '469', '', '', 'WHEELING WAY', '', 'LOS ANGELES CA', '90042-4836', '730', '', '', 'EUCLID ST', '', 'ANAHEIM CA', '92801-4115']\n",
      "['5301-010-039', '20150520-50', '', 'Y', 'BETHESDA UNIVERSITY', '', '', '', '5801', '', '', 'MONTEREY RD', '', 'LOS ANGELES CA', '90032', '730', '', '', 'EUCLID ST', '', 'ANAHEIM CA', '92801-4115']\n",
      "['5301-010-040', '20150520-50', '', 'Y', 'BETHESDA UNIVERSITY', '', '', '', '5803', '', '', 'MONTEREY RD', '', 'LOS ANGELES CA', '90032', '730', '', '', 'EUCLID ST', '', 'ANAHEIM CA', '92801-4115']\n",
      "['5301-010-041', '20150520-50', '', 'Y', 'BETHESDA UNIVERSITY', '', '', '', '5805', '', '', 'MONTEREY RD', '', 'LOS ANGELES CA', '90032', '730', '', '', 'EUCLID ST', '', 'ANAHEIM CA', '92801-4115']\n",
      "['5301-010-042', '20150520-50', '', 'Y', 'BETHESDA UNIVERSITY', '', '', '', '5807', '', '', 'MONTEREY RD', '', 'LOS ANGELES CA', '90032', '730', '', '', 'EUCLID ST', '', 'ANAHEIM CA', '92801-4115']\n",
      "['5301-010-043', '20150520-50', '', 'Y', 'BETHESDA UNIVERSITY', '', '', '', '5809', '', '', 'MONTEREY RD', '', 'LOS ANGELES CA', '90032', '730', '', '', 'EUCLID ST', '', 'ANAHEIM CA', '92801-4115']\n",
      "['5301-011-029', '20061208-50', '', 'Y', 'BETHESDA CHRISTIAN UNIVERSITY', '', '', '', '625', '', '', 'COLEMAN AVE', '', 'LOS ANGELES CA', '90042-4903', '730', '', 'N', 'EUCLID ST', '', 'ANAHEIM CA', '92801-4115']\n",
      "['5301-011-031', '20061208-50', '', 'Y', 'BETHESDA CHRISTIAN UNIVERSITY', '', '', '', '700', '', '', 'WHEELING WAY', '', 'LOS ANGELES CA', '90042-4937', '730', '', 'N', 'EUCLID ST', '', 'ANAHEIM CA', '92801-4115']\n",
      "['5301-011-033', '20061208-50', '', 'Y', 'BETHESDA CHRISTIAN UNIVERSITY', '', '', '', '5736', '', '', 'LOMITAS DR', '', 'LOS ANGELES CA', '90042-5002', '730', '', 'N', 'EUCLID ST', '', 'ANAHEIM CA', '92801-4115']\n",
      "['5301-011-036', '20061208-50', '', 'Y', 'BETHESDA CHRISTIAN UNIVERSITY', '', '', '', '0', '', '', '', '', '', '', '730', '', 'N', 'EUCLID ST', '', 'ANAHEIM CA', '92801-4115']\n",
      "['5301-011-037', '20061208-50', '', 'Y', 'BETHESDA CHRISTIAN UNIVERSITY', '', '', '', '0', '', '', '', '', '', '', '730', '', 'N', 'EUCLID ST', '', 'ANAHEIM CA', '92801-4115']\n",
      "['5301-011-038', '20061208-50', '', 'Y', 'BETHESDA CHRISTIAN UNIVERSITY', '', '', '', '0', '', '', '', '', '', '', '730', '', 'N', 'EUCLID ST', '', 'ANAHEIM CA', '92801-4115']\n",
      "['5306-017-015', '19870428-50', 'nonReapp', 'N', 'UNIVERSITY OF SOUTHERN CA ET AL', '', '', 'MICHAEL M PRESTON', '0', '', '', '', '', '', '', '0', '', '', 'UNIVERSITY PARK OWH 103', '', 'LOS ANGELES CA', '90089-0588']\n",
      "['5306-017-015', '19780601-50', 'other', 'N', 'UNIVERSITY OF SOUTHERN', '', '', '', '0', '', '', '', '', '', '', '', '', '', '', '', '', '']\n",
      "['5328-014-018', '19780822-50', 'other', 'Y', 'UNIVERSITY OF SOUTHERN CALIF', '', '', 'DEE JACKSON', '1550', '', '', 'OAK GROVE AVE', '', 'SAN MARINO CA', '91108-1108', '620', '', '', 'MC CARTHY WAY', 'STE 5', 'LOS ANGELES CA', '90089-0155']\n",
      "['5328-022-005', '19780822-50', 'other', 'Y', 'UNIVERSITY OF SOUTHERN CALIF', '', '', 'DEE JACKSON', '1550', '', '', 'OAK GROVE AVE', '', 'SAN MARINO CA', '91108-1108', '620', '', '', 'MC CARTHY WAY', 'STE 5', 'LOS ANGELES CA', '90089-0155']\n",
      "['5352-017-020', '20010829-50', 'nonReapp', 'N', 'SUZUKI,BOB H AND AGNES T TRS', '', '', '', '3012', '', 'W', 'ROSS AVE', '', 'ALHAMBRA CA', '91803-2547', '3765', '', 'W', 'UNIVERSITY DR', '', 'POMONA CA', '91768']\n",
      "['5352-017-020', '19801226-50', 'other', 'N', 'SUZUKI,BOB H AND AGNES T', '', '', '', '3012', '', 'W', 'ROSS AVE', '', 'ALHAMBRA CA', '91803-2547', '3765', '', '', 'UNIVERSITY DR', '', 'POMONA CA', '91768-2577']\n",
      "['2064-002-900', '20120703-50', 'nonReapp', 'Y', 'REGENTS OF THE UNIVERSITY OF CA', '', '', 'C/O REAL ESTATE SERVICES GROUP', '0', '', '', '', '', '', '', '1111', '', '', 'FRANKLIN ST', '6TH FL', 'OAKLAND CA', '94607-5201']\n",
      "['2212-001-902', '20110621-50', 'nonReapp', 'Y', 'REGENTS OF THE UNIVERSITY OF CA', '', '', 'C/O KEVIN MEIN SR R E OFFICER', '14250', '', '', 'ARMINTA ST', '', 'LOS ANGELES CA', '91402-6871', '1111', '', '', 'FRANKLIN ST', '6TH FL', 'OAKLAND CA', '94607-5200']\n",
      "['2220-020-023', '20100105-75', '', 'Y', 'VALLEY PRESBYTERIAN HOSPITAL', 'LESSOR', 'HCRI VAN NUYS MED FACILITY LLC', '', '6815', '', '', 'NOBLE AVE', '', 'LOS ANGELES CA', '91405-3796', '661', '', '', 'UNIVERSITY BLVD', 'STE 100', 'JUPITER FL', '33458-2795']\n",
      "['2224-004-016', '20160524-50', 'PartInt', 'Y', 'BCG SHERMAN WAY LLC ET AL', '', 'AMERICAN JEWISH UNIVERSITY', '', '0', '', '', '', '', '', '', '12034', '', '', 'NUGENT DR', '', 'GRANADA HILLS CA', '91344-1900']\n",
      "['2224-004-016', '20141224-50', 'nonReapp', 'N', 'AMERICAN JEWISH UNIVERSITY ET AL', '', '', 'C/O CRANE ALAN N TR ET AL', '0', '', '', '', '', '', '', '3436', '', 'N', 'VERDUGO RD', 'STE 101', 'GLENDALE CA', '91208-1546']\n",
      "['2224-004-017', '20160524-50', 'PartInt', 'Y', 'BCG SHERMAN WAY LLC ET AL', '', 'AMERICAN JEWISH UNIVERSITY', '', '16040', '', '', 'SHERMAN WAY', '', 'LOS ANGELES CA', '91406-4022', '12034', '', '', 'NUGENT DR', '', 'GRANADA HILLS CA', '91344-1900']\n",
      "['2224-004-017', '20141224-50', 'nonReapp', 'N', 'AMERICAN JEWISH UNIVERSITY ET AL', '', '', 'C/O CRANE ALAN N TR ET AL', '16040', '', '', 'SHERMAN WAY', '', 'LOS ANGELES CA', '91406-4022', '3436', '', 'N', 'VERDUGO RD', 'STE 101', 'GLENDALE CA', '91208-1546']\n",
      "['2224-004-043', '20160524-50', 'PartInt', 'Y', 'BCG SHERMAN WAY LLC ET AL', '', 'AMERICAN JEWISH UNIVERSITY', '', '7106', '', '', 'WOODLEY AVE', '', 'LOS ANGELES CA', '91406-3931', '12034', '', '', 'NUGENT DR', '', 'GRANADA HILLS CA', '91344-1900']\n",
      "['2224-004-043', '20141224-50', 'nonReapp', 'N', 'AMERICAN JEWISH UNIVERSITY ET AL', '', '', 'C/O CRANE ALAN N TR ET AL', '7106', '', '', 'WOODLEY AVE', '', 'LOS ANGELES CA', '91406-3931', '3436', '', 'N', 'VERDUGO RD', 'STE 101', 'GLENDALE CA', '91208-1546']\n",
      "['2229-002-020', '20091114-50', '', 'Y', 'RODGERS,RUSSELL H TR', 'JOHN P RODGERS SR DECD TRUST', '', '', '6803', '', '', 'SHOSHONE AVE', '', 'LOS ANGELES CA', '91406-4341', '6203', '', '', '97TH AVENUE CT W', '', 'UNIVERSITY PLACE WA', '98467-1051']\n",
      "['2235-010-019', '20130114-50', 'nonReapp', 'N', 'PARKS,JOHN TR', '', '', '', '6651', '', '', 'LEMONA AVE', '', 'LOS ANGELES CA', '91405-4531', '2117', '', '', 'MOUNTAIN VIEW AVE W', '', 'UNIVERSITY PLACE WA', '98466-3627']\n",
      "['2239-012-023', '19910917-50', 'nonReapp', 'N', 'MCGILL,RACHEL E TR', '', '', '', '6200', '', '', 'MURIETTA AVE', '', 'LOS ANGELES CA', '91401-2253', '891', '', '', 'UNIVERSITY DR', '', 'MERCED CA', '95348-2146']\n",
      "['2239-012-023', '19910703-50', 'nonReapp', 'N', 'MCGILL,RACHEL E', '', '', '', '6200', '', '', 'MURIETTA AVE', '', 'LOS ANGELES CA', '91401-2253', '891', '', '', 'UNIVERSITY DR', '', 'MERCED CA', '95348']\n",
      "['2239-012-023', '19810819-50', 'other', 'N', 'COGER,RACHEL E', '', '', '', '6200', '', '', 'MURIETTA AVE', '', 'LOS ANGELES CA', '91401-2253', '891', '', '', 'UNIVERSITY DR', '', 'MERCED CA', '95348']\n",
      "['2248-006-004', '19971027-50', '', 'N', 'KESHESHIAN,VARTAN AND GALIA N', '', '', 'PEPPERDINE UNIVERSITY', '4842', '', '', 'VAN NUYS BLVD', '', 'LOS ANGELES CA', '91403-2101', '2470', '', '', 'VENUS DR', '', 'LOS ANGELES CA', '90046-1646']\n",
      "['2280-015-014', '19911213-50', '', 'N', 'HIRSH,ALEX B', '', '', '', '3477', '', '', 'VALLEY MEADOW RD', '', 'LOS ANGELES CA', '91403-4838', '1541', '', '', 'UNIVERSITY AVE', '', 'SAN JOSE CA', '95126']\n",
      "['2307-025-001', '20150505-50', '', 'Y', 'DA REALTY LLC', '', '', '', '7560', '', '', 'VANTAGE AVE', '', 'LOS ANGELES CA', '91605-3629', '3434', '', '', 'UNIVERSITY AVE', 'UNIT B', 'SAN DIEGO CA', '92104-2201']\n",
      "['2331-032-199', '20080212-50', 'nonReapp', 'Y', 'UNIVERSITY OF SOUTHERN CA', '', '', 'DEE JACKSON', '13032', '', '', 'VICTORY BLVD', '', 'LOS ANGELES CA', '91606-2926', '620', '', '', 'MC CARTHY WAY', 'STE 5', 'LOS ANGELES CA', '90089-0155']\n",
      "['2334-013-058', '20141231-50', 'nonReapp', 'Y', 'KOROMPAI,LESLIE TR', 'LESLIE KOROMPAI TRUST AND', 'KOROMPAI,LESLIE', '', '6106', '', '', 'MORELLA AVE', '', 'LOS ANGELES CA', '91606-4713', '1690', '', 'E', 'UNIVERSITY', 'UNIT 6', 'LAS VEGAS NV', '89119-5827']\n",
      "['2334-013-058', '20020722-50', 'nonReapp', 'N', 'KOROMPAI,LESLIE TR', '', '', '', '6106', '', '', 'MORELLA AVE', '', 'LOS ANGELES CA', '91606-4713', '1690', '', 'E', 'UNIVERSITY', '#6', 'LAS VEGAS NV', '89119-5827']\n",
      "['2338-021-015', '19690926-50', 'other', 'N', 'VOLZ,MILDRED R', '', '', '', '5728', '', '', 'BECK AVE', '', 'LOS ANGELES CA', '91601-1606', '1216', '', 'N', 'UNIVERSITY RD', '', 'SPOKANE WASH', '99206']\n",
      "['2359-019-007', '19831114-50', 'nonReapp', 'Y', 'BROTHERS OF HOLY CROSS OF TEXAS', '', '', 'C/O ST EDWARDS UNIVERSITY', '13645', '', '', 'RIVERSIDE DR', '', 'LOS ANGELES CA', '91423-2407', '3001', '', 'S', 'CONGRESS AVE', '', 'AUSTIN TX', '78704']\n",
      "['2362-018-047', '20120224-50', '', 'Y', 'RASHIDIAN,FERDOWS', '', '', '', '4542', '', '', 'COLDWATER CANYON AVE', 'NO 2', 'LOS ANGELES CA', '91604-1072', '525', '', '', 'UNIVERSITY AVE', '', 'BURBANK CA', '91504-3922']\n",
      "['2401-042-011', '19851213-50', '', 'Y', 'WOODBURY UNIVERSITY', '', '', '', '7500', '', 'N', 'GLENOAKS BLVD', '', 'LOS ANGELES CA', '91504-1052', '7500', '', 'N', 'GLENOAKS BLVD', '', 'BURBANK CA', '91504-1052']\n",
      "['2401-047-096', '20020314-50', 'nonReapp', 'Y', 'LIN,CHI F AND KIM L TRS', 'LIN TRUST', '', '', '9346', '', '', 'VIA PATRICIA', '', 'LOS ANGELES CA', '91504-1319', '516', '', '', 'UNIVERSITY AVE', '', 'BURBANK CA', '91504-3921']\n",
      "['2401-047-096', '19780922-50', 'other', 'N', 'LIN,CHI F AND KIM', '', '', '', '9346', '', '', 'VIA PATRICIA', '', 'LOS ANGELES CA', '91504-1319', '516', '', '', 'UNIVERSITY AVE', '', 'BURBANK CA', '91504-3921']\n",
      "['2401-048-019', '20130415-50', 'nonReapp', 'Y', 'SWANSON,BLAIR R AND GUN M AND', '', 'SWANSON,RICK D', '', '9588', '', '', 'VIA BERNARDO', '', 'BURBANK CA', '91504-1207', '919', '', '', 'UNIVERSITY AVE', '', 'BURBANK CA', '91504-3035']\n",
      "['2401-048-019', '20031029-50', 'nonReapp', 'N', 'SWANSON,BLAIR R AND GUN M', '', '', '', '9588', '', '', 'VIA BERNARDO', '', 'BURBANK CA', '91504-1207', '919', '', '', 'UNIVERSITY AVE', '', 'BURBANK CA', '91504-3035']\n",
      "['2401-048-019', '19991109-50', 'nonReapp', 'N', 'SWANSON,BLAIR', '', '', '', '9588', '', '', 'VIA BERNARDO', '', 'BURBANK CA', '91504-1207', '919', '', '', 'UNIVERSITY AVE', '', 'BURBANK CA', '91504-3035']\n",
      "['2401-048-019', '19921105-50', 'nonReapp', 'N', 'SWANSON,GUN M', '', '', '', '9588', '', '', 'VIA BERNARDO', '', 'BURBANK CA', '91504-1207', '919', '', '', 'UNIVERSITY AVE', '', 'BURBANK CA', '91504-3035']\n",
      "['2401-048-019', '19800217-50', 'other', 'N', 'SWANSON,BLAIR R AND GUN M', '', '', '', '9588', '', '', 'VIA BERNARDO', '', 'BURBANK CA', '91504-1207', '919', '', '', 'UNIVERSITY AVE', '', 'BURBANK CA', '91504-3035']\n",
      "['2421-031-008', '19700721-50', 'other', 'N', 'PERSHING,JAMES J AND CAROL A', '', '', '', '4549', '', '', 'DENNY AVE', '', 'LOS ANGELES CA', '91602-1805', '943', '', 'E', 'UNIVERSITY AVE', '', 'BURBANK CA', '91504']\n",
      "['2444-008-028', '20100804-50', 'nonReapp', 'Y', '206 N KEYSTONE STREET LLC', '', '', 'C/O PILAR ZAMORA', '206', '', 'N', 'KEYSTONE ST', '', 'BURBANK CA', '91506-2325', '819', '', '', 'UNIVERSITY AVE', '', 'BURBANK CA', '91504-3033']\n",
      "['2444-008-028', '20100702-50', 'nonReapp', 'N', 'ZAMORA,PILAR TR', '', '', '', '206', '', 'N', 'KEYSTONE ST', '', 'BURBANK CA', '91506-2325', '819', '', '', 'UNIVERSITY AVE', '', 'BURBANK CA', '91504']\n",
      "['2444-008-028', '20100121-50', 'nonReapp', 'N', 'ZAMORA,PILAR TR', '', '', '', '206', '', 'N', 'KEYSTONE ST', '', 'BURBANK CA', '91506-2325', '819', '', '', 'UNIVERSITY AVE', '', 'BURBANK CA', '91504-3033']\n",
      "['2444-008-028', '20050413-50', 'nonReapp', 'N', 'ZAMORA,MIKE AND PILAR TRS', '', '', '', '206', '', 'N', 'KEYSTONE ST', '', 'BURBANK CA', '91506-2325', '819', '', '', 'UNIVERSITY AVE', '', 'BURBANK CA', '91504-3033']\n",
      "['2444-008-028', '20031001-50', 'nonReapp', 'N', 'ZAMORA,MIKE AND PILAR', '', '', '', '206', '', 'N', 'KEYSTONE ST', '', 'BURBANK CA', '91506-2325', '819', '', '', 'UNIVERSITY AVE', '', 'BURBANK CA', '91504-3033']\n",
      "['2444-008-028', '19850329-50', '', 'N', 'ZAMORA,MIKE AND PILAR AND', '', '', '', '206', '', 'N', 'KEYSTONE ST', '', 'BURBANK CA', '91506-2325', '819', '', '', 'UNIVERSITY AVE', '', 'BURBANK CA', '91504-3033']\n",
      "['2446-028-012', '19960614-50', '', 'N', 'HSU,TZUOH C AND SU CHENG', '', '', '', '212', '', 'S', 'GLENWOOD PL', '', 'BURBANK CA', '91506-2248', '706', '', '', 'UNIVERSITY AVE', '', 'BURBANK CA', '91504-3925']\n",
      "['2449-021-003', '19670245-50', 'other', 'N', 'LAZZARINI,GISELDA', '', '', '', '1213', '', 'W', 'MAGNOLIA BLVD', '', 'BURBANK CA', '91506-1829', '902', '', 'W', 'UNIVERSITY AVE', '', 'SAN DIEGO CA', '92103-2841']\n",
      "['2449-034-043', '20050509-50', '', 'Y', 'OWENS,GREG AND LINDA', '', '', '', '461', '', 'N', 'VARNEY ST', '', 'BURBANK CA', '91502-1733', '837', '', '', 'UNIVERSITY AVE', '', 'BURBANK CA', '91504-3033']\n",
      "['2451-005-030', '20161003-50', '', 'Y', 'RUBYAN,HARUT AND GAYANE', '', '', '', '411', '', 'S', 'FLOWER ST', '', 'BURBANK CA', '91502-2134', '912', '', '', 'UNIVERSITY AVE', '', 'BURBANK CA', '91504-3034']\n",
      "['2451-034-066', '20040102-50', '', 'Y', 'TASOFF,ROBERT AND MICHELE TRS', 'TASOFF TRUST', '', '', '213', '', 'W', 'ALAMEDA AVE', 'NO 103', 'BURBANK CA', '91502-3027', '531', '', '', 'UNIVERSITY AVE', '', 'BURBANK CA', '91504-3922']\n",
      "['2455-007-013', '19690619-50', 'other', 'N', 'FASANO,LOUIS AND OLIMPIA', '', '', '', '613', '', 'E', 'SANTA ANITA AVE', '', 'BURBANK CA', '91501-2410', '601', '', '', 'UNIVERSITY AVE', '', 'BURBANK CALIF', '91504']\n",
      "['2455-031-032', '20140709-50', 'nonReapp', 'Y', 'IACOBELLIS,MARIO TR', 'IACOBELLIS TRUST', '', '', '608', '', 'E', 'MAGNOLIA BLVD', '', 'BURBANK CA', '91501-2660', '517', '', '', 'UNIVERSITY AVE', '', 'BURBANK CA', '91504-3922']\n",
      "['2455-031-032', '20130701-50', 'nonReapp', 'N', 'IACOBELLIS,MARIO TR', '', '', '', '608', '', 'E', 'MAGNOLIA BLVD', '', 'BURBANK CA', '91501-2660', '517', '', '', 'UNIVERSITY AVE', '', 'BURBANK CA', '91504-3922']\n",
      "['2455-031-032', '19881202-50', 'other', 'N', 'IACOBELLIS,MARIO', '', '', '', '608', '', 'E', 'MAGNOLIA BLVD', '', 'BURBANK CA', '91501-2660', '517', '', '', 'UNIVERSITY AVE', '', 'BURBANK CA', '91504-3922']\n",
      "['2455-032-005', '20160725-50', 'nonReapp', 'Y', 'LAMER,ROGER C TR', 'ROGER C LAMER TRUST', '', '', '734', '', 'E', 'MAGNOLIA BLVD', '', 'BURBANK CA', '91501-2627', '642', '', '', 'UNIVERSITY AVE', '', 'BURBANK CA', '91504-3923']\n",
      "['2455-032-005', '20011018-50', 'nonReapp', 'N', 'LAMER,ELEANOR L CO TR', '', '', '', '734', '', 'E', 'MAGNOLIA BLVD', '', 'BURBANK CA', '91501-2627', '642', '', '', 'UNIVERSITY AVE', '', 'BURBANK CA', '91504-3923']\n",
      "['2455-032-005', '19920228-50', 'nonReapp', 'N', 'LAMER,ELEANOR L TR', '', '', '', '734', '', 'E', 'MAGNOLIA BLVD', '', 'BURBANK CA', '91501-2627', '642', '', '', 'UNIVERSITY AVE', '', 'BURBANK CA', '91504-3923']\n",
      "['2455-032-005', '19890829-50', 'nonReapp', 'N', 'LAMER,ELEANOR L TR', '', '', '', '734', '', 'E', 'MAGNOLIA BLVD', '', 'BURBANK CA', '91501-2627', '642', '', 'E', 'UNIVERSITY', '', 'BURBANK CA', '91504']\n",
      "['2455-032-005', '19890815-50', '', 'N', 'LAMER,ELEANOR L', '', '', '', '734', '', 'E', 'MAGNOLIA BLVD', '', 'BURBANK CA', '91501-2627', '642', '', 'E', 'UNIVERSITY', '', 'BURBANK CA', '91504']\n",
      "['2455-032-007', '20160725-50', 'nonReapp', 'Y', 'LAMER,ROGER C TR', 'ROGER C LAMER TRUST', '', '', '730', '', 'E', 'MAGNOLIA BLVD', '', 'BURBANK CA', '91501-2626', '642', '', '', 'UNIVERSITY AVE', '', 'BURBANK CA', '91504-3923']\n",
      "['2455-032-007', '20011018-50', 'nonReapp', 'N', 'LAMER,ELEANOR CO TR', '', '', '', '730', '', 'E', 'MAGNOLIA BLVD', '', 'BURBANK CA', '91501-2626', '642', '', '', 'UNIVERSITY AVE', '', 'BURBANK  CA', '91504-3923']\n",
      "['2455-032-007', '19920507-50', 'nonReapp', 'N', 'LAMER,ELEANOR L TR', '', '', '', '730', '', 'E', 'MAGNOLIA BLVD', '', 'BURBANK CA', '91501-2626', '642', '', '', 'UNIVERSITY AVE', '', 'BURBANK CA', '91504-3923']\n",
      "['2455-032-007', '19920228-50', 'nonReapp', 'N', 'LAMER,ELEANOR L TR', '', '', '', '730', '', 'E', 'MAGNOLIA BLVD', '', 'BURBANK CA', '91501-2626', '642', '', 'E', 'UNIVERSITY', '', 'BURBANK CA', '91504']\n",
      "['2455-032-007', '19840816-50', 'nonReapp', 'N', 'LAMER,RICHARD C AND ELEANOR TRS', '', '', '', '730', '', 'E', 'MAGNOLIA BLVD', '', 'BURBANK CA', '91501-2626', '642', '', 'E', 'UNIVERSITY AVE', '', 'BURBANK CA', '91504']\n",
      "['2455-032-007', '19750811-50', 'other', 'N', 'LAMER,RICHARD C AND ELEANOR L', '', '', '', '730', '', 'E', 'MAGNOLIA BLVD', '', 'BURBANK CA', '91501-2626', '642', '', 'E', 'UNIVERSITY AVE', '', 'BURBANK CALIF', '91504']\n",
      "['2455-032-009', '20160725-50', 'nonReapp', 'Y', 'LAMER,ROGER C TR', 'ROGER C LAMER TRUST', '', '', '724', '', 'E', 'MAGNOLIA BLVD', '', 'BURBANK CA', '91501-1924', '642', '', '', 'UNIVERSITY AVE', '', 'BURBANK CA', '91504-3923']\n",
      "['2455-032-009', '20011018-50', 'nonReapp', 'N', 'LAMER,ELEANOR L CO TR', '', '', '', '724', '', 'E', 'MAGNOLIA BLVD', '', 'BURBANK CA', '91501-1924', '642', '', '', 'UNIVERSITY AVE', '', 'BURBANK  CA', '91504-3923']\n",
      "['2455-032-009', '19920507-50', 'nonReapp', 'N', 'LAMER,ELEANOR L TR', '', '', '', '724', '', 'E', 'MAGNOLIA BLVD', '', 'BURBANK CA', '91501-1924', '642', '', '', 'UNIVERSITY AVE', '', 'BURBANK CA', '91504-3923']\n",
      "['2455-032-009', '19920228-50', 'nonReapp', 'N', 'LAMER,ELEANOR L TR', '', '', '', '724', '', 'E', 'MAGNOLIA BLVD', '', 'BURBANK CA', '91501-1924', '642', '', 'E', 'UNIVERSITY', '', 'BURBANK CA', '91504']\n",
      "['2455-032-009', '19840816-50', 'nonReapp', 'N', 'LAMER,RICHARD C AND ELEANOR TRS', '', '', '', '724', '', 'E', 'MAGNOLIA BLVD', '', 'BURBANK CA', '91501-1924', '642', '', 'E', 'UNIVERSITY AVE', '', 'BURBANK CA', '91504']\n",
      "['2455-032-009', '19750811-50', 'other', 'N', 'LAMER,RICHARD C AND ELEANOR L', '', '', '', '724', '', 'E', 'MAGNOLIA BLVD', '', 'BURBANK CA', '91501-1924', '642', '', 'E', 'UNIVERSITY AVE', '', 'BURBANK CALIF', '91504']\n",
      "['2459-010-020', '20070816-50', 'nonReapp', 'Y', 'BROUILLARD,RAE D AND', '', 'BROUILLARD,LAURA', '', '600', '', '', 'UNIVERSITY AVE', '', 'BURBANK CA', '91504-3923', '', '', '', '', '', '', '']\n",
      "['2459-010-020', '19630619-50', 'other', 'N', 'BROUILLARD,ELBERT H AND RAE D', '', '', '', '600', '', '', 'UNIVERSITY AVE', '', 'BURBANK CA', '91504-3923', '', '', '', '', '', '', '']\n",
      "['2459-010-025', '19991130-50', '', 'Y', 'CAMPI,ROBERT AND KERRY', '', '', '', '618', '', '', 'UNIVERSITY AVE', '', 'BURBANK CA', '91504-3923', '', '', '', '', '', '', '']\n",
      "['2459-010-026', '20160922-50', 'nonReapp', 'Y', 'JAGHELIAN,GREG K TR', 'GREG K JAGHELIAN TRUST', '', '', '624', '', '', 'UNIVERSITY AVE', '', 'BURBANK CA', '91504-3923', '', '', '', '', '', '', '']\n",
      "['2459-010-026', '20130114-50', 'nonReapp', 'N', 'JAGHELIAN,GREG K TR', '', '', '', '624', '', '', 'UNIVERSITY AVE', '', 'BURBANK CA', '91504-3923', '', '', '', '', '', '', '']\n",
      "['2459-010-026', '20110202-50', '', 'N', 'JAGHELIAN,GREG K', '', '', '', '624', '', '', 'UNIVERSITY AVE', '', 'BURBANK CA', '91504-3923', '', '', '', '', '', '', '']\n",
      "['2459-010-027', '20150817-50', 'nonReapp', 'Y', 'PORNTHEPSIRIPONG,PRAPARPUN', '', '', '', '630', '', '', 'UNIVERSITY AVE', '', 'BURBANK CA', '91504-3923', '', '', '', '', '', '', '']\n",
      "['2459-010-027', '20131004-50', '', 'N', 'PORNTHEPSIRIPONG,PRAPARPUN', '', '', '', '630', '', '', 'UNIVERSITY AVE', '', 'BURBANK CA', '91504-3923', '7035', '', '', 'ATOLL AVE', '', 'NORTH HOLLYWOOD CA', '91605-4605']\n",
      "['2459-010-028', '19870305-50', 'PartInt', 'Y', 'SHIMABUKURO,KUNIMITSU AND RIE', '', '', '', '636', '', '', 'UNIVERSITY AVE', '', 'BURBANK CA', '91504-3923', '', '', '', '', '', '', '']\n",
      "['2459-010-028', '19820929-50', 'other', 'N', 'SHIMABUKURO,KUNIMITSU AND', '', '', '', '636', '', '', 'UNIVERSITY AVE', '', 'BURBANK CA', '91504-3923', '', '', '', '', '', '', '']\n",
      "['2459-010-029', '20160725-50', 'nonReapp', 'Y', 'LAMER,ROGER C TR', 'ROGER C LAMER TRUST', '', '', '642', '', '', 'UNIVERSITY AVE', '', 'BURBANK CA', '91504-3923', '', '', '', '', '', '', '']\n",
      "['2459-010-029', '20130611-50', 'nonReapp', 'N', 'LAMER,ELEANOR L CO TR', '', '', '', '642', '', '', 'UNIVERSITY AVE', '', 'BURBANK CA', '91504-3923', '', '', '', '', '', '', '']\n",
      "['2459-010-029', '20091214-50', 'nonReapp', 'N', 'LAMER,ELEANOR L CO TR', '', '', '', '642', '', '', 'UNIVERSITY AVE', '', 'BURBANK CA', '91504-3923', '', '', '', '', '', '', '']\n",
      "['2459-010-029', '20011018-50', 'nonReapp', 'N', 'LAMER,ELEANOR L CO TR', '', '', '', '642', '', '', 'UNIVERSITY AVE', '', 'BURBANK CA', '91504-3923', '', '', '', '', '', '', '']\n",
      "['2459-010-029', '19920507-50', 'nonReapp', 'N', 'LAMER,ELEANOR L TR', '', '', '', '642', '', '', 'UNIVERSITY AVE', '', 'BURBANK CA', '91504-3923', '', '', '', '', '', '', '']\n",
      "['2459-010-029', '19920228-50', 'nonReapp', 'N', 'LAMER,ELEANOR L TR', '', '', '', '642', '', '', 'UNIVERSITY AVE', '', 'BURBANK CA', '91504-3923', '642', '', 'E', 'UNIVERSITY', '', 'BURBANK CA', '91504']\n",
      "['2459-010-029', '19870831-50', 'nonReapp', 'N', 'LAMER,ELEANOR L TR', '', '', '', '642', '', '', 'UNIVERSITY AVE', '', 'BURBANK CA', '91504-3923', '', '', '', '', '', '', '']\n",
      "['2459-010-029', '19840816-50', 'nonReapp', 'N', 'LAMER,RICHARD C CO TR', '', '', '', '642', '', '', 'UNIVERSITY AVE', '', 'BURBANK CA', '91504-3923', '', '', '', '', '', '', '']\n",
      "['2459-010-029', '19610404-50', 'other', 'N', 'LAMER,RICHARD C AND ELEANOR L', '', '', '', '642', '', '', 'UNIVERSITY AVE', '', 'BURBANK CA', '91504-3923', '642', '', '', 'UNIVERSITY AVE', '', 'BURBANK CALIF', '91504']\n",
      "['2459-010-030', '20080812-50', '', 'Y', 'SAROIAN,ARTOUR', '', '', '', '648', '', '', 'UNIVERSITY AVE', '', 'BURBANK CA', '91504-3923', '', '', '', '', '', '', '']\n",
      "['2459-010-031', '20101025-50', 'nonReapp', 'Y', 'HWANG,CHI KUANG', '', '', '', '700', '', '', 'UNIVERSITY AVE', '', 'BURBANK CA', '91504-3925', '4750', '', '', 'LAUREL RIDGE DR', '', 'RIVERSIDE CA', '92509-5453']\n",
      "['2459-010-031', '19810529-50', 'other', 'N', 'HWANG,KOAN-HSIUNG AND', '', '', '', '700', '', '', 'UNIVERSITY AVE', '', 'BURBANK CA', '91504-3925', '', '', '', '', '', '', '']\n",
      "['2459-010-032', '20130315-50', '', 'Y', 'CANESTRELLI,ORESTE J AND JUN W', '', '', '', '706', '', '', 'UNIVERSITY AVE', '', 'BURBANK CA', '91504-3925', '', '', '', '', '', '', '']\n",
      "['2459-010-033', '20140320-50', '', 'Y', 'OHANYAN,ARTHUR AND', 'KOCHARYAN,ARMINE', '', '', '712', '', '', 'UNIVERSITY AVE', '', 'BURBANK CA', '91504-3925', '', '', '', '', '', '', '']\n",
      "['2459-010-034', '20150625-50', 'nonReapp', 'Y', 'SHABANDARI,ANITA AND', '', 'SHABANDARI,ARGINEH', '', '718', '', '', 'UNIVERSITY AVE', '', 'BURBANK CA', '91504-3925', '', '', '', '', '', '', '']\n",
      "['2459-010-034', '20121017-50', 'nonReapp', 'N', 'SHABANDARI,ANITA ET AL', '', '', '', '718', '', '', 'UNIVERSITY AVE', '', 'BURBANK CA', '91504-3925', '9651', '', '', 'VIA TORINO', 'NO 145', 'BURBANK CA', '91504-1409']\n",
      "['2459-010-034', '20120925-50', '', 'N', 'SHABANDARI,ANITA AND', '', '', '', '718', '', '', 'UNIVERSITY AVE', '', 'BURBANK CA', '91504-3925', '', '', '', '', '', '', '']\n",
      "['2459-010-035', '20100528-50', '', 'Y', 'ZICK,DAMON AND', 'BACH,SARAH', '', '', '724', '', '', 'UNIVERSITY AVE', '', 'BURBANK CA', '91504-3925', '', '', '', '', '', '', '']\n",
      "['2459-010-036', '20040115-50', 'nonReapp', 'Y', 'ANDREWS,EDDIE P AND KRISTY TRS', 'ANDREWS FAMILY TRUST', '', '', '730', '', '', 'UNIVERSITY AVE', '', 'BURBANK CA', '91504-3925', '', '', '', '', '', '', '']\n",
      "['2459-010-036', '20031126-50', '', 'N', 'ANDREWS,EDWARD P AND KRISTY D', '', '', '', '730', '', '', 'UNIVERSITY AVE', '', 'BURBANK CA', '91504-3925', '730', '', '', 'UNIVERSITY AVE', '', 'BURBANK CA', '91504']\n",
      "['2459-010-037', '20100909-50', 'nonReapp', 'Y', 'CHRISTIANSEN,DIANE TR', 'DIANE CHRISTIANSEN TRUST', '', '', '736', '', '', 'UNIVERSITY AVE', '', 'BURBANK CA', '91504-3925', '', '', '', '', '', '', '']\n",
      "['2459-010-037', '20050719-50', 'nonReapp', 'N', 'CHRISTIANSEN,DIANE', '', '', '', '736', '', '', 'UNIVERSITY AVE', '', 'BURBANK CA', '91504-3925', '', '', '', '', '', '', '']\n",
      "['2459-010-037', '20011102-50', 'nonReapp', 'N', 'CHRISTIANSEN,DIANE TR', '', '', '', '736', '', '', 'UNIVERSITY AVE', '', 'BURBANK CA', '91504-3925', '', '', '', '', '', '', '']\n",
      "['2459-010-037', '19971024-50', 'nonReapp', 'N', 'CHRISTIANSEN,DIANE TR', '', '', '', '736', '', '', 'UNIVERSITY AVE', '', 'BURBANK CA', '91504-3925', '', '', '', '', '', '', '']\n",
      "['2459-010-037', '19931028-50', 'nonReapp', 'N', 'CHRISTIANSEN,DIANE S', '', '', '', '736', '', '', 'UNIVERSITY AVE', '', 'BURBANK CA', '91504-3925', '', '', '', '', '', '', '']\n",
      "['2459-010-037', '19740710-50', 'other', 'N', 'CHRISTIANSEN,DIANE S', '', '', '', '736', '', '', 'UNIVERSITY AVE', '', 'BURBANK CA', '91504-3925', '', '', '', '', '', '', '']\n",
      "['2459-010-038', '20100519-50', 'nonReapp', 'Y', 'GRAFF,EDWARD CO TR', 'DOROTHY FAMILY TRUST', '', '', '742', '', '', 'UNIVERSITY AVE', '', 'BURBANK CA', '91504-3925', '', '', '', '', '', '', '']\n",
      "['2459-010-038', '19981119-50', '', 'N', 'GRAFF,EDWARD W', '', '', '', '742', '', '', 'UNIVERSITY AVE', '', 'BURBANK CA', '91504-3925', '', '', '', '', '', '', '']\n",
      "['2459-010-041', '20041029-50', 'nonReapp', 'Y', 'DERBOGHOSSIAN,CHRIS AND AIDA', '', '', '', '606', '', '', 'UNIVERSITY AVE', '', 'BURBANK CA', '91504-3923', '', '', '', '', '', '', '']\n",
      "['2459-010-041', '20000411-50', 'nonReapp', 'N', 'VARTANIAN FAMILY LTD PARTNERSHIP', '', '', '', '606', '', '', 'UNIVERSITY AVE', '', 'BURBANK CA', '91504-3923', '3305', '', 'W', 'SPRING MOUNTAIN RD', '60A', 'LAS VEGAS NV', '89102']\n",
      "['2459-010-041', '19981028-50', 'nonReapp', 'N', 'VARTANIAN,AIDA', '', '', '', '606', '', '', 'UNIVERSITY AVE', '', 'BURBANK CA', '91504-3923', '', '', '', '', '', '', '']\n",
      "['2459-010-041', '19970530-50', '', 'N', 'VARTANIAN,AIDA', '', '', '', '606', '', '', 'UNIVERSITY AVE', '', 'BURBANK CA', '91504-3923', '', '', '', '', '', '', '']\n",
      "['2459-010-042', '19930224-50', 'nonReapp', 'Y', 'LAWRENCE,ELIZABETH J TR', 'ELIZABETH J LAWRENCE TRUST AND', 'MCMICKLE,CHARLES M', '', '612', '', '', 'UNIVERSITY AVE', '', 'BURBANK CA', '91504-3923', '', '', '', '', '', '', '']\n",
      "['2459-010-042', '19720000-50', 'other', 'N', 'MCMICKLE,CHARLES M AND', '', '', '', '612', '', '', 'UNIVERSITY AVE', '', 'BURBANK CA', '91504-3923', '', '', '', '', '', '', '']\n",
      "['2459-011-001', '20141203-50', 'nonReapp', 'Y', 'POKORNY,ANGELA A', '', '', '', '743', '', '', 'UNIVERSITY AVE', '', 'BURBANK CA', '91504-3926', '', '', '', '', '', '', '']\n",
      "['2459-011-001', '19710311-50', 'other', 'N', 'POKORNY,OSCAR C AND ANGELA A', '', '', '', '743', '', '', 'UNIVERSITY AVE', '', 'BURBANK CA', '91504-3926', '', '', '', '', '', '', '']\n",
      "['2459-011-002', '20140319-50', 'nonReapp', 'Y', 'CRAWGHT,MERCY M TR', 'MERCY M CRAWGHT TRUST', '', '', '737', '', '', 'UNIVERSITY AVE', '', 'BURBANK CA', '91504-3926', '948', '', 'E', 'CAMBRIDGE DR', '', 'BURBANK CA', '91504-1915']\n",
      "['2459-011-002', '20121102-50', 'nonReapp', 'N', 'CRAWGHT,MERCY M TR', '', '', '', '737', '', '', 'UNIVERSITY AVE', '', 'BURBANK CA', '91504-3926', '948', '', 'E', 'CAMBRIDGE DR', '', 'BURBANK CA', '91504-1915']\n",
      "['2459-011-002', '20080124-50', 'nonReapp', 'N', 'CRAWGHT,MERCY M', '', '', '', '737', '', '', 'UNIVERSITY AVE', '', 'BURBANK CA', '91504-3926', '948', '', '', 'CAMBRIDGE DR', '', 'BURBANK CA', '91504-1915']\n",
      "['2459-011-002', '20060904-50', 'nonReapp', 'N', 'CRAWGHT,MERCY M TR', '', '', '', '737', '', '', 'UNIVERSITY AVE', '', 'BURBANK CA', '91504-3926', '948', '', 'E', 'CAMBRIDGE DR', '', 'BURBANK CA', '91504']\n",
      "['2459-011-002', '20030904-50', 'nonReapp', 'N', 'HURD,THOMAS D CO TR', '', '', '', '737', '', '', 'UNIVERSITY AVE', '', 'BURBANK CA', '91504-3926', '', '', '', '', '', '', '']\n",
      "['2459-011-002', '19960830-50', 'nonReapp', 'N', 'HURD,THOMAS D AND MERCY M TRS', '', '', '', '737', '', '', 'UNIVERSITY AVE', '', 'BURBANK CA', '91504-3926', '', '', '', '', '', '', '']\n",
      "['2459-011-002', '19591110-50', 'other', 'N', 'HURD,THOMAS D&MERCY M', '', '', '', '737', '', '', 'UNIVERSITY AVE', '', 'BURBANK CA', '91504-3926', '', '', '', '', '', '', '']\n",
      "['2459-011-003', '20140417-50', 'nonReapp', 'Y', 'PLASCENCIA,SELMA TR', 'PLASCENCIA FAMILY TRUST', '', '', '731', '', '', 'UNIVERSITY AVE', '', 'BURBANK CA', '91504-3926', '', '', '', '', '', '', '']\n",
      "['2459-011-003', '20120208-50', 'nonReapp', 'N', 'PLASCENCIA,SELMA', '', '', '', '731', '', '', 'UNIVERSITY AVE', '', 'BURBANK CA', '91504-3926', '', '', '', '', '', '', '']\n",
      "['2459-011-003', '20000314-50', '', 'N', 'PLASCENCIA,ARMANDO AND SELMA', '', '', '', '731', '', '', 'UNIVERSITY AVE', '', 'BURBANK CA', '91504-3926', '', '', '', '', '', '', '']\n",
      "['2459-011-004', '19920211-50', 'nonReapp', 'Y', 'ZOBER,MAVRINE W TR', 'ZOBER TRUST', '', '', '725', '', '', 'UNIVERSITY AVE', '', 'BURBANK CA', '91504-3926', '', '', '', '', '', '', '']\n",
      "['2459-011-004', '19870619-50', 'nonReapp', 'N', 'ZOBER,SIDNEY N AND MAURINE W TRS', '', '', '', '725', '', '', 'UNIVERSITY AVE', '', 'BURBANK CA', '91504-3926', '', '', '', '', '', '', '']\n",
      "['2459-011-004', '19580808-50', 'other', 'N', 'ZOBER,SIDNEY N&MAURINE W', '', '', '', '725', '', '', 'UNIVERSITY AVE', '', 'BURBANK CA', '91504-3926', '', '', '', '', '', '', '']\n",
      "['2459-011-005', '20070305-50', 'nonReapp', 'Y', 'KIM,JOSEPHINA J', '', '', '', '719', '', '', 'UNIVERSITY AVE', '', 'BURBANK CA', '91504-3926', '1258', '', 'W', '74TH ST', '', 'CLEVELAND OH', '44102-2025']\n",
      "['2459-011-005', '19990812-50', 'nonReapp', 'N', 'KIM,DAVID K AND GRACE J TRS', '', '', '', '719', '', '', 'UNIVERSITY AVE', '', 'BURBANK CA', '91504-3926', '', '', '', '', '', '', '']\n",
      "['2459-011-005', '19901010-50', '', 'N', 'KIM,KI HWAN AND JIN', '', '', '', '719', '', '', 'UNIVERSITY AVE', '', 'BURBANK CA', '91504-3926', '', '', '', '', '', '', '']\n",
      "['2459-011-006', '20130723-50', 'nonReapp', 'Y', 'FASANELLA,TANYA M TR', 'SCARLETT HOLDINGS TRUST', '', '', '713', '', '', 'UNIVERSITY AVE', '', 'BURBANK CA', '91504-3926', '', '', '', '', '', '', '']\n",
      "['2459-011-006', '20041213-50', 'nonReapp', 'N', 'LIZARRAGA,HUBERT AND ANNA M', '', '', '', '713', '', '', 'UNIVERSITY AVE', '', 'BURBANK CA', '91504-3926', '', '', '', '', '', '', '']\n",
      "['2459-011-006', '20040914-50', 'nonReapp', 'N', 'LIZARRAGA,HUBERT', '', '', '', '713', '', '', 'UNIVERSITY AVE', '', 'BURBANK CA', '91504-3926', '', '', '', '', '', '', '']\n",
      "['2459-011-006', '20031202-50', 'nonReapp', 'N', 'LIZARRAGA,HUBERT AND ANA M', '', '', '', '713', '', '', 'UNIVERSITY AVE', '', 'BURBANK CA', '91504-3926', '', '', '', '', '', '', '']\n",
      "['2459-011-006', '20030501-50', 'nonReapp', 'N', 'LIZARRAGA,HUBERT', '', '', '', '713', '', '', 'UNIVERSITY AVE', '', 'BURBANK CA', '91504-3926', '', '', '', '', '', '', '']\n",
      "['2459-011-006', '20000331-50', 'nonReapp', 'N', 'LIZARRAGA,HUBERT AND ANNE M', '', '', '', '713', '', '', 'UNIVERSITY AVE', '', 'BURBANK CA', '91504-3926', '', '', '', '', '', '', '']\n",
      "['2459-011-006', '19840911-50', '', 'N', 'LIZARRAGA,HUBERT AND ANNA M', '', '', '', '713', '', '', 'UNIVERSITY AVE', '', 'BURBANK CA', '91504-3926', '', '', '', '', '', '', '']\n",
      "['2459-011-007', '20140606-50', 'nonReapp', 'Y', 'MANNING,SHARON L TR', 'SHARON L MANNING TRUST', '', '', '707', '', '', 'UNIVERSITY AVE', '', 'BURBANK CA', '91504-3926', '', '', '', '', '', '', '']\n",
      "['2459-011-007', '20130617-50', 'nonReapp', 'N', 'MANNING,BENNY J AND SHARON L', '', '', '', '707', '', '', 'UNIVERSITY AVE', '', 'BURBANK CA', '91504-3926', '', '', '', '', '', '', '']\n",
      "['2459-011-007', '20080911-50', 'nonReapp', 'N', 'MANNING,SHARON L TR', '', '', '', '707', '', '', 'UNIVERSITY AVE', '', 'BURBANK CA', '91504-3926', '', '', '', '', '', '', '']\n",
      "['2459-011-007', '20060119-50', 'nonReapp', 'N', 'MANNING,SHARON', '', '', '', '707', '', '', 'UNIVERSITY AVE', '', 'BURBANK CA', '91504-3926', '', '', '', '', '', '', '']\n",
      "['2459-011-007', '20020717-50', 'nonReapp', 'N', 'STACY,MARY K TR', '', '', '', '707', '', '', 'UNIVERSITY AVE', '', 'BURBANK CA', '91504-3926', '2750', '', '', 'ANDERSON RD', '', 'PASO ROBLES CA', '93446-9612']\n",
      "['2459-011-007', '19981029-50', 'nonReapp', 'N', 'CARNAHAN,INEZ J TR', '', '', '', '707', '', '', 'UNIVERSITY AVE', '', 'BURBANK CA', '91504-3926', '', '', '', '', '', '', '']\n",
      "['2459-011-007', '19880321-50', 'nonReapp', 'N', 'CARNAHAN,INEZ J', '', '', '', '707', '', '', 'UNIVERSITY AVE', '', 'BURBANK CA', '91504-3926', '', '', '', '', '', '', '']\n",
      "['2459-011-007', '19510913-50', 'other', 'N', 'CARNAHAN,MILLARD L', '', '', '', '707', '', '', 'UNIVERSITY AVE', '', 'BURBANK CA', '91504-3926', '', '', '', '', '', '', '']\n",
      "['2459-011-008', '20111028-50', '', 'Y', 'MALKHASOVA,KRISTINA', '', '', '', '701', '', '', 'UNIVERSITY AVE', '', 'BURBANK CA', '91504-3926', '', '', '', '', '', '', '']\n",
      "['2459-011-009', '19960605-50', 'nonReapp', 'Y', 'HILT,CHARLES E AND KAY E', '', '', '', '649', '', '', 'UNIVERSITY AVE', '', 'BURBANK CA', '91504-3924', '', '', '', '', '', '', '']\n",
      "['2459-011-009', '19760302-50', 'other', 'N', 'JACOBSEN,KAY E', '', '', '', '649', '', '', 'UNIVERSITY AVE', '', 'BURBANK CA', '91504-3924', '525', '', 'S', 'BEL AIRE DR', '', 'BURBANK CA', '91501-1503']\n",
      "['2459-011-010', '20150414-50', '', 'Y', 'FINNEGAN,JOHN F AND MARIA T TRS', 'FINNEGAN FAMILY TRUST', '', '', '643', '', '', 'UNIVERSITY AVE', '', 'BURBANK CA', '91504-3924', '506', '', '', 'ALMER RD', 'APT 1', 'BURLINGAME CA', '94010-3940']\n",
      "['2459-011-011', '20070605-50', 'nonReapp', 'Y', 'AZRAEL,RUTH TR', 'RUTH AZRAEL TRUST', '', '', '637', '', '', 'UNIVERSITY AVE', '', 'BURBANK CA', '91504-3924', '', '', '', '', '', '', '']\n",
      "['2459-011-011', '20060616-50', 'nonReapp', 'N', 'AZRAEL,RUTH', '', '', '', '637', '', '', 'UNIVERSITY AVE', '', 'BURBANK CA', '91504-3924', '', '', '', '', '', '', '']\n",
      "['2459-011-011', '20040816-50', 'nonReapp', 'N', 'AZRAEL,RUTH CO TR', '', '', '', '637', '', '', 'UNIVERSITY AVE', '', 'BURBANK CA', '91504-3924', '', '', '', '', '', '', '']\n",
      "['2459-011-011', '20040614-50', '', 'N', 'AZRAEL,RUTH', '', '', '', '637', '', '', 'UNIVERSITY AVE', '', 'BURBANK CA', '91504-3924', '637', '', '', 'UNIVERSITY AVE', '', 'BURBANK CA', '91504']\n",
      "['2459-011-012', '19870710-50', 'nonReapp', 'Y', 'RASSP,HERMAN AND BEVERLY A TRS', 'RASSP TRUST', '', '', '631', '', '', 'UNIVERSITY AVE', '', 'BURBANK CA', '91504-3924', '0', '', '', 'PO BOX 6548', '', 'BURBANK CA', '91510-6548']\n",
      "['2459-011-012', '19870420-50', 'nonReapp', 'N', 'RASSP,HERMAN AND BEVERLY A', '', '', '', '631', '', '', 'UNIVERSITY AVE', '', 'BURBANK CA', '91504-3924', '', '', '', '', '', '', '']\n",
      "['2459-011-012', '19601215-50', 'other', 'N', 'RASSP,HERMAN&BEVERLY A', '', '', '', '631', '', '', 'UNIVERSITY AVE', '', 'BURBANK CA', '91504-3924', '', '', '', '', '', '', '']\n",
      "['2459-011-013', '20120821-50', 'nonReapp', 'Y', 'RHOADS,GREGORY AND SHERYL TRS', 'RHOADS TRUST', '', '', '625', '', '', 'UNIVERSITY AVE', '', 'BURBANK CA', '91504-3924', '', '', '', '', '', '', '']\n",
      "['2459-011-013', '20091207-50', 'nonReapp', 'N', 'RHOADS,GREGORY AND SHERYL TRS', '', '', '', '625', '', '', 'UNIVERSITY AVE', '', 'BURBANK CA', '91504-3924', '', '', '', '', '', '', '']\n",
      "['2459-011-013', '19840605-50', '', 'N', 'RHOADS,GREGORY D AND SHERYL L', '', '', '', '625', '', '', 'UNIVERSITY AVE', '', 'BURBANK CA', '91504-3924', '', '', '', '', '', '', '']\n",
      "['2459-011-014', '20131216-50', 'nonReapp', 'Y', 'KOZIKOWSKI,JOSEPH L CO TR', 'KOZIKOWSKI TRUST', '', '', '619', '', '', 'UNIVERSITY AVE', '', 'BURBANK CA', '91504-3924', '', '', '', '', '', '', '']\n",
      "['2459-011-014', '20121218-50', '', 'N', 'KOZIKOWSKI,JOSEPH L AND LEILA J', '', '', '', '619', '', '', 'UNIVERSITY AVE', '', 'BURBANK CA', '91504-3924', '', '', '', '', '', '', '']\n",
      "['2459-011-019', '20161104-50', 'nonReapp', 'Y', 'FARRELL,JAMES A CO TR', 'HANSEN FARRELL TRUST', '', '', '601', '', '', 'UNIVERSITY AVE', '', 'BURBANK CA', '91504-3924', '', '', '', '', '', '', '']\n",
      "['2459-011-019', '20141223-50', 'nonReapp', 'N', 'FARRELL,JAMES A CO TR', '', '', '', '601', '', '', 'UNIVERSITY AVE', '', 'BURBANK CA', '91504-3924', '', '', '', '', '', '', '']\n",
      "['2459-011-019', '20141203-50', 'nonReapp', 'N', 'FARRELL,JAMES A AND', '', '', '', '601', '', '', 'UNIVERSITY AVE', '', 'BURBANK CA', '91504-3924', '', '', '', '', '', '', '']\n",
      "['2459-011-019', '20101025-50', 'nonReapp', 'N', 'FARRELL,JAMES A CO TR', '', '', '', '601', '', '', 'UNIVERSITY AVE', '', 'BURBANK CA', '91504-3924', '', '', '', '', '', '', '']\n",
      "['2459-011-019', '20030610-50', 'nonReapp', 'N', 'FARRELL,JAMES A CO TR', '', '', '', '601', '', '', 'UNIVERSITY AVE', '', 'BURBANK CA', '91504-3924', '', '', '', '', '', '', '']\n",
      "['2459-011-019', '19970925-50', '', 'N', 'FARRELL,JAMES A AND', '', '', '', '601', '', '', 'UNIVERSITY AVE', '', 'BURBANK CA', '91504-3924', '', '', '', '', '', '', '']\n",
      "['2459-011-039', '20050406-50', 'nonReapp', 'Y', 'PORTER,ELLIOTT F AND ESTHER TRS', 'PORTER FAMILY TRUST', '', '', '613', '', '', 'UNIVERSITY AVE', '', 'BURBANK CA', '91504-3924', '', '', '', '', '', '', '']\n",
      "['2459-011-039', '19941205-50', '', 'N', 'PORTER,ELLIOTT AND ESTHER', '', '', '', '613', '', '', 'UNIVERSITY AVE', '', 'BURBANK CA', '91504-3924', '', '', '', '', '', '', '']\n",
      "['2459-011-040', '20110316-50', 'nonReapp', 'Y', 'HOVEY,HARRY P AND CHRISTINA TRS', 'HOVEY TRUST', '', '', '607', '', '', 'UNIVERSITY AVE', '', 'BURBANK CA', '91504-3924', '13041', '', '', 'PT RICHMOND BEACH RD NW', '', 'GIG HARBOR WA', '98332-0996']\n",
      "['2459-011-040', '19740109-50', 'other', 'N', 'HOVEY,HARRY P AND CHRISTINE', '', '', '', '607', '', '', 'UNIVERSITY AVE', '', 'BURBANK CA', '91504-3924', '13041', '', '', 'PT RICHMOND BEACH RD NW', '', 'GIG HARBOR WA', '98332-0996']\n",
      "['2459-022-009', '20030623-50', 'nonReapp', 'Y', 'MARKARIANS,MISHIK AND SCARLET', '', '', '', '401', '', '', 'UNIVERSITY AVE', '', 'BURBANK CA', '91504-3920', '', '', '', '', '', '', '']\n",
      "['2459-022-009', '20020301-50', '', 'N', 'MARKARIANS,MISHIK AND SCARLET', '', '', '', '401', '', '', 'UNIVERSITY AVE', '', 'BURBANK CA', '91504-3920', '', '', '', '', '', '', '']\n",
      "['2459-022-010', '20090825-50', 'nonReapp', 'Y', 'HAYASHI,KAZUO TR', 'KAZ HAYASHI TRUST', '', '', '407', '', '', 'UNIVERSITY AVE', '', 'BURBANK CA', '91504-3920', '', '', '', '', '', '', '']\n",
      "['2459-022-010', '19931227-50', 'nonReapp', 'N', 'HAYASHI,KAZUO AND SHIZUKA E', '', '', '', '407', '', '', 'UNIVERSITY AVE', '', 'BURBANK CA', '91504-3920', '', '', '', '', '', '', '']\n",
      "['2459-022-010', '19670818-50', 'other', 'N', 'HAYASHI,KAZUO AND SHIZUKA E', '', '', '', '407', '', '', 'UNIVERSITY AVE', '', 'BURBANK CA', '91504-3920', '', '', '', '', '', '', '']\n",
      "['2459-022-011', '20120518-50', 'nonReapp', 'Y', 'TEIXEIRA,BRIAN C AND', 'MAZZUCATO,ANNA V', '', '', '413', '', '', 'UNIVERSITY AVE', '', 'BURBANK CA', '91504-3920', '', '', '', '', '', '', '']\n",
      "['2459-022-011', '20031205-50', '', 'N', 'TEIXEIRA,BRIAN C AND', '', '', '', '413', '', '', 'UNIVERSITY AVE', '', 'BURBANK CA', '91504-3920', '', '', '', '', '', '', '']\n",
      "['2459-022-012', '20130319-50', '', 'Y', 'AVANESIYAN,ARARAT', '', '', '', '419', '', '', 'UNIVERSITY AVE', '', 'BURBANK CA', '91504-3920', '', '', '', '', '', '', '']\n",
      "['2459-022-013', '20061227-50', '', 'Y', 'ALGER,PERCIVAL AND DINA', '', '', '', '425', '', '', 'UNIVERSITY AVE', '', 'BURBANK CA', '91504-3920', '', '', '', '', '', '', '']\n",
      "['2459-022-014', '20090602-50', 'nonReapp', 'Y', 'CONIGLIO,MICHAEL T AND', 'NOTTINGHAM,RENA D', '', '', '431', '', '', 'UNIVERSITY AVE', '', 'BURBANK CA', '91504-3920', '', '', '', '', '', '', '']\n",
      "['2459-022-014', '19990224-50', '', 'N', 'CONIGLIO,MICHAEL T AND', '', '', '', '431', '', '', 'UNIVERSITY AVE', '', 'BURBANK CA', '91504-3920', '', '', '', '', '', '', '']\n",
      "['2459-022-015', '20150923-50', '', 'Y', 'STERN,WILLIAM D AND VALERIE L', '', '', '', '437', '', '', 'UNIVERSITY AVE', '', 'BURBANK CA', '91504-3920', '5021', '', '', 'BUTTERFIELD CT', '', 'CULVER CITY CA', '90230-4362']\n",
      "['2459-022-016', '20161118-50', '', 'Y', 'YUN,SUNNY', '', '', '', '441', '', '', 'UNIVERSITY AVE', '', 'BURBANK CA', '91504-3920', '', '', '', '', '', '', '']\n",
      "['2459-023-001', '20051130-50', '', 'Y', 'STUMBAUGH,JEFFREY D', '', '', '', '501', '', '', 'UNIVERSITY AVE', '', 'BURBANK CA', '91504-3922', '', '', '', '', '', '', '']\n",
      "['2459-023-002', '20030519-50', '', 'Y', 'AUSUBEL,LARA', '', '', '', '507', '', '', 'UNIVERSITY AVE', '', 'BURBANK CA', '91504-3922', '', '', '', '', '', '', '']\n",
      "['2459-023-003', '20040219-50', 'nonReapp', 'Y', 'BANNOS,STEVE', '', '', '', '511', '', '', 'UNIVERSITY AVE', '', 'BURBANK CA', '91504-3922', '', '', '', '', '', '', '']\n",
      "['2459-023-003', '20030304-50', 'nonReapp', 'N', 'BANNOS,STEVE AND CARIN', '', '', '', '511', '', '', 'UNIVERSITY AVE', '', 'BURBANK CA', '91504-3922', '', '', '', '', '', '', '']\n",
      "['2459-023-003', '19990622-50', '', 'N', 'BANNOS,STEVE', '', '', '', '511', '', '', 'UNIVERSITY AVE', '', 'BURBANK CA', '91504-3922', '', '', '', '', '', '', '']\n",
      "['2459-023-004', '20130701-50', 'nonReapp', 'Y', 'IACOBELLIS,MARIO TR', 'IACOBELLIS TRUST', '', '', '517', '', '', 'UNIVERSITY AVE', '', 'BURBANK CA', '91504-3922', '', '', '', '', '', '', '']\n",
      "['2459-023-004', '19771004-50', 'other', 'N', 'IACOBELLIS,MARIO', '', '', '', '517', '', '', 'UNIVERSITY AVE', '', 'BURBANK CA', '91504-3922', '', '', '', '', '', '', '']\n",
      "['2459-023-005', '20130830-50', 'nonReapp', 'Y', 'MCKEWEN,KATHLEEN E', '', '', '', '521', '', '', 'UNIVERSITY AVE', '', 'BURBANK CA', '91504-3922', '', '', '', '', '', '', '']\n",
      "['2459-023-005', '20040624-75', 'nonReapp', 'N', 'SYDNOR,CHARLES AND', '', '', '', '521', '', '', 'UNIVERSITY AVE', '', 'BURBANK CA', '91504-3922', '', '', '', '', '', '', '']\n",
      "['2459-023-005', '20040624-25', '', 'N', 'SYDNOR,CHARLES L', '', '', '', '521', '', '', 'UNIVERSITY AVE', '', 'BURBANK CA', '91504-3922', '521', '', '', 'UNIVERSITY AVE', '', 'BURBANK CA', '91504']\n",
      "['2459-023-006', '20120405-50', 'nonReapp', 'Y', 'RASHIDIAN,MANOCHEHR AND FERDOWS', '', '', '', '525', '', '', 'UNIVERSITY AVE', '', 'BURBANK CA', '91504-3922', '', '', '', '', '', '', '']\n",
      "['2459-023-006', '20070209-50', '', 'N', 'RASHIDIAN,MONOCHEHR AND FERDOWS', '', '', '', '525', '', '', 'UNIVERSITY AVE', '', 'BURBANK CA', '91504-3922', '', '', '', '', '', '', '']\n",
      "['2459-023-007', '20150528-50', '', 'Y', 'TASOFF,ROBERT S CO TR', 'R S AND M L TASOFF TRUST', '', '', '531', '', '', 'UNIVERSITY AVE', '', 'BURBANK CA', '91504-3922', '', '', '', '', '', '', '']\n",
      "['2459-023-008', '20140508-50', 'nonReapp', 'Y', 'SALADIN,RALPH W TR', 'RALPH W SALADIN TRUST', '', '', '537', '', '', 'UNIVERSITY AVE', '', 'BURBANK CA', '91504-3922', '', '', '', '', '', '', '']\n",
      "['2459-023-008', '19890927-50', 'nonReapp', 'N', 'SALADIN,RALPH W AND BEVERLY I', '', '', '', '537', '', '', 'UNIVERSITY AVE', '', 'BURBANK CA', '91504-3922', '', '', '', '', '', '', '']\n",
      "['2459-023-008', '19640508-50', 'other', 'N', 'SALADIN,RALPH W AND BEVERLY I', '', '', '', '537', '', '', 'UNIVERSITY AVE', '', 'BURBANK CA', '91504-3922', '', '', '', '', '', '', '']\n",
      "['2459-024-010', '19991221-50', 'PartInt', 'Y', 'SKENDERIAN,SETA W', '', '', '', '536', '', '', 'UNIVERSITY AVE', '', 'BURBANK CA', '91504-3921', '', '', '', '', '', '', '']\n",
      "['2459-024-010', '19961018-50', '', 'N', 'SKENDERIAN,SETA W AND', '', '', '', '536', '', '', 'UNIVERSITY AVE', '', 'BURBANK CA', '91504-3921', '', '', '', '', '', '', '']\n",
      "['2459-024-011', '19920427-50', 'nonReapp', 'Y', 'POMO,MARIO A AND NELLIE TRS', 'POMO FAMILY TRUST', '', '', '530', '', '', 'UNIVERSITY AVE', '', 'BURBANK CA', '91504-3921', '', '', '', '', '', '', '']\n",
      "['2459-024-011', '19670245-50', 'other', 'N', 'POMO,MARIO A AND NELLIE', '', '', '', '530', '', '', 'UNIVERSITY AVE', '', 'BURBANK CA', '91504-3921', '', '', '', '', '', '', '']\n",
      "['2459-024-012', '20010312-50', 'nonReapp', 'Y', 'BRUMMET,CAROL A TR', 'CAROL A BRUMMET TRUST', '', '', '526', '', '', 'UNIVERSITY AVE', '', 'BURBANK CA', '91504-3921', '', '', '', '', '', '', '']\n",
      "['2459-024-012', '19941123-50', 'nonReapp', 'N', 'BRUMMET,CAROL A', '', '', '', '526', '', '', 'UNIVERSITY AVE', '', 'BURBANK CA', '91504-3921', '', '', '', '', '', '', '']\n",
      "['2459-024-012', '19790625-50', 'other', 'N', 'BRUMMET,WILLIAM N AND CAROL A', '', '', '', '526', '', '', 'UNIVERSITY AVE', '', 'BURBANK CA', '91504-3921', '', '', '', '', '', '', '']\n",
      "['2459-024-013', '20060808-50', '', 'Y', 'BLUMA,JAMES R AND', 'WHITE,LISA M', '', '', '520', '', '', 'UNIVERSITY AVE', '', 'BURBANK CA', '91504-3921', '', '', '', '', '', '', '']\n",
      "['2459-024-014', '20020314-50', 'nonReapp', 'Y', 'LIN,CHI F AND KIM L TRS', 'CHI F AND KIM L LIN TRUST', '', '', '516', '', '', 'UNIVERSITY AVE', '', 'BURBANK CA', '91504-3921', '', '', '', '', '', '', '']\n",
      "['2459-024-014', '19870821-50', '', 'N', 'LIN,CHI F AND KIM', '', '', '', '516', '', '', 'UNIVERSITY AVE', '', 'BURBANK CA', '91504-3921', '', '', '', '', '', '', '']\n",
      "['2459-024-015', '19931029-50', 'nonReapp', 'Y', 'GORDON,DAVID W', '', '', '', '510', '', '', 'UNIVERSITY AVE', '', 'BURBANK CA', '91504-3921', '', '', '', '', '', '', '']\n",
      "['2459-024-015', '19920306-50', '', 'N', 'GORDON,DAVID W', '', '', '', '510', '', '', 'UNIVERSITY AVE', '', 'BURBANK CA', '91504-3921', '851', '', 'N', 'HOLLYWOOD WAY', '', 'BURBANK CA', '91505-2814']\n",
      "['2459-024-016', '20060626-50', 'nonReapp', 'Y', 'SIMIC,P JOHN CO TR', 'SIMIC AND BARBA TRUST', '', '', '506', '', '', 'UNIVERSITY AVE', '', 'BURBANK CA', '91504-3921', '', '', '', '', '', '', '']\n",
      "['2459-024-016', '20021204-50', '', 'N', 'SIMIC,PETER J JR AND', '', '', '', '506', '', '', 'UNIVERSITY AVE', '', 'BURBANK CA', '91504-3921', '', '', '', '', '', '', '']\n",
      "['2459-024-017', '20160701-50', 'nonReapp', 'Y', 'PRIMROSE,MARK J AND PAMELA L TRS', 'MARK AND PAMELA PRIMROSE TRUST', '', '', '500', '', '', 'UNIVERSITY AVE', '', 'BURBANK CA', '91504-3921', '', '', '', '', '', '', '']\n",
      "['2459-024-017', '20141002-50', 'nonReapp', 'N', 'PRIMROSE,MARK J AND PAMELA L TR', '', '', '', '500', '', '', 'UNIVERSITY AVE', '', 'BURBANK CA', '91504-3921', '', '', '', '', '', '', '']\n",
      "['2459-024-017', '20130823-50', 'nonReapp', 'N', 'PRIMROSE,MARK J AND PAMELA L TRS', '', '', '', '500', '', '', 'UNIVERSITY AVE', '', 'BURBANK CA', '91504-3921', '', '', '', '', '', '', '']\n",
      "['2459-024-017', '20130816-50', '', 'N', 'PRIMROSE,MARK J AND PAMELA L', '', '', '', '500', '', '', 'UNIVERSITY AVE', '', 'BURBANK CA', '91504-3921', '', '', '', '', '', '', '']\n",
      "['2459-025-001', '20090730-50', 'nonReapp', 'Y', 'GHURANI,KAMEL AND LAILA TRS', 'KAMEL AND LAILA GHURANI TRUST', '', '', '442', '', '', 'UNIVERSITY AVE', '', 'BURBANK CA', '91504-3919', '', '', '', '', '', '', '']\n",
      "['2459-025-001', '19920915-50', 'nonReapp', 'N', 'GHURANI,KAMEL B AND LAILA K', '', '', '', '442', '', '', 'UNIVERSITY AVE', '', 'BURBANK CA', '91504-3919', '', '', '', '', '', '', '']\n",
      "['2459-025-001', '19910930-50', 'nonReapp', 'N', 'GHURANI,LAILA K', '', '', '', '442', '', '', 'UNIVERSITY AVE', '', 'BURBANK CA', '91504-3919', '422', '', '', 'UNIVERSITY AVE', '', 'BURBANK CA', '91504']\n",
      "['2459-025-001', '19790913-50', 'other', 'N', 'GHURANI,KAMEL B AND LAILA K', '', '', '', '442', '', '', 'UNIVERSITY AVE', '', 'BURBANK CA', '91504-3919', '', '', '', '', '', '', '']\n",
      "['2459-025-002', '20141107-50', '', 'Y', 'ANASSIAN,ARAM AND ANNA', '', '', '', '436', '', '', 'UNIVERSITY AVE', '', 'BURBANK CA', '91504-3919', '1244', '', '', 'ALTA PASEO', '', 'BURBANK CA', '91501-1612']\n",
      "['2459-025-003', '19971125-50', 'nonReapp', 'Y', 'MOOS,IRENE S TR', 'IRENE S MOOS TRUST', '', '', '430', '', '', 'UNIVERSITY AVE', '', 'BURBANK CA', '91504-3919', '', '', '', '', '', '', '']\n",
      "['2459-025-003', '19770324-50', 'other', 'N', 'MOOS,IRENE S', '', '', '', '430', '', '', 'UNIVERSITY AVE', '', 'BURBANK CA', '91504-3919', '', '', '', '', '', '', '']\n",
      "['2459-025-004', '20070412-50', 'nonReapp', 'Y', 'HAGOPIAN,VAZGEN AND', 'MERZIAN,LUNA L', '', '', '424', '', '', 'UNIVERSITY AVE', '', 'BURBANK CA', '91504-3919', '812', '', '', 'CAMBRIDGE DR', '', 'BURBANK CA', '91504-1913']\n",
      "['2459-025-004', '20010914-50', 'PartInt', 'N', 'MERZIAN,LUNA L AND', '', '', '', '424', '', '', 'UNIVERSITY AVE', '', 'BURBANK CA', '91504-3919', '', '', '', '', '', '', '']\n",
      "['2459-025-004', '20000613-50', 'nonReapp', 'N', 'MERZIAN,LUNA ET AL', '', '', '', '424', '', '', 'UNIVERSITY AVE', '', 'BURBANK CA', '91504-3919', '', '', '', '', '', '', '']\n",
      "['2459-025-004', '19961123-50', 'nonReapp', 'N', 'MERZIAN,LUNA ET AL', '', '', '', '424', '', '', 'UNIVERSITY AVE', '', 'BURBANK CA', '91504-3919', '424', '', '', 'UNIVERSITY AVE', '', 'BURBANK CA', '91504']\n",
      "['2459-025-004', '19940301-50', 'PartInt', 'N', 'MERZIAN,LUNA L ET AL', '', '', '', '424', '', '', 'UNIVERSITY AVE', '', 'BURBANK CA', '91504-3919', '', '', '', '', '', '', '']\n",
      "['2459-025-004', '19920207-50', 'nonReapp', 'N', 'MERZIAN,LUNA L ET AL', '', '', '', '424', '', '', 'UNIVERSITY AVE', '', 'BURBANK CA', '91504-3919', '', '', '', '', '', '', '']\n",
      "['2459-025-004', '19920109-50', '', 'N', 'YAGHOUBI,VAZGEN ET AL', '', '', '', '424', '', '', 'UNIVERSITY AVE', '', 'BURBANK CA', '91504-3919', '', '', '', '', '', '', '']\n",
      "['2459-025-005', '20070330-50', '', 'Y', 'BARBER,CAROL A', '', '', '', '414', '', '', 'UNIVERSITY AVE', '', 'BURBANK CA', '91504-3919', '', '', '', '', '', '', '']\n",
      "['2459-025-006', '20120403-50', 'nonReapp', 'Y', 'DURAN,JOSE C', '', '', '', '410', '', '', 'UNIVERSITY AVE', '', 'BURBANK CA', '91504-3919', '', '', '', '', '', '', '']\n",
      "['2459-025-006', '20040624-50', 'nonReapp', 'N', 'DURAN,JOSE C', '', '', '', '410', '', '', 'UNIVERSITY AVE', '', 'BURBANK CA', '91504-3919', '', '', '', '', '', '', '']\n",
      "['2459-025-006', '19970818-50', '', 'N', 'DURAN,JOSE C AND SHANA', '', '', '', '410', '', '', 'UNIVERSITY AVE', '', 'BURBANK CA', '91504-3919', '', '', '', '', '', '', '']\n",
      "['2459-025-007', '20141231-50', '', 'Y', 'CATRAMBONE,DOMINIC J AND', 'LINDSEY A', '', '', '406', '', '', 'UNIVERSITY AVE', '', 'BURBANK CA', '91504-3919', '', '', '', '', '', '', '']\n",
      "['2459-025-008', '19880915-50', '', 'Y', 'GHAZIKHANIAN,VIGEN AND STELLA', '', '', '', '400', '', '', 'UNIVERSITY AVE', '', 'BURBANK CA', '91504-3919', '', '', '', '', '', '', '']\n",
      "['2459-039-002', '20030411-50', 'nonReapp', 'N', 'HSU,TZUOH C AND SU CHENG', '', '', '', '531', '', 'E', 'HARVARD RD', '', 'BURBANK CA', '91501-1815', '706', '', '', 'UNIVERSITY AVE', '', 'BURBANK CA', '91504-3925']\n",
      "['2459-039-002', '19990730-50', '', 'N', 'HSU,SU CHENG AND TZUOH C', '', '', '', '531', '', 'E', 'HARVARD RD', '', 'BURBANK CA', '91501-1815', '706', '', '', 'UNIVERSITY AVE', '', 'BURBANK CA', '91504-3925']\n",
      "['2459-039-005', '19980313-75', '', 'N', 'HSU,TZUCH C AND SU CHENG', '', '', '', '519', '', 'E', 'HARVARD RD', '', 'BURBANK CA', '91501-1815', '706', '', '', 'UNIVERSITY AVE', '', 'BURBANK CA', '91504-3925']\n",
      "['2470-025-019', '20160429-50', '', 'Y', 'KIM,JASON', '', '', '', '800', '', '', 'UNIVERSITY AVE', '', 'BURBANK CA', '91504-3032', '', '', '', '', '', '', '']\n",
      "['2470-025-020', '20140731-50', '', 'Y', 'RENDON,LUIS E', '', '', '', '806', '', '', 'UNIVERSITY AVE', '', 'BURBANK CA', '91504-3032', '', '', '', '', '', '', '']\n",
      "['2470-025-021', '20141226-50', 'PartInt', 'Y', 'BOYAJIAN,HRAYR', '', '', '', '812', '', '', 'UNIVERSITY AVE', '', 'BURBANK CA', '91504-3032', '', '', '', '', '', '', '']\n",
      "['2470-025-021', '20061026-50', '', 'N', 'BOYAJIAN,HRAYR AND', '', '', '', '812', '', '', 'UNIVERSITY AVE', '', 'BURBANK CA', '91504-3032', '', '', '', '', '', '', '']\n",
      "['2470-025-022', '19990521-50', '', 'Y', 'LILIENFELD,CASEY AND NANCY', '', '', '', '818', '', '', 'UNIVERSITY AVE', '', 'BURBANK CA', '91504-3032', '', '', '', '', '', '', '']\n",
      "['2470-025-023', '20030714-50', 'nonReapp', 'Y', 'KUNELIS,FRANK J TR', 'FRANK J KUNELIS TRUST', '', '', '824', '', '', 'UNIVERSITY AVE', '', 'BURBANK CA', '91504-3032', '17842', '', '', 'ARVIDA DR', '', 'GRANADA HILLS CA', '91344-1357']\n",
      "['2470-025-023', '20010731-50', 'nonReapp', 'N', 'KUNELIS,FRANK J', '', '', '', '824', '', '', 'UNIVERSITY AVE', '', 'BURBANK CA', '91504-3032', '17842', '', '', 'ARVIDA DR', '', 'GRANADA HILLS CA', '91344-1357']\n",
      "['2470-025-023', '19630619-50', 'other', 'N', 'KUNELIS,FRANK J AND SOULA F', '', '', '', '824', '', '', 'UNIVERSITY AVE', '', 'BURBANK CA', '91504-3032', '17842', '', '', 'ARVIDA DR', '', 'GRANADA HILLS CA', '91344-1357']\n",
      "['2470-025-024', '19780915-50', 'other', 'Y', 'SIMS,CHARLES R AND LANA G', '', '', '', '830', '', '', 'UNIVERSITY AVE', '', 'BURBANK CA', '91504-3032', '', '', '', '', '', '', '']\n",
      "['2470-025-025', '20120702-50', '', 'Y', 'DIAS,SUNFORD R AND', 'MORAES,SHARON', '', '', '836', '', '', 'UNIVERSITY AVE', '', 'BURBANK CA', '91504-3032', '', '', '', '', '', '', '']\n",
      "['2470-025-026', '20070309-50', 'nonReapp', 'Y', 'TOMEI,CONSTANCE M TR', 'CONSTANCE M TOMEI TRUST', '', '', '842', '', '', 'UNIVERSITY AVE', '', 'BURBANK CA', '91504-3032', '', '', '', '', '', '', '']\n",
      "['2470-025-026', '20040130-50', 'nonReapp', 'N', 'TOMEI,CONSTANCE M', '', '', '', '842', '', '', 'UNIVERSITY AVE', '', 'BURBANK CA', '91504-3032', '', '', '', '', '', '', '']\n",
      "['2470-025-026', '20010315-50', 'nonReapp', 'N', 'LANZISERO,ANGELO', '', '', '', '842', '', '', 'UNIVERSITY AVE', '', 'BURBANK CA', '91504-3032', '', '', '', '', '', '', '']\n",
      "['2470-025-026', '19890627-50', 'nonReapp', 'N', 'LANZISERO,ANGELO AND ROSALIE TRS', '', '', '', '842', '', '', 'UNIVERSITY AVE', '', 'BURBANK CA', '91504-3032', '', '', '', '', '', '', '']\n",
      "['2470-025-026', '19650312-50', 'other', 'N', 'LANZISERO,ANGELO AND ROSALIE K', '', '', '', '842', '', '', 'UNIVERSITY AVE', '', 'BURBANK CA', '91504-3032', '', '', '', '', '', '', '']\n",
      "['2470-025-027', '19960328-50', 'nonReapp', 'Y', 'LEWIS,RONALD TR', 'LEWIS TRUST', '', '', '848', '', '', 'UNIVERSITY AVE', '', 'BURBANK CA', '91504-3032', '', '', '', '', '', '', '']\n",
      "['2470-025-027', '19880629-50', 'nonReapp', 'N', 'LEWIS,RONALD AND CAROLYN L TRS', '', '', '', '848', '', '', 'UNIVERSITY AVE', '', 'BURBANK CA', '91504-3032', '', '', '', '', '', '', '']\n",
      "['2470-025-027', '19630618-50', 'other', 'N', 'LEWIS,RONALD AND CAROLYN L', '', '', '', '848', '', '', 'UNIVERSITY AVE', '', 'BURBANK CA', '91504-3032', '0', '', '', '848 E UNIVERSITY AVE', '', 'BURBANK CALIF', '91504']\n",
      "['2470-025-028', '20121017-50', '', 'Y', 'NIELSEN,ROBERT AND JANELLE', '', '', '', '900', '', '', 'UNIVERSITY AVE', '', 'BURBANK CA', '91504-3034', '', '', '', '', '', '', '']\n",
      "['2470-025-029', '19750606-50', 'other', 'Y', 'CARTER,ONEAL N AND BARBARA', '', '', '', '906', '', '', 'UNIVERSITY AVE', '', 'BURBANK CA', '91504-3034', '', '', '', '', '', '', '']\n",
      "['2470-025-030', '20121019-50', '', 'Y', 'RUBYAN,HARUT AND GAYANE G', '', '', '', '912', '', '', 'UNIVERSITY AVE', '', 'BURBANK CA', '91504-3034', '', '', '', '', '', '', '']\n",
      "['2470-025-031', '20151224-50', '', 'Y', 'RUBYAN,HARUT AND GAYANE AND', '', 'RUBYAN,MARI', '', '918', '', '', 'UNIVERSITY AVE', '', 'BURBANK CA', '91504-3034', '912', '', '', 'UNIVERSITY AVE', '', 'BURBANK CA', '91504-3034']\n",
      "['2470-025-032', '19900817-50', '', 'Y', 'MACHII,HISAO AND AKIKO', '', '', '', '924', '', '', 'UNIVERSITY AVE', '', 'BURBANK CA', '91504-3034', '', '', '', '', '', '', '']\n",
      "['2470-025-033', '20160426-50', '', 'Y', 'VARDANYAN,ARMEN AND', 'ISKANARYAN,ARLET', '', '', '930', '', '', 'UNIVERSITY AVE', '', 'BURBANK CA', '91504-3034', '', '', '', '', '', '', '']\n",
      "['2470-025-034', '19930415-50', '', 'Y', 'PARIKH,GAUTAM AND SUSHILA G', '', '', '', '936', '', '', 'UNIVERSITY AVE', '', 'BURBANK CA', '91504-3034', '', '', '', '', '', '', '']\n",
      "['2470-025-035', '20140923-50', 'nonReapp', 'Y', 'ANDERSON,MARTHA C ET AL TRS', 'GLENN AND VERA TAYLOR TRUST', '', '', '942', '', '', 'UNIVERSITY AVE', '', 'BURBANK CA', '91504-3034', '912', '', 'N', 'HOLLYWOOD WAY', 'STE D', 'BURBANK CA', '91505-2830']\n",
      "['2470-025-035', '19940922-50', 'nonReapp', 'N', 'TAYLOR,GLENN AND VERA TRS', '', '', '', '942', '', '', 'UNIVERSITY AVE', '', 'BURBANK CA', '91504-3034', '', '', '', '', '', '', '']\n",
      "['2470-025-035', '19931208-50', 'nonReapp', 'N', 'TAYLOR,GLENN AND VERA TRS', '', '', '', '942', '', '', 'UNIVERSITY AVE', '', 'BURBANK CA', '91504-3034', '945', '', '', 'UNIVERSITY AVE', '', 'BURBANK CA', '91504-3035']\n",
      "['2470-025-035', '19931001-50', 'nonReapp', 'N', 'TAYLOR,GLENN AND VERA', '', '', '', '942', '', '', 'UNIVERSITY AVE', '', 'BURBANK CA', '91504-3034', '945', '', '', 'UNIVERSITY AVE', '', 'BURBANK CA', '91504']\n",
      "['2470-025-035', '19880210-50', 'nonReapp', 'N', 'TAYLOR,GLENN AND VERA TRS', '', '', '', '942', '', '', 'UNIVERSITY AVE', '', 'BURBANK CA', '91504-3034', '', '', '', '', '', '', '']\n",
      "['2470-025-035', '19581029-50', 'other', 'N', 'TAYLOR,GLENN D&VERA B', '', '', '', '942', '', '', 'UNIVERSITY AVE', '', 'BURBANK CA', '91504-3034', '', '', '', '', '', '', '']\n",
      "['2470-025-036', '20130611-50', 'nonReapp', 'Y', 'WRIGHT,MARY C', '', '', '', '948', '', '', 'UNIVERSITY AVE', '', 'BURBANK CA', '91504-3034', '', '', '', '', '', '', '']\n",
      "['2470-025-036', '20010810-50', 'nonReapp', 'N', 'WRIGHT,JOSHUA G AND MARY C', '', '', '', '948', '', '', 'UNIVERSITY AVE', '', 'BURBANK CA', '91504-3034', '', '', '', '', '', '', '']\n",
      "['2470-025-036', '19931115-50', 'nonReapp', 'N', 'MCMILLAN,RUTH TR', '', '', '', '948', '', '', 'UNIVERSITY AVE', '', 'BURBANK CA', '91504-3034', '', '', '', '', '', '', '']\n",
      "['2470-025-036', '19670245-50', 'other', 'N', 'MCMILLAN,RUTH', '', '', '', '948', '', '', 'UNIVERSITY AVE', '', 'BURBANK CA', '91504-3034', '0', '', '', '948 E UNIVERSITY AVE', '', 'BURBANK CALIF', '91504']\n",
      "['2470-026-001', '20151214-50', '', 'Y', 'HOVAGIMYAN,KAREN S', '', '', '', '949', '', '', 'UNIVERSITY AVE', '', 'BURBANK CA', '91504-3035', '915', '', 'E', 'CYPRESS AVE', '', 'BURBANK CA', '91501-1307']\n",
      "['2470-026-002', '20130814-50', 'nonReapp', 'Y', 'PERSHING,CAROL A TR', 'CAROL A PERSHING TRUST', '', '', '943', '', '', 'UNIVERSITY AVE', '', 'BURBANK CA', '91504-3035', '', '', '', '', '', '', '']\n",
      "['2470-026-002', '19931129-50', 'nonReapp', 'N', 'PERSHING,CAROL A', '', '', '', '943', '', '', 'UNIVERSITY AVE', '', 'BURBANK CA', '91504-3035', '', '', '', '', '', '', '']\n",
      "['2470-026-002', '19881108-50', 'nonReapp', 'N', 'PERSHING,CAROL A', '', '', '', '943', '', '', 'UNIVERSITY AVE', '', 'BURBANK CA', '91504-3035', '', '', '', '', '', '', '']\n",
      "['2470-026-002', '19851211-50', '', 'N', 'PERSHING,JAMES J AND CAROL A', '', '', '', '943', '', '', 'UNIVERSITY AVE', '', 'BURBANK CA', '91504-3035', '', '', '', '', '', '', '']\n",
      "['2470-026-003', '20130405-50', 'nonReapp', 'Y', 'NELSON,LAURENCE AND MARIA TRS', 'L D AND M E NELSON TRUST', '', '', '937', '', '', 'UNIVERSITY AVE', '', 'BURBANK CA', '91504-3035', '', '', '', '', '', '', '']\n",
      "['2470-026-003', '19851001-50', '', 'N', 'NELSON,LAURENCE D AND MARIA E', '', '', '', '937', '', '', 'UNIVERSITY AVE', '', 'BURBANK CA', '91504-3035', '', '', '', '', '', '', '']\n",
      "['2470-026-004', '20150401-50', '', 'Y', 'KAPEMYAN,EGIA', '', '', '', '931', '', '', 'UNIVERSITY AVE', '', 'BURBANK CA', '91504-3035', '6942', '', '', 'ALCOVE AVE', '', 'NORTH HOLLYWOOD CA', '91605-5101']\n",
      "['2470-026-005', '20100224-50', '', 'Y', 'BUXTON,JOHN AND MARY', '', '', '', '925', '', '', 'UNIVERSITY AVE', '', 'BURBANK CA', '91504-3035', '', '', '', '', '', '', '']\n",
      "['2470-026-006', '20160906-50', 'nonReapp', 'Y', 'SWANSON,BLAIR R AND GUN M TRS', 'BLAIR AND GUN M SWANSON TRUST', '', '', '919', '', '', 'UNIVERSITY AVE', '', 'BURBANK CA', '91504-3035', '', '', '', '', '', '', '']\n",
      "['2470-026-006', '20031029-50', 'nonReapp', 'N', 'SWANSON,BLAIR R AND GUN M', '', '', '', '919', '', '', 'UNIVERSITY AVE', '', 'BURBANK CA', '91504-3035', '', '', '', '', '', '', '']\n",
      "['2470-026-006', '19990511-50', 'nonReapp', 'N', 'SWANSON,GUN M', '', '', '', '919', '', '', 'UNIVERSITY AVE', '', 'BURBANK CA', '91504-3035', '', '', '', '', '', '', '']\n",
      "['2470-026-006', '19871214-50', '', 'N', 'SWANSON,BLAIR R AND GUN M', '', '', '', '919', '', '', 'UNIVERSITY AVE', '', 'BURBANK CA', '91504-3035', '', '', '', '', '', '', '']\n",
      "['2470-026-007', '20141124-50', '', 'Y', 'SARKISIAN,ARMEN AND', 'AGAZARYAN,OFELYA', '', '', '913', '', '', 'UNIVERSITY AVE', '', 'BURBANK CA', '91504-3035', '', '', '', '', '', '', '']\n",
      "['2470-026-008', '20061214-50', 'nonReapp', 'Y', 'KRANIAN,ASBED H AND ANAHIS TRS', 'KRANIAN FAMILY TRUST', '', '', '907', '', '', 'UNIVERSITY AVE', '', 'BURBANK CA', '91504-3035', '', '', '', '', '', '', '']\n",
      "['2470-026-008', '19800104-50', 'other', 'N', 'KRANIAN,ASBED H AND ANAHIS', '', '', '', '907', '', '', 'UNIVERSITY AVE', '', 'BURBANK CA', '91504-3035', '', '', '', '', '', '', '']\n",
      "['2470-026-009', '20130701-50', '', 'Y', 'CHIGANI,FRED D AND', 'AVAKIANS,MARINA', '', '', '901', '', '', 'UNIVERSITY AVE', '', 'BURBANK CA', '91504-3035', '', '', '', '', '', '', '']\n",
      "['2470-026-010', '20101029-50', '', 'Y', 'CHEN,SU C TR', 'SU C CHEN TRUST', '', '', '849', '', '', 'UNIVERSITY AVE', '', 'BURBANK CA', '91504-3033', '1824', '', 'N', 'BEL AIRE DR', '', 'BURBANK CA', '91504-1907']\n",
      "['2470-026-011', '20040524-50', '', 'Y', 'NALJIAN,JACK AND', '', 'NALJIAN,RAFFI', '', '843', '', '', 'UNIVERSITY AVE', '', 'BURBANK CA', '91504-3033', '', '', '', '', '', '', '']\n",
      "['2470-026-012', '19880128-50', '', 'Y', 'OWENS,GREGORY N AND LINDA S', '', '', '', '837', '', '', 'UNIVERSITY AVE', '', 'BURBANK CA', '91504-3033', '', '', '', '', '', '', '']\n",
      "['2470-026-013', '20151026-50', '', 'Y', 'FOX,BARRY J AND NADINE', '', '', '', '831', '', '', 'UNIVERSITY AVE', '', 'BURBANK CA', '91504-3033', '', '', '', '', '', '', '']\n",
      "['2470-026-014', '20130709-50', 'nonReapp', 'Y', 'NICHOLS,ROBERT E AND JO ANN TRS', 'ROBERT AND JO AN NICHOLS TRUST', '', '', '825', '', '', 'UNIVERSITY AVE', '', 'BURBANK CA', '91504-3033', '', '', '', '', '', '', '']\n",
      "['2470-026-014', '20030207-50', 'nonReapp', 'N', 'NICHOLS,ROBERT AND JO ANN', '', '', '', '825', '', '', 'UNIVERSITY AVE', '', 'BURBANK CA', '91504-3033', '', '', '', '', '', '', '']\n",
      "['2470-026-014', '19981105-50', 'nonReapp', 'N', 'NICHOLS,ROBERT E AND JO ANN', '', '', '', '825', '', '', 'UNIVERSITY AVE', '', 'BURBANK CA', '91504-3033', '', '', '', '', '', '', '']\n",
      "['2470-026-014', '19900530-50', '', 'N', 'NICHOLS,ROBERT E AND JO ANN AND', '', '', '', '825', '', '', 'UNIVERSITY AVE', '', 'BURBANK CA', '91504-3033', '', '', '', '', '', '', '']\n",
      "['2470-026-015', '20100702-50', 'nonReapp', 'Y', 'ZAMORA,PILAR TR', 'ZAMORA TRUST', '', '', '819', '', '', 'UNIVERSITY AVE', '', 'BURBANK CA', '91504-3033', '', '', '', '', '', '', '']\n",
      "['2470-026-015', '20100121-50', 'nonReapp', 'N', 'ZAMORA,PILAR TR', '', '', '', '819', '', '', 'UNIVERSITY AVE', '', 'BURBANK CA', '91504-3033', '', '', '', '', '', '', '']\n",
      "['2470-026-015', '20030407-50', 'nonReapp', 'N', 'ZAMORA,MIKE AND PILAR TRS', '', '', '', '819', '', '', 'UNIVERSITY AVE', '', 'BURBANK CA', '91504-3033', '', '', '', '', '', '', '']\n",
      "['2470-026-015', '19611222-50', 'other', 'N', 'ZAMORA,MIKE AND PILAR', '', '', '', '819', '', '', 'UNIVERSITY AVE', '', 'BURBANK CA', '91504-3033', '', '', '', '', '', '', '']\n",
      "['2470-026-016', '20140630-50', '', 'Y', 'SHETH,NEIL AND', 'DATTA,SREOSHI', '', '', '813', '', '', 'UNIVERSITY AVE', '', 'BURBANK CA', '91504-3033', '', '', '', '', '', '', '']\n",
      "['2470-026-017', '20100910-50', '', 'Y', 'PANTALEO,STEVEN', '', '', '', '807', '', '', 'UNIVERSITY AVE', '', 'BURBANK CA', '91504-3033', '', '', '', '', '', '', '']\n",
      "['2470-026-018', '20160610-50', '', 'Y', 'TUMANIAN,RUBINA', '', '', '', '801', '', '', 'UNIVERSITY AVE', '', 'BURBANK CA', '91504-3033', '7635', '', '', 'CAMELLIA AVE', '', 'NORTH HOLLYWOOD CA', '91605-3033']\n",
      "['2472-011-018', '20131016-50', 'nonReapp', 'Y', 'NELSON,LAURENCE D CO TR ET AL', 'L D AND M E NELSON TRUST AND', 'NELSON,ERIK L', '', '2320', '', 'N', 'ORCHARD DR', '', 'BURBANK CA', '91504-2205', '937', '', '', 'UNIVERSITY AVE', '', 'BURBANK CA', '91504-3035']\n",
      "['2473-001-029', '19851213-50', 'other', 'Y', 'WOODBURY UNIVERSITY', '', '', '', '0', '', '', '', '', '', '', '7500', '', 'N', 'GLENOAKS BLVD', '', 'BURBANK CA', '91504-1052']\n",
      "['2473-019-004', '20060914-50', 'nonReapp', 'N', 'GRANATA,FLORENCE TR', '', '', '', '2420', '', 'N', 'BUENA VISTA ST', '', 'BURBANK CA', '91504-2662', '831', '', '', 'UNIVERSITY AVE', '', 'BURBANK CA', '91504-3033']\n",
      "['2473-019-004', '19851126-50', 'nonReapp', 'N', 'GRANATA,ORLANDO T CO TR', '', '', '', '2420', '', 'N', 'BUENA VISTA ST', '', 'BURBANK CA', '91504-2662', '831', '', '', 'UNIVERSITY AVE', '', 'BURBANK CA', '91504-3033']\n",
      "['2473-019-004', '19670245-50', 'other', 'N', 'GRANATA,ORLANDO T&FLORENCE', '', '', '', '2420', '', 'N', 'BUENA VISTA ST', '', 'BURBANK CA', '91504-2662', '831', '', '', 'UNIVERSITY', '', 'BURBANK CALIF', '91504']\n",
      "['2477-012-008', '19890627-50', 'nonReapp', 'N', 'LANZISERO,ANGELO AND ROSALIE TRS', '', '', '', '1327', '', 'N', 'EDISON BLVD', '', 'BURBANK CA', '91505-2259', '842', '', '', 'UNIVERSITY AVE', '', 'BURBANK CA', '91504-3032']\n",
      "['2477-012-008', '19710830-50', 'other', 'N', 'LANZISERO,ANGELO AND ROSALIE', '', '', '', '1327', '', 'N', 'EDISON BLVD', '', 'BURBANK CA', '91505-2259', '842', '', '', 'UNIVERSITY AVE', '', 'BURBANK CALIF', '91504']\n",
      "['2477-013-013', '19950713-50', '', 'N', 'HSU,TZUOH C AND SU', '', '', '', '1228', '', 'N', 'SCREENLAND DR', '', 'BURBANK CA', '91505-2244', '706', '', '', 'UNIVERSITY AVE', '', 'BURBANK CA', '91504-3925']\n",
      "['2480-010-025', '19781013-50', 'other', 'N', 'RASSP,HERMAN AND BEVERLY A', '', '', '', '898', '', 'N', 'HOLLYWOOD WAY', '', 'BURBANK CA', '91505-2813', '631', '', '', 'UNIVERSITY AVE', '', 'BURBANK CA', '91504']\n",
      "['2569-012-005', '19701231-50', 'other', 'N', 'RASSP,HERMAN', '', '', '', '0', '', '', '', '', '', '', '631', '', '', 'UNIVERSITY AVE', '', 'BURBANK CALIF', '91504']\n",
      "['2558-032-034', '20160523-50', '', 'Y', 'CHANG,KYU PONG AND SHARON S AND', '', 'CHANG,ELAINE', '', '10260', '', '', 'PLAINVIEW AVE', 'NO 10', 'LOS ANGELES CA', '91042-1768', '1010', '', '', 'UNIVERSITY AVE', 'STE A2', 'HONOLULU HI', '96826-1537']\n",
      "['2569-002-017', '19701231-50', 'other', 'N', 'RASSP,HERMAN', '', '', '', '0', '', '', '', '', '', '', '631', '', '', 'UNIVERSITY AVE', '', 'BURBANK CALIF', '91504']\n",
      "['2569-002-018', '19710226-50', 'other', 'N', 'RASSP,HERMAN', '', '', '', '0', '', '', '', '', '', '', '631', '', '', 'UNIVERSITY AVE', '', 'BURBANK CALIF', '91504']\n",
      "['2569-002-019', '19701231-50', 'other', 'N', 'RASSP,HERMAN', '', '', '', '0', '', '', '', '', '', '', '631', '', '', 'UNIVERSITY AVE', '', 'BURBANK CALIF', '91504']\n",
      "['2569-002-020', '19701231-50', 'other', 'N', 'RASSP,HERMAN', '', '', '', '0', '', '', '', '', '', '', '631', '', '', 'UNIVERSITY AVE', '', 'BURBANK CALIF', '91504']\n",
      "['2569-002-023', '19701231-50', 'other', 'N', 'RASSP,HERMAN', '', '', '', '0', '', '', '', '', '', '', '631', '', '', 'UNIVERSITY AVE', '', 'BURBANK CALIF', '91504']\n",
      "['2569-004-016', '19701231-50', 'other', 'N', 'RASSP,HERMAN', '', '', '', '0', '', '', '', '', '', '', '631', '', '', 'UNIVERSITY AVE', '', 'BURBANK CALIF', '91504']\n",
      "['2569-004-019', '19701231-50', 'other', 'N', 'RASSP,HERMAN', '', '', '', '0', '', '', '', '', '', '', '631', '', '', 'UNIVERSITY AVE', '', 'BURBANK CALIF', '91504']\n",
      "['2569-004-021', '19701231-50', 'other', 'N', 'RASSP,HERMAN', '', '', '', '0', '', '', '', '', '', '', '631', '', '', 'UNIVERSITY AVE', '', 'BURBANK CALIF', '91504']\n",
      "['2569-004-022', '19701231-50', 'other', 'N', 'RASSP,HERMAN', '', '', '', '0', '', '', '', '', '', '', '631', '', '', 'UNIVERSITY AVE', '', 'BURBANK CALIF', '91504']\n",
      "['2569-004-023', '19701231-50', 'other', 'N', 'RASSP,HERMAN', '', '', '', '0', '', '', '', '', '', '', '631', '', '', 'UNIVERSITY AVE', '', 'BURBANK CALIF', '91504']\n",
      "['2569-005-042', '19701231-50', 'other', 'N', 'RASSP,HERMAN', '', '', '', '0', '', '', '', '', '', '', '631', '', '', 'UNIVERSITY AVE', '', 'BURBANK CALIF', '91504']\n",
      "['2569-005-047', '19701231-50', 'other', 'N', 'RASSP,HERMAN', '', '', '', '0', '', '', '', '', '', '', '631', '', '', 'UNIVERSITY AVE', '', 'BURBANK CALIF', '91504']\n",
      "['2569-005-048', '19701231-50', 'other', 'N', 'RASSP,HERMAN', '', '', '', '0', '', '', '', '', '', '', '631', '', '', 'UNIVERSITY AVE', '', 'BURBANK CALIF', '91504']\n",
      "['2569-005-051', '19701231-50', 'other', 'N', 'RASSP,HERMAN', '', '', '', '0', '', '', '', '', '', '', '631', '', '', 'UNIVERSITY AVE', '', 'BURBANK CALIF', '91504']\n",
      "['2569-009-025', '19701231-50', 'other', 'N', 'RASSP,HERMAN', '', '', '', '0', '', '', '', '', '', '', '631', '', '', 'UNIVERSITY AVE', '', 'BURBANK CALIF', '91504']\n",
      "['2569-010-016', '19701231-50', 'other', 'N', 'RASSP,HERMAN', '', '', '', '0', '', '', '', '', '', '', '631', '', '', 'UNIVERSITY AVE', '', 'BURBANK CALIF', '91504']\n",
      "['2569-012-004', '19701231-50', 'other', 'N', 'RASSP,HERMAN', '', '', '', '0', '', '', '', '', '', '', '631', '', '', 'UNIVERSITY AVE', '', 'BURBANK CALIF', '91504']\n",
      "['2569-012-006', '19701231-50', 'other', 'N', 'RASSP,HERMAN', '', '', '', '0', '', '', '', '', '', '', '631', '', '', 'UNIVERSITY AVE', '', 'BURBANK CALIF', '91504']\n",
      "['2569-012-007', '19701231-50', 'other', 'N', 'RASSP,HERMAN', '', '', '', '0', '', '', '', '', '', '', '631', '', '', 'UNIVERSITY AVE', '', 'BURBANK CALIF', '91504']\n",
      "['2569-012-008', '19701231-50', 'other', 'N', 'RASSP,HERMAN', '', '', '', '0', '', '', '', '', '', '', '631', '', '', 'UNIVERSITY AVE', '', 'BURBANK CALIF', '91504']\n",
      "['2569-012-009', '19701231-50', 'other', 'N', 'RASSP,HERMAN', '', '', '', '0', '', '', '', '', '', '', '631', '', '', 'UNIVERSITY AVE', '', 'BURBANK CALIF', '91504']\n",
      "['2569-012-010', '19701231-50', 'other', 'N', 'RASSP,HERMAN', '', '', '', '10157', '', '', 'DURKEE AVE', '', 'LOS ANGELES CA', '91042-2526', '631', '', '', 'UNIVERSITY AVE', '', 'BURBANK CALIF', '91504']\n",
      "['2569-012-016', '19701231-50', 'other', 'N', 'RASSP,HERMAN', '', '', '', '0', '', '', '', '', '', '', '631', '', '', 'UNIVERSITY AVE', '', 'BURBANK CALIF', '91504']\n",
      "['2569-012-017', '19701231-50', 'other', 'N', 'RASSP,HERMAN', '', '', '', '0', '', '', '', '', '', '', '631', '', '', 'UNIVERSITY AVE', '', 'BURBANK CALIF', '91504']\n",
      "['2569-012-020', '19701231-50', 'other', 'N', 'RASSP,HERMAN', '', '', '', '0', '', '', '', '', '', '', '631', '', '', 'UNIVERSITY AVE', '', 'BURBANK CALIF', '91504']\n",
      "['2569-012-023', '19701231-50', 'other', 'N', 'RASSP,HERMAN', '', '', '', '0', '', '', '', '', '', '', '631', '', '', 'UNIVERSITY AVE', '', 'BURBANK CALIF', '91504']\n",
      "['2569-012-024', '19701231-50', 'other', 'N', 'RASSP,HERMAN', '', '', '', '0', '', '', '', '', '', '', '631', '', '', 'UNIVERSITY AVE', '', 'BURBANK CALIF', '91504']\n",
      "['2569-013-020', '19701231-50', 'other', 'N', 'RASSP,HERMAN', '', '', '', '0', '', '', '', '', '', '', '631', '', '', 'UNIVERSITY AVE', '', 'BURBANK CALIF', '91504']\n",
      "['2569-013-021', '19701231-50', 'other', 'N', 'RASSP,HERMAN', '', '', '', '0', '', '', '', '', '', '', '631', '', '', 'UNIVERSITY AVE', '', 'BURBANK CALIF', '91504']\n",
      "['2569-013-022', '19701231-50', 'other', 'N', 'RASSP,HERMAN', '', '', '', '0', '', '', '', '', '', '', '631', '', '', 'UNIVERSITY AVE', '', 'BURBANK CALIF', '91504']\n",
      "['2569-013-034', '19701231-50', 'other', 'N', 'RASSP,HERMAN', '', '', '', '0', '', '', '', '', '', '', '631', '', '', 'UNIVERSITY AVE', '', 'BURBANK CALIF', '91504']\n",
      "['2569-013-035', '19701231-50', 'other', 'N', 'RASSP,HERMAN', '', '', '', '0', '', '', '', '', '', '', '631', '', '', 'UNIVERSITY AVE', '', 'BURBANK CALIF', '91504']\n",
      "['2569-013-036', '19701231-50', 'other', 'N', 'RASSP,HERMAN', '', '', '', '0', '', '', '', '', '', '', '631', '', '', 'UNIVERSITY AVE', '', 'BURBANK CALIF', '91504']\n",
      "['2569-013-041', '19701231-50', 'other', 'N', 'RASSP,HERMAN', '', '', '', '0', '', '', '', '', '', '', '631', '', '', 'UNIVERSITY AVE', '', 'BURBANK CALIF', '91504']\n",
      "['2569-013-042', '19701231-50', 'other', 'N', 'RASSP,HERMAN', '', '', '', '0', '', '', '', '', '', '', '631', '', '', 'UNIVERSITY AVE', '', 'BURBANK CALIF', '91504']\n",
      "['2569-022-052', '19670245-50', 'other', 'N', 'RASSP,HERMAN', '', '', '', '0', '', '', '', '', '', '', '0', '', '', '631 UNIVERSITY AVE', '', 'BURBANK CALIF', '91504']\n",
      "['2606-021-018', '20130701-50', 'nonReapp', 'Y', 'IACOBELLIS,MARIO TR', 'IACOBELLIS TRUST', '', '', '17160', '', '', 'SIGNATURE DR', '', 'LOS ANGELES CA', '91344-2355', '517', '', '', 'UNIVERSITY AVE', '', 'BURBANK CA', '91504-3922']\n",
      "['2606-021-018', '20120601-50', 'nonReapp', 'N', 'IACOBELLIS,MARIO AND', '', '', '', '17160', '', '', 'SIGNATURE DR', '', 'LOS ANGELES CA', '91344-2355', '517', '', '', 'UNIVERSITY AVE', '', 'BURBANK CA', '91504-3922']\n",
      "['2610-004-008', '19880902-50', 'nonReapp', 'N', 'UNIVERSITY OF SOUTHERN', '', '', 'VICKIE BOWERS', '11500', '', '', 'BALBOA BLVD', '', 'LOS ANGELES CA', '91344-2707', '0', '', '', 'TREASURERS OFFICE ADM 351', '', 'LOS ANGELES CA', '90089-0019']\n",
      "['2610-004-009', '19880902-50', 'nonReapp', 'N', 'UNIVERSITY OF SOUTHERN', '', '', 'VICKIE BOWERS', '0', '', '', '', '', '', '', '0', '', '', 'TREASURERS OFFICE ADM 351', '', 'LOS ANGELES CA', '90089-0019']\n",
      "['2610-004-009', '19860613-50', 'PartInt', 'N', 'UNIVERSITY OF SOUTHERN', '', '', 'TREASURERS OFFICE', '0', '', '', '', '', '', '', '0', '', '', 'UNIVERSITY PARK ADM 351', '', 'LOS ANGELES CA', '90089-0019']\n",
      "['2610-004-010', '19880902-50', 'nonReapp', 'N', 'UNIVERSITY OF SOUTHERN', '', '', 'VICKIE BOWERS', '0', '', '', '', '', '', '', '0', '', '', 'TREASURERS OFFICE ADM 351', '', 'LOS ANGELES CA', '90089-0019']\n",
      "['2610-004-010', '19860613-50', 'PartInt', 'N', 'UNIVERSITY OF SOUTHERN CALIF AND', '', '', 'TREASURERS OFFICE', '0', '', '', '', '', '', '', '0', '', '', 'UNIVERSITY PARK ADM 351', '', 'LOS ANGELES CA', '90089-0019']\n",
      "['8608-001-021', '20040107-50', '', 'Y', 'AZUSA PACIFIC UNIVERSITY', '', '', '', '1280', '', 'N', 'SAN GABRIEL AVE', '', 'AZUSA CA', '91702-2049', '0', '', '', 'PO BOX 7000', '', 'AZUSA CA', '91702']\n",
      "['8608-004-024', '20071010-50', '', 'Y', 'AZUSA PACIFIC UNIVERSITY', '', '', 'ASSET MANAGEMENT', '1009', '', '', 'LAKEVIEW TER', '', 'AZUSA CA', '91702-2450', '0', '', '', 'PO BOX 7000', '', 'AZUSA CA', '91702']\n",
      "['8608-030-013', '20020328-50', 'nonReapp', 'Y', 'AZUSA PACIFIC UNIVERSITY', '', '', '', '675', '', 'E', 'FOOTHILL BLVD', '', 'AZUSA CA', '91702-2601', '0', '', '', 'PO BOX 7000', '', 'AZUSA CA', '91702']\n",
      "['8608-030-013', '20010817-50', '', 'N', 'AZUSA PACIFIC UNIVERSITY', '', '', '', '675', '', 'E', 'FOOTHILL BLVD', '', 'AZUSA CA', '91702-2601', '901', '', 'E', 'ALOSTA AVE', '', 'AZUSA CA', '91702-2701']\n",
      "['8608-030-014', '20020328-50', 'nonReapp', 'Y', 'AZUSA PACIFIC UNIVERSITY', '', '', '', '0', '', '', '', '', '', '', '0', '', '', 'PO BOX 7000', '', 'AZUSA CA', '91702']\n",
      "['8608-030-014', '20010817-50', '', 'N', 'AZUSA PACIFIC UNIVERSITY', '', '', '', '0', '', '', '', '', '', '', '901', '', 'E', 'ALOSTA AVE', '', 'AZUSA CA', '91702-2701']\n",
      "['8608-030-078', '20000317-50', 'other', 'Y', 'AZUSA PACIFIC UNIVERSITY', '', '', '', '635', '', 'E', 'FOOTHILL BLVD', '', 'AZUSA CA', '91702-2601', '0', '', '', 'PO BOX 7000', '', 'AZUSA CA', '91702-7000']\n",
      "['8612-001-001', '20020328-50', 'nonReapp', 'Y', 'AZUSA PACIFIC UNIVERSITY', '', '', '', '0', '', '', '', '', '', '', '0', '', '', 'PO BOX 7000', '', 'AZUSA CA', '91702']\n",
      "['8612-001-001', '20010817-50', '', 'N', 'AZUSA PACIFIC UNIVERSITY', '', '', '', '0', '', '', '', '', '', '', '901', '', 'E', 'ALOSTA AVE', '', 'AZUSA CA', '91702-2701']\n",
      "['8612-003-001', '20060515-50', 'nonReapp', 'Y', 'AZUSA PACIFIC UNIVERSITY CORP', '', '', 'BUSINESS OFFICE', '625', '', 'N', 'CERRITOS AVE', '', 'AZUSA CA', '91702-3001', '0', '', '', 'PO BOX 7000', '', 'AZUSA CA', '91702']\n",
      "['8612-003-041', '20020503-50', '', 'Y', 'AZUSA PACIFIC UNIVERSITY', '', '', '', '621', '', 'N', 'CERRITOS AVE', '', 'AZUSA CA', '91702-3062', '0', '', '', 'PO BOX 7000', '', 'AZUSA CA', '91702']\n",
      "['8612-003-044', '20010607-50', '', 'Y', 'AZUSA PACIFIC UNIVERSITY', '', '', '', '568', '', 'E', 'FOOTHILL BLVD', '', 'AZUSA CA', '91702-2521', '0', '', '', 'PO BOX 7000', '', 'AZUSA CA', '91702']\n",
      "['8616-022-027', '20071127-50', 'nonReapp', 'Y', 'HHI LOS ANGELES LLC', '', '', '', '6600', '', 'N', 'IRWINDALE AVE', '', 'IRWINDALE CA', '91702-2806', '3452', '', '', 'UNIVERSITY AVE', '', 'RIVERSIDE CA', '92501-3327']\n",
      "['8624-002-053', '20070718-50', '', 'Y', 'AZUSA PACIFIC UNIVERSITY', '', '', 'STEPHEN GRAY', '0', '', '', '', '', '', '', '901', '', 'E', 'ALOSTA AVE', '', 'AZUSA CA', '91702-2701']\n",
      "['8624-002-054', '20070718-50', '', 'Y', 'AZUSA PACIFIC UNIVERSITY', '', '', 'STEPHEN GRAY', '801', '', 'E', 'ALOSTA AVE', '', 'AZUSA CA', '91702-2744', '901', '', 'E', 'ALOSTA AVE', '', 'AZUSA CA', '91702-2701']\n",
      "['8625-004-006', '19920717-50', '', 'Y', 'AZUSA PACIFIC UNIVERSITY', '', '', 'BUSINESS OFFICE', '701', '', 'E', 'FOOTHILL BLVD', '', 'AZUSA CA', '91702-2606', '0', '', '', 'PO BOX 7000', '', 'AZUSA CA', '91702-7000']\n",
      "['8625-014-039', '19931203-50', '', 'Y', 'AZUSA PACIFIC UNIVERSITY', '', '', '', '1218', '', '', 'FOXGLOVE CT', '', 'GLENDORA CA', '91741-6604', '0', '', '', 'PO BOX 7000', '', 'AZUSA CA', '91702']\n",
      "['8625-035-094', '20121116-50', '', 'Y', 'AZUSA PACIFIC UNIVERSITY CORP', '', '', '', '825', '', 'E', 'CASSIA LN', 'F', 'AZUSA CA', '91702-6853', '0', '', '', 'PO BOX 7000', '', 'AZUSA CA', '91702-7000']\n",
      "['8625-035-097', '20121116-50', '', 'Y', 'AZUSA PACIFIC UNIVERSITY CORP', '', '', '', '825', '', 'E', 'CASSIA LN', 'C', 'AZUSA CA', '91702-6853', '0', '', '', 'PO BOX 7000', '', 'AZUSA CA', '91702-7000']\n",
      "['8625-035-099', '20121116-50', '', 'Y', 'AZUSA PACIFIC UNIVERSITY CORP', '', '', '', '825', '', 'E', 'CASSIA LN', 'A', 'AZUSA CA', '91702-6853', '0', '', '', 'PO BOX 7000', '', 'AZUSA CA', '91702-7000']\n",
      "['8625-035-100', '20121019-50', '', 'Y', 'AZUSA PACIFIC UNIVERSITY CORP', '', '', '', '829', '', 'E', 'CASSIA LN', 'A', 'AZUSA CA', '91702-6855', '0', '', '', 'PO BOX 7000', '', 'AZUSA CA', '91702-7000']\n",
      "['8625-035-103', '20121019-50', '', 'Y', 'AZUSA PACIFIC UNIVERSITY CORP', '', '', '', '829', '', 'E', 'CASSIA LN', 'D', 'AZUSA CA', '91702-6855', '0', '', '', 'PO BOX 7000', '', 'AZUSA CA', '91702-7000']\n",
      "['8625-035-105', '20121019-50', '', 'Y', 'AZUSA PACIFIC UNIVERSITY', '', '', '', '829', '', 'E', 'CASSIA LN', 'F', 'AZUSA CA', '91702-6855', '0', '', '', 'PO BOX 7000', '', 'AZUSA CA', '91702-7000']\n",
      "['8628-002-007', '20110322-50', 'nonReapp', 'Y', 'AZUSA PACIFC UNIVERSITY', '', '', 'C/O MARK DICKERSON,GENERAL COUN', '6620', '', '', 'CITRUS AVE', '', 'AZUSA CALIF', '91702', '901', '', 'E', 'ALOSTA AVE', '', 'AZUSA CA', '91702-7000']\n"
     ]
    },
    {
     "name": "stdout",
     "output_type": "stream",
     "text": [
      "['8628-002-007', '19730305-50', 'other', 'N', 'AZUSA PACIFIC UNIVERSITY', '', '', 'BUSINESS OFFICE', '6620', '', '', 'CITRUS AVE', '', 'AZUSA CALIF', '91702', '0', '', '', 'P O BOX 7000', '', 'AZUSA CA', '91702-7000']\n",
      "['8628-002-008', '20110322-50', 'nonReapp', 'Y', 'AZUSA PACIFC UNIVERSITY', '', '', '', '18527', '', 'E', 'ALOSTA AVE', '', 'AZUSA CA', '91702', '901', '', 'E', 'ALOSTA AVE', '', 'AZUSA CA', '91702-7000']\n",
      "['8628-003-015', '20110322-50', 'nonReapp', 'Y', 'AZUSA PACIFC UNIVERSITY', '', '', '', '18527', '', 'E', 'ALOSTA AVE', '', 'AZUSA CA', '91702', '901', '', 'E', 'ALOSTA AVE', '', 'AZUSA CA', '91702-7000']\n",
      "['8628-003-015', '19791004-50', 'other', 'N', 'AZUSA PACIFIC UNIVERSITY', '', '', 'BUSINESS OFFICE', '18527', '', 'E', 'ALOSTA AVE', '', 'AZUSA CA', '91702', '0', '', '', 'P O BOX 7000', '', 'AZUSA CA', '91702-7000']\n",
      "['8628-004-024', '19990202-50', '', 'Y', 'AZUSA PACIFIC UNIVERSITY', '', '', 'HANK BODE', '1007', '', 'E', 'HOLLYVALE ST', '', 'AZUSA CA', '91702-4046', '0', '', '', 'PO BOX 7000', '', 'AZUSA CA', '91702']\n",
      "['8628-004-040', '19790810-50', 'other', 'Y', 'AZUSA PACIFIC UNIVERSITY', '', '', 'BUSINESS OFFICE', '1150', '', 'E', 'ALOSTA AVE', '', 'AZUSA CA', '91702-2700', '0', '', '', 'PO BOX 7000', '', 'AZUSA CA', '91702-7000']\n",
      "['8628-004-042', '20001013-50', '', 'Y', 'AZUSA PACIFIC UNIVERSITY', '', '', '', '1130', '', 'E', 'ALOSTA AVE', 'NO A-101', 'AZUSA CA', '91702-2757', '0', '', '', 'PO BOX 7000', '', 'AZUSA CA', '91702']\n",
      "['8628-004-043', '19990419-50', '', 'Y', 'AZUSA PACIFIC UNIVERSITY', '', '', '', '1130', '', 'E', 'ALOSTA AVE', 'NO A-201', 'AZUSA CA', '91702-2737', '0', '', '', 'PO BOX 7000', '', 'AZUSA CA', '91702']\n",
      "['8628-004-044', '20050811-50', '', 'Y', 'AZUSA PACIFIC UNIVERSITY', '', '', 'DAVE REID', '1130', '', 'E', 'ALOSTA AVE', 'NO A-102', 'AZUSA CA', '91702-2757', '0', '', '', 'PO BOX 7000', '', 'AZUSA CA', '91702']\n",
      "['8628-004-045', '19980807-50', '', 'Y', 'AZUSA PACIFIC UNIVERSITY', '', '', '', '1130', '', 'E', 'ALOSTA AVE', 'NO A-202', 'AZUSA CA', '91702-2737', '0', '', '', 'PO BOX 7000', '', 'AZUSA CA', '91702']\n",
      "['8628-004-046', '19980702-50', '', 'Y', 'AZUSA PACIFIC UNIVERSITY', '', '', '', '1130', '', 'E', 'ALOSTA AVE', 'NO A-103', 'AZUSA CA', '91702-2757', '0', '', '', 'PO BOX 7000', '', 'AZUSA CA', '91702']\n",
      "['8628-004-047', '19990326-50', '', 'Y', 'AZUSA PACIFIC UNIVERSITY', '', '', '', '1130', '', 'E', 'ALOSTA AVE', 'NO A-203', 'AZUSA CA', '91702-2737', '0', '', '', 'PO BOX 7000', '', 'AZUSA CA', '91702']\n",
      "['8628-004-048', '20001003-50', '', 'Y', 'AZUSA PACIFIC UNIVERSITY', '', '', '', '1130', '', 'E', 'ALOSTA AVE', 'NO A-204', 'AZUSA CA', '91702-2758', '0', '', '', 'PO BOX 7000', '', 'AZUSA CA', '91702']\n",
      "['8628-004-049', '20030409-50', '', 'Y', 'AZUSA PACIFIC UNIVERSITY', '', '', '', '1130', '', 'E', 'ALOSTA AVE', 'NO A-205', 'AZUSA CA', '91702-2718', '0', '', '', 'PO BOX 7000', '', 'AZUSA CA', '91702']\n",
      "['8628-004-050', '20040720-50', '', 'Y', 'AZUSA PACIFIC UNIVERSITY', '', '', '', '1130', '', 'E', 'ALOSTA AVE', 'NO A-105', 'AZUSA CA', '91702-2757', '0', '', '', 'PO BOX 7000', '', 'AZUSA CA', '91702']\n",
      "['8628-004-051', '20030806-50', '', 'Y', 'AZUSA PACIFIC UNIVERSITY', '', '', '', '1130', '', 'E', 'ALOSTA AVE', 'NO A-206', 'AZUSA CA', '91702-2718', '0', '', '', 'PO BOX 7000', '', 'AZUSA CA', '91702']\n",
      "['8628-004-052', '19990326-50', '', 'Y', 'AZUSA PACIFIC UNIVERSITY', '', '', '', '1130', '', 'E', 'ALOSTA AVE', 'NO A-106', 'AZUSA CA', '91702-2757', '0', '', '', 'PO BOX 7000', '', 'AZUSA CA', '91702']\n",
      "['8628-004-053', '20001120-50', '', 'Y', 'AZUSA PACIFIC UNIVERSITY', '', '', '', '1130', '', 'E', 'ALOSTA AVE', 'NO A-207', 'AZUSA CA', '91702-2718', '0', '', '', 'PO BOX 7000', '', 'AZUSA CA', '91702']\n",
      "['8628-004-054', '20050217-50', '', 'Y', 'AZUSA PACIFIC UNIVERSITY', '', '', '', '1130', '', 'E', 'ALOSTA AVE', 'NO A-107', 'AZUSA CA', '91702-2737', '0', '', '', 'PO BOX 7000', '', 'AZUSA CA', '91702']\n",
      "['8628-004-055', '19980615-50', '', 'Y', 'AZUSA PACIFIC UNIVERSITY', '', '', '', '1130', '', 'E', 'ALOSTA AVE', 'NO B-201', 'AZUSA CA', '91702-2719', '0', '', '', 'PO BOX 7000', '', 'AZUSA CA', '91702']\n",
      "['8628-004-056', '20050815-50', '', 'Y', 'AZUSA PACIFIC UNIVERSITY', '', '', 'DAVID REID', '1130', '', 'E', 'ALOSTA AVE', 'NO B-101', 'AZUSA CA', '91702-2718', '0', '', '', 'PO BOX 7000', '', 'AZUSA CA', '91702']\n",
      "['8628-004-057', '20000406-50', '', 'Y', 'AZUSA PACIFIC UNIVERSITY', '', '', '', '1130', '', 'E', 'ALOSTA AVE', 'NO B-202', 'AZUSA CA', '91702-2720', '0', '', '', 'PO BOX 7000', '', 'AZUSA CA', '91702']\n",
      "['8628-004-059', '19990618-75', '', 'Y', 'AZUSA PACIFIC UNIVERSITY', '', '', '', '1130', '', 'E', 'ALOSTA AVE', 'NO B-203', 'AZUSA CA', '91702-2720', '0', '', '', 'PO BOX 7000', '', 'AZUSA CA', '91702']\n",
      "['8628-004-060', '19980813-50', '', 'Y', 'AZUSA PACIFIC UNIVERSITY', '', '', '', '1130', '', 'E', 'ALOSTA AVE', 'NO B-103', 'AZUSA CA', '91702-2718', '0', '', '', 'PO BOX 7000', '', 'AZUSA CA', '91702']\n",
      "['8628-004-061', '20041112-50', '', 'Y', 'AZUSA PACIFIC UNIVERSITY', '', '', '', '1130', '', 'E', 'ALOSTA AVE', 'NO B-204', 'AZUSA CA', '91702-2720', '0', '', '', 'PO BOX 7000', '', 'AZUSA CA', '91702']\n",
      "['8628-004-062', '19991020-50', '', 'Y', 'AZUSA PACIFIC UNIVERSITY', '', '', '', '1130', '', 'E', 'ALOSTA AVE', 'NO B-105', 'AZUSA CA', '91702-2703', '0', '', '', 'PO BOX 7000', '', 'AZUSA CA', '91702']\n",
      "['8628-004-063', '20080519-50', '', 'Y', 'AZUSA PACIFIC UNIVERSITY', '', '', '', '1130', '', 'E', 'ALOSTA AVE', 'NO B-205', 'AZUSA CA', '91702-2720', '901', '', 'E', 'ALOSTA AVE', '', 'AZUSA CA', '91702-2701']\n",
      "['8628-004-064', '20071120-50', '', 'Y', 'AZUSA PACIFIC UNIVERSITY', '', '', '', '1130', '', 'E', 'ALOSTA AVE', 'NO B-106', 'AZUSA CA', '91702-2719', '901', '', 'E', 'ALOSTA AVE', '', 'AZUSA CA', '91702-2701']\n",
      "['8628-004-065', '20040907-50', '', 'Y', 'AZUSA PACIFIC UNIVERSITY', '', '', '', '1130', '', 'E', 'ALOSTA AVE', 'NO B-206', 'AZUSA CA', '91702-2720', '0', '', '', 'PO BOX 7000', '', 'AZUSA CA', '91702']\n",
      "['8628-004-068', '20110223-50', '', 'Y', 'AZUSA PACIFIC UNIVERSITY', '', '', '', '1130', '', 'E', 'ALOSTA AVE', 'NO C-101', 'AZUSA CA', '91702-2721', '901', '', 'E', 'ALOSTA AVE', '', 'AZUSA CA', '91702-2701']\n",
      "['8628-004-070', '20060425-50', '', 'Y', 'AZUSA PACIFIC UNIVERSITY', '', '', 'DAVE REID', '1130', '', 'E', 'ALOSTA AVE', 'NO C-102', 'AZUSA CA', '91702-2721', '0', '', '', 'PO BOX 7000', '', 'AZUSA CA', '91702']\n",
      "['8628-004-071', '20090729-50', '', 'Y', 'AZUSA PACIFIC UNIVERSITY', '', '', '', '1130', '', 'E', 'ALOSTA AVE', 'NO C-202', 'AZUSA CA', '91702-2759', '901', '', 'E', 'ALOSTA AVE', '', 'GLENDORA CA', '91740']\n",
      "['8628-004-073', '20020530-50', '', 'Y', 'AZUSA PACIFIC UNIVERSITY', '', '', 'DAVID P REID', '1130', '', 'E', 'ALOSTA AVE', 'NO C-203', 'AZUSA CA', '91702-2759', '0', '', '', 'PO BOX 7000', '', 'AZUSA CA', '91702']\n",
      "['8628-004-074', '20000721-50', 'nonReapp', 'Y', 'AZUSA PACIFIC UNIVERSITY', '', '', '', '1130', '', 'E', 'ALOSTA AVE', 'NO C-104', 'AZUSA CA', '91702-2703', '0', '', '', 'PO BOX 7000', '', 'AZUSA CA', '91702']\n",
      "['8628-004-074', '19991028-50', '', 'N', 'AZUSA PACIFIC UNIVERSITY', '', '', '', '1130', '', 'E', 'ALOSTA AVE', 'NO C-104', 'AZUSA CA', '91702-2703', '901', '', 'E', 'ALOSTA AVE', '', 'AZUSA CA', '91702-2701']\n",
      "['8628-004-075', '19990224-50', '', 'Y', 'AZUSA PACIFIC UNIVERSITY', '', '', '', '1130', '', 'E', 'ALOSTA AVE', 'NO C-204', 'AZUSA CA', '91702-2759', '0', '', '', 'PO BOX 7000', '', 'AZUSA CA', '91702']\n",
      "['8628-004-076', '20010524-50', '', 'Y', 'AZUSA PACIFIC UNIVERSITY', '', '', '', '1130', '', 'E', 'ALOSTA AVE', 'NO C-105', 'AZUSA CA', '91702-2722', '0', '', '', 'PO BOX 7000', '', 'AZUSA CA', '91702']\n",
      "['8628-004-077', '20000728-50', '', 'Y', 'AZUSA PACIFIC UNIVERSITY', '', '', '', '1130', '', 'E', 'ALOSTA AVE', 'NO C-205', 'AZUSA CA', '91702-2759', '0', '', '', 'PO BOX 7000', '', 'AZUSA CA', '91702']\n",
      "['8628-004-078', '20030407-50', '', 'Y', 'AZUSA PACIFIC UNIVERSITY', '', '', '', '1130', '', 'E', 'ALOSTA AVE', 'NO C-106', 'AZUSA CA', '91702-2722', '0', '', '', 'PO BOX 7000', '', 'AZUSA CA', '91702']\n",
      "['8628-004-080', '20090120-50', '', 'Y', 'AZUSA PACIFIC UNIVERSITY', '', '', '', '1130', '', 'E', 'ALOSTA AVE', 'NO C-107', 'AZUSA CA', '91702-2722', '901', '', 'E', 'ALOSTA AVE', '', 'AZUSA CA', '91702-2701']\n",
      "['8628-004-081', '20000630-50', '', 'Y', 'AZUSA PACIFIC UNIVERSITY', '', '', '', '1130', '', 'E', 'ALOSTA AVE', 'NO C-207', 'AZUSA CA', '91702-2703', '0', '', '', 'PO BOX 7000', '', 'AZUSA CA', '91702']\n",
      "['8628-004-082', '20050426-50', '', 'Y', 'AZUSA PACIFIC UNIVERSITY', '', '', '', '1130', '', 'E', 'ALOSTA AVE', 'NO C-108', 'AZUSA CA', '91702-2722', '0', '', '', 'PO BOX 7000', '', 'AZUSA CA', '91702']\n",
      "['8628-004-083', '20080213-50', '', 'Y', 'AZUSA PACIFIC UNIVERSITY', '', '', '', '1130', '', 'E', 'ALOSTA AVE', 'NO C-208', 'AZUSA CA', '91702-2760', '901', '', 'E', 'ALOSTA AVE', '', 'AZUSA CA', '91702-2701']\n",
      "['8628-004-084', '19990326-50', '', 'Y', 'AZUSA PACIFIC UNIVERSITY', '', '', '', '1130', '', 'E', 'ALOSTA AVE', 'NO D-101', 'AZUSA CA', '91702-2760', '0', '', '', 'PO BOX 7000', '', 'AZUSA CA', '91702']\n",
      "['8628-004-087', '19970124-50', '', 'Y', 'AZUSA PACIFIC UNIVERSITY', '', '', 'BUSINESS OFFICE', '1130', '', 'E', 'ALOSTA AVE', 'NO D-202', 'AZUSA CA', '91702-2762', '0', '', '', 'PO BOX 7000', '', 'AZUSA CA', '91702-7000']\n",
      "['8628-004-088', '19970127-50', '', 'Y', 'AZUSA PACIFIC UNIVERSITY', '', '', '', '1130', '', 'E', 'ALOSTA AVE', 'NO D-103', 'AZUSA CA', '91702-2733', '0', '', '', 'PO BOX 7000', '', 'AZUSA CA', '91702']\n",
      "['8628-004-089', '20070601-50', '', 'Y', 'AZUSA PACIFIC UNIVERSITY', '', '', '', '1130', '', 'E', 'ALOSTA AVE', 'NO D-203', 'AZUSA CA', '91702-2762', '901', '', 'E', 'ALOSTA AVE', '', 'AZUSA CA', '91702-2701']\n",
      "['8628-004-090', '20000615-50', '', 'Y', 'AZUSA PACIFIC UNIVERSITY', '', '', '', '1130', '', 'E', 'ALOSTA AVE', 'NO D-104', 'AZUSA CA', '91702-2703', '0', '', '', 'PO BOX 7000', '', 'AZUSA CA', '91702']\n",
      "['8628-004-091', '20090506-50', '', 'Y', 'AZUSA PACIFIC UNIVERSITY', '', '', '', '1130', '', 'E', 'ALOSTA AVE', 'NO D-204', 'AZUSA CA', '91702-2763', '901', '', 'E', 'ALOSTA AVE', '', 'AZUSA CA', '91702-2701']\n",
      "['8628-004-092', '19991102-50', '', 'Y', 'AZUSA PACIFIC UNIVERSITY', '', '', '', '1130', '', 'E', 'ALOSTA AVE', 'NO D-105', 'AZUSA CA', '91702-2733', '0', '', '', 'PO BOX 7000', '', 'AZUSA CA', '91702']\n",
      "['8628-004-093', '20010823-50', '', 'Y', 'AZUSA PACIFIC UNIVERSITY', '', '', '', '1130', '', 'E', 'ALOSTA AVE', 'NO D-205', 'AZUSA CA', '91702-2763', '0', '', '', 'PO BOX 7000', '', 'AZUSA CA', '91702']\n",
      "['8628-004-094', '19950918-50', '', 'Y', 'AZUSA PACIFIC UNIVERSITY', '', '', '', '1130', '', 'E', 'ALOSTA AVE', 'NO D-106', 'AZUSA CA', '91702-2733', '0', '', '', 'PO BOX 7000', '', 'AZUSA CA', '91702']\n",
      "['8628-004-095', '20011217-50', '', 'Y', 'AZUSA PACIFIC UNIVERSITY', '', '', '', '1130', '', 'E', 'ALOSTA AVE', 'NO D-206', 'AZUSA CA', '91702-2763', '0', '', '', 'PO BOX 7000', '', 'AZUSA CA', '91702']\n",
      "['8628-004-096', '19980702-50', '', 'Y', 'AZUSA PACIFIC UNIVERSITY', '', '', '', '1130', '', 'E', 'ALOSTA AVE', 'NO D-107', 'AZUSA CA', '91702-2733', '0', '', '', 'PO BOX 7000', '', 'AZUSA CA', '91702']\n",
      "['8628-004-098', '20080118-50', '', 'Y', 'AZUSA PACIFIC UNIVERSITY', '', '', '', '1130', '', 'E', 'ALOSTA AVE', 'NO D-108', 'AZUSA CA', '91702-2762', '901', '', 'E', 'ALOSTA AVE', '', 'AZUSA CA', '91702-2701']\n",
      "['8628-004-099', '20010205-50', '', 'Y', 'AZUSA PACIFIC UNIVERSITY', '', '', '', '1130', '', 'E', 'ALOSTA AVE', 'NO D-208', 'AZUSA CA', '91702-2763', '0', '', '', 'PO BOX 7000', '', 'AZUSA CA', '91702']\n",
      "['8628-004-100', '20030905-50', '', 'Y', 'AZUSA PACIFIC UNIVERSITY', '', '', '', '1130', '', 'E', 'ALOSTA AVE', 'NO E-101', 'AZUSA CA', '91702-2764', '0', '', '', 'PO BOX 7000', '', 'AZUSA CA', '91702']\n",
      "['8628-004-102', '20030910-50', '', 'Y', 'AZUSA PACIFIC UNIVERSITY', '', '', '', '1130', '', 'E', 'ALOSTA AVE', 'NO E-102', 'AZUSA CA', '91702-2764', '0', '', '', 'PO BOX 7000', '', 'AZUSA CA', '91702']\n",
      "['8628-004-103', '20131004-50', '', 'Y', 'AZUSA PACIFIC UNIVERSITY', '', '', '', '1130', '', 'E', 'ALOSTA AVE', 'NO E-202', 'AZUSA CA', '91702-2765', '901', '', 'E', 'ALOSTA AVE', '', 'AZUSA CA', '91702-2701']\n",
      "['8628-004-104', '20050429-50', '', 'Y', 'AZUSA PACIFIC UNIVERSITY', '', '', '', '1130', '', 'E', 'ALOSTA AVE', 'NO E-103', 'AZUSA CA', '91702-2764', '0', '', '', 'PO BOX 7000', '', 'AZUSA CA', '91702']\n",
      "['8628-004-106', '19990305-50', '', 'Y', 'AZUSA PACIFIC UNIVERSITY', '', '', '', '1130', '', 'E', 'ALOSTA AVE', 'NO E-204', 'AZUSA CA', '91702-2765', '0', '', '', 'PO BOX 7000', '', 'AZUSA CA', '91702']\n",
      "['8628-004-107', '20120104-50', '', 'Y', 'AZUSA PACIFIC UNIVERSITY', '', '', '', '1130', '', 'E', 'ALOSTA AVE', 'NO E-205', 'AZUSA CA', '91702-2766', '0', '', '', 'PO BOX 7000', '', 'AZUSA CA', '91702-7000']\n",
      "['8628-004-108', '19990602-50', '', 'Y', 'AZUSA PACIFIC UNIVERSITY', '', '', '', '1130', '', 'E', 'ALOSTA AVE', 'NO E-105', 'AZUSA CA', '91702-2703', '0', '', '', 'PO BOX 7000', '', 'AZUSA CA', '91702']\n",
      "['8628-004-109', '20010306-50', '', 'Y', 'AZUSA PACIFIC UNIVERSITY', '', '', '', '1130', '', 'E', 'ALOSTA AVE', 'NO E-206', 'AZUSA CA', '91702-2766', '0', '', '', 'PO BOX 7000', '', 'AZUSA CA', '91702']\n",
      "['8628-004-110', '19981110-50', '', 'Y', 'AZUSA PACIFIC UNIVERSITY', '', '', '', '1130', '', 'E', 'ALOSTA AVE', 'NO E-106', 'AZUSA CA', '91702-2734', '0', '', '', 'PO BOX 7000', '', 'AZUSA CA', '91702']\n",
      "['8628-004-111', '20091104-50', '', 'Y', 'AZUSA PACIFIC UNIVERSITY', '', '', '', '1130', '', 'E', 'ALOSTA AVE', 'NO E-207', 'AZUSA CA', '91702-2766', '901', '', 'E', 'ALOSTA AVE', '', 'GLENDORA CA', '91740']\n",
      "['8628-004-112', '20010406-50', '', 'Y', 'AZUSA PACIFIC UNIVERSITY', '', '', '', '1130', '', 'E', 'ALOSTA AVE', 'NO E-107', 'AZUSA CA', '91702-2765', '0', '', '', 'PO BOX 7000', '', 'AZUSA CA', '91702']\n",
      "['8628-004-113', '19990315-50', '', 'Y', 'AZUSA PACIFIC UNIVERSITY', '', '', '', '1130', '', 'E', 'ALOSTA AVE', 'NO F-201', 'AZUSA CA', '91702-2768', '0', '', '', 'PO BOX 7000', '', 'AZUSA CA', '91702']\n",
      "['8628-004-114', '19980716-50', '', 'Y', 'AZUSA PACIFIC UNIVERSITY', '', '', '', '1130', '', 'E', 'ALOSTA AVE', 'NO F-101', 'AZUSA CA', '91702-2766', '0', '', '', 'PO BOX 7000', '', 'AZUSA CA', '91702']\n",
      "['8628-004-115', '19981130-50', '', 'Y', 'AZUSA PACIFIC UNIVERSITY', '', '', '', '1130', '', 'E', 'ALOSTA AVE', 'NO F-202', 'AZUSA CA', '91702-2768', '0', '', '', 'PO BOX 7000', '', 'AZUSA CA', '91702']\n",
      "['8628-004-116', '19980928-50', '', 'Y', 'AZUSA PACIFIC UNIVERSITY', '', '', '', '1130', '', 'E', 'ALOSTA AVE', 'NO F-102', 'AZUSA CA', '91702-2766', '0', '', '', 'PO BOX 7000', '', 'AZUSA CA', '91702']\n",
      "['8628-004-118', '19990518-50', '', 'Y', 'AZUSA PACIFIC UNIVERSITY', '', '', '', '1130', '', 'E', 'ALOSTA AVE', 'NO F-103', 'AZUSA CA', '91702-2766', '0', '', '', 'PO BOX 7000', '', 'AZUSA CA', '91702']\n",
      "['8628-004-119', '20070810-50', '', 'Y', 'AZUSA PACIFIC UNIVERSITY', '', '', '', '1130', '', 'E', 'ALOSTA AVE', 'NO F-204', 'AZUSA CA', '91702-2768', '901', '', 'E', 'ALOSTA AVE', '', 'AZUSA CA', '91702-2701']\n",
      "['8628-004-121', '19990518-50', '', 'Y', 'AZUSA PACIFIC UNIVERSITY', '', '', '', '1130', '', 'E', 'ALOSTA AVE', 'NO F-205', 'AZUSA CA', '91702-2768', '0', '', '', 'PO BOX 7000', '', 'AZUSA CA', '91702']\n",
      "['8628-004-122', '20030312-50', '', 'Y', 'AZUSA PACIFIC UNIVERSITY', '', '', '', '1130', '', 'E', 'ALOSTA AVE', 'NO F-106', 'AZUSA CA', '91702-2767', '0', '', '', 'PO BOX 7000', '', 'AZUSA CA', '91702']\n",
      "['8628-004-123', '19990507-50', '', 'Y', 'AZUSA PACIFIC UNIVERSITY', '', '', '', '1130', '', 'E', 'ALOSTA AVE', 'NO F-206', 'AZUSA CA', '91702-2768', '0', '', '', 'PO BOX 7000', '', 'AZUSA CA', '91702']\n",
      "['8628-004-124', '20060427-50', '', 'Y', 'AZUSA PACIFIC UNIVERSITY', '', '', '', '1130', '', 'E', 'ALOSTA AVE', 'NO F-107', 'AZUSA CA', '91702-2767', '0', '', '', 'PO BOX 7000', '', 'AZUSA CA', '91702']\n",
      "['8628-004-125', '20010103-50', '', 'Y', 'AZUSA PACIFIC UNIVERSITY', '', '', '', '1130', '', 'E', 'ALOSTA AVE', 'NO F-207', 'AZUSA CA', '91702-2770', '0', '', '', 'PO BOX 7000', '', 'AZUSA CA', '91702']\n",
      "['8628-004-126', '19991018-50', '', 'Y', 'AZUSA PACIFIC UNIVERSITY', '', '', '', '1130', '', 'E', 'ALOSTA AVE', 'NO F-108', 'AZUSA CA', '91702-2767', '0', '', '', 'PO BOX 7000', '', 'AZUSA CA', '91702']\n",
      "['8628-004-127', '19990519-50', '', 'Y', 'AZUSA PACIFIC UNIVERSITY', '', '', '', '1130', '', 'E', 'ALOSTA AVE', 'NO F-208', 'AZUSA CA', '91702-2703', '0', '', '', 'PO BOX 7000', '', 'AZUSA CA', '91702']\n",
      "['8628-004-128', '19961118-50', '', 'Y', 'AZUSA PACIFIC UNIVERSITY', '', '', '', '1130', '', 'E', 'ALOSTA AVE', 'NO G-101', 'AZUSA CA', '91702-2770', '0', '', '', 'PO BOX 7000', '', 'AZUSA CA', '91702']\n",
      "['8628-004-129', '20050930-50', '', 'Y', 'AZUSA PACIFIC UNIVERSITY', '', '', '', '1130', '', 'E', 'ALOSTA AVE', 'NO G-201', 'AZUSA CA', '91702-2772', '0', '', '', 'PO BOX 7000', '', 'AZUSA CA', '91702']\n",
      "['8628-004-130', '19980930-50', '', 'Y', 'AZUSA PACIFIC UNIVERSITY', '', '', '', '1130', '', 'E', 'ALOSTA AVE', 'NO G-102', 'AZUSA CA', '91702-2770', '0', '', '', 'PO BOX 7000', '', 'AZUSA CA', '91702']\n",
      "['8628-004-133', '20041022-50', '', 'Y', 'AZUSA PACIFIC UNIVERSITY', '', '', '', '1130', '', 'E', 'ALOSTA AVE', 'NO G-203', 'AZUSA CA', '91702-2772', '0', '', '', 'PO BOX 7000', '', 'AZUSA CA', '91702']\n",
      "['8628-004-134', '20050727-50', '', 'Y', 'AZUSA PACIFIC UNIVERSITY', '', '', '', '1130', '', 'E', 'ALOSTA AVE', 'NO G-104', 'AZUSA CA', '91702-2771', '0', '', '', 'PO BOX 7000', '', 'AZUSA CA', '91702']\n",
      "['8628-004-136', '19990406-50', '', 'Y', 'AZUSA PACIFIC UNIVERSITY', '', '', '', '1130', '', 'E', 'ALOSTA AVE', 'NO G-105', 'AZUSA CA', '91702-2771', '0', '', '', 'PO BOX 7000', '', 'AZUSA CA', '91702']\n",
      "['8628-004-137', '20031203-50', '', 'Y', 'AZUSA PACIFIC UNIVERSITY', '', '', '', '1130', '', 'E', 'ALOSTA AVE', 'NO G-205', 'AZUSA CA', '91702-2773', '0', '', '', 'PO BOX 7000', '', 'AZUSA CA', '91702']\n",
      "['8628-004-138', '19980930-50', '', 'Y', 'AZUSA PACIFIC UNIVERSITY', '', '', '', '1130', '', 'E', 'ALOSTA AVE', 'NO G-106', 'AZUSA CA', '91702-2771', '0', '', '', 'PO BOX 7000', '', 'AZUSA CA', '91702']\n",
      "['8628-004-139', '20071127-50', '', 'Y', 'AZUSA PACIFIC UNIVERSITY', '', '', '', '1130', '', 'E', 'ALOSTA AVE', 'NO G-206', 'AZUSA CA', '91702-2773', '901', '', 'E', 'ALOSTA AVE', '', 'AZUSA CA', '91702-2701']\n",
      "['8628-004-140', '20021119-50', '', 'Y', 'AZUSA PACIFIC UNIVERSITY', '', '', '', '1130', '', 'E', 'ALOSTA AVE', 'NO G-107', 'AZUSA CA', '91702-2771', '0', '', '', 'PO BOX 7000', '', 'AZUSA CA', '91702']\n",
      "['8628-004-142', '20070122-50', '', 'Y', 'AZUSA PACIFIC UNIVERSITY', '', '', '', '1130', '', 'E', 'ALOSTA AVE', 'NO G-108', 'AZUSA CA', '91702-2772', '901', '', 'E', 'ALOSTA AVE', '', 'AZUSA CA', '91702-2701']\n",
      "['8628-004-143', '20010725-50', '', 'Y', 'AZUSA PACIFIC UNIVERSITY', '', '', '', '1130', '', 'E', 'ALOSTA AVE', 'NO G-208', 'AZUSA CA', '91702-2773', '0', '', '', 'PO BOX 7000', '', 'AZUSA CA', '91702']\n",
      "['8628-004-146', '19980611-50', '', 'Y', 'AZUSA PACIFIC UNIVERSITY', '', '', '', '1130', '', 'E', 'ALOSTA AVE', 'NO H-102', 'AZUSA CA', '91702-2774', '0', '', '', 'PO BOX 7000', '', 'AZUSA CA', '91702']\n",
      "['8628-004-147', '19980716-50', '', 'Y', 'AZUSA PACIFIC UNIVERSITY', '', '', '', '1130', '', 'E', 'ALOSTA AVE', 'NO H-202', 'AZUSA CA', '91702-2775', '0', '', '', 'PO BOX 7000', '', 'AZUSA CA', '91702']\n",
      "['8628-004-148', '19991102-50', '', 'Y', 'AZUSA PACIFIC UNIVERSITY', '', '', '', '1130', '', 'E', 'ALOSTA AVE', 'NO H-103', 'AZUSA CA', '91702-2774', '0', '', '', 'PO BOX 7000', '', 'AZUSA CA', '91702']\n",
      "['8628-004-149', '19990419-50', '', 'Y', 'AZUSA PACIFIC UNIVERSITY', '', '', '', '1130', '', 'E', 'ALOSTA AVE', 'NO H-203', 'AZUSA CA', '91702-2775', '0', '', '', 'PO BOX 7000', '', 'AZUSA CA', '91702']\n",
      "['8628-004-150', '19990930-50', '', 'Y', 'AZUSA PACIFIC UNIVERSITY', '', '', '', '1130', '', 'E', 'ALOSTA AVE', 'NO H-104', 'AZUSA CA', '91702-2774', '0', '', '', 'PO BOX 7000', '', 'AZUSA CA', '91702']\n",
      "['8628-004-151', '20070522-50', '', 'Y', 'AZUSA PACIFIC UNIVERSITY', '', '', '', '1130', '', 'E', 'ALOSTA AVE', 'NO H-204', 'AZUSA CA', '91702-2776', '1130', '', 'E', 'ALOSTA AVE', 'H 204', 'AZUSA CA', '91702-2776']\n",
      "['8628-004-152', '19990518-50', '', 'Y', 'AZUSA PACIFIC UNIVERSITY', '', '', '', '1130', '', 'E', 'ALOSTA AVE', 'NO H-105', 'AZUSA CA', '91702-2774', '0', '', '', 'PO BOX 7000', '', 'AZUSA CA', '91702']\n",
      "['8628-004-153', '19990518-50', '', 'Y', 'AZUSA PACIFIC UNIVERSITY', '', '', '', '1130', '', 'E', 'ALOSTA AVE', 'NO H-205', 'AZUSA CA', '91702-2776', '0', '', '', 'PO BOX 7000', '', 'AZUSA CA', '91702']\n",
      "['8628-004-157', '19970326-50', '', 'Y', 'AZUSA PACIFIC UNIVERSITY', '', '', '', '1130', '', 'E', 'ALOSTA AVE', 'NO H-207', 'AZUSA CA', '91702-2776', '0', '', '', 'PO BOX 7000', '', 'AZUSA CA', '91702']\n",
      "['8628-004-158', '20091014-50', '', 'Y', 'AZUSA PACIFIC UNIVERSITY', '', '', '', '1130', '', 'E', 'ALOSTA AVE', 'NO H-108', 'AZUSA CA', '91702-2775', '0', '', '', 'PO BOX 7000', '', 'AZUSA CA', '91702']\n",
      "['8628-004-159', '19951102-50', '', 'Y', 'AZUSA PACIFIC UNIVERSITY', '', '', '', '1130', '', 'E', 'ALOSTA AVE', 'NO H-208', 'AZUSA CA', '91702-2776', '0', '', '', 'PO BOX 7000', '', 'AZUSA CA', '91702']\n",
      "['8628-004-166', '20060817-50', '', 'Y', 'AZUSA PACIFIC UNIVERSITY', '', '', '', '900', '', 'E', 'ALOSTA AVE', '', 'AZUSA CA', '91702-2709', '0', '', '', 'PO BOX 7000', '', 'AZUSA CA', '91702']\n",
      "['8638-015-020', '19990630-75', 'PartInt', 'Y', 'AZUSA PACIFIC UNIVERSITY', '', '', '', '150', '', 'E', 'MEDA AVE', '', 'GLENDORA CA', '91741-2689', '0', '', '', 'PO BOX 7000', '', 'AZUSA CA', '91702']\n",
      "['8638-015-020', '19990630-25', '', 'N', 'AZUSA PACIFIC UNIVERSITY AND', '', '', 'APU DAVID REID', '150', '', 'E', 'MEDA AVE', '', 'GLENDORA CA', '91741-2689', '901', '', 'E', 'ALOSTA', '', 'AZUSA CA', '91702']\n",
      "['8638-018-003', '20110422-50', '', 'Y', 'G R LEONARD AND CO', '', '', '', '181', '', 'N', 'VERMONT AVE', '', 'GLENDORA CA', '91741-3321', '115', '', 'E', 'UNIVERSITY DR', '', 'ARLINGTON HEIGHTS IL', '60004-1803']\n",
      "['8658-015-021', '19720222-50', 'other', 'N', 'RASSP,HERMAN', '', '', '', '0', '', '', '', '', '', '', '631', '', '', 'UNIVERSITY AVE', '', 'BURBANK CALIF', '91504']\n",
      "['8665-037-009', '20160308-50', 'nonReapp', 'Y', 'HV HOMEOWNERS ASSOCIATION', '', '', '', '1276', '', '', 'HIDDEN CREEK RD', '', 'SAN DIMAS CA', '91773-1234', '8220', '', '', 'UNIVERSITY AVE', 'UNIT 100', 'LA MESA CA', '91942-9321']\n",
      "['8665-037-009', '20141209-50', '', 'N', 'HV HOMEOWNERS ASSOCIATION', '', '', 'C/O KRIEGER LAW FIRM', '1276', '', '', 'HIDDEN CREEK RD', '', 'SAN DIMAS CA', '91773-1234', '8220', '', '', 'UNIVERSITY AVE', 'STE 100', 'LA MESA CA', '91942-9321']\n",
      "['8673-003-018', '19641016-50', 'other', 'N', 'RASSP,HERMAN', '', '', '', '0', '', '', '', '', '', '', '0', '', '', '631 UNIVERSITY AVE', '', 'BURBANK CALIF', '91504']\n",
      "['8673-016-002', '19670245-50', 'other', 'Y', 'CLAREMONT GRADUATE SCHOOL AND', 'UNIVERSITY CENTER', '', 'KATIE HENDRICK', '0', '', '', '', '', '', '', '101', '', 'S', 'MILLS AVE', '', 'CLAREMONT CA', '91711-5053']\n",
      "['8675-023-010', '20001222-50', 'nonReapp', 'Y', 'CLAREMONT UNIVERSITY CONSORTIUM', '', '', 'KATIE HENDRICK', '0', '', '', '', '', '', '', '101', '', 'S', 'MILLS AVE', '', 'CLAREMONT CA', '91711-5053']\n",
      "['8675-023-010', '19991230-50', '', 'N', 'CLAREMONT UNIVERSITY CENTER', '', '', 'DANA WOOD', '0', '', '', '', '', '', '', '1263', '', 'N', 'DARTMOUTH AVE', '', 'CLAREMONT CA', '91711']\n",
      "['8707-001-018', '20070404-50', 'nonReapp', 'Y', 'MACK UNIVERSITY PARKING LLC', '', '', 'C/O RICHARD MACKLIN', '0', '', '', '', '', '', '', '0', '', '', 'PO BOX 11223', '', 'NEWPORT BEACH CA', '92658-5022']\n",
      "['8707-001-018', '19990525-50', 'nonReapp', 'N', 'MACK UNIVERSITY LLC', '', '', '', '0', '', '', '', '', '', '', '4041', '', '', 'MACARTHUR BLVD', 'STE  120', 'NEWPORT BEACH CA', '92660-2513']\n",
      "['8707-001-050', '20060119-50', '', 'Y', 'UNIVERSITY CORPORATE CENTER', 'POMONA OWNERS ASSOC INC', '', '', '0', '', '', '', '', '', '', '635', '', 'W', 'ALLEN AVE', '', 'SAN DIMAS CA', '91773-1447']\n",
      "['8707-001-051', '20070404-50', 'nonReapp', 'Y', 'MACK UNIVERSITY PARKING LLC', '', '', 'THE MACKLIN COMPANIES', '0', '', '', '', '', '', '', '4041', '', '', 'MACARTHUR BLVD', 'STE 220', 'NEWPORT BEACH CA', '92660-2513']\n",
      "['8707-001-051', '19990525-50', 'nonReapp', 'N', 'MACK UNIVERSITY LLC', '', '', '', '0', '', '', '', '', '', '', '4041', '', '', 'MACARTHUR BLVD', 'STE  120', 'NEWPORT BEACH CA', '92660-2513']\n",
      "['8709-023-901', '19880810-50', 'nonReapp', 'Y', 'CA STATE POLYTECHNIC', 'UNIVERSITY OF POMONA', '', '', '0', '', '', '', '', '', '', '', '', '', '', '', '', '']\n",
      "['8709-023-902', '19880810-50', 'nonReapp', 'Y', 'CA STATE POLYTECHNIC', 'UNIVERSITY OF POMONA', '', '', '0', '', '', '', '', '', '', '', '', '', '', '', '', '']\n",
      "['8709-023-910', '19880810-50', 'nonReapp', 'Y', 'CALIFORNIA STATE UNIVERSITY', '', '', '', '0', '', '', '', '', '', '', '4665', '', '', 'LAMPSON AVE', '', 'LOS ALAMITOS CA', '90720-5187']\n",
      "['8709-023-915', '19880810-50', 'nonReapp', 'Y', 'CA STATE POLYTECHNIC', 'UNIVERSITY POMONA', '', '', '0', '', '', '', '', '', '', '', '', '', '', '', '', '']\n",
      "['8709-025-904', '19880810-50', 'nonReapp', 'Y', 'CA STATE POLYTECHNIC', 'UNIVERSITY OF POMONA', '', '', '0', '', '', '', '', '', '', '', '', '', '', '', '', '']\n",
      "['2861-001-901', '20121213-50', 'nonReapp', 'Y', 'REGENTS OF THE UNIVERSITY OF CA', '', '', 'C/O UCLA', '0', '', '', '', '', '', '', '10920', '', '', 'WILSHIRE BLVD', 'UNIT 810', 'LOS ANGELES CA', '90024-6654']\n",
      "['2861-001-902', '20121213-50', 'nonReapp', 'Y', 'REGENTS OF THE UNIVERSITY OF CA', '', '', 'C/O UCLA', '0', '', '', '', '', '', '', '10920', '', '', 'WILSHIRE BLVD', 'UNIT 810', 'LOS ANGELES CA', '90024-6654']\n",
      "['2861-001-903', '20121213-50', 'nonReapp', 'Y', 'REGENTS OF THE UNIVERSITY OF CA', '', '', 'C/O UCLA', '0', '', '', '', '', '', '', '10920', '', '', 'WILSHIRE BLVD', 'UNIT 810', 'LOS ANGELES CA', '90024-6654']\n",
      "['2861-001-904', '20121213-50', 'nonReapp', 'Y', 'REGENTS OF THE UNIVERSITY OF CA', '', '', 'C/O UCLA', '0', '', '', '', '', '', '', '10920', '', '', 'WILSHIRE BLVD', 'UNIT 810', 'LOS ANGELES CA', '90024-6654']\n",
      "['2861-001-905', '20121213-50', 'nonReapp', 'Y', 'REGENTS OF THE UNIVERSITY OF CA', '', '', 'C/O UCLA', '0', '', '', '', '', '', '', '10920', '', '', 'WILSHIRE BLVD', 'UNIT 810', 'LOS ANGELES CA', '90024-6654']\n",
      "['2861-001-906', '20121213-50', 'nonReapp', 'Y', 'REGENTS OF THE UNIVERSITY OF CA', '', '', 'C/O UCLA', '0', '', '', '', '', '', '', '10920', '', '', 'WILSHIRE BLVD', 'UNIT 810', 'LOS ANGELES CA', '90024-6654']\n",
      "['2861-001-907', '20121213-50', 'nonReapp', 'Y', 'REGENTS OF THE UNIVERSITY OF CA', '', '', 'C/O UCLA', '0', '', '', '', '', '', '', '10920', '', '', 'WILSHIRE BLVD', 'UNIT 810', 'LOS ANGELES CA', '90024-6654']\n",
      "['2861-001-908', '20121213-50', 'nonReapp', 'Y', 'REGENTS OF THE UNIVERSITY OF CA', '', '', 'C/O UCLA', '0', '', '', '', '', '', '', '10920', '', '', 'WILSHIRE BLVD', 'UNIT 810', 'LOS ANGELES CA', '90024-6654']\n",
      "['2861-001-909', '20121213-50', 'nonReapp', 'Y', 'REGENTS OF THE UNIVERSITY OF CA', '', '', 'C/O UCLA', '0', '', '', '', '', '', '', '10920', '', '', 'WILSHIRE BLVD', 'UNIT 810', 'LOS ANGELES CA', '90024-6654']\n",
      "['2861-001-910', '20121213-50', 'nonReapp', 'Y', 'REGENTS OF THE UNIVERSITY OF CA', '', '', 'C/O UCLA', '0', '', '', '', '', '', '', '10920', '', '', 'WILSHIRE BLVD', 'UNIT 810', 'LOS ANGELES CA', '90024-6654']\n",
      "['2861-001-911', '20121213-50', 'nonReapp', 'Y', 'REGENTS OF THE UNIVERSITY OF CA', '', '', 'C/O UCLA', '0', '', '', '', '', '', '', '10920', '', '', 'WILSHIRE BLVD', 'UNIT 810', 'LOS ANGELES CA', '90024-6654']\n",
      "['2861-001-912', '20121213-50', 'nonReapp', 'Y', 'REGENTS OF THE UNIVERSITY OF CA', '', '', 'C/O UCLA', '0', '', '', '', '', '', '', '10920', '', '', 'WILSHIRE BLVD', 'UNIT 810', 'LOS ANGELES CA', '90024-6654']\n",
      "['2861-001-913', '20121213-50', 'nonReapp', 'Y', 'REGENTS OF THE UNIVERSITY OF CA', '', '', 'C/O UCLA', '0', '', '', '', '', '', '', '10920', '', '', 'WILSHIRE BLVD', 'UNIT 810', 'LOS ANGELES CA', '90024-6654']\n",
      "['2861-001-914', '20121213-50', 'nonReapp', 'Y', 'REGENTS OF THE UNIVERSITY OF CA', '', '', 'C/O UCLA', '0', '', '', '', '', '', '', '10920', '', '', 'WILSHIRE BLVD', 'UNIT 810', 'LOS ANGELES CA', '90024-6654']\n",
      "['2861-001-915', '20121213-50', 'nonReapp', 'Y', 'REGENTS OF THE UNIVERSITY OF CA', '', '', 'C/O UCLA', '0', '', '', '', '', '', '', '10920', '', '', 'WILSHIRE BLVD', 'UNIT 810', 'LOS ANGELES CA', '90024-6654']\n",
      "['2861-001-916', '20121213-50', 'nonReapp', 'Y', 'REGENTS OF THE UNIVERSITY OF CA', '', '', 'C/O UCLA', '0', '', '', '', '', '', '', '10920', '', '', 'WILSHIRE BLVD', 'UNIT 810', 'LOS ANGELES CA', '90024-6654']\n",
      "['2861-001-917', '20121213-50', 'nonReapp', 'Y', 'REGENTS OF THE UNIVERSITY OF CA', '', '', 'C/O UCLA', '0', '', '', '', '', '', '', '10920', '', '', 'WILSHIRE BLVD', 'UNIT 810', 'LOS ANGELES CA', '90024-6654']\n",
      "['2861-001-918', '20121213-50', 'nonReapp', 'Y', 'REGENTS OF THE UNIVERSITY OF CA', '', '', 'C/O UCLA', '0', '', '', '', '', '', '', '10920', '', '', 'WILSHIRE BLVD', 'UNIT 810', 'LOS ANGELES CA', '90024-6654']\n",
      "['2861-001-919', '20121213-50', 'nonReapp', 'Y', 'REGENTS OF THE UNIVERSITY OF CA', '', '', 'C/O UCLA', '0', '', '', '', '', '', '', '10920', '', '', 'WILSHIRE BLVD', 'UNIT 810', 'LOS ANGELES CA', '90024-6654']\n",
      "['2861-001-920', '20121213-50', 'nonReapp', 'Y', 'REGENTS OF THE UNIVERSITY OF CA', '', '', 'C/O UCLA', '0', '', '', '', '', '', '', '10920', '', '', 'WILSHIRE BLVD', 'UNIT 810', 'LOS ANGELES CA', '90024-6654']\n",
      "['2861-001-921', '20121213-50', 'nonReapp', 'Y', 'REGENTS OF THE UNIVERSITY OF CA', '', '', 'C/O UCLA', '0', '', '', '', '', '', '', '10920', '', '', 'WILSHIRE BLVD', 'UNIT 810', 'LOS ANGELES CA', '90024-6654']\n",
      "['2861-001-922', '20121213-50', 'nonReapp', 'Y', 'REGENTS OF THE UNIVERSITY OF CA', '', '', 'C/O UCLA', '0', '', '', '', '', '', '', '10920', '', '', 'WILSHIRE BLVD', 'UNIT 810', 'LOS ANGELES CA', '90024-6654']\n",
      "['2861-001-923', '20121213-50', 'nonReapp', 'Y', 'REGENTS OF THE UNIVERSITY OF CA', '', '', 'C/O UCLA', '0', '', '', '', '', '', '', '10920', '', '', 'WILSHIRE BLVD', 'UNIT 810', 'LOS ANGELES CA', '90024-6654']\n",
      "['2861-001-924', '20121213-50', 'nonReapp', 'Y', 'REGENTS OF THE UNIVERSITY OF CA', '', '', 'C/O UCLA', '0', '', '', '', '', '', '', '10920', '', '', 'WILSHIRE BLVD', 'UNIT 810', 'LOS ANGELES CA', '90024-6654']\n",
      "['2861-001-925', '20121213-50', 'nonReapp', 'Y', 'REGENTS OF THE UNIVERSITY OF CA', '', '', 'C/O UCLA', '0', '', '', '', '', '', '', '10920', '', '', 'WILSHIRE BLVD', 'UNIT 810', 'LOS ANGELES CA', '90024-6654']\n",
      "['2861-001-926', '20121213-50', 'nonReapp', 'Y', 'REGENTS OF THE UNIVERSITY OF CA', '', '', 'C/O UCLA', '0', '', '', '', '', '', '', '10920', '', '', 'WILSHIRE BLVD', 'UNIT 810', 'LOS ANGELES CA', '90024-6654']\n",
      "['2861-001-927', '20121213-50', 'nonReapp', 'Y', 'REGENTS OF THE UNIVERSITY OF CA', '', '', 'C/O UCLA', '0', '', '', '', '', '', '', '10920', '', '', 'WILSHIRE BLVD', 'UNIT 810', 'LOS ANGELES CA', '90024-6654']\n",
      "['2861-001-928', '20121213-50', 'nonReapp', 'Y', 'REGENTS OF THE UNIVERSITY OF CA', '', '', 'C/O UCLA', '0', '', '', '', '', '', '', '10920', '', '', 'WILSHIRE BLVD', 'UNIT 810', 'LOS ANGELES CA', '90024-6654']\n",
      "['2861-001-929', '20121213-50', 'nonReapp', 'Y', 'REGENTS OF THE UNIVERSITY OF CA', '', '', 'C/O UCLA', '0', '', '', '', '', '', '', '10920', '', '', 'WILSHIRE BLVD', 'UNIT 810', 'LOS ANGELES CA', '90024-6654']\n",
      "['2861-001-930', '20121213-50', 'nonReapp', 'Y', 'REGENTS OF THE UNIVERSITY OF CA', '', '', 'C/O UCLA', '0', '', '', '', '', '', '', '10920', '', '', 'WILSHIRE BLVD', 'UNIT 810', 'LOS ANGELES CA', '90024-6654']\n",
      "['2861-001-931', '20121213-50', 'nonReapp', 'Y', 'REGENTS OF THE UNIVERSITY OF CA', '', '', 'C/O UCLA', '0', '', '', '', '', '', '', '10920', '', '', 'WILSHIRE BLVD', 'UNIT 810', 'LOS ANGELES CA', '90024-6654']\n",
      "['2861-001-932', '20121213-50', 'nonReapp', 'Y', 'REGENTS OF THE UNIVERSITY OF CA', '', '', 'C/O UCLA', '0', '', '', '', '', '', '', '10920', '', '', 'WILSHIRE BLVD', 'UNIT 810', 'LOS ANGELES CA', '90024-6654']\n",
      "['2861-001-933', '20121213-50', 'nonReapp', 'Y', 'REGENTS OF THE UNIVERSITY OF CA', '', '', 'C/O UCLA', '0', '', '', '', '', '', '', '10920', '', '', 'WILSHIRE BLVD', 'UNIT 810', 'LOS ANGELES CA', '90024-6654']\n",
      "['2861-001-934', '20121213-50', 'nonReapp', 'Y', 'REGENTS OF THE UNIVERSITY OF CA', '', '', 'C/O UCLA', '0', '', '', '', '', '', '', '10920', '', '', 'WILSHIRE BLVD', 'UNIT 810', 'LOS ANGELES CA', '90024-6654']\n",
      "['2861-001-935', '20121213-50', 'nonReapp', 'Y', 'REGENTS OF THE UNIVERSITY OF CA', '', '', 'C/O UCLA', '0', '', '', '', '', '', '', '10920', '', '', 'WILSHIRE BLVD', 'UNIT 810', 'LOS ANGELES CA', '90024-6654']\n",
      "['2861-001-936', '20121213-50', 'nonReapp', 'Y', 'REGENTS OF THE UNIVERSITY OF CA', '', '', 'C/O UCLA', '0', '', '', '', '', '', '', '10920', '', '', 'WILSHIRE BLVD', 'UNIT 810', 'LOS ANGELES CA', '90024-6654']\n",
      "['2861-001-937', '20121213-50', 'nonReapp', 'Y', 'REGENTS OF THE UNIVERSITY OF CA', '', '', 'C/O UCLA', '0', '', '', '', '', '', '', '10920', '', '', 'WILSHIRE BLVD', 'UNIT 810', 'LOS ANGELES CA', '90024-6654']\n",
      "['2861-001-938', '20121213-50', 'nonReapp', 'Y', 'REGENTS OF THE UNIVERSITY OF CA', '', '', 'C/O UCLA', '0', '', '', '', '', '', '', '10920', '', '', 'WILSHIRE BLVD', 'UNIT 810', 'LOS ANGELES CA', '90024-6654']\n",
      "['2861-004-904', '20151207-50', 'nonReapp', 'Y', 'REGENTS OF THE UNIVERSITY OF', 'CALIFORNIA', '', 'C/O REAL ESTATE SERVICE GROUP', '0', '', '', '', '', '', '', '1111', '', '', 'FRANKLIN ST', '6TH FL', 'OAKLAND CA', '94607-5200']\n",
      "['3033-008-057', '20080305-50', 'nonReapp', 'Y', 'SHIH,TIEN MO', '', '', '', '0', '', '', 'VAC/VIC AVE T8/228 STE', '', 'BLACK BUTTE CA', '93591', '6709', '', '', 'FOREST HILL DR', '', 'UNIVERSITY PARK MD', '20782']\n",
      "['3033-008-057', '19910819-50', '', 'N', 'SHIH,TIEN MO AND JOYCE L', '', '', '', '0', '', '', 'VAC/VIC AVE T8/228 STE', '', 'BLACK BUTTE CA', '93591', '6709', '', '', 'FOREST HILL DR', '', 'UNIVERSITY PARK MD', '20782']\n",
      "['3033-008-060', '20080305-50', 'nonReapp', 'Y', 'SHIH,TIEN MO', '', '', '', '0', '', '', 'VAC/AVE U/VIC 228 STE', '', 'BLACK BUTTE CA', '93591', '6709', '', '', 'FOREST HILL DR', '', 'UNIVERSITY PARK MD', '20782']\n",
      "['3033-008-060', '19910819-50', '', 'N', 'SHIH,TIEN MO AND JOYCE L', '', '', '', '0', '', '', 'VAC/AVE U/VIC 228 STE', '', 'BLACK BUTTE CA', '93591', '6709', '', '', 'FOREST HILL DR', '', 'UNIVERSITY PARK MD', '20782']\n",
      "['3033-008-069', '20080305-50', 'nonReapp', 'Y', 'SHIH,TIEN MO', '', '', '', '0', '', '', 'VAC/VIC AVE T10/228 STE', '', 'BLACK BUTTE CA', '93591', '6709', '', '', 'FORREST HILL DR', '', 'UNIVERSITY PARK MD', '20782']\n",
      "['3033-008-069', '19910819-50', '', 'N', 'SHIH,TIEN MO AND JOYCE L', '', '', '', '0', '', '', 'VAC/VIC AVE T10/228 STE', '', 'BLACK BUTTE CA', '93591', '6709', '', '', 'FOREST HILL DR', '', 'UNIVERSITY PARK MD', '20782']\n",
      "['7442-001-021', '20140807-50', 'nonReapp', 'Y', 'MARYMOUNT CALIFORNIA UNIVERSITY', '', '', 'C/O JAMES REEVES', '1600', '', 'W', 'PALOS VERDES DR NORTH', '', 'LOS ANGELES CA', '90731', '30800', '', '', 'PALOS VERDES DR E', '', 'RANCHO PALOS VERDES CA', '90275-6273']\n",
      "['7442-030-099', '20100920-50', 'nonReapp', 'Y', 'BLUM,DANA D TR', 'DANA D BLUM TRUST', '', '', '2215', '', '', 'STONEWOOD CT', '', 'LOS ANGELES CA', '90732-1345', '5200', '', '', 'UNIVERSITY DR', '', 'SANTA BARBARA CA', '93111-1733']\n",
      "['7442-030-099', '20091203-50', 'nonReapp', 'N', 'BLUM,DANA M AND', '', '', '', '2215', '', '', 'STONEWOOD CT', '', 'LOS ANGELES CA', '90732-1345', '5200', '', '', 'UNIVERSITY DR', '', 'SANTA BARBARA CA', '93111-1733']\n",
      "['7442-030-099', '20091022-50', 'nonReapp', 'N', 'BLUM,DANA M AND', '', '', '', '2215', '', '', 'STONEWOOD CT', '', 'LOS ANGELES CA', '90732-1345', '5200', '', '', 'UNIVERSITY DR', '', 'SANTA BARBARA CA', '93111-1733']\n",
      "['7442-030-099', '20080828-50', 'PartInt', 'N', 'DUNAWAY,MARK DECD EST OF AND', '', '', '', '2215', '', '', 'STONEWOOD CT', '', 'LOS ANGELES CA', '90732-1345', '5200', '', '', 'UNIVERSITY DR', '', 'SANTA BARBARA CA', '93111']\n",
      "['8340-001-015', '19780515-50', 'other', 'Y', 'WESTERN UNIVERSITY OF HEALTH', 'SCIENCES', '', '', '1269', '', 'N', 'PARK AVE', '', 'POMONA CA', '91768-3030', '309', '', 'E', '2ND ST', '', 'POMONA CA', '91766-1854']\n",
      "['8340-001-021', '19810129-50', 'other', 'Y', 'WESTERN UNIVERSITY OF HEALTH', 'SCIENCES', '', '', '304', '', 'W', 'ORANGE GROVE AVE', '', 'POMONA CA', '91768-1918', '309', '', 'E', '2ND ST', '', 'POMONA CA', '91766-1854']\n",
      "['8340-001-024', '19780515-50', 'other', 'Y', 'WESTERN UNIVERSITY OF HEALTH', 'SCIENCES', '', '', '330', '', 'W', 'ORANGE GROVE AVE', '', 'POMONA CA', '91768-1918', '309', '', 'E', '2ND ST', '', 'POMONA CA', '91766-1854']\n",
      "['8341-004-041', '20130820-50', '', 'Y', 'WESTERN UNIVERSITY OF HEALTH', 'SCIENCES', '', 'C/O KEVIN D SHAW TREASURER CFO', '225', '', 'S', 'GAREY AVE', '', 'POMONA CA', '91766-1705', '309', '', 'E', '2ND ST', '', 'POMONA CA', '91766-1854']\n",
      "['8341-004-042', '20130820-50', '', 'Y', 'WESTERN UNIVERSITY OF HEALTH', 'SCIENCES', '', 'C/O KEVIN D SHAW TREASURER CFO', '263', '', 'S', 'GAREY AVE', '', 'POMONA CA', '91766-1705', '309', '', 'E', '2ND ST', '', 'POMONA CA', '91766-1854']\n",
      "['8341-004-051', '20130820-50', '', 'Y', 'WESTERN UNIVERSITY OF HEALTH', 'SCIENCES', '', 'C/O KEVIN D SHAW TREASURER CFO', '100', '', 'W', '2ND ST', '', 'POMONA CA', '91766-1726', '309', '', 'E', '2ND ST', '', 'POMONA CA', '91766-1854']\n",
      "['8341-004-052', '20130820-50', '', 'Y', 'WESTERN UNIVERSITY OF HEALTH', 'SCIENCES', '', 'C/O KEVIN D SHAW TREASURER CFO', '0', '', '', '', '', '', '', '309', '', 'E', '2ND ST', '', 'POMONA CA', '91766-1854']\n",
      "['8342-017-910', '20010119-50', 'nonReapp', 'Y', 'POMONA UNIFIED SCHOOL DISTRICT', '', '', '', '0', '', '', '', '', '', '', '3750', '', '', 'UNIVERSITY AVE', '', 'RIVERSIDE CA', '92501-3366']\n",
      "['8377-002-017', '19990528-50', 'nonReapp', 'Y', 'UNIVERSITY OF LA VERNE', '', '', '', '2053', '', '', 'BONITA AVE', '', 'LA VERNE CA', '91750-4442', '1950', '', '', '3RD ST', '', 'LA VERNE CA', '91750-4401']\n",
      "['8377-002-018', '19990528-50', 'nonReapp', 'Y', 'UNIVERSITY OF LA VERNE', '', '', '', '2059', '', '', 'BONITA AVE', '', 'LA VERNE CA', '91750-4442', '1950', '', '', '3RD ST', '', 'LA VERNE CA', '91750-4401']\n",
      "['8377-002-019', '19990528-50', 'nonReapp', 'Y', 'UNIVERSITY OF LA VERNE', '', '', '', '2061', '', '', 'BONITA AVE', '', 'LA VERNE CA', '91750-4442', '1950', '', '', '3RD ST', '', 'LA VERNE CA', '91750-4401']\n",
      "['8377-002-020', '19990528-50', 'nonReapp', 'Y', 'UNIVERSITY OF LA VERNE', '', '', '', '0', '', '', '', '', '', '', '1950', '', '', '3RD ST', '', 'LA VERNE CA', '91750-4401']\n",
      "['8377-002-021', '19990528-50', 'nonReapp', 'Y', 'UNIVERSITY OF LA VERNE', '', '', '', '0', '', '', '', '', '', '', '1950', '', '', '3RD ST', '', 'LA VERNE CA', '91750-4401']\n",
      "['8377-002-022', '19990528-50', 'nonReapp', 'Y', 'UNIVERSITY OF LA VERNE', '', '', '', '2079', '', '', 'BONITA AVE', '', 'LA VERNE CA', '91750-4442', '1950', '', '', '3RD ST', '', 'LA VERNE CA', '91750-4401']\n",
      "['8377-002-022', '19981216-50', '', 'N', 'UNIVERSITY OF LA VERNE', '', '', '', '2079', '', '', 'BONITA AVE', '', 'LA VERNE CA', '91750-4442', '1950', '', '', '3RD ST', '', 'LA VERNE CA', '91750-4401']\n",
      "['8377-002-032', '19960524-50', '', 'Y', 'UNIVERSITY OF LA VERNE', '', '', '', '2035', '', '', 'BONITA AVE', '', 'LA VERNE CA', '91750-4442', '1950', '', '', '3RD ST', '', 'LA VERNE CA', '91750-4401']\n",
      "['8377-011-021', '19781129-50', 'other', 'Y', 'UNIVERSITY OF LA VERNE', '', '', '', '0', '', '', '', '', '', '', '1950', '', '', '3RD ST', '', 'LA VERNE CA', '91750-4401']\n",
      "['8377-014-003', '19820106-50', 'other', 'Y', 'UNIVERSITY OF LA VERNE', '', '', '', '2040', '', '', '3RD ST', '', 'LA VERNE CA', '91750-4403', '1950', '', '', '3RD ST', '', 'LA VERNE CA', '91750-4401']\n",
      "['8377-014-004', '19900618-50', '', 'Y', 'UNIVERSITY OF LA VERNE', '', '', '', '2000', '', '', '3RD ST', '', 'LA VERNE CA', '91750-4403', '1950', '', '', '3RD ST', '', 'LA VERNE CA', '91750-4401']\n",
      "['8377-015-019', '20040419-50', '', 'Y', 'UNIVERSITY OF LAVERNE', '', '', '', '0', '', '', '', '', '', '', '1950', '', '', '3RD ST', '', 'LA VERNE CA', '91750-4401']\n",
      "['8377-015-020', '20040419-50', '', 'Y', 'UNIVERSITY OF LAVERNE', '', '', '', '0', '', '', '', '', '', '', '1950', '', '', '3RD ST', '', 'LA VERNE CA', '91750-4401']\n",
      "['8377-015-021', '20040419-50', '', 'Y', 'UNIVERSITY OF LAVERNE', '', '', '', '2157', '', '', '2ND ST', '', 'LA VERNE CA', '91750-5511', '1950', '', '', '3RD ST', '', 'LA VERNE CA', '91750-4401']\n",
      "['8377-015-026', '20130107-75', 'PartInt', 'Y', 'UNIVERSITY OF LA VERNE TR', 'R AND M COGLEY TRUST AND', 'UNIVERSITY OF LA VERNE', '', '2227', '', '', 'E ST', '', 'LA VERNE CA', '91750-4904', '1950', '', '', '3RD ST', '', 'LA VERNE CA', '91750-4401']\n",
      "['8377-015-026', '20121217-50', 'PartInt', 'N', 'UNIVERSITY OF LA VERNE AND', '', '', '', '2227', '', '', 'E ST', '', 'LA VERNE CA', '91750-4904', '1950', '', '', '3RD ST', '', 'LA VERNE CA', '91750-4401']\n",
      "['8377-015-027', '20040419-50', '', 'Y', 'UNIVERSITY OF LAVERNE', '', '', '', '2215', '', '', 'E ST', '', 'LA VERNE CA', '91750-4904', '1950', '', '', '3RD ST', '', 'LA VERNE CA', '91750-4401']\n",
      "['8377-021-017', '20160212-50', '', 'Y', 'UNIVERSITY OF LA VERNE', '', '', 'C/O MS RANDY DEL RIO', '2237', '', '', '1ST ST', '', 'LA VERNE CA', '91750-5530', '1950', '', '', '3RD ST', '', 'LA VERNE CA', '91750-4401']\n",
      "['8377-021-018', '20160212-50', '', 'Y', 'UNIVERSITY OF LA VERNE', '', '', 'C/O MS RANDY DEL RIO', '2253', '', '', '1ST ST', '', 'LA VERNE CA', '91750-5530', '1950', '', '', '3RD ST', '', 'LA VERNE CA', '91750-4401']\n",
      "['8377-022-002', '19890512-50', '', 'Y', 'UNIVERSITY OF LA VERNE', '', '', '', '0', '', '', '', '', '', '', '1950', '', '', '3RD ST', '', 'LA VERNE CA', '91750-4401']\n",
      "['8377-022-006', '20000306-50', '', 'Y', 'UNIVERSITY OF LA VERNE', '', '', '', '0', '', '', '', '', '', '', '1950', '', '', '3RD ST', '', 'LA VERNE CA', '91750-4401']\n",
      "['8377-022-007', '20000306-50', '', 'Y', 'UNIVERSITY OF LA VERNE', '', '', '', '2146', '', '', '2ND ST', '', 'LA VERNE CA', '91750-5510', '1950', '', '', '3RD ST', '', 'LA VERNE CA', '91750-4401']\n",
      "['8377-022-008', '20011011-50', '', 'Y', 'UNIVERSITY OF LA VERNE', '', '', '', '0', '', '', '', '', '', '', '1950', '', '', '3RD ST', '', 'LA VERNE CA', '91750-4401']\n",
      "['8377-022-009', '20011011-50', '', 'Y', 'UNIVERSITY OF LA VERNE', '', '', '', '0', '', '', '', '', '', '', '1950', '', '', '3RD ST', '', 'LA VERNE CA', '91750-4401']\n",
      "['8377-022-010', '20161115-50', '', 'Y', 'UNIVERSITY OF LA VERNE', '', '', '', '2138', '', '', '2ND ST', '', 'LA VERNE CA', '91750-5510', '1950', '', '', '3RD ST', '', 'LA VERNE CA', '91750-4401']\n",
      "['8377-022-011', '20040719-50', '', 'Y', 'UNIVERSITY OF LAVERNE', '', '', '', '2170', '', '', 'D ST', '', 'LA VERNE CA', '91750-5422', '', '', '', '', '', '', '']\n",
      "['8377-022-014', '19990528-50', '', 'Y', 'UNIVERSITY OF LA VERNE', '', '', '', '2116', '', '', 'D ST', '', 'LA VERNE CA', '91750-5422', '1950', '', '', '3RD ST', '', 'LA VERNE CA', '91750-4401']\n",
      "['8377-022-015', '19990528-50', '', 'Y', 'UNIVERSITY OF LA VERNE', '', '', '', '0', '', '', '', '', '', '', '1950', '', '', '3RD ST', '', 'LA VERNE CA', '91750-4401']\n",
      "['8377-022-016', '19990528-50', 'nonReapp', 'Y', 'UNIVERSITY OF LA VERNE', '', '', '', '2135', '', '', '1ST ST', '', 'LA VERNE CA', '91750-5500', '1950', '', '', '3RD ST', '', 'LA VERNE CA', '91750-4401']\n",
      "['8377-022-016', '19901130-50', '', 'N', 'UNIVERSITY OF LA VERNE', '', '', '', '2135', '', '', '1ST ST', '', 'LA VERNE CA', '91750-5500', '1950', '', '', '3RD ST', '', 'LA VERNE CA', '91750-4401']\n",
      "['8377-022-017', '19990528-50', 'nonReapp', 'Y', 'UNIVERSITY OF LA VERNE', '', '', '', '0', '', '', '', '', '', '', '1950', '', '', '3RD ST', '', 'LA VERNE CA', '91750-4401']\n",
      "['8377-022-017', '19901130-50', '', 'N', 'UNIVERSITY OF LA VERNE', '', '', '', '0', '', '', '', '', '', '', '1950', '', '', '3RD ST', '', 'LA VERNE CA', '91750-4401']\n",
      "['8377-022-018', '19960119-50', '', 'Y', 'UNIVERSITY OF LA VERNE', '', '', '', '0', '', '', '', '', '', '', '1950', '', '', '3RD ST', '', 'LA VERNE CA', '91750-4401']\n",
      "['8377-022-025', '19990528-50', 'nonReapp', 'Y', 'UNIVERSITY OF LA VERNE', '', '', '', '2118', '', '', 'D ST', '', 'LA VERNE CA', '91750-5422', '1950', '', '', '3RD ST', '', 'LA VERNE CA', '91750-4401']\n",
      "['8377-022-025', '19901130-50', '', 'N', 'UNIVERSITY OF LA VERNE', '', '', '', '2118', '', '', 'D ST', '', 'LA VERNE CA', '91750-5422', '1950', '', '', '3RD ST', '', 'LA VERNE CA', '91750-4401']\n",
      "['8377-022-026', '19890512-50', '', 'Y', 'UNIVERSITY OF LA VERNE', '', '', '', '2147', '', '', 'E ST', '', 'LA VERNE CA', '91750-5521', '1950', '', '', '3RD ST', '', 'LA VERNE CA', '91750-4401']\n",
      "['8377-025-002', '19990528-50', '', 'Y', 'UNIVERSITY OF LA VERNE', '', '', '', '2016', '', '', 'D ST', '', 'LA VERNE CA', '91750-5420', '1950', '', '', '3RD ST', '', 'LA VERNE CA', '91750-4401']\n",
      "['8377-025-008', '19870402-50', 'other', 'Y', 'UNIVERSITY OF LA VERNE', '', '', '', '2150', '', '', '1ST ST', '', 'LA VERNE CA', '91750-5529', '1950', '', '', '3RD ST', '', 'LA VERNE CA', '91750-4401']\n",
      "['8377-026-003', '20160212-50', '', 'Y', 'UNIVERSITY OF LA VERNE', '', '', 'C/O MS RANDY DEL RIO', '2234', '', '', '1ST ST', '', 'LA VERNE CA', '91750-5529', '1950', '', '', '3RD ST', '', 'LA VERNE CA', '91750-4401']\n",
      "['8378-009-027', '20120628-50', '', 'Y', 'UNIVERSITY OF LA VERNE', '', '', 'C/O MR PHIL HAWKEY', '1925', '', '', 'A ST', '', 'LA VERNE CA', '91750-5328', '1950', '', '', '3RD ST', '', 'LA VERNE CA', '91750-4401']\n",
      "['8378-009-028', '20120628-50', '', 'Y', 'UNIVERSITY OF LA VERNE', '', '', 'C/O MR PHIL HAWKEY', '1925', '', '', 'A ST', '', 'LA VERNE CA', '91750-5328', '1950', '', '', '3RD ST', '', 'LA VERNE CA', '91750-4401']\n",
      "['8378-010-041', '20001220-51', 'nonReapp', 'Y', 'UNIVERSITY OF LAVERNE', 'CHARITABLE TRUST AND', 'UNIVERSITY OF LA VERNE', '', '0', '', '', '', '', '', '', '1950', '', '', '3RD ST', '', 'LA VERNE CA', '91750-4401']\n",
      "['8378-010-041', '20001220-50', '', 'N', 'UNIVERSITY OF LA VERNE CHARITABL', '', '', '', '0', '', '', '', '', '', '', '1950', '', 'E', 'THIRD ST', '', 'LA VERNE CA', '91750']\n",
      "['8378-010-048', '20080122-50', 'other', 'Y', 'UNIVERSITY OF LA VERNE', '', '', '', '0', '', '', '', '', '', '', '1950', '', '', '3RD ST', '', 'LA VERNE CA', '91750-4401']\n",
      "['8378-010-049', '20080122-50', 'other', 'Y', 'UNIVERSITY OF LA VERNE', '', '', '', '0', '', '', '', '', '', '', '1950', '', '', '3RD ST', '', 'LA VERNE CA', '91750-4401']\n",
      "['8378-012-020', '20101207-75', '', 'Y', 'UNIVERSITY OF LA VERNE', '', '', '', '0', '', '', '', '', '', '', '1950', '', '', '3RD ST', '', 'LA VERNE CA', '91750-4401']\n",
      "['8378-012-024', '20001220-50', '', 'Y', 'UNIVERSITY OF LA VERNE', 'CHARITABLE TRUST AND', 'UNIVERSITY OF LA VERNE', '', '1230', '', '', 'ARROW HWY', '', 'LA VERNE CA', '91750-5217', '1950', '', '', '3RD ST', '', 'LA VERNE CA', '91750-4401']\n",
      "['8378-012-032', '20001220-50', '', 'Y', 'UNIVERSITY OF LA VERNE', 'CHARITABLE TRUST AND', 'UNIVERSITY OF LA VERNE', '', '0', '', '', '', '', '', '', '1950', '', '', '3RD ST', '', 'LA VERNE CA', '91750-4401']\n",
      "['8378-012-033', '20101207-75', '', 'Y', 'UNIVERSITY OF LA VERNE', '', '', '', '1200', '', '', 'ARROW HWY', '', 'LA VERNE CA', '91750-5217', '1950', '', '', '3RD ST', '', 'LA VERNE CA', '91750-4401']\n",
      "['8386-008-030', '20041220-55', '', 'Y', 'LOYOLA MARYMOUNT UNIVERSITY TR', 'GEORGE A DUNNING TRUST', '', 'REAL ESTATE UH 2200', '0', '', '', '', '', '', '', '1', '', '', 'LMU DR', '', 'LOS ANGELES CA', '90045-2650']\n",
      "['8386-015-035', '20120810-50', 'nonReapp', 'Y', 'ORTIZ,SUZANNE V TR', 'SUZANNE V ORTIZ TRUST AND', 'KUNTZ,LUCILLA M', '', '340', '', 'W', '2ND ST', '', 'SAN DIMAS CA', '91773-2028', '4580', '', '', 'NW UNIVERSITY PL', 'UNIT 2', 'CORVALLIS OR', '97330-1669']\n",
      "['8386-015-035', '20090107-50', 'nonReapp', 'N', 'ORTIZ,SUZANNE V AND', '', '', '', '340', '', 'W', '2ND ST', '', 'SAN DIMAS CA', '91773-2028', '4580', '', '', 'NW UNIVERSITY PL', 'APT 2', 'CORVALLIS OR', '97330-1669']\n",
      "['8404-004-054', '20140211-50', 'nonReapp', 'N', 'SIBILLE,DIANE AND FRANK TRS', '', '', '', '4730', '', 'N', 'GRAND AVE', '', 'COVINA CA', '91724-2005', '1791', '', 'W', 'UNIVERSITY DR', 'STE 166', 'TEMPE AZ', '85281-3252']\n",
      "['8431-007-023', '20080520-50', 'nonReapp', 'N', 'CENTRAL BANK TRUST SERVICES TR', '', '', '', '745', '', 'N', '5TH AVE', '', 'COVINA CA', '91723-1007', '75', '', 'N', 'UNIVERSITY AVE', '', 'PROVO UT', '84601']\n",
      "['8460-006-031', '20071127-50', 'nonReapp', 'Y', 'HHI LOS ANGELES LLC', '', '', '', '14430', '', '', 'MERCED AVE', '', 'BALDWIN PARK CA', '91706-5118', '3452', '', '', 'UNIVERSITY AVE', '', 'RIVERSIDE CA', '92501-3327']\n",
      "['8460-006-031', '20040428-50', '', 'N', 'HAVADJIA HOLDINGS INC', '', '', 'JOE MINEO', '14430', '', '', 'MERCED AVE', '', 'BALDWIN PARK CA', '91706-5118', '3452', '', '', 'UNIVERSITY AVE', '', 'RIVERSIDE CA', '92501-3327']\n",
      "['8527-001-010', '19990107-50', 'PartInt', 'N', 'CHADWICK,RUSSELL J DECD EST OF', '', '', '', '0', '', '', '', '', '', '', '1485', '', '', 'UNIVERSITY AVE', '', 'SACRAMENTO CA', '95825-6858']\n",
      "['8527-005-001', '19990107-50', 'PartInt', 'N', 'CHADWICK,RUSSELL J DECD EST OF', '', '', '', '0', '', '', '', '', '', '', '1485', '', '', 'UNIVERSITY AVE', '', 'SACRAMENTO CA', '95825-6858']\n",
      "['8527-005-004', '19990107-50', 'PartInt', 'N', 'CHADWICK,RUSSELL J DECD EST OF', '', '', '', '0', '', '', '', '', '', '', '1485', '', '', 'UNIVERSITY AVE', '', 'SACRAMENTO CA', '95825-6858']\n",
      "['8570-021-012', '20050106-50', 'nonReapp', 'Y', 'SHIGEMATSU,NANCY K TR', 'SHIGEMATSU FAMILY TRUST', '', '', '11305', '', '', 'ELMCREST ST', '', 'EL MONTE CA', '91732-1804', '1462', '', '', 'UNIVERSITY CIR', '', 'FULLERTON CA', '92835-4421']\n",
      "['4234-016-900', '19800715-50', 'other', 'Y', 'REGENTS OF THE UNIVERSITY OF CA', '', '', '', '0', '', '', '', '', '', '', '1111', '', '', 'FRANKLIN ST', '6TH  FLR', 'OAKLAND CA', '94607-5201']\n",
      "['4234-016-901', '19800715-50', 'other', 'Y', 'REGENTS OF THE UNIVERSITY OF CA', '', '', '', '11811', '', '', 'VENICE BLVD', '', 'LOS ANGELES CA', '90066-3944', '1111', '', '', 'FRANKLIN ST', '6TH  FLR', 'OAKLAND CA', '94607-5201']\n",
      "['4237-014-017', '20160617-50', '', 'Y', 'SUBLIME STUDIOS LLC', '', '', 'C/O BAIRD WALKER', '656', '', '', 'CRESTMOORE PL', '', 'LOS ANGELES CA', '90291-4815', '1300', '', 'S', 'UNIVERSITY DR', 'STE 303', 'FORT WORTH TX', '76107-5793']\n",
      "['4240-018-900', '19880816-50', 'nonReapp', 'Y', 'REGENTS OF THE UNIVERSITY OF CA', '', '', '', '325', '', '', 'LINCOLN BLVD', '', 'LOS ANGELES CA', '90291-2842', '1111', '', '', 'FRANKLIN ST', '6TH  FLR', 'OAKLAND CA', '94607-5201']\n"
     ]
    }
   ],
   "source": [
    "with open(\"assessor.csv\", \"r\") as csvfile:\n",
    "    assessor = csv.reader(csvfile)\n",
    "    for row in assessor:\n",
    "        print row"
   ]
  },
  {
   "cell_type": "code",
   "execution_count": 99,
   "metadata": {},
   "outputs": [
    {
     "name": "stdout",
     "output_type": "stream",
     "text": [
      "['5525-030-023', '19811026-50', 'other', 'N', 'UNIVERSITY OF SOUTHERN CA', '', '', '', '457', '', 'N', 'ORANGE DR', '', 'LOS ANGELES CA', '90036-2611', '', '', '', '', '', '', '']\n"
     ]
    }
   ],
   "source": [
    "with open(\"assessor.csv\", \"r\") as csvfile:\n",
    "    #run the file through the csv reader\n",
    "    assessor = csv.reader(csvfile)\n",
    "    #loop through each row\n",
    "    for row in assessor:\n",
    "        # check if this assessor id number is in row\n",
    "        if '5525-030-023' in row:\n",
    "            print row"
   ]
  },
  {
   "cell_type": "code",
   "execution_count": 101,
   "metadata": {},
   "outputs": [
    {
     "name": "stdout",
     "output_type": "stream",
     "text": [
      "['5525-030-023', '19811026-50', 'other', 'N', 'UNIVERSITY OF SOUTHERN CA', '', '', '', '457', '', 'N', 'ORANGE DR', '', 'LOS ANGELES CA', '90036-2611', '', '', '', '', '', '', '']\n",
      "['5525-032-017', '19811026-50', 'other', 'N', 'UNIVERSITY OF SOUTHERN CA', '', '', '', '321', '', 'N', 'SYCAMORE AVE', '', 'LOS ANGELES CA', '90036-2685', '0', '', '', 'UNIVERSITY PARK MC-0588', '', 'LOS ANGELES CA', '90089']\n",
      "['5055-027-022', '19860611-50', '', 'Y', 'UNIVERSITY OF SOUTHERN CA', '', '', 'DEE JACKSON', '1149', '', 'E', '28TH ST', '', 'LOS ANGELES CA', '90011-2159', '620', '', '', 'MC CARTHY WAY', 'STE 5', 'LOS ANGELES CA', '90089-0155']\n",
      "['5055-029-020', '19860114-50', '', 'Y', 'UNIVERSITY OF SOUTHERN CA', '', '', 'DEE JACKSON', '1138', '', 'W', '29TH ST', '', 'LOS ANGELES CA', '90007-3115', '620', '', '', 'MC CARTHY WAY', 'STE 5', 'LOS ANGELES CA', '90089-0155']\n",
      "['5055-029-021', '19860114-50', '', 'Y', 'UNIVERSITY OF SOUTHERN CA', '', '', 'DEE JACKSON', '1124', '', 'W', '29TH ST', '', 'LOS ANGELES CA', '90007-3114', '620', '', '', 'MC CARTHY WAY', 'STE 5', 'LOS ANGELES CA', '90089-0155']\n",
      "['5122-022-002', '19890418-50', 'other', 'Y', 'UNIVERSITY OF SOUTHERN CA', '', '', 'DEE JACKSON', '3500', '', 'S', 'HOPE ST', '', 'LOS ANGELES CA', '90007-4342', '620', '', '', 'MC CARTHY WAY', 'STE 5', 'LOS ANGELES CA', '90089-0155']\n",
      "['5123-004-433', '19921026-50', '', 'Y', 'UNIVERSITY OF SOUTHERN CA', '', '', 'DEE JACKSON', '3375', '', 'S', 'HOOVER ST', '115', 'LOS ANGELES CA', '90089-0116', '620', '', '', 'MC CARTHY WAY', 'STE 5', 'LOS ANGELES CA', '90089-0155']\n",
      "['5139-029-027', '20101105-50', '', 'Y', 'UNIVERSITY OF SOUTHERN CA', '', '', '', '1155', '', 'S', 'GRAND AVE', 'NO  1410', 'LOS ANGELES CA', '90015-2272', '620', '', 'W', 'MC CARTHY WAY', 'STE 5', 'LOS ANGELES CA', '90089']\n",
      "['2331-032-199', '20080212-50', 'nonReapp', 'Y', 'UNIVERSITY OF SOUTHERN CA', '', '', 'DEE JACKSON', '13032', '', '', 'VICTORY BLVD', '', 'LOS ANGELES CA', '91606-2926', '620', '', '', 'MC CARTHY WAY', 'STE 5', 'LOS ANGELES CA', '90089-0155']\n"
     ]
    }
   ],
   "source": [
    "with open(\"assessor.csv\", \"r\") as csvfile:\n",
    "    assessor = csv.reader(csvfile)\n",
    "    for row in assessor:\n",
    "        if 'UNIVERSITY OF SOUTHERN CA' in row:\n",
    "            print row"
   ]
  },
  {
   "cell_type": "code",
   "execution_count": 102,
   "metadata": {},
   "outputs": [
    {
     "name": "stdout",
     "output_type": "stream",
     "text": [
      "5525-030-023\n",
      "5525-032-017\n",
      "5055-027-022\n",
      "5055-029-020\n",
      "5055-029-021\n",
      "5122-022-002\n",
      "5123-004-433\n",
      "5139-029-027\n",
      "2331-032-199\n"
     ]
    }
   ],
   "source": [
    "with open(\"assessor.csv\", \"r\") as csvfile:\n",
    "    assessor = csv.reader(csvfile)\n",
    "    for row in assessor:\n",
    "        if 'UNIVERSITY OF SOUTHERN CA' in row:\n",
    "            print row[0]"
   ]
  },
  {
   "cell_type": "code",
   "execution_count": 103,
   "metadata": {},
   "outputs": [
    {
     "name": "stdout",
     "output_type": "stream",
     "text": [
      "7480-004-007\n",
      "7480-040-026\n",
      "5525-030-023\n",
      "5525-032-017\n",
      "5039-002-029\n",
      "5039-002-030\n",
      "5039-002-031\n",
      "5039-002-032\n",
      "5039-002-033\n",
      "5039-002-034\n",
      "5039-003-027\n",
      "5039-003-029\n",
      "5039-003-030\n",
      "5039-012-027\n",
      "5039-012-029\n",
      "5039-012-030\n",
      "5039-012-031\n",
      "5039-012-033\n",
      "5039-019-051\n",
      "5039-024-016\n",
      "5055-012-019\n",
      "5055-027-022\n",
      "5055-029-020\n",
      "5055-029-021\n",
      "5122-022-002\n",
      "5122-025-006\n",
      "5122-025-010\n",
      "5122-025-012\n",
      "5122-025-013\n",
      "5123-004-403\n",
      "5123-004-411\n",
      "5123-004-433\n",
      "5123-023-024\n",
      "5123-023-025\n",
      "5124-011-016\n",
      "5139-029-027\n",
      "2331-032-199\n"
     ]
    }
   ],
   "source": [
    "with open(\"assessor.csv\", \"r\") as csvfile:\n",
    "    assessor = csv.reader(csvfile)\n",
    "    for row in assessor:\n",
    "        if 'UNIVERSITY OF SOUTHERN CA' in row or 'UNIVERSITY OF SO CALIF' in row:\n",
    "            print row[0]"
   ]
  },
  {
   "cell_type": "code",
   "execution_count": 106,
   "metadata": {},
   "outputs": [
    {
     "name": "stdout",
     "output_type": "stream",
     "text": [
      "7480-004-007\n",
      "7480-040-026\n",
      "5525-030-023\n",
      "5525-032-017\n",
      "5039-002-029\n",
      "5039-002-030\n",
      "5039-002-031\n",
      "5039-002-032\n",
      "5039-002-033\n",
      "5039-002-034\n",
      "5039-003-027\n",
      "5039-003-029\n",
      "5039-003-030\n",
      "5039-012-027\n",
      "5039-012-029\n",
      "5039-012-030\n",
      "5039-012-031\n",
      "5039-012-033\n",
      "5039-019-051\n",
      "5039-024-016\n",
      "5055-012-019\n",
      "5055-027-022\n",
      "5055-029-020\n",
      "5055-029-021\n",
      "5122-022-002\n",
      "5122-025-006\n",
      "5122-025-010\n",
      "5122-025-012\n",
      "5122-025-013\n",
      "5123-004-403\n",
      "5123-004-411\n",
      "5123-004-433\n",
      "5123-023-024\n",
      "5123-023-025\n",
      "5124-011-016\n",
      "5139-029-027\n",
      "2331-032-199\n"
     ]
    }
   ],
   "source": [
    "#open usc property file\n",
    "f = open(\"usc.text\",\"w\")\n",
    "\n",
    "with open(\"assessor.csv\", \"r\") as csvfile:\n",
    "    assessor = csv.reader(csvfile)\n",
    "    for row in assessor:\n",
    "        if 'UNIVERSITY OF SOUTHERN CA' in row or 'UNIVERSITY OF SO CALIF' in row:\n",
    "            print row[0]\n",
    "            f.write(row[0]+ \"\\n\")\n",
    "            \n",
    "f.close()"
   ]
  },
  {
   "cell_type": "code",
   "execution_count": 107,
   "metadata": {},
   "outputs": [
    {
     "name": "stdout",
     "output_type": "stream",
     "text": [
      "7480-004-007\n",
      "7480-040-026\n",
      "5525-030-023\n",
      "5525-032-017\n",
      "5039-002-029\n",
      "5039-002-030\n",
      "5039-002-031\n",
      "5039-002-032\n",
      "5039-002-033\n",
      "5039-002-034\n",
      "5039-003-027\n",
      "5039-003-029\n",
      "5039-003-030\n",
      "5039-012-027\n",
      "5039-012-029\n",
      "5039-012-030\n",
      "5039-012-031\n",
      "5039-012-033\n",
      "5039-019-051\n",
      "5039-024-016\n",
      "5055-012-019\n",
      "5055-027-022\n",
      "5055-029-020\n",
      "5055-029-021\n",
      "5122-022-002\n",
      "5122-025-006\n",
      "5122-025-010\n",
      "5122-025-012\n",
      "5122-025-013\n",
      "5123-004-403\n",
      "5123-004-411\n",
      "5123-004-433\n",
      "5123-023-024\n",
      "5123-023-025\n",
      "5124-011-016\n",
      "5139-029-027\n",
      "2331-032-199\n"
     ]
    }
   ],
   "source": [
    "#open usc property file\n",
    "f = open(\"usc.html\",\"w\")\n",
    "f.write(\"<p><strong>AIN</strong></p>\")\n",
    "\n",
    "with open(\"assessor.csv\", \"r\") as csvfile:\n",
    "    assessor = csv.reader(csvfile)\n",
    "    for row in assessor:\n",
    "        if 'UNIVERSITY OF SOUTHERN CA' in row or 'UNIVERSITY OF SO CALIF' in row:\n",
    "            print row[0]\n",
    "            f.write(\"<p>\" + row[0]+ \"</p>\")\n",
    "            \n",
    "f.close()"
   ]
  },
  {
   "cell_type": "code",
   "execution_count": 2,
   "metadata": {},
   "outputs": [],
   "source": [
    "# define a new function\n",
    "def ladycat(time):\n",
    "    if time is 'night':\n",
    "        print \"MEEEEEOOOOOW\"\n",
    "    elif time is 'day':\n",
    "        print \"PURRRRRR\"\n",
    "    else:\n",
    "        print 'ZZZZZ'"
   ]
  },
  {
   "cell_type": "code",
   "execution_count": 3,
   "metadata": {},
   "outputs": [
    {
     "name": "stdout",
     "output_type": "stream",
     "text": [
      "MEEEEEOOOOOW\n"
     ]
    }
   ],
   "source": [
    "ladycat('night')"
   ]
  },
  {
   "cell_type": "code",
   "execution_count": 4,
   "metadata": {},
   "outputs": [
    {
     "name": "stdout",
     "output_type": "stream",
     "text": [
      "PURRRRRR\n"
     ]
    }
   ],
   "source": [
    "ladycat('day')"
   ]
  },
  {
   "cell_type": "code",
   "execution_count": 5,
   "metadata": {},
   "outputs": [
    {
     "name": "stdout",
     "output_type": "stream",
     "text": [
      "ZZZZZ\n"
     ]
    }
   ],
   "source": [
    "ladycat('whatever')"
   ]
  },
  {
   "cell_type": "code",
   "execution_count": null,
   "metadata": {},
   "outputs": [],
   "source": []
  }
 ],
 "metadata": {
  "kernelspec": {
   "display_name": "Python 2",
   "language": "python",
   "name": "python2"
  },
  "language_info": {
   "codemirror_mode": {
    "name": "ipython",
    "version": 2
   },
   "file_extension": ".py",
   "mimetype": "text/x-python",
   "name": "python",
   "nbconvert_exporter": "python",
   "pygments_lexer": "ipython2",
   "version": "2.7.10"
  }
 },
 "nbformat": 4,
 "nbformat_minor": 2
}
